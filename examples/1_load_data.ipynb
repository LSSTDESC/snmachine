{
 "cells": [
  {
   "cell_type": "markdown",
   "id": "genuine-customs",
   "metadata": {},
   "source": [
    "# Load dataset into `snmachine`\n",
    "\n",
    "In this notebook we exemplify how to load data into `snmachine`. For that we will create an instance of the `PlasticcData` class from `.csv` files.\n",
    "\n",
    "#### Index<a name=\"index\"></a>\n",
    "1. [Import packages](#imports)\n",
    "2. [Dataset paths](#paths)\n",
    "3. [Create PlasticcData instance](#createPlasticc)\n",
    "    1. [Select a subset](#subset) <font color=salmon>(Optional)</font>\n",
    "4. [Save PlasticcData instance](#save)\n",
    "    1. [Load PlasticcData instance](#load) <font color=salmon>(Optional)</font>\n",
    "\n",
    "## 1. Import packages<a name=\"imports\"></a>"
   ]
  },
  {
   "cell_type": "code",
   "execution_count": null,
   "id": "informed-strike",
   "metadata": {},
   "outputs": [],
   "source": [
    "!pip install ../snmachine/"
   ]
  },
  {
   "cell_type": "code",
   "execution_count": null,
   "id": "composite-director",
   "metadata": {},
   "outputs": [],
   "source": [
    "import os\n",
    "import pickle\n",
    "import sys"
   ]
  },
  {
   "cell_type": "code",
   "execution_count": null,
   "id": "smaller-workshop",
   "metadata": {},
   "outputs": [],
   "source": [
    "import numpy as np"
   ]
  },
  {
   "cell_type": "code",
   "execution_count": null,
   "id": "norwegian-vatican",
   "metadata": {},
   "outputs": [],
   "source": [
    "from snmachine import sndata\n",
    "from utils.plasticc_pipeline import get_directories, load_dataset"
   ]
  },
  {
   "cell_type": "code",
   "execution_count": null,
   "id": "awful-monster",
   "metadata": {},
   "outputs": [],
   "source": [
    "%config Completer.use_jedi = False  # activate autocomplete "
   ]
  },
  {
   "cell_type": "markdown",
   "id": "national-hunter",
   "metadata": {},
   "source": [
    "## 2. Dataset paths<a name=\"paths\"></a>\n",
    "\n",
    "First, we need to **write** the path to the folder where the dataset and metadata are, `folder_path`."
   ]
  },
  {
   "cell_type": "code",
   "execution_count": null,
   "id": "ruled-plane",
   "metadata": {},
   "outputs": [],
   "source": [
    "folder_path = '/share/hypatia/snmachine_resources/plasticc/data/raw_data'"
   ]
  },
  {
   "cell_type": "markdown",
   "id": "ancient-electronics",
   "metadata": {},
   "source": [
    "Then, **write** the name of the dataset and its metadata, respectively `data_file_name` and `metadata_file_name`."
   ]
  },
  {
   "cell_type": "code",
   "execution_count": null,
   "id": "opening-render",
   "metadata": {},
   "outputs": [],
   "source": [
    "data_file_name = 'plasticc_train_lightcurves.csv'\n",
    "metadata_file_name = 'plasticc_train_metadata.csv'"
   ]
  },
  {
   "cell_type": "markdown",
   "id": "moved-drive",
   "metadata": {},
   "source": [
    "## 3. Create PlasticcData instance<a name=\"createPlasticc\"></a>\n",
    "\n",
    "We now create a `PlasticcData` instance."
   ]
  },
  {
   "cell_type": "code",
   "execution_count": null,
   "id": "bottom-wealth",
   "metadata": {},
   "outputs": [],
   "source": [
    "dataset = sndata.PlasticcData(folder=folder_path, data_file=data_file_name,\n",
    "                              metadata_file=metadata_file_name)"
   ]
  },
  {
   "cell_type": "markdown",
   "id": "reflected-operation",
   "metadata": {},
   "source": [
    "See the first entries of the metadata."
   ]
  },
  {
   "cell_type": "code",
   "execution_count": null,
   "id": "undefined-thursday",
   "metadata": {},
   "outputs": [],
   "source": [
    "dataset.metadata.head(10)"
   ]
  },
  {
   "cell_type": "markdown",
   "id": "annoying-joint",
   "metadata": {},
   "source": [
    "### 3.1 Select a subset<a name=\"subset\"></a> <font color=salmon>(Optional)</font>\n",
    "\n",
    "Sometimes we want a subset of the dataset. Here we illustrate how to generate a `PlasticcData` instance of that subset.\n",
    "\n",
    "In this example, we choose 90 SNe among SN Ia, SN Ibc and SN II. See `note2_modelNames` in [Zenodo](https://zenodo.org/record/2539456#.YGM6R2RKjAM) for the mapping between the classes numbers and names.\n",
    "\n",
    "**Replace** the above step with your chosen subset or use all events."
   ]
  },
  {
   "cell_type": "code",
   "execution_count": null,
   "id": "scheduled-bangkok",
   "metadata": {},
   "outputs": [],
   "source": [
    "metadata = dataset.metadata\n",
    "is_snia = metadata.target == 90  # SN Ia\n",
    "is_snibc = metadata.target == 62  # SN Ibc\n",
    "is_snii = metadata.target == 42  # SN II"
   ]
  },
  {
   "cell_type": "code",
   "execution_count": null,
   "id": "educated-entrepreneur",
   "metadata": {},
   "outputs": [],
   "source": [
    "np.random.seed(42)  # for reproducibility \n",
    "\n",
    "objs_to_keep = []\n",
    "for is_sn in [is_snia, is_snibc, is_snii]:\n",
    "    objs_to_keep.append(np.random.choice(a=metadata['object_id'][is_sn], \n",
    "                                         size=30, replace=False))\n",
    "objs_to_keep = np.array(objs_to_keep).flatten()"
   ]
  },
  {
   "cell_type": "code",
   "execution_count": null,
   "id": "listed-vampire",
   "metadata": {},
   "outputs": [],
   "source": [
    "print(f'We keep {len(objs_to_keep)} events.')"
   ]
  },
  {
   "cell_type": "markdown",
   "id": "right-implement",
   "metadata": {},
   "source": [
    "Update the dataset."
   ]
  },
  {
   "cell_type": "code",
   "execution_count": null,
   "id": "outside-notebook",
   "metadata": {},
   "outputs": [],
   "source": [
    "dataset.update_dataset(objs_to_keep)"
   ]
  },
  {
   "cell_type": "markdown",
   "id": "imperial-characterization",
   "metadata": {},
   "source": [
    "Notice how the first entries of the metadata changed; now we only have 5 events."
   ]
  },
  {
   "cell_type": "code",
   "execution_count": null,
   "id": "terminal-scratch",
   "metadata": {},
   "outputs": [],
   "source": [
    "dataset.metadata"
   ]
  },
  {
   "cell_type": "markdown",
   "id": "continent-kruger",
   "metadata": {},
   "source": [
    "## 4. Save PlasticcData instance<a name=\"save\"></a>\n",
    "\n",
    "Now, **choose** a path to save the `PlasticcData` instance created (`folder_path_to_save`) and the name of the file (`file_name`)."
   ]
  },
  {
   "cell_type": "code",
   "execution_count": null,
   "id": "changed-authorization",
   "metadata": {},
   "outputs": [],
   "source": [
    "folder_path_to_save = folder_path\n",
    "file_name = 'example_dataset.pckl'"
   ]
  },
  {
   "cell_type": "markdown",
   "id": "literary-vampire",
   "metadata": {},
   "source": [
    "Finally, save the `PlasticcData` instance."
   ]
  },
  {
   "cell_type": "code",
   "execution_count": null,
   "id": "local-sound",
   "metadata": {},
   "outputs": [],
   "source": [
    "path_to_save = os.path.join(folder_path_to_save, file_name)\n",
    "with open(path_to_save, 'wb') as f:\n",
    "    pickle.dump(dataset, f, pickle.HIGHEST_PROTOCOL)"
   ]
  },
  {
   "cell_type": "markdown",
   "id": "equipped-poker",
   "metadata": {},
   "source": [
    "### 4.1 Load PlasticcData instance<a name=\"load\"></a> <font color=salmon>(Optional)</font>\n",
    "\n",
    "We can load the saved file to verify weather it was correctly saved."
   ]
  },
  {
   "cell_type": "code",
   "execution_count": null,
   "id": "swiss-olympus",
   "metadata": {},
   "outputs": [],
   "source": [
    "saved_dataset = load_dataset(path_to_save)"
   ]
  },
  {
   "cell_type": "markdown",
   "id": "effective-queue",
   "metadata": {},
   "source": [
    "As we can see, the metadata is the same."
   ]
  },
  {
   "cell_type": "code",
   "execution_count": null,
   "id": "involved-orchestra",
   "metadata": {},
   "outputs": [],
   "source": [
    "saved_dataset.metadata"
   ]
  },
  {
   "cell_type": "markdown",
   "id": "substantial-colonial",
   "metadata": {},
   "source": [
    "[Go back to top.](#index)"
   ]
  }
 ],
 "metadata": {
  "kernelspec": {
   "display_name": "Python 3",
   "language": "python",
   "name": "python3"
  },
  "language_info": {
   "codemirror_mode": {
    "name": "ipython",
    "version": 3
   },
   "file_extension": ".py",
   "mimetype": "text/x-python",
   "name": "python",
   "nbconvert_exporter": "python",
   "pygments_lexer": "ipython3",
   "version": "3.7.9"
  }
 },
 "nbformat": 4,
 "nbformat_minor": 5
}
