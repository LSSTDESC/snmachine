{
 "cells": [
  {
   "cell_type": "markdown",
   "id": "fleet-mercury",
   "metadata": {},
   "source": [
    "# Load dataset into `snmachine`\n",
    "\n",
    "In this notebook we exemplify how to load data into `snmachine`. For that we will create an instance of the `PlasticcData` class from `.csv` files.\n",
    "\n",
    "#### Index<a name=\"index\"></a>\n",
    "1. [Import packages](#imports)\n",
    "2. [Dataset paths](#paths)\n",
    "3. [Create PlasticcData instance](#createPlasticc)\n",
    "    1. [Select a subset](#subset) <font color=salmon>(Optional)</font>\n",
    "4. [Save PlasticcData instance](#save)\n",
    "    1. [Load PlasticcData instance](#load) <font color=salmon>(Optional)</font>\n",
    "5. [Repeat for test dataset](#repeat)\n",
    "\n",
    "## 1. Import packages<a name=\"imports\"></a>"
   ]
  },
  {
   "cell_type": "code",
   "execution_count": 1,
   "id": "champion-adapter",
   "metadata": {},
   "outputs": [
    {
     "name": "stdout",
     "output_type": "stream",
     "text": [
      "Processing /home/calves/plasticc/snmachine\n",
      "Building wheels for collected packages: snmachine\n",
      "  Building wheel for snmachine (setup.py) ... \u001b[?25ldone\n",
      "\u001b[?25h  Created wheel for snmachine: filename=snmachine-1.6.1.dev155+g7a3b252.d20210629-py3-none-any.whl size=34595782 sha256=8e34362a198c1ad9f0562eba2dce251382b9a41964d96ccaa43c6f6bc15891fa\n",
      "  Stored in directory: /tmp/pip-ephem-wheel-cache-2wt3i4xc/wheels/13/7b/ca/00f02bcadf757a875da9908d15077f22cbe44117f06f581e95\n",
      "Successfully built snmachine\n",
      "Installing collected packages: snmachine\n",
      "  Attempting uninstall: snmachine\n",
      "    Found existing installation: snmachine 1.6.1.dev150+g2c448d5.d20210629\n",
      "    Uninstalling snmachine-1.6.1.dev150+g2c448d5.d20210629:\n",
      "      Successfully uninstalled snmachine-1.6.1.dev150+g2c448d5.d20210629\n",
      "Successfully installed snmachine-1.6.1.dev155+g7a3b252.d20210629\n"
     ]
    }
   ],
   "source": [
    "!pip install ../../snmachine/"
   ]
  },
  {
   "cell_type": "code",
   "execution_count": 2,
   "id": "engaged-compromise",
   "metadata": {},
   "outputs": [],
   "source": [
    "import os\n",
    "import pickle\n",
    "import sys"
   ]
  },
  {
   "cell_type": "code",
   "execution_count": 3,
   "id": "sunrise-grain",
   "metadata": {},
   "outputs": [],
   "source": [
    "import numpy as np"
   ]
  },
  {
   "cell_type": "code",
   "execution_count": 4,
   "id": "suspected-force",
   "metadata": {},
   "outputs": [
    {
     "name": "stdout",
     "output_type": "stream",
     "text": [
      "No module named 'pymultinest'\n",
      "\n",
      "                PyMultinest not found. If you would like to use, please install\n",
      "                Mulitnest with 'sh install/multinest_install.sh; source\n",
      "                install/setup.sh'\n",
      "                \n"
     ]
    }
   ],
   "source": [
    "from snmachine import sndata, example_data\n",
    "from utils.plasticc_pipeline import get_directories, load_dataset"
   ]
  },
  {
   "cell_type": "code",
   "execution_count": 5,
   "id": "sonic-congress",
   "metadata": {},
   "outputs": [],
   "source": [
    "%config Completer.use_jedi = False  # activate autocomplete "
   ]
  },
  {
   "cell_type": "markdown",
   "id": "average-florence",
   "metadata": {},
   "source": [
    "## 2. Dataset paths<a name=\"paths\"></a>\n",
    "\n",
    "First, we need to **write** the path to the folder where the dataset and metadata are, `folder_path`."
   ]
  },
  {
   "cell_type": "code",
   "execution_count": 6,
   "id": "american-assembly",
   "metadata": {},
   "outputs": [
    {
     "data": {
      "text/plain": [
       "'/home/calves/.conda/envs/snmachine/lib/python3.7/site-packages/snmachine/example_data'"
      ]
     },
     "execution_count": 6,
     "metadata": {},
     "output_type": "execute_result"
    }
   ],
   "source": [
    "folder_path = example_data\n",
    "folder_path"
   ]
  },
  {
   "cell_type": "markdown",
   "id": "registered-first",
   "metadata": {},
   "source": [
    "Then, **write** the name of the dataset and its metadata, respectively `data_file_name` and `metadata_file_name`."
   ]
  },
  {
   "cell_type": "code",
   "execution_count": 7,
   "id": "qualified-reservation",
   "metadata": {},
   "outputs": [],
   "source": [
    "data_file_name = 'plasticc_train_lightcurves.csv'\n",
    "metadata_file_name = 'plasticc_train_metadata.csv'"
   ]
  },
  {
   "cell_type": "markdown",
   "id": "identified-quarterly",
   "metadata": {},
   "source": [
    "## 3. Create PlasticcData instance<a name=\"createPlasticc\"></a>\n",
    "\n",
    "We now create a `PlasticcData` instance. The following cell takes $\\sim2$min to run."
   ]
  },
  {
   "cell_type": "code",
   "execution_count": 8,
   "id": "driven-category",
   "metadata": {},
   "outputs": [
    {
     "name": "stdout",
     "output_type": "stream",
     "text": [
      "Reading data...\n"
     ]
    },
    {
     "ename": "FileNotFoundError",
     "evalue": "[Errno 2] No such file or directory: '/home/calves/.conda/envs/snmachine/lib/python3.7/site-packages/snmachine/example_data/plasticc_train_lightcurves.csv'",
     "output_type": "error",
     "traceback": [
      "\u001b[0;31m---------------------------------------------------------------------------\u001b[0m",
      "\u001b[0;31mFileNotFoundError\u001b[0m                         Traceback (most recent call last)",
      "\u001b[0;32m<ipython-input-8-5f689b5cd9d9>\u001b[0m in \u001b[0;36m<module>\u001b[0;34m\u001b[0m\n\u001b[1;32m      1\u001b[0m dataset = sndata.PlasticcData(folder=folder_path, data_file=data_file_name,\n\u001b[0;32m----> 2\u001b[0;31m                               metadata_file=metadata_file_name)\n\u001b[0m",
      "\u001b[0;32m~/.conda/envs/snmachine/lib/python3.7/site-packages/snmachine/sndata.py\u001b[0m in \u001b[0;36m__init__\u001b[0;34m(self, folder, data_file, metadata_file, mix)\u001b[0m\n\u001b[1;32m    569\u001b[0m                          filter_set=['lsstu', 'lsstg', 'lsstr', 'lssti',\n\u001b[1;32m    570\u001b[0m                                      'lsstz', 'lssty'])\n\u001b[0;32m--> 571\u001b[0;31m         \u001b[0mself\u001b[0m\u001b[0;34m.\u001b[0m\u001b[0mset_data\u001b[0m\u001b[0;34m(\u001b[0m\u001b[0mfolder\u001b[0m\u001b[0;34m,\u001b[0m \u001b[0mdata_file\u001b[0m\u001b[0;34m)\u001b[0m\u001b[0;34m\u001b[0m\u001b[0;34m\u001b[0m\u001b[0m\n\u001b[0m\u001b[1;32m    572\u001b[0m         \u001b[0mself\u001b[0m\u001b[0;34m.\u001b[0m\u001b[0mset_metadata\u001b[0m\u001b[0;34m(\u001b[0m\u001b[0mfolder\u001b[0m\u001b[0;34m,\u001b[0m \u001b[0mmetadata_file\u001b[0m\u001b[0;34m)\u001b[0m\u001b[0;34m\u001b[0m\u001b[0;34m\u001b[0m\u001b[0m\n\u001b[1;32m    573\u001b[0m         \u001b[0;32mif\u001b[0m \u001b[0mmix\u001b[0m \u001b[0;32mis\u001b[0m \u001b[0;32mTrue\u001b[0m\u001b[0;34m:\u001b[0m\u001b[0;34m\u001b[0m\u001b[0;34m\u001b[0m\u001b[0m\n",
      "\u001b[0;32m~/.conda/envs/snmachine/lib/python3.7/site-packages/snmachine/sndata.py\u001b[0m in \u001b[0;36mset_data\u001b[0;34m(self, folder, data_file)\u001b[0m\n\u001b[1;32m    591\u001b[0m         \u001b[0mprint\u001b[0m\u001b[0;34m(\u001b[0m\u001b[0;34m'Reading data...'\u001b[0m\u001b[0;34m)\u001b[0m\u001b[0;34m\u001b[0m\u001b[0;34m\u001b[0m\u001b[0m\n\u001b[1;32m    592\u001b[0m         \u001b[0mtime_start_reading\u001b[0m \u001b[0;34m=\u001b[0m \u001b[0mtime\u001b[0m\u001b[0;34m.\u001b[0m\u001b[0mtime\u001b[0m\u001b[0;34m(\u001b[0m\u001b[0;34m)\u001b[0m\u001b[0;34m\u001b[0m\u001b[0;34m\u001b[0m\u001b[0m\n\u001b[0;32m--> 593\u001b[0;31m         \u001b[0mdata\u001b[0m \u001b[0;34m=\u001b[0m \u001b[0mpd\u001b[0m\u001b[0;34m.\u001b[0m\u001b[0mread_csv\u001b[0m\u001b[0;34m(\u001b[0m\u001b[0mfolder\u001b[0m \u001b[0;34m+\u001b[0m \u001b[0;34m'/'\u001b[0m \u001b[0;34m+\u001b[0m \u001b[0mdata_file\u001b[0m\u001b[0;34m,\u001b[0m \u001b[0msep\u001b[0m\u001b[0;34m=\u001b[0m\u001b[0;34m','\u001b[0m\u001b[0;34m)\u001b[0m\u001b[0;34m\u001b[0m\u001b[0;34m\u001b[0m\u001b[0m\n\u001b[0m\u001b[1;32m    594\u001b[0m         \u001b[0mdata\u001b[0m \u001b[0;34m=\u001b[0m \u001b[0mself\u001b[0m\u001b[0;34m.\u001b[0m\u001b[0m_remap_filters\u001b[0m\u001b[0;34m(\u001b[0m\u001b[0mdf\u001b[0m\u001b[0;34m=\u001b[0m\u001b[0mdata\u001b[0m\u001b[0;34m)\u001b[0m\u001b[0;34m\u001b[0m\u001b[0;34m\u001b[0m\u001b[0m\n\u001b[1;32m    595\u001b[0m \u001b[0;34m\u001b[0m\u001b[0m\n",
      "\u001b[0;32m~/.conda/envs/snmachine/lib/python3.7/site-packages/pandas/io/parsers.py\u001b[0m in \u001b[0;36mread_csv\u001b[0;34m(filepath_or_buffer, sep, delimiter, header, names, index_col, usecols, squeeze, prefix, mangle_dupe_cols, dtype, engine, converters, true_values, false_values, skipinitialspace, skiprows, skipfooter, nrows, na_values, keep_default_na, na_filter, verbose, skip_blank_lines, parse_dates, infer_datetime_format, keep_date_col, date_parser, dayfirst, cache_dates, iterator, chunksize, compression, thousands, decimal, lineterminator, quotechar, quoting, doublequote, escapechar, comment, encoding, dialect, error_bad_lines, warn_bad_lines, delim_whitespace, low_memory, memory_map, float_precision, storage_options)\u001b[0m\n\u001b[1;32m    603\u001b[0m     \u001b[0mkwds\u001b[0m\u001b[0;34m.\u001b[0m\u001b[0mupdate\u001b[0m\u001b[0;34m(\u001b[0m\u001b[0mkwds_defaults\u001b[0m\u001b[0;34m)\u001b[0m\u001b[0;34m\u001b[0m\u001b[0;34m\u001b[0m\u001b[0m\n\u001b[1;32m    604\u001b[0m \u001b[0;34m\u001b[0m\u001b[0m\n\u001b[0;32m--> 605\u001b[0;31m     \u001b[0;32mreturn\u001b[0m \u001b[0m_read\u001b[0m\u001b[0;34m(\u001b[0m\u001b[0mfilepath_or_buffer\u001b[0m\u001b[0;34m,\u001b[0m \u001b[0mkwds\u001b[0m\u001b[0;34m)\u001b[0m\u001b[0;34m\u001b[0m\u001b[0;34m\u001b[0m\u001b[0m\n\u001b[0m\u001b[1;32m    606\u001b[0m \u001b[0;34m\u001b[0m\u001b[0m\n\u001b[1;32m    607\u001b[0m \u001b[0;34m\u001b[0m\u001b[0m\n",
      "\u001b[0;32m~/.conda/envs/snmachine/lib/python3.7/site-packages/pandas/io/parsers.py\u001b[0m in \u001b[0;36m_read\u001b[0;34m(filepath_or_buffer, kwds)\u001b[0m\n\u001b[1;32m    455\u001b[0m \u001b[0;34m\u001b[0m\u001b[0m\n\u001b[1;32m    456\u001b[0m     \u001b[0;31m# Create the parser.\u001b[0m\u001b[0;34m\u001b[0m\u001b[0;34m\u001b[0m\u001b[0;34m\u001b[0m\u001b[0m\n\u001b[0;32m--> 457\u001b[0;31m     \u001b[0mparser\u001b[0m \u001b[0;34m=\u001b[0m \u001b[0mTextFileReader\u001b[0m\u001b[0;34m(\u001b[0m\u001b[0mfilepath_or_buffer\u001b[0m\u001b[0;34m,\u001b[0m \u001b[0;34m**\u001b[0m\u001b[0mkwds\u001b[0m\u001b[0;34m)\u001b[0m\u001b[0;34m\u001b[0m\u001b[0;34m\u001b[0m\u001b[0m\n\u001b[0m\u001b[1;32m    458\u001b[0m \u001b[0;34m\u001b[0m\u001b[0m\n\u001b[1;32m    459\u001b[0m     \u001b[0;32mif\u001b[0m \u001b[0mchunksize\u001b[0m \u001b[0;32mor\u001b[0m \u001b[0miterator\u001b[0m\u001b[0;34m:\u001b[0m\u001b[0;34m\u001b[0m\u001b[0;34m\u001b[0m\u001b[0m\n",
      "\u001b[0;32m~/.conda/envs/snmachine/lib/python3.7/site-packages/pandas/io/parsers.py\u001b[0m in \u001b[0;36m__init__\u001b[0;34m(self, f, engine, **kwds)\u001b[0m\n\u001b[1;32m    812\u001b[0m             \u001b[0mself\u001b[0m\u001b[0;34m.\u001b[0m\u001b[0moptions\u001b[0m\u001b[0;34m[\u001b[0m\u001b[0;34m\"has_index_names\"\u001b[0m\u001b[0;34m]\u001b[0m \u001b[0;34m=\u001b[0m \u001b[0mkwds\u001b[0m\u001b[0;34m[\u001b[0m\u001b[0;34m\"has_index_names\"\u001b[0m\u001b[0;34m]\u001b[0m\u001b[0;34m\u001b[0m\u001b[0;34m\u001b[0m\u001b[0m\n\u001b[1;32m    813\u001b[0m \u001b[0;34m\u001b[0m\u001b[0m\n\u001b[0;32m--> 814\u001b[0;31m         \u001b[0mself\u001b[0m\u001b[0;34m.\u001b[0m\u001b[0m_engine\u001b[0m \u001b[0;34m=\u001b[0m \u001b[0mself\u001b[0m\u001b[0;34m.\u001b[0m\u001b[0m_make_engine\u001b[0m\u001b[0;34m(\u001b[0m\u001b[0mself\u001b[0m\u001b[0;34m.\u001b[0m\u001b[0mengine\u001b[0m\u001b[0;34m)\u001b[0m\u001b[0;34m\u001b[0m\u001b[0;34m\u001b[0m\u001b[0m\n\u001b[0m\u001b[1;32m    815\u001b[0m \u001b[0;34m\u001b[0m\u001b[0m\n\u001b[1;32m    816\u001b[0m     \u001b[0;32mdef\u001b[0m \u001b[0mclose\u001b[0m\u001b[0;34m(\u001b[0m\u001b[0mself\u001b[0m\u001b[0;34m)\u001b[0m\u001b[0;34m:\u001b[0m\u001b[0;34m\u001b[0m\u001b[0;34m\u001b[0m\u001b[0m\n",
      "\u001b[0;32m~/.conda/envs/snmachine/lib/python3.7/site-packages/pandas/io/parsers.py\u001b[0m in \u001b[0;36m_make_engine\u001b[0;34m(self, engine)\u001b[0m\n\u001b[1;32m   1043\u001b[0m             )\n\u001b[1;32m   1044\u001b[0m         \u001b[0;31m# error: Too many arguments for \"ParserBase\"\u001b[0m\u001b[0;34m\u001b[0m\u001b[0;34m\u001b[0m\u001b[0;34m\u001b[0m\u001b[0m\n\u001b[0;32m-> 1045\u001b[0;31m         \u001b[0;32mreturn\u001b[0m \u001b[0mmapping\u001b[0m\u001b[0;34m[\u001b[0m\u001b[0mengine\u001b[0m\u001b[0;34m]\u001b[0m\u001b[0;34m(\u001b[0m\u001b[0mself\u001b[0m\u001b[0;34m.\u001b[0m\u001b[0mf\u001b[0m\u001b[0;34m,\u001b[0m \u001b[0;34m**\u001b[0m\u001b[0mself\u001b[0m\u001b[0;34m.\u001b[0m\u001b[0moptions\u001b[0m\u001b[0;34m)\u001b[0m  \u001b[0;31m# type: ignore[call-arg]\u001b[0m\u001b[0;34m\u001b[0m\u001b[0;34m\u001b[0m\u001b[0m\n\u001b[0m\u001b[1;32m   1046\u001b[0m \u001b[0;34m\u001b[0m\u001b[0m\n\u001b[1;32m   1047\u001b[0m     \u001b[0;32mdef\u001b[0m \u001b[0m_failover_to_python\u001b[0m\u001b[0;34m(\u001b[0m\u001b[0mself\u001b[0m\u001b[0;34m)\u001b[0m\u001b[0;34m:\u001b[0m\u001b[0;34m\u001b[0m\u001b[0;34m\u001b[0m\u001b[0m\n",
      "\u001b[0;32m~/.conda/envs/snmachine/lib/python3.7/site-packages/pandas/io/parsers.py\u001b[0m in \u001b[0;36m__init__\u001b[0;34m(self, src, **kwds)\u001b[0m\n\u001b[1;32m   1860\u001b[0m \u001b[0;34m\u001b[0m\u001b[0m\n\u001b[1;32m   1861\u001b[0m         \u001b[0;31m# open handles\u001b[0m\u001b[0;34m\u001b[0m\u001b[0;34m\u001b[0m\u001b[0;34m\u001b[0m\u001b[0m\n\u001b[0;32m-> 1862\u001b[0;31m         \u001b[0mself\u001b[0m\u001b[0;34m.\u001b[0m\u001b[0m_open_handles\u001b[0m\u001b[0;34m(\u001b[0m\u001b[0msrc\u001b[0m\u001b[0;34m,\u001b[0m \u001b[0mkwds\u001b[0m\u001b[0;34m)\u001b[0m\u001b[0;34m\u001b[0m\u001b[0;34m\u001b[0m\u001b[0m\n\u001b[0m\u001b[1;32m   1863\u001b[0m         \u001b[0;32massert\u001b[0m \u001b[0mself\u001b[0m\u001b[0;34m.\u001b[0m\u001b[0mhandles\u001b[0m \u001b[0;32mis\u001b[0m \u001b[0;32mnot\u001b[0m \u001b[0;32mNone\u001b[0m\u001b[0;34m\u001b[0m\u001b[0;34m\u001b[0m\u001b[0m\n\u001b[1;32m   1864\u001b[0m         \u001b[0;32mfor\u001b[0m \u001b[0mkey\u001b[0m \u001b[0;32min\u001b[0m \u001b[0;34m(\u001b[0m\u001b[0;34m\"storage_options\"\u001b[0m\u001b[0;34m,\u001b[0m \u001b[0;34m\"encoding\"\u001b[0m\u001b[0;34m,\u001b[0m \u001b[0;34m\"memory_map\"\u001b[0m\u001b[0;34m,\u001b[0m \u001b[0;34m\"compression\"\u001b[0m\u001b[0;34m)\u001b[0m\u001b[0;34m:\u001b[0m\u001b[0;34m\u001b[0m\u001b[0;34m\u001b[0m\u001b[0m\n",
      "\u001b[0;32m~/.conda/envs/snmachine/lib/python3.7/site-packages/pandas/io/parsers.py\u001b[0m in \u001b[0;36m_open_handles\u001b[0;34m(self, src, kwds)\u001b[0m\n\u001b[1;32m   1361\u001b[0m             \u001b[0mcompression\u001b[0m\u001b[0;34m=\u001b[0m\u001b[0mkwds\u001b[0m\u001b[0;34m.\u001b[0m\u001b[0mget\u001b[0m\u001b[0;34m(\u001b[0m\u001b[0;34m\"compression\"\u001b[0m\u001b[0;34m,\u001b[0m \u001b[0;32mNone\u001b[0m\u001b[0;34m)\u001b[0m\u001b[0;34m,\u001b[0m\u001b[0;34m\u001b[0m\u001b[0;34m\u001b[0m\u001b[0m\n\u001b[1;32m   1362\u001b[0m             \u001b[0mmemory_map\u001b[0m\u001b[0;34m=\u001b[0m\u001b[0mkwds\u001b[0m\u001b[0;34m.\u001b[0m\u001b[0mget\u001b[0m\u001b[0;34m(\u001b[0m\u001b[0;34m\"memory_map\"\u001b[0m\u001b[0;34m,\u001b[0m \u001b[0;32mFalse\u001b[0m\u001b[0;34m)\u001b[0m\u001b[0;34m,\u001b[0m\u001b[0;34m\u001b[0m\u001b[0;34m\u001b[0m\u001b[0m\n\u001b[0;32m-> 1363\u001b[0;31m             \u001b[0mstorage_options\u001b[0m\u001b[0;34m=\u001b[0m\u001b[0mkwds\u001b[0m\u001b[0;34m.\u001b[0m\u001b[0mget\u001b[0m\u001b[0;34m(\u001b[0m\u001b[0;34m\"storage_options\"\u001b[0m\u001b[0;34m,\u001b[0m \u001b[0;32mNone\u001b[0m\u001b[0;34m)\u001b[0m\u001b[0;34m,\u001b[0m\u001b[0;34m\u001b[0m\u001b[0;34m\u001b[0m\u001b[0m\n\u001b[0m\u001b[1;32m   1364\u001b[0m         )\n\u001b[1;32m   1365\u001b[0m \u001b[0;34m\u001b[0m\u001b[0m\n",
      "\u001b[0;32m~/.conda/envs/snmachine/lib/python3.7/site-packages/pandas/io/common.py\u001b[0m in \u001b[0;36mget_handle\u001b[0;34m(path_or_buf, mode, encoding, compression, memory_map, is_text, errors, storage_options)\u001b[0m\n\u001b[1;32m    645\u001b[0m                 \u001b[0mencoding\u001b[0m\u001b[0;34m=\u001b[0m\u001b[0mioargs\u001b[0m\u001b[0;34m.\u001b[0m\u001b[0mencoding\u001b[0m\u001b[0;34m,\u001b[0m\u001b[0;34m\u001b[0m\u001b[0;34m\u001b[0m\u001b[0m\n\u001b[1;32m    646\u001b[0m                 \u001b[0merrors\u001b[0m\u001b[0;34m=\u001b[0m\u001b[0merrors\u001b[0m\u001b[0;34m,\u001b[0m\u001b[0;34m\u001b[0m\u001b[0;34m\u001b[0m\u001b[0m\n\u001b[0;32m--> 647\u001b[0;31m                 \u001b[0mnewline\u001b[0m\u001b[0;34m=\u001b[0m\u001b[0;34m\"\"\u001b[0m\u001b[0;34m,\u001b[0m\u001b[0;34m\u001b[0m\u001b[0;34m\u001b[0m\u001b[0m\n\u001b[0m\u001b[1;32m    648\u001b[0m             )\n\u001b[1;32m    649\u001b[0m         \u001b[0;32melse\u001b[0m\u001b[0;34m:\u001b[0m\u001b[0;34m\u001b[0m\u001b[0;34m\u001b[0m\u001b[0m\n",
      "\u001b[0;31mFileNotFoundError\u001b[0m: [Errno 2] No such file or directory: '/home/calves/.conda/envs/snmachine/lib/python3.7/site-packages/snmachine/example_data/plasticc_train_lightcurves.csv'"
     ]
    }
   ],
   "source": [
    "dataset = sndata.PlasticcData(folder=folder_path, data_file=data_file_name,\n",
    "                              metadata_file=metadata_file_name)"
   ]
  },
  {
   "cell_type": "markdown",
   "id": "seasonal-startup",
   "metadata": {},
   "source": [
    "See the first entries of the metadata."
   ]
  },
  {
   "cell_type": "code",
   "execution_count": null,
   "id": "unlikely-thompson",
   "metadata": {},
   "outputs": [],
   "source": [
    "dataset.metadata.head(10)"
   ]
  },
  {
   "cell_type": "markdown",
   "id": "registered-allah",
   "metadata": {},
   "source": [
    "### 3.1 Select a subset<a name=\"subset\"></a> <font color=salmon>(Optional)</font>\n",
    "\n",
    "Sometimes we want a subset of the dataset. Here we illustrate how to generate a `PlasticcData` instance of that subset.\n",
    "\n",
    "In this example, we choose 90 SNe among SN Ia, SN Ibc and SN II. See `note2_modelNames` in [Zenodo](https://zenodo.org/record/2539456#.YGM6R2RKjAM) for the mapping between the classes numbers and names.\n",
    "\n",
    "**Replace** the above step with your chosen subset or use all events."
   ]
  },
  {
   "cell_type": "code",
   "execution_count": null,
   "id": "hired-dodge",
   "metadata": {},
   "outputs": [],
   "source": [
    "metadata = dataset.metadata\n",
    "is_snia = metadata.target == 90  # SN Ia\n",
    "is_snibc = metadata.target == 62  # SN Ibc\n",
    "is_snii = metadata.target == 42  # SN II"
   ]
  },
  {
   "cell_type": "code",
   "execution_count": null,
   "id": "traditional-pennsylvania",
   "metadata": {},
   "outputs": [],
   "source": [
    "np.random.seed(42)  # for reproducibility \n",
    "\n",
    "objs_to_keep = []\n",
    "for is_sn in [is_snia, is_snibc, is_snii]:\n",
    "    objs_to_keep.append(np.random.choice(a=metadata['object_id'][is_sn], \n",
    "                                         size=30, replace=False))\n",
    "objs_to_keep = np.array(objs_to_keep).flatten()"
   ]
  },
  {
   "cell_type": "code",
   "execution_count": null,
   "id": "confident-nevada",
   "metadata": {},
   "outputs": [],
   "source": [
    "print(f'We keep {len(objs_to_keep)} events.')"
   ]
  },
  {
   "cell_type": "markdown",
   "id": "coordinate-storm",
   "metadata": {},
   "source": [
    "Update the dataset."
   ]
  },
  {
   "cell_type": "code",
   "execution_count": null,
   "id": "incorrect-parcel",
   "metadata": {},
   "outputs": [],
   "source": [
    "dataset.update_dataset(objs_to_keep)"
   ]
  },
  {
   "cell_type": "markdown",
   "id": "individual-gnome",
   "metadata": {},
   "source": [
    "Notice how the first entries of the metadata changed; now we only have 90 events."
   ]
  },
  {
   "cell_type": "code",
   "execution_count": null,
   "id": "waiting-maintenance",
   "metadata": {},
   "outputs": [],
   "source": [
    "dataset.metadata"
   ]
  },
  {
   "cell_type": "markdown",
   "id": "orange-education",
   "metadata": {},
   "source": [
    "## 4. Save PlasticcData instance<a name=\"save\"></a>\n",
    "\n",
    "Now, **choose** a path to save the `PlasticcData` instance created (`folder_path_to_save`) and the name of the file (`file_name`)."
   ]
  },
  {
   "cell_type": "code",
   "execution_count": null,
   "id": "rising-hearing",
   "metadata": {},
   "outputs": [],
   "source": [
    "folder_path_to_save = folder_path\n",
    "file_name = 'example_dataset.pckl'"
   ]
  },
  {
   "cell_type": "markdown",
   "id": "after-workstation",
   "metadata": {},
   "source": [
    "Finally, save the `PlasticcData` instance."
   ]
  },
  {
   "cell_type": "code",
   "execution_count": null,
   "id": "turned-narrow",
   "metadata": {},
   "outputs": [],
   "source": [
    "path_to_save = os.path.join(folder_path_to_save, file_name)\n",
    "with open(path_to_save, 'wb') as f:\n",
    "    pickle.dump(dataset, f, pickle.HIGHEST_PROTOCOL)"
   ]
  },
  {
   "cell_type": "markdown",
   "id": "emotional-blowing",
   "metadata": {},
   "source": [
    "### 4.1 Load PlasticcData instance<a name=\"load\"></a> <font color=salmon>(Optional)</font>\n",
    "\n",
    "We can load the saved file to verify weather it was correctly saved."
   ]
  },
  {
   "cell_type": "code",
   "execution_count": null,
   "id": "secondary-airline",
   "metadata": {},
   "outputs": [],
   "source": [
    "saved_dataset = load_dataset(path_to_save)"
   ]
  },
  {
   "cell_type": "markdown",
   "id": "million-defeat",
   "metadata": {},
   "source": [
    "As we can see, the metadata is the same."
   ]
  },
  {
   "cell_type": "code",
   "execution_count": null,
   "id": "democratic-coffee",
   "metadata": {},
   "outputs": [],
   "source": [
    "np.allclose(np.array(saved_dataset.metadata, dtype=float), \n",
    "            np.array(dataset.metadata, dtype=float))"
   ]
  },
  {
   "cell_type": "markdown",
   "id": "located-disabled",
   "metadata": {},
   "source": [
    "## 5. Repeat for test dataset<a name=\"repeat\"></a>\n",
    "\n",
    "Here we will load an example test set that already only contains SN Ia, SN Ibc and SN II.\n",
    "\n",
    "First, we need to **write** the path to the folder where the dataset and metadata are, `folder_path`."
   ]
  },
  {
   "cell_type": "code",
   "execution_count": null,
   "id": "dependent-portuguese",
   "metadata": {},
   "outputs": [],
   "source": [
    "folder_path = '/share/hypatia/snmachine_resources/plasticc/data/raw_data'"
   ]
  },
  {
   "cell_type": "markdown",
   "id": "quality-julian",
   "metadata": {},
   "source": [
    "Then, **write** the name of the dataset and its metadata, respectively `data_file_name` and `metadata_file_name`."
   ]
  },
  {
   "cell_type": "code",
   "execution_count": null,
   "id": "advanced-fence",
   "metadata": {},
   "outputs": [],
   "source": [
    "data_file_name = 'sniabcii_test_lightcurves_example.csv'\n",
    "metadata_file_name = 'sniabcii_test_metadata_example.csv'"
   ]
  },
  {
   "cell_type": "markdown",
   "id": "rapid-polish",
   "metadata": {},
   "source": [
    "We now create a `PlasticcData` instance. The following cell takes $\\sim1$min to run."
   ]
  },
  {
   "cell_type": "code",
   "execution_count": null,
   "id": "looking-multiple",
   "metadata": {},
   "outputs": [],
   "source": [
    "dataset = sndata.PlasticcData(folder=folder_path, data_file=data_file_name,\n",
    "                              metadata_file=metadata_file_name)"
   ]
  },
  {
   "cell_type": "markdown",
   "id": "conventional-march",
   "metadata": {},
   "source": [
    "Now, **choose** a path to save the `PlasticcData` instance created (`folder_path_to_save`) and the name of the file (`file_name`)."
   ]
  },
  {
   "cell_type": "code",
   "execution_count": null,
   "id": "interracial-injection",
   "metadata": {},
   "outputs": [],
   "source": [
    "folder_path_to_save = folder_path\n",
    "file_name = 'example_test_dataset.pckl'"
   ]
  },
  {
   "cell_type": "markdown",
   "id": "secondary-guarantee",
   "metadata": {},
   "source": [
    "Finally, save the `PlasticcData` instance."
   ]
  },
  {
   "cell_type": "code",
   "execution_count": null,
   "id": "provincial-burning",
   "metadata": {},
   "outputs": [],
   "source": [
    "path_to_save = os.path.join(folder_path_to_save, file_name)\n",
    "with open(path_to_save, 'wb') as f:\n",
    "    pickle.dump(dataset, f, pickle.HIGHEST_PROTOCOL)"
   ]
  },
  {
   "cell_type": "markdown",
   "id": "reliable-hanging",
   "metadata": {},
   "source": [
    "[Go back to top.](#index)"
   ]
  }
 ],
 "metadata": {
  "kernelspec": {
   "display_name": "Python 3",
   "language": "python",
   "name": "python3"
  },
  "language_info": {
   "codemirror_mode": {
    "name": "ipython",
    "version": 3
   },
   "file_extension": ".py",
   "mimetype": "text/x-python",
   "name": "python",
   "nbconvert_exporter": "python",
   "pygments_lexer": "ipython3",
   "version": "3.7.9"
  }
 },
 "nbformat": 4,
 "nbformat_minor": 5
}
