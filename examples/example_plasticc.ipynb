{
 "cells": [
  {
   "cell_type": "markdown",
   "metadata": {},
   "source": [
    "# Running the snmachine pipeline on PLAsTiCC simulated data"
   ]
  },
  {
   "cell_type": "markdown",
   "metadata": {},
   "source": [
    "This notebook illustrates the use of the `snmachine` supernova classification package by classifying a subset simulated data from the photometric light curve astronomical time-series classification challenge (PLAsTiCC). \n",
    "\n",
    "See Lochner et al. (2016): http://arxiv.org/abs/1603.00882 and Alves et al. (2021): https://arxiv.org/abs/2107.07531\n",
    "\n",
    "**NOTE:** The results here differ from the paper because we're using a much smaller dataset (in the interest of disk space and speed)."
   ]
  },
  {
   "cell_type": "markdown",
   "metadata": {},
   "source": [
    "<img src=\"snmachine-plasticc.png\" width=250>"
   ]
  },
  {
   "cell_type": "markdown",
   "metadata": {},
   "source": [
    "This image illustrates the pipeline we use for this work. However, all the steps are modular and can be replaced. It is easy to write your own algorithm into the pipeline and change any of the stpes."
   ]
  },
  {
   "cell_type": "markdown",
   "metadata": {},
   "source": [
    "## Setup"
   ]
  },
  {
   "cell_type": "markdown",
   "metadata": {},
   "source": [
    "### Imports"
   ]
  },
  {
   "cell_type": "code",
   "execution_count": 6,
   "metadata": {},
   "outputs": [],
   "source": [
    "import collections\n",
    "import os\n",
    "import pickle"
   ]
  },
  {
   "cell_type": "code",
   "execution_count": 7,
   "metadata": {},
   "outputs": [],
   "source": [
    "import matplotlib.pyplot as plt\n",
    "import numpy as np\n",
    "import seaborn as sns"
   ]
  },
  {
   "cell_type": "code",
   "execution_count": 8,
   "metadata": {},
   "outputs": [],
   "source": [
    "from snmachine import example_data, sndata, gps, snaugment, snfeatures, snclassifier, analysis, tsne_plot\n",
    "from snmachine.utils.plasticc_pipeline import create_folder_structure, get_directories, load_dataset"
   ]
  },
  {
   "cell_type": "code",
   "execution_count": 9,
   "metadata": {},
   "outputs": [],
   "source": [
    "%config Completer.use_jedi = False  # enable autocomplete"
   ]
  },
  {
   "cell_type": "markdown",
   "metadata": {},
   "source": [
    "### Aesthetic settings"
   ]
  },
  {
   "cell_type": "code",
   "execution_count": 10,
   "metadata": {},
   "outputs": [],
   "source": [
    "%matplotlib widget\n",
    "\n",
    "sns.set(font_scale=1.3, style=\"ticks\")"
   ]
  },
  {
   "cell_type": "markdown",
   "metadata": {},
   "source": [
    "### Read from pickle or rerun\n",
    "Because some calculations take incredibly long to run on a single core (mostly the Gaussian process augmentation), we recommend saving these objects as pickles and read from file after running once. This behaviour can be turned off with this flag."
   ]
  },
  {
   "cell_type": "code",
   "execution_count": 11,
   "metadata": {},
   "outputs": [],
   "source": [
    "read_from_pickle = True"
   ]
  },
  {
   "cell_type": "markdown",
   "metadata": {},
   "source": [
    "## Set up output structure"
   ]
  },
  {
   "cell_type": "markdown",
   "metadata": {},
   "source": [
    "We make lots of output files so it makes sense to put them in one place. This is the recommended output file structure.\n",
    "\n",
    "We start by **naming** our analysis."
   ]
  },
  {
   "cell_type": "code",
   "execution_count": 12,
   "metadata": {},
   "outputs": [],
   "source": [
    "dataset_name = 'plasticc'\n",
    "analysis_name = os.path.join(f'output_{dataset_name}', )"
   ]
  },
  {
   "cell_type": "markdown",
   "metadata": {},
   "source": [
    "Then, we **write** in `folder_path` the path where to save the folder."
   ]
  },
  {
   "cell_type": "code",
   "execution_count": 13,
   "metadata": {},
   "outputs": [],
   "source": [
    "folder_path = '../snmachine/example_data/'"
   ]
  },
  {
   "cell_type": "markdown",
   "metadata": {},
   "source": [
    "Create the folder structure."
   ]
  },
  {
   "cell_type": "code",
   "execution_count": 14,
   "metadata": {},
   "outputs": [],
   "source": [
    "create_folder_structure(folder_path, analysis_name)"
   ]
  },
  {
   "cell_type": "markdown",
   "metadata": {},
   "source": [
    "See the folder structure. We save:\n",
    "* the extracted features in `directories['features_directory']`\n",
    "* the classification probabilities and ROC curves in `directories['classifications_directory']`\n",
    "* the any intermediate files (such as multinest chains or GP fits) in `directories['intermediate_files_directory']`"
   ]
  },
  {
   "cell_type": "code",
   "execution_count": 15,
   "metadata": {},
   "outputs": [
    {
     "data": {
      "text/plain": [
       "{'analysis_directory': '../snmachine/example_data/output_plasticc',\n",
       " 'features_directory': '../snmachine/example_data/output_plasticc/wavelet_features',\n",
       " 'classifications_directory': '../snmachine/example_data/output_plasticc/classifications',\n",
       " 'intermediate_files_directory': '../snmachine/example_data/output_plasticc/intermediate_files',\n",
       " 'plots_directory': '../snmachine/example_data/output_plasticc/plots'}"
      ]
     },
     "execution_count": 15,
     "metadata": {},
     "output_type": "execute_result"
    }
   ],
   "source": [
    "directories = get_directories(folder_path, analysis_name) \n",
    "directories"
   ]
  },
  {
   "cell_type": "code",
   "execution_count": 16,
   "metadata": {},
   "outputs": [],
   "source": [
    "path_saved_features = directories['features_directory']\n",
    "path_saved_interm = directories['intermediate_files_directory']\n",
    "path_saved_classifier = directories['classifications_directory']"
   ]
  },
  {
   "cell_type": "markdown",
   "metadata": {},
   "source": [
    "## Initialise dataset object"
   ]
  },
  {
   "cell_type": "markdown",
   "metadata": {},
   "source": [
    "Load the PLAsTiCC training data (hosted https://doi.org/10.5281/zenodo.2539456). For that, we **write** the path where the data is, and the name of the files."
   ]
  },
  {
   "cell_type": "code",
   "execution_count": 17,
   "metadata": {},
   "outputs": [],
   "source": [
    "data_path = '../snmachine/example_data'\n",
    "\n",
    "data_file_name = 'plasticc_train_lightcurves.csv'\n",
    "metadata_file_name = 'plasticc_train_metadata.csv'"
   ]
  },
  {
   "cell_type": "code",
   "execution_count": 18,
   "metadata": {},
   "outputs": [
    {
     "name": "stdout",
     "output_type": "stream",
     "text": [
      "Reading data...\n",
      "10%\n",
      "20%\n",
      "30%\n",
      "40%\n",
      "50%\n",
      "60%\n",
      "70%\n",
      "80%\n",
      "90%\n",
      "7848 objects read into memory.\n",
      "This has taken 0 days 00:00:43\n",
      "\n",
      "Reading metadata...\n",
      "10%\n",
      "20%\n",
      "30%\n",
      "40%\n",
      "50%\n",
      "60%\n",
      "70%\n",
      "80%\n",
      "90%\n",
      "Finished getting the metadata for 7848 objects.\n",
      "This has taken 0 days 00:00:06\n",
      "\n"
     ]
    }
   ],
   "source": [
    "# This cell takes ~2min to run\n",
    "dataset = sndata.PlasticcData(folder=data_path, data_file=data_file_name,\n",
    "                              metadata_file=metadata_file_name)"
   ]
  },
  {
   "cell_type": "markdown",
   "metadata": {},
   "source": [
    "For now we restrict ourselves to three supernova types: Ia (90), II (42) and Ibc (62)."
   ]
  },
  {
   "cell_type": "code",
   "execution_count": 19,
   "metadata": {},
   "outputs": [],
   "source": [
    "metadata = dataset.metadata\n",
    "is_snia = metadata.target == 90  # SN Ia\n",
    "is_snibc = metadata.target == 62  # SN Ibc\n",
    "is_snii = metadata.target == 42  # SN II"
   ]
  },
  {
   "cell_type": "code",
   "execution_count": 20,
   "metadata": {},
   "outputs": [],
   "source": [
    "objs_to_keep = metadata['object_id'][is_snia | is_snibc | is_snii]\n",
    "objs_to_keep = np.array(objs_to_keep).flatten()"
   ]
  },
  {
   "cell_type": "markdown",
   "metadata": {},
   "source": [
    "Update the dataset to only contain those SNe."
   ]
  },
  {
   "cell_type": "code",
   "execution_count": 21,
   "metadata": {},
   "outputs": [],
   "source": [
    "dataset.update_dataset(objs_to_keep)"
   ]
  },
  {
   "cell_type": "markdown",
   "metadata": {},
   "source": [
    "Now we can plot all the data and cycle through it (left and right arrows on your keyboard)."
   ]
  },
  {
   "cell_type": "code",
   "execution_count": 22,
   "metadata": {},
   "outputs": [
    {
     "data": {
      "application/vnd.jupyter.widget-view+json": {
       "model_id": "c5a89e3023124d70969bc6a174202745",
       "version_major": 2,
       "version_minor": 0
      },
      "image/png": "[encoded data removed]",
      "text/html": [
       "\n",
       "            <div style=\"display: inline-block;\">\n",
       "                <div class=\"jupyter-widgets widget-label\" style=\"text-align: center;\">\n",
       "                    Figure\n",
       "                </div>\n",
       "                <img src='data:image/png;base64,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' width=640.0/>\n",
       "            </div>\n",
       "        "
      ],
      "text/plain": [
       "Canvas(toolbar=Toolbar(toolitems=[('Home', 'Reset original view', 'home', 'home'), ('Back', 'Back to previous …"
      ]
     },
     "metadata": {},
     "output_type": "display_data"
    }
   ],
   "source": [
    "dataset.plot_all()"
   ]
  },
  {
   "cell_type": "markdown",
   "metadata": {},
   "source": [
    "Each light curve is represented in the Dataset object as an astropy table, compatible with `sncosmo`:"
   ]
  },
  {
   "cell_type": "code",
   "execution_count": 23,
   "metadata": {
    "tags": []
   },
   "outputs": [
    {
     "data": {
      "text/html": [
       "<div><i>Table length=330</i>\n",
       "<table id=\"table139714401134208\" class=\"table-striped table-bordered table-condensed\">\n",
       "<thead><tr><th>object_id</th><th>mjd</th><th>filter</th><th>flux</th><th>flux_error</th><th>detected</th></tr></thead>\n",
       "<thead><tr><th>int64</th><th>float64</th><th>str5</th><th>float64</th><th>float64</th><th>int64</th></tr></thead>\n",
       "<tr><td>730</td><td>0.0</td><td>lsstr</td><td>1.177371</td><td>1.3643</td><td>0</td></tr>\n",
       "<tr><td>730</td><td>0.007599999997182749</td><td>lsstg</td><td>2.320849</td><td>1.159247</td><td>0</td></tr>\n",
       "<tr><td>730</td><td>0.015200000001641456</td><td>lssti</td><td>2.939447</td><td>1.771328</td><td>0</td></tr>\n",
       "<tr><td>730</td><td>0.026099999995494727</td><td>lsstz</td><td>2.128097</td><td>2.610659</td><td>0</td></tr>\n",
       "<tr><td>730</td><td>0.0371000000013737</td><td>lssty</td><td>-12.809639</td><td>5.380097</td><td>0</td></tr>\n",
       "<tr><td>730</td><td>3.034800000001269</td><td>lsstr</td><td>0.111235</td><td>2.460576</td><td>0</td></tr>\n",
       "<tr><td>730</td><td>3.0423999999984517</td><td>lsstg</td><td>-3.39308</td><td>3.564052</td><td>0</td></tr>\n",
       "<tr><td>730</td><td>3.0499999999956344</td><td>lssti</td><td>-1.899219</td><td>2.292693</td><td>0</td></tr>\n",
       "<tr><td>730</td><td>3.0610000000015134</td><td>lsstz</td><td>2.284906</td><td>2.523534</td><td>0</td></tr>\n",
       "<tr><td>730</td><td>3.0718999999953667</td><td>lssty</td><td>5.203419</td><td>5.39598</td><td>0</td></tr>\n",
       "<tr><td>730</td><td>19.953499999995984</td><td>lsstu</td><td>-2.3422</td><td>1.801066</td><td>0</td></tr>\n",
       "<tr><td>730</td><td>20.93359999999666</td><td>lsstu</td><td>3.380978</td><td>2.4696</td><td>0</td></tr>\n",
       "<tr><td>730</td><td>21.931700000001</td><td>lsstu</td><td>-2.230815</td><td>1.915426</td><td>0</td></tr>\n",
       "<tr><td>730</td><td>22.92729999999574</td><td>lsstu</td><td>1.159034</td><td>2.461736</td><td>0</td></tr>\n",
       "<tr><td>730</td><td>23.92280000000028</td><td>lsstu</td><td>5.942166</td><td>2.90158</td><td>0</td></tr>\n",
       "<tr><td>730</td><td>24.94539999999688</td><td>lsstu</td><td>-0.18097</td><td>2.714361</td><td>0</td></tr>\n",
       "<tr><td>730</td><td>27.989999999997963</td><td>lsstr</td><td>0.521923</td><td>0.925337</td><td>0</td></tr>\n",
       "<tr><td>730</td><td>27.997599999995145</td><td>lsstg</td><td>-1.421768</td><td>0.929596</td><td>0</td></tr>\n",
       "<tr><td>730</td><td>28.005299999997078</td><td>lssti</td><td>0.972355</td><td>1.513987</td><td>0</td></tr>\n",
       "<tr><td>730</td><td>28.016199999998207</td><td>lsstz</td><td>-0.570261</td><td>2.162375</td><td>0</td></tr>\n",
       "<tr><td>730</td><td>28.02719999999681</td><td>lssty</td><td>-2.301237</td><td>5.548611</td><td>0</td></tr>\n",
       "<tr><td>730</td><td>43.925100000000384</td><td>lsstr</td><td>0.15629</td><td>0.8538</td><td>0</td></tr>\n",
       "<tr><td>...</td><td>...</td><td>...</td><td>...</td><td>...</td><td>...</td></tr>\n",
       "<tr><td>730</td><td>837.7276999999958</td><td>lsstr</td><td>3.090597</td><td>1.033257</td><td>0</td></tr>\n",
       "<tr><td>730</td><td>837.7353000000003</td><td>lsstg</td><td>-0.513601</td><td>0.998796</td><td>0</td></tr>\n",
       "<tr><td>730</td><td>837.7429999999949</td><td>lssti</td><td>1.251243</td><td>1.591428</td><td>0</td></tr>\n",
       "<tr><td>730</td><td>837.7538999999961</td><td>lsstz</td><td>5.235262</td><td>2.371546</td><td>0</td></tr>\n",
       "<tr><td>730</td><td>837.764900000002</td><td>lssty</td><td>13.844719</td><td>5.711615</td><td>0</td></tr>\n",
       "<tr><td>730</td><td>841.7766999999949</td><td>lsstr</td><td>1.619818</td><td>0.874749</td><td>0</td></tr>\n",
       "<tr><td>730</td><td>841.7843999999968</td><td>lsstg</td><td>-1.366803</td><td>0.852292</td><td>0</td></tr>\n",
       "<tr><td>730</td><td>841.7920000000013</td><td>lssti</td><td>2.428993</td><td>1.393725</td><td>0</td></tr>\n",
       "<tr><td>730</td><td>841.8028999999951</td><td>lsstz</td><td>4.530898</td><td>2.129291</td><td>0</td></tr>\n",
       "<tr><td>730</td><td>841.813900000001</td><td>lssty</td><td>-1.69048</td><td>5.288525</td><td>0</td></tr>\n",
       "<tr><td>730</td><td>843.7437999999966</td><td>lsstu</td><td>0.405838</td><td>2.095943</td><td>0</td></tr>\n",
       "<tr><td>730</td><td>844.7315999999992</td><td>lsstu</td><td>-3.248368</td><td>1.68289</td><td>0</td></tr>\n",
       "<tr><td>730</td><td>845.7416000000012</td><td>lsstu</td><td>2.105939</td><td>1.691078</td><td>0</td></tr>\n",
       "<tr><td>730</td><td>846.7419999999984</td><td>lsstu</td><td>0.427463</td><td>1.786211</td><td>0</td></tr>\n",
       "<tr><td>730</td><td>847.7430999999997</td><td>lsstu</td><td>-1.030916</td><td>1.798218</td><td>0</td></tr>\n",
       "<tr><td>730</td><td>848.7429999999949</td><td>lsstu</td><td>-0.756102</td><td>1.985424</td><td>0</td></tr>\n",
       "<tr><td>730</td><td>849.7436999999991</td><td>lsstu</td><td>1.493417</td><td>1.464573</td><td>0</td></tr>\n",
       "<tr><td>730</td><td>853.8084000000017</td><td>lsstr</td><td>0.858392</td><td>0.942882</td><td>0</td></tr>\n",
       "<tr><td>730</td><td>853.8159999999989</td><td>lsstg</td><td>-0.048933</td><td>1.124282</td><td>0</td></tr>\n",
       "<tr><td>730</td><td>853.8235999999961</td><td>lssti</td><td>1.348074</td><td>1.381549</td><td>0</td></tr>\n",
       "<tr><td>730</td><td>853.8344999999972</td><td>lsstz</td><td>-2.402673</td><td>2.045725</td><td>0</td></tr>\n",
       "<tr><td>730</td><td>853.8454999999958</td><td>lssty</td><td>-1.497761</td><td>5.210212</td><td>0</td></tr>\n",
       "</table></div>"
      ],
      "text/plain": [
       "<Table length=330>\n",
       "object_id         mjd          filter    flux    flux_error detected\n",
       "  int64         float64         str5   float64    float64    int64  \n",
       "--------- -------------------- ------ ---------- ---------- --------\n",
       "      730                  0.0  lsstr   1.177371     1.3643        0\n",
       "      730 0.007599999997182749  lsstg   2.320849   1.159247        0\n",
       "      730 0.015200000001641456  lssti   2.939447   1.771328        0\n",
       "      730 0.026099999995494727  lsstz   2.128097   2.610659        0\n",
       "      730   0.0371000000013737  lssty -12.809639   5.380097        0\n",
       "      730    3.034800000001269  lsstr   0.111235   2.460576        0\n",
       "      730   3.0423999999984517  lsstg   -3.39308   3.564052        0\n",
       "      730   3.0499999999956344  lssti  -1.899219   2.292693        0\n",
       "      730   3.0610000000015134  lsstz   2.284906   2.523534        0\n",
       "      730   3.0718999999953667  lssty   5.203419    5.39598        0\n",
       "      730   19.953499999995984  lsstu    -2.3422   1.801066        0\n",
       "      730    20.93359999999666  lsstu   3.380978     2.4696        0\n",
       "      730      21.931700000001  lsstu  -2.230815   1.915426        0\n",
       "      730    22.92729999999574  lsstu   1.159034   2.461736        0\n",
       "      730    23.92280000000028  lsstu   5.942166    2.90158        0\n",
       "      730    24.94539999999688  lsstu   -0.18097   2.714361        0\n",
       "      730   27.989999999997963  lsstr   0.521923   0.925337        0\n",
       "      730   27.997599999995145  lsstg  -1.421768   0.929596        0\n",
       "      730   28.005299999997078  lssti   0.972355   1.513987        0\n",
       "      730   28.016199999998207  lsstz  -0.570261   2.162375        0\n",
       "      730    28.02719999999681  lssty  -2.301237   5.548611        0\n",
       "      730   43.925100000000384  lsstr    0.15629     0.8538        0\n",
       "      ...                  ...    ...        ...        ...      ...\n",
       "      730    837.7276999999958  lsstr   3.090597   1.033257        0\n",
       "      730    837.7353000000003  lsstg  -0.513601   0.998796        0\n",
       "      730    837.7429999999949  lssti   1.251243   1.591428        0\n",
       "      730    837.7538999999961  lsstz   5.235262   2.371546        0\n",
       "      730     837.764900000002  lssty  13.844719   5.711615        0\n",
       "      730    841.7766999999949  lsstr   1.619818   0.874749        0\n",
       "      730    841.7843999999968  lsstg  -1.366803   0.852292        0\n",
       "      730    841.7920000000013  lssti   2.428993   1.393725        0\n",
       "      730    841.8028999999951  lsstz   4.530898   2.129291        0\n",
       "      730     841.813900000001  lssty   -1.69048   5.288525        0\n",
       "      730    843.7437999999966  lsstu   0.405838   2.095943        0\n",
       "      730    844.7315999999992  lsstu  -3.248368    1.68289        0\n",
       "      730    845.7416000000012  lsstu   2.105939   1.691078        0\n",
       "      730    846.7419999999984  lsstu   0.427463   1.786211        0\n",
       "      730    847.7430999999997  lsstu  -1.030916   1.798218        0\n",
       "      730    848.7429999999949  lsstu  -0.756102   1.985424        0\n",
       "      730    849.7436999999991  lsstu   1.493417   1.464573        0\n",
       "      730    853.8084000000017  lsstr   0.858392   0.942882        0\n",
       "      730    853.8159999999989  lsstg  -0.048933   1.124282        0\n",
       "      730    853.8235999999961  lssti   1.348074   1.381549        0\n",
       "      730    853.8344999999972  lsstz  -2.402673   2.045725        0\n",
       "      730    853.8454999999958  lssty  -1.497761   5.210212        0"
      ]
     },
     "execution_count": 23,
     "metadata": {},
     "output_type": "execute_result"
    }
   ],
   "source": [
    "dataset.data[dataset.object_names[0]]"
   ]
  },
  {
   "cell_type": "markdown",
   "metadata": {},
   "source": [
    "## Preprocess dataset"
   ]
  },
  {
   "cell_type": "markdown",
   "metadata": {},
   "source": [
    "**Write** the maximum duration of the gap to allowed in the light curves, `max_gap_length`."
   ]
  },
  {
   "cell_type": "code",
   "execution_count": 24,
   "metadata": {},
   "outputs": [],
   "source": [
    "max_gap_length = 50"
   ]
  },
  {
   "cell_type": "markdown",
   "metadata": {},
   "source": [
    "To remove all the gaps longer than `max_gap_length`, the `remove_gaps` function must be called a few times; it only removes the first gap longer than `max_gap_length`.\n",
    "\n",
    "To introduce uniformity in the dataset, the resulting light curves are translated so their first observation is at time zero."
   ]
  },
  {
   "cell_type": "code",
   "execution_count": 25,
   "metadata": {},
   "outputs": [
    {
     "name": "stdout",
     "output_type": "stream",
     "text": [
      "The longest event is 17723103 and its length is 1094.06 days.\n",
      "The longest event is 4445796 and its length is 882.75 days.\n",
      "The longest event is 46397441 and its length is 867.67 days.\n",
      "The longest event is 67713721 and its length is 618.58 days.\n",
      "The longest event is 115557395 and its length is 277.55 days.\n"
     ]
    }
   ],
   "source": [
    "dataset.remove_gaps(max_gap_length*2, verbose=True)\n",
    "dataset.remove_gaps(max_gap_length*2, verbose=True)\n",
    "dataset.remove_gaps(max_gap_length, verbose=True)\n",
    "dataset.remove_gaps(max_gap_length, verbose=True)\n",
    "dataset.remove_gaps(max_gap_length, verbose=True)"
   ]
  },
  {
   "cell_type": "markdown",
   "metadata": {},
   "source": [
    "Now we can see the light curves more clearly, focusing in on the season where the supernova actually occurred"
   ]
  },
  {
   "cell_type": "code",
   "execution_count": 26,
   "metadata": {},
   "outputs": [
    {
     "data": {
      "application/vnd.jupyter.widget-view+json": {
       "model_id": "f92befd23ead41658e4d015bb3d6b592",
       "version_major": 2,
       "version_minor": 0
      },
      "image/png": "[encoded data removed]",
      "text/html": [
       "\n",
       "            <div style=\"display: inline-block;\">\n",
       "                <div class=\"jupyter-widgets widget-label\" style=\"text-align: center;\">\n",
       "                    Figure\n",
       "                </div>\n",
       "                <img src='data:image/png;base64,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' width=640.0/>\n",
       "            </div>\n",
       "        "
      ],
      "text/plain": [
       "Canvas(toolbar=Toolbar(toolitems=[('Home', 'Reset original view', 'home', 'home'), ('Back', 'Back to previous …"
      ]
     },
     "metadata": {},
     "output_type": "display_data"
    }
   ],
   "source": [
    "dataset.plot_all()"
   ]
  },
  {
   "cell_type": "markdown",
   "metadata": {},
   "source": [
    "## Fit Gaussian Processes\n",
    "\n",
    "Set the path to the folder to save the GP files."
   ]
  },
  {
   "cell_type": "code",
   "execution_count": 27,
   "metadata": {},
   "outputs": [],
   "source": [
    "path_saved_gps = directories['intermediate_files_directory']"
   ]
  },
  {
   "cell_type": "markdown",
   "metadata": {},
   "source": [
    "**Choose**:\n",
    "- `t_min`: minimim time to evaluate the Gaussian Process Regression at.\n",
    "- `t_max`: maximum time to evaluate the Gaussian Process Regression at.\n",
    "- `gp_dim`: dimension of the Gaussian Process Regression. If  `gp_dim` is 1, the filters are fitted independently. If `gp_dim` is 2, the Matern 3/2 kernel is used to fit light curves both in time and wavelength.\n",
    "- `number_gp`: number of points to evaluate the Gaussian Process Regression at.\n",
    "- `number_processes`: number of processors to use for parallelisation (**<font color=green>optional</font>**)."
   ]
  },
  {
   "cell_type": "code",
   "execution_count": 28,
   "metadata": {},
   "outputs": [],
   "source": [
    "t_min = 0\n",
    "t_max = 278\n",
    "\n",
    "gp_dim = 2\n",
    "number_gp = 276\n",
    "number_processes = 1"
   ]
  },
  {
   "cell_type": "code",
   "execution_count": 29,
   "metadata": {},
   "outputs": [
    {
     "name": "stdout",
     "output_type": "stream",
     "text": [
      "Performing Gaussian process regression.\n",
      "Models fitted with the Gaussian Processes values.\n",
      "Time taken for Gaussian process regression: 214.01s.\n"
     ]
    }
   ],
   "source": [
    "dataset_pickle_name = os.path.join(folder_path, 'example_dataset.pckl')\n",
    "if read_from_pickle and os.path.exists(dataset_pickle_name):\n",
    "    with open(dataset_pickle_name, 'rb') as pickle_file:\n",
    "        dataset = pickle.load(pickle_file)\n",
    "        print('Dataset read in from', dataset_pickle_name)\n",
    "else:\n",
    "    # This cell can take ~4 min\n",
    "    gps.compute_gps(dataset, number_gp=number_gp, t_min=t_min, t_max=t_max, \n",
    "                    gp_dim=gp_dim, output_root=path_saved_gps, \n",
    "                    number_processes=number_processes)\n",
    "    \n",
    "    with open(dataset_pickle_name, 'wb') as pickle_file:\n",
    "        pickle.dump(dataset, pickle_file)"
   ]
  },
  {
   "cell_type": "markdown",
   "metadata": {},
   "source": [
    "At the moment no other parameters are tunable for 2D Gaussian processes. For more details on this modeling of the light curves, see section _3.2. Gaussian Process Modeling of Light Curves_ of the [paper]()."
   ]
  },
  {
   "cell_type": "markdown",
   "metadata": {},
   "source": [
    "Now we can see how our light curves look with GP models."
   ]
  },
  {
   "cell_type": "code",
   "execution_count": 30,
   "metadata": {},
   "outputs": [
    {
     "data": {
      "application/vnd.jupyter.widget-view+json": {
       "model_id": "fe6a753cc0054d93bd0409f5f3ede835",
       "version_major": 2,
       "version_minor": 0
      },
      "image/png": "[encoded data removed]",
      "text/html": [
       "\n",
       "            <div style=\"display: inline-block;\">\n",
       "                <div class=\"jupyter-widgets widget-label\" style=\"text-align: center;\">\n",
       "                    Figure\n",
       "                </div>\n",
       "                <img src='data:image/png;base64,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' width=640.0/>\n",
       "            </div>\n",
       "        "
      ],
      "text/plain": [
       "Canvas(toolbar=Toolbar(toolitems=[('Home', 'Reset original view', 'home', 'home'), ('Back', 'Back to previous …"
      ]
     },
     "metadata": {},
     "output_type": "display_data"
    }
   ],
   "source": [
    "dataset.plot_all(plot_model=True)"
   ]
  },
  {
   "cell_type": "markdown",
   "metadata": {},
   "source": [
    "## Augment Dataset\n",
    "\n",
    "Our data augmentation requires previously fitted Gaussian Processes. So, if this was not done before, it needs to be done at this stage.\n",
    "\n",
    "### Choose the Events to Augment<a name=\"chooseEvent\"></a>\n",
    "\n",
    "**Write** in `aug_obj_names` a list containing all the events to augment. Here we will try to augment them all."
   ]
  },
  {
   "cell_type": "code",
   "execution_count": 31,
   "metadata": {},
   "outputs": [],
   "source": [
    "aug_obj_names = dataset.object_names  # try to augment all events"
   ]
  },
  {
   "cell_type": "markdown",
   "metadata": {},
   "source": [
    "**Create** a dictionary that associates to each event, the target number of synthetic events to create from it. Note that some augmentations will fail so this is not the final number of events. Additionally, each class has a different creation efficiency."
   ]
  },
  {
   "cell_type": "code",
   "execution_count": 32,
   "metadata": {},
   "outputs": [],
   "source": [
    "np.random.seed(42)\n",
    "is_to_aug = np.in1d(dataset.object_names, aug_obj_names)\n",
    "\n",
    "# Choose the target number of events in the augmented dataset. \n",
    "# Usually, only half of this number are accepted in the augmented dataset\n",
    "target_number_aug = np.sum(is_to_aug) * 2\n",
    "\n",
    "number_objs_per_label = collections.Counter(dataset.labels[is_to_aug])\n",
    "number_aug_per_label = target_number_aug//len(number_objs_per_label.keys())\n",
    "objs_number_to_aug = {}\n",
    "for label in number_objs_per_label.keys():\n",
    "    is_label = dataset.labels[is_to_aug] == label\n",
    "    aug_is_label_obj_names = aug_obj_names[is_label]\n",
    "    number_aug_per_obj = number_aug_per_label // np.sum(is_label)\n",
    "    number_extra_aug_per_obj = number_aug_per_label % np.sum(is_label)\n",
    "    extra_obj = np.random.choice(aug_is_label_obj_names, size=number_extra_aug_per_obj, \n",
    "                                 replace=False)\n",
    "    objs_number_to_aug.update({obj: number_aug_per_obj for obj in aug_is_label_obj_names})\n",
    "    objs_number_to_aug.update({obj: number_aug_per_obj+1 for obj in extra_obj})"
   ]
  },
  {
   "cell_type": "code",
   "execution_count": 33,
   "metadata": {},
   "outputs": [
    {
     "name": "stdout",
     "output_type": "stream",
     "text": [
      "We aim to create up to 7980 events.\n"
     ]
    }
   ],
   "source": [
    "print(f'We aim to create up to {sum(objs_number_to_aug.values())} events.')  # confirm how many events to create"
   ]
  },
  {
   "cell_type": "markdown",
   "metadata": {},
   "source": [
    "### Choose the Photometric Redshift<a name=\"choosePhotoZ\"></a>\n",
    "\n",
    "In order to simulate realistic photometric redshifts for the synthetic events, following [Boone (2019)](https://iopscience.iop.org/article/10.3847/1538-3881/ab5182) we chose a random event from the test set events that had a spectroscopic redshift measurement, and calculated the difference between its spectroscopic and photometric redshifts. We then added this difference to the true redshift of the augmented event to generate a photometric redshift. \n",
    "\n",
    "**Add** such a dataset containing spectroscopic and photometric redshift, and photometric redshift error of events as `z_table`. If none is provided, a similar table is generated from the events in `dataset`."
   ]
  },
  {
   "cell_type": "code",
   "execution_count": 34,
   "metadata": {},
   "outputs": [
    {
     "name": "stdout",
     "output_type": "stream",
     "text": [
      "Opening from binary pickle\n",
      "Dataset loaded from pickle file as: <snmachine.sndata.PlasticcData object at 0x7f11c42b4df0>\n"
     ]
    }
   ],
   "source": [
    "# Here we use a small portion of the test data in interest of time\n",
    "test_data_file_name = 'example_test_dataset.pckl'  \n",
    "test_data_path = os.path.join(data_path, test_data_file_name)\n",
    "\n",
    "test_data = load_dataset(test_data_path)\n",
    "test_metadata = test_data.metadata\n",
    "\n",
    "# Discard the events without spectroscopic redshift; \n",
    "# these are encoded with `hostgal_specz` equal to -9\n",
    "z_table = test_metadata[test_metadata.hostgal_specz > -2]"
   ]
  },
  {
   "cell_type": "markdown",
   "metadata": {},
   "source": [
    "### Run Augmentation<a name=\"aug\"></a>\n",
    "\n",
    "We also need to choose which survey to emulate in the augmentation. At the moment `snmachine` contains the Wide-Fast-Deep (WFD) and the Deep Drilling Field (DDF) survey of the Rubin Observatory Legacy Survey of Space and Time. Use `snaugment.PlasticcWFDAugment` for the former survey and `snaugment.PlasticcDDFAugment` for the latter.\n",
    "You can also implement your own augmentation using those classes as an example.\n",
    "\n",
    "In addition to the above inputs, we **chose** the random seed (`random_seed`) used to allow reproducible results and the maximum duration of the augmented light curves (`max_duration`).\n",
    "\n",
    "The value of `max_duration` must be higher than the maximum duration of any light curve in `dataset`. If none is provided, `max_duration` is set to the length of the longest event in `dataset`."
   ]
  },
  {
   "cell_type": "code",
   "execution_count": 35,
   "metadata": {},
   "outputs": [],
   "source": [
    "random_seed = 42 \n",
    "max_duration = 278 \n",
    "path_saved_gps = directories['intermediate_files_directory']"
   ]
  },
  {
   "cell_type": "markdown",
   "metadata": {},
   "source": [
    "Here we augmented following the WFD survey. This step in the notebook takes ~25min if not read from a stored pickle."
   ]
  },
  {
   "cell_type": "code",
   "execution_count": 36,
   "metadata": {},
   "outputs": [
    {
     "name": "stdout",
     "output_type": "stream",
     "text": [
      "Augmenting the dataset...\n",
      "Time spent augmenting: 0 days 00:12:31.\n"
     ]
    }
   ],
   "source": [
    "aug_pickle_name = os.path.join(folder_path, 'aug_plasticc.pckl')\n",
    "\n",
    "if read_from_pickle and os.path.exists(aug_pickle_name):\n",
    "    with open(aug_pickle_name, 'rb') as pickle_file:\n",
    "        aug = pickle.load(pickle_file)\n",
    "        print('Augmented dataset read from', aug_pickle_name)\n",
    "else:\n",
    "    aug = snaugment.PlasticcWFDAugment(dataset=dataset, path_saved_gps=path_saved_gps, \n",
    "                                       objs_number_to_aug=objs_number_to_aug,\n",
    "                                       random_seed=random_seed, max_duration=max_duration, \n",
    "                                       z_table=z_table)\n",
    "    aug.augment()\n",
    "    \n",
    "    with open(aug_pickle_name, 'wb') as pickle_file:\n",
    "        pickle.dump(aug, pickle_file)"
   ]
  },
  {
   "cell_type": "markdown",
   "metadata": {
    "tags": []
   },
   "source": [
    "### Balance augmented set\n",
    "\n",
    "We now create a balanced augmented training set (if not reading from pickle) with the same number of events from each class."
   ]
  },
  {
   "cell_type": "code",
   "execution_count": 37,
   "metadata": {},
   "outputs": [],
   "source": [
    "only_new_train_data = aug.only_new_dataset\n",
    "only_new_meta = only_new_train_data.metadata"
   ]
  },
  {
   "cell_type": "code",
   "execution_count": 38,
   "metadata": {},
   "outputs": [],
   "source": [
    "is_42 = only_new_meta.target == 42\n",
    "is_62 = only_new_meta.target == 62\n",
    "is_90 = only_new_meta.target == 90"
   ]
  },
  {
   "cell_type": "code",
   "execution_count": 39,
   "metadata": {},
   "outputs": [
    {
     "data": {
      "text/plain": [
       "525"
      ]
     },
     "execution_count": 39,
     "metadata": {},
     "output_type": "execute_result"
    }
   ],
   "source": [
    "size_balance = min(np.sum(is_42), np.sum(is_62), np.sum(is_90))\n",
    "size_balance"
   ]
  },
  {
   "cell_type": "code",
   "execution_count": 40,
   "metadata": {},
   "outputs": [],
   "source": [
    "np.random.seed(42)\n",
    "objs_to_keep = []\n",
    "\n",
    "is_sniabcii = [is_42, is_62, is_90]\n",
    "for i, is_sn in enumerate(is_sniabcii):\n",
    "    indexes = np.where(is_sn)[0]\n",
    "    try:\n",
    "        indexes_to_stay = np.random.choice(\n",
    "            indexes, size=size_balance, replace=False)\n",
    "    except ValueError:\n",
    "        print(f'The class {only_new_meta.target[is_sn][0]} only has {len(indexes)} events.')\n",
    "        indexes_to_stay = indexes\n",
    "    objs_to_stay = is_sn[indexes_to_stay].index.to_numpy()\n",
    "    objs_to_keep.append(objs_to_stay)\n",
    "objs_to_keep = np.concatenate(objs_to_keep)"
   ]
  },
  {
   "cell_type": "code",
   "execution_count": 41,
   "metadata": {},
   "outputs": [],
   "source": [
    "new_metadata = only_new_meta.loc[objs_to_keep]\n",
    "only_new_train_data.object_names = list(new_metadata.index)\n",
    "only_new_train_data.update_dataset(list(new_metadata.index))\n",
    "only_new_train_data.update_dataset(list(only_new_train_data.metadata.index))"
   ]
  },
  {
   "cell_type": "code",
   "execution_count": 42,
   "metadata": {},
   "outputs": [
    {
     "data": {
      "text/plain": [
       "Counter({42: 525, 90: 525, 62: 525})"
      ]
     },
     "execution_count": 42,
     "metadata": {},
     "output_type": "execute_result"
    }
   ],
   "source": [
    "# number of events per SNe class\n",
    "collections.Counter(only_new_train_data.metadata['target'])  "
   ]
  },
  {
   "cell_type": "markdown",
   "metadata": {},
   "source": [
    "## Extract features for the data"
   ]
  },
  {
   "cell_type": "markdown",
   "metadata": {},
   "source": [
    "The next step is to extract useful features from the data. This can often take a long time, depending on the feature extraction method, so it's a good idea to save these to file.\n",
    "\n",
    "We create a new folder to hold the results relative to the augmented training set."
   ]
  },
  {
   "cell_type": "code",
   "execution_count": 43,
   "metadata": {},
   "outputs": [],
   "source": [
    "analysis_name = aug_pickle_name.split(os.path.sep)[-1][:-5]\n",
    "create_folder_structure(folder_path, analysis_name)"
   ]
  },
  {
   "cell_type": "code",
   "execution_count": 44,
   "metadata": {},
   "outputs": [],
   "source": [
    "# We redefine these variables because we will not need the older definitions\n",
    "directories = get_directories(folder_path, analysis_name) \n",
    "path_saved_gps = directories['intermediate_files_directory']"
   ]
  },
  {
   "cell_type": "markdown",
   "metadata": {},
   "source": [
    "### Run Gaussian Processes."
   ]
  },
  {
   "cell_type": "markdown",
   "metadata": {},
   "source": [
    "This cell takes 1-2 minutes"
   ]
  },
  {
   "cell_type": "code",
   "execution_count": 45,
   "metadata": {},
   "outputs": [
    {
     "name": "stdout",
     "output_type": "stream",
     "text": [
      "Performing Gaussian process regression.\n",
      "Models fitted with the Gaussian Processes values.\n",
      "Time taken for Gaussian process regression: 60.61s.\n"
     ]
    }
   ],
   "source": [
    "gps.compute_gps(only_new_train_data, number_gp=number_gp, \n",
    "                t_min=t_min, t_max=t_max, \n",
    "                gp_dim=gp_dim, output_root=path_saved_gps, \n",
    "                number_processes=number_processes)"
   ]
  },
  {
   "cell_type": "markdown",
   "metadata": {},
   "source": [
    "### Wavelet Decomposition<a name=\"waveletDecomp\"></a>\n",
    "\n",
    "Now, we do a wavelet decomposition of the events. **Write** in `path_saved_wavelets` the path to the folder where to save them."
   ]
  },
  {
   "cell_type": "code",
   "execution_count": 46,
   "metadata": {},
   "outputs": [],
   "source": [
    "path_saved_wavelets = directories['intermediate_files_directory']"
   ]
  },
  {
   "cell_type": "markdown",
   "metadata": {},
   "source": [
    "Following [Lochner et al. (2016)](https://iopscience.iop.org/article/10.3847/0067-0049/225/2/31), we then reduced the dimensionality of this wavelet space using Principal Component Analysis (PCA). Therefore, **choose** the number of PCA components to keep (`number_comps`) and **write** the path to the folder where to save the reduced wavelets (`path_saved_reduced_wavelets`)."
   ]
  },
  {
   "cell_type": "code",
   "execution_count": 47,
   "metadata": {},
   "outputs": [],
   "source": [
    "number_comps = 40\n",
    "path_saved_reduced_wavelets = directories['features_directory']"
   ]
  },
  {
   "cell_type": "markdown",
   "metadata": {},
   "source": [
    "Perform the wavelet decomposition and dimensionality reduction."
   ]
  },
  {
   "cell_type": "code",
   "execution_count": 48,
   "metadata": {},
   "outputs": [
    {
     "name": "stdout",
     "output_type": "stream",
     "text": [
      "The wavelet used is sym2.\n",
      "Each passband is decomposed in 2 levels.\n",
      "Performing wavelet decomposition.\n",
      "Time taken for wavelet decomposition: 4.47s.\n",
      "Performing eigendecomposition.\n",
      "Time taken for eigendecomposition: 3.30s.\n",
      "Dimensionality reduced feature space with 40 components.\n"
     ]
    }
   ],
   "source": [
    "wf = snfeatures.WaveletFeatures(output_root=path_saved_wavelets)\n",
    "\n",
    "reduced_wavelet_features = wf.compute_reduced_features(\n",
    "    only_new_train_data, number_comps=number_comps, \n",
    "    **{'wavelet_name': 'sym2', 'number_decomp_levels': 2,\n",
    "       'path_save_eigendecomp': path_saved_reduced_wavelets})"
   ]
  },
  {
   "cell_type": "markdown",
   "metadata": {},
   "source": [
    "Save the reduced features."
   ]
  },
  {
   "cell_type": "code",
   "execution_count": 49,
   "metadata": {},
   "outputs": [],
   "source": [
    "wf.save_reduced_features(reduced_wavelet_features, path_saved_reduced_wavelets)"
   ]
  },
  {
   "cell_type": "markdown",
   "metadata": {},
   "source": [
    "Include Redshift Information<a name=\"addZ\"></a>\n",
    "\n",
    "In [paper]() we found that photometric redshift and its uncertainty are crucial for classification. Therefore, in the cell bellow, we include these properties as features. **Modify** it to include other properties as features."
   ]
  },
  {
   "cell_type": "code",
   "execution_count": 50,
   "metadata": {},
   "outputs": [],
   "source": [
    "features = reduced_wavelet_features.copy()  # only the wavelet features\n",
    "\n",
    "metadata = only_new_train_data.metadata\n",
    "features['hostgal_photoz'] = metadata.hostgal_photoz.values.astype(float)\n",
    "features['hostgal_photoz_err'] = metadata.hostgal_photoz_err.values.astype(float)"
   ]
  },
  {
   "cell_type": "markdown",
   "metadata": {},
   "source": [
    "To save the features, **write** in `saved_features_path` the path to the folder where to save them."
   ]
  },
  {
   "cell_type": "code",
   "execution_count": 51,
   "metadata": {},
   "outputs": [],
   "source": [
    "path_saved_features = directories['features_directory']"
   ]
  },
  {
   "cell_type": "code",
   "execution_count": 52,
   "metadata": {},
   "outputs": [],
   "source": [
    "features.to_pickle(os.path.join(path_saved_features, 'features.pckl'))\n",
    "\n",
    "data_labels = only_new_train_data.labels.astype(int)  # class label of each event\n",
    "data_labels.to_pickle(os.path.join(path_saved_features, 'data_labels.pckl'))"
   ]
  },
  {
   "cell_type": "markdown",
   "metadata": {},
   "source": [
    "We also make a t-SNE plot."
   ]
  },
  {
   "cell_type": "code",
   "execution_count": 53,
   "metadata": {
    "scrolled": true
   },
   "outputs": [],
   "source": [
    "# plt.figure(figsize=(2,3))\n",
    "# tsne_plot.plot(features, data_labels) # Not yet implemented for PLAsTiCC data"
   ]
  },
  {
   "cell_type": "markdown",
   "metadata": {},
   "source": [
    "## Classify"
   ]
  },
  {
   "cell_type": "markdown",
   "metadata": {},
   "source": [
    "Finally, we're ready to run the machine learning algorithm. There's a utility function in the `snclassifier` library to make it easy to run all the algorithms available, including converting features to `numpy` arrays and rescaling them and automatically generating ROC curves and metrics. Hyperparameters are automatically selected using a grid search combined with cross-validation. All functionality can also be individually run from `snclassifier`.\n",
    "\n",
    "Here we chose a LightGBM classifier."
   ]
  },
  {
   "cell_type": "code",
   "execution_count": 54,
   "metadata": {},
   "outputs": [
    {
     "name": "stdout",
     "output_type": "stream",
     "text": [
      "Created classifier of type: LGBMClassifier(random_state=42).\n",
      "\n"
     ]
    }
   ],
   "source": [
    "classifier_instance = snclassifier.LightGBMClassifier(classifier_name='LGBM', random_seed=42)"
   ]
  },
  {
   "cell_type": "markdown",
   "metadata": {},
   "source": [
    "We can now train and use the classifier generated above or optimise it beforehand. In general, it is important to optimise the classifier hyperparameters.\n",
    "\n",
    "In the paper we use the default optimisation but in interest of time, we do here a shorter optimisation."
   ]
  },
  {
   "cell_type": "code",
   "execution_count": 55,
   "metadata": {
    "scrolled": true
   },
   "outputs": [
    {
     "name": "stdout",
     "output_type": "stream",
     "text": [
      "Cross-validation for an augmented dataset.\n",
      "[LightGBM] [Warning] Auto-choosing col-wise multi-threading, the overhead of testing was 0.000788 seconds.\n",
      "You can set `force_col_wise=true` to remove the overhead.\n",
      "[LightGBM] [Info] Total Bins 10710\n",
      "[LightGBM] [Info] Number of data points in the train set: 1268, number of used features: 42\n",
      "[LightGBM] [Info] Start training from score -1.104941\n",
      "[LightGBM] [Info] Start training from score -1.086073\n",
      "[LightGBM] [Info] Start training from score -1.104941\n",
      "[LightGBM] [Warning] Auto-choosing col-wise multi-threading, the overhead of testing was 0.000385 seconds.\n",
      "You can set `force_col_wise=true` to remove the overhead.\n",
      "[LightGBM] [Info] Total Bins 10710\n",
      "[LightGBM] [Info] Number of data points in the train set: 1252, number of used features: 42\n",
      "[LightGBM] [Info] Start training from score -1.104219\n",
      "[LightGBM] [Info] Start training from score -1.089865\n",
      "[LightGBM] [Info] Start training from score -1.101812\n",
      "[LightGBM] [Warning] Auto-choosing col-wise multi-threading, the overhead of testing was 0.000381 seconds.\n",
      "You can set `force_col_wise=true` to remove the overhead.\n",
      "[LightGBM] [Info] Total Bins 10710\n",
      "[LightGBM] [Info] Number of data points in the train set: 1271, number of used features: 42\n",
      "[LightGBM] [Info] Start training from score -1.112078\n",
      "[LightGBM] [Info] Start training from score -1.076822\n",
      "[LightGBM] [Info] Start training from score -1.107305\n",
      "[LightGBM] [Warning] Auto-choosing col-wise multi-threading, the overhead of testing was 0.000394 seconds.\n",
      "You can set `force_col_wise=true` to remove the overhead.\n",
      "[LightGBM] [Info] Total Bins 10710\n",
      "[LightGBM] [Info] Number of data points in the train set: 1263, number of used features: 42\n",
      "[LightGBM] [Info] Start training from score -1.100990\n",
      "[LightGBM] [Info] Start training from score -1.098612\n",
      "[LightGBM] [Info] Start training from score -1.096240\n",
      "[LightGBM] [Warning] Auto-choosing col-wise multi-threading, the overhead of testing was 0.000407 seconds.\n",
      "You can set `force_col_wise=true` to remove the overhead.\n",
      "[LightGBM] [Info] Total Bins 10710\n",
      "[LightGBM] [Info] Number of data points in the train set: 1246, number of used features: 42\n",
      "[LightGBM] [Info] Start training from score -1.070910\n",
      "[LightGBM] [Info] Start training from score -1.143757\n",
      "[LightGBM] [Info] Start training from score -1.082688\n",
      "[LightGBM] [Warning] Auto-choosing col-wise multi-threading, the overhead of testing was 0.000386 seconds.\n",
      "You can set `force_col_wise=true` to remove the overhead.\n",
      "[LightGBM] [Info] Total Bins 10710\n",
      "[LightGBM] [Info] Number of data points in the train set: 1268, number of used features: 42\n",
      "[LightGBM] [Info] Start training from score -1.104941\n",
      "[LightGBM] [Info] Start training from score -1.086073\n",
      "[LightGBM] [Info] Start training from score -1.104941\n",
      "[LightGBM] [Warning] Auto-choosing col-wise multi-threading, the overhead of testing was 0.000384 seconds.\n",
      "You can set `force_col_wise=true` to remove the overhead.\n",
      "[LightGBM] [Info] Total Bins 10710\n",
      "[LightGBM] [Info] Number of data points in the train set: 1252, number of used features: 42\n",
      "[LightGBM] [Info] Start training from score -1.104219\n",
      "[LightGBM] [Info] Start training from score -1.089865\n",
      "[LightGBM] [Info] Start training from score -1.101812\n",
      "[LightGBM] [Warning] Auto-choosing col-wise multi-threading, the overhead of testing was 0.000390 seconds.\n",
      "You can set `force_col_wise=true` to remove the overhead.\n",
      "[LightGBM] [Info] Total Bins 10710\n",
      "[LightGBM] [Info] Number of data points in the train set: 1271, number of used features: 42\n",
      "[LightGBM] [Info] Start training from score -1.112078\n",
      "[LightGBM] [Info] Start training from score -1.076822\n",
      "[LightGBM] [Info] Start training from score -1.107305\n",
      "[LightGBM] [Warning] Auto-choosing col-wise multi-threading, the overhead of testing was 0.000386 seconds.\n",
      "You can set `force_col_wise=true` to remove the overhead.\n",
      "[LightGBM] [Info] Total Bins 10710\n",
      "[LightGBM] [Info] Number of data points in the train set: 1263, number of used features: 42\n",
      "[LightGBM] [Info] Start training from score -1.100990\n",
      "[LightGBM] [Info] Start training from score -1.098612\n",
      "[LightGBM] [Info] Start training from score -1.096240\n",
      "[LightGBM] [Warning] Auto-choosing col-wise multi-threading, the overhead of testing was 0.000408 seconds.\n",
      "You can set `force_col_wise=true` to remove the overhead.\n",
      "[LightGBM] [Info] Total Bins 10710\n",
      "[LightGBM] [Info] Number of data points in the train set: 1246, number of used features: 42\n",
      "[LightGBM] [Info] Start training from score -1.070910\n",
      "[LightGBM] [Info] Start training from score -1.143757\n",
      "[LightGBM] [Info] Start training from score -1.082688\n",
      "[LightGBM] [Warning] Auto-choosing col-wise multi-threading, the overhead of testing was 0.000638 seconds.\n",
      "You can set `force_col_wise=true` to remove the overhead.\n",
      "[LightGBM] [Info] Total Bins 10710\n",
      "[LightGBM] [Info] Number of data points in the train set: 1268, number of used features: 42\n",
      "[LightGBM] [Info] Start training from score -1.104941\n",
      "[LightGBM] [Info] Start training from score -1.086073\n",
      "[LightGBM] [Info] Start training from score -1.104941\n",
      "[LightGBM] [Warning] No further splits with positive gain, best gain: -inf\n",
      "[LightGBM] [Warning] No further splits with positive gain, best gain: -inf\n",
      "[LightGBM] [Warning] No further splits with positive gain, best gain: -inf\n",
      "[LightGBM] [Warning] No further splits with positive gain, best gain: -inf\n",
      "[LightGBM] [Warning] No further splits with positive gain, best gain: -inf\n",
      "[LightGBM] [Warning] No further splits with positive gain, best gain: -inf\n",
      "[LightGBM] [Warning] No further splits with positive gain, best gain: -inf\n",
      "[LightGBM] [Warning] No further splits with positive gain, best gain: -inf\n",
      "[LightGBM] [Warning] No further splits with positive gain, best gain: -inf\n",
      "[LightGBM] [Warning] No further splits with positive gain, best gain: -inf\n",
      "[LightGBM] [Warning] No further splits with positive gain, best gain: -inf\n",
      "[LightGBM] [Warning] No further splits with positive gain, best gain: -inf\n",
      "[LightGBM] [Warning] No further splits with positive gain, best gain: -inf\n",
      "[LightGBM] [Warning] No further splits with positive gain, best gain: -inf\n",
      "[LightGBM] [Warning] No further splits with positive gain, best gain: -inf\n",
      "[LightGBM] [Warning] No further splits with positive gain, best gain: -inf\n",
      "[LightGBM] [Warning] No further splits with positive gain, best gain: -inf\n",
      "[LightGBM] [Warning] No further splits with positive gain, best gain: -inf\n",
      "[LightGBM] [Warning] No further splits with positive gain, best gain: -inf\n",
      "[LightGBM] [Warning] No further splits with positive gain, best gain: -inf\n",
      "[LightGBM] [Warning] No further splits with positive gain, best gain: -inf\n",
      "[LightGBM] [Warning] No further splits with positive gain, best gain: -inf\n",
      "[LightGBM] [Warning] No further splits with positive gain, best gain: -inf\n",
      "[LightGBM] [Warning] No further splits with positive gain, best gain: -inf\n",
      "[LightGBM] [Warning] No further splits with positive gain, best gain: -inf\n",
      "[LightGBM] [Warning] No further splits with positive gain, best gain: -inf\n",
      "[LightGBM] [Warning] No further splits with positive gain, best gain: -inf\n",
      "[LightGBM] [Warning] No further splits with positive gain, best gain: -inf\n",
      "[LightGBM] [Warning] No further splits with positive gain, best gain: -inf\n",
      "[LightGBM] [Warning] No further splits with positive gain, best gain: -inf\n",
      "[LightGBM] [Warning] No further splits with positive gain, best gain: -inf\n",
      "[LightGBM] [Warning] No further splits with positive gain, best gain: -inf\n",
      "[LightGBM] [Warning] No further splits with positive gain, best gain: -inf\n",
      "[LightGBM] [Warning] No further splits with positive gain, best gain: -inf\n",
      "[LightGBM] [Warning] No further splits with positive gain, best gain: -inf\n",
      "[LightGBM] [Warning] No further splits with positive gain, best gain: -inf\n",
      "[LightGBM] [Warning] No further splits with positive gain, best gain: -inf\n",
      "[LightGBM] [Warning] No further splits with positive gain, best gain: -inf\n",
      "[LightGBM] [Warning] No further splits with positive gain, best gain: -inf\n",
      "[LightGBM] [Warning] No further splits with positive gain, best gain: -inf\n",
      "[LightGBM] [Warning] No further splits with positive gain, best gain: -inf\n",
      "[LightGBM] [Warning] No further splits with positive gain, best gain: -inf\n",
      "[LightGBM] [Warning] No further splits with positive gain, best gain: -inf\n",
      "[LightGBM] [Warning] No further splits with positive gain, best gain: -inf\n",
      "[LightGBM] [Warning] No further splits with positive gain, best gain: -inf\n",
      "[LightGBM] [Warning] No further splits with positive gain, best gain: -inf\n",
      "[LightGBM] [Warning] No further splits with positive gain, best gain: -inf\n",
      "[LightGBM] [Warning] No further splits with positive gain, best gain: -inf\n",
      "[LightGBM] [Warning] No further splits with positive gain, best gain: -inf\n",
      "[LightGBM] [Warning] No further splits with positive gain, best gain: -inf\n",
      "[LightGBM] [Warning] No further splits with positive gain, best gain: -inf\n",
      "[LightGBM] [Warning] No further splits with positive gain, best gain: -inf\n",
      "[LightGBM] [Warning] No further splits with positive gain, best gain: -inf\n",
      "[LightGBM] [Warning] No further splits with positive gain, best gain: -inf\n",
      "[LightGBM] [Warning] No further splits with positive gain, best gain: -inf\n",
      "[LightGBM] [Warning] No further splits with positive gain, best gain: -inf\n",
      "[LightGBM] [Warning] No further splits with positive gain, best gain: -inf\n",
      "[LightGBM] [Warning] No further splits with positive gain, best gain: -inf\n",
      "[LightGBM] [Warning] No further splits with positive gain, best gain: -inf\n",
      "[LightGBM] [Warning] No further splits with positive gain, best gain: -inf\n",
      "[LightGBM] [Warning] No further splits with positive gain, best gain: -inf\n",
      "[LightGBM] [Warning] No further splits with positive gain, best gain: -inf\n",
      "[LightGBM] [Warning] No further splits with positive gain, best gain: -inf\n",
      "[LightGBM] [Warning] No further splits with positive gain, best gain: -inf\n",
      "[LightGBM] [Warning] No further splits with positive gain, best gain: -inf\n",
      "[LightGBM] [Warning] No further splits with positive gain, best gain: -inf\n",
      "[LightGBM] [Warning] No further splits with positive gain, best gain: -inf\n",
      "[LightGBM] [Warning] No further splits with positive gain, best gain: -inf\n",
      "[LightGBM] [Warning] No further splits with positive gain, best gain: -inf\n",
      "[LightGBM] [Warning] No further splits with positive gain, best gain: -inf\n",
      "[LightGBM] [Warning] No further splits with positive gain, best gain: -inf\n",
      "[LightGBM] [Warning] No further splits with positive gain, best gain: -inf\n",
      "[LightGBM] [Warning] No further splits with positive gain, best gain: -inf\n",
      "[LightGBM] [Warning] No further splits with positive gain, best gain: -inf\n",
      "[LightGBM] [Warning] No further splits with positive gain, best gain: -inf\n",
      "[LightGBM] [Warning] No further splits with positive gain, best gain: -inf\n",
      "[LightGBM] [Warning] No further splits with positive gain, best gain: -inf\n",
      "[LightGBM] [Warning] No further splits with positive gain, best gain: -inf\n",
      "[LightGBM] [Warning] No further splits with positive gain, best gain: -inf\n",
      "[LightGBM] [Warning] No further splits with positive gain, best gain: -inf\n",
      "[LightGBM] [Warning] No further splits with positive gain, best gain: -inf\n",
      "[LightGBM] [Warning] No further splits with positive gain, best gain: -inf\n",
      "[LightGBM] [Warning] No further splits with positive gain, best gain: -inf\n",
      "[LightGBM] [Warning] No further splits with positive gain, best gain: -inf\n",
      "[LightGBM] [Warning] No further splits with positive gain, best gain: -inf\n",
      "[LightGBM] [Warning] No further splits with positive gain, best gain: -inf\n",
      "[LightGBM] [Warning] No further splits with positive gain, best gain: -inf\n",
      "[LightGBM] [Warning] No further splits with positive gain, best gain: -inf\n",
      "[LightGBM] [Warning] No further splits with positive gain, best gain: -inf\n",
      "[LightGBM] [Warning] No further splits with positive gain, best gain: -inf\n",
      "[LightGBM] [Warning] No further splits with positive gain, best gain: -inf\n",
      "[LightGBM] [Warning] No further splits with positive gain, best gain: -inf\n",
      "[LightGBM] [Warning] No further splits with positive gain, best gain: -inf\n",
      "[LightGBM] [Warning] No further splits with positive gain, best gain: -inf\n",
      "[LightGBM] [Warning] No further splits with positive gain, best gain: -inf\n",
      "[LightGBM] [Warning] No further splits with positive gain, best gain: -inf\n",
      "[LightGBM] [Warning] No further splits with positive gain, best gain: -inf\n",
      "[LightGBM] [Warning] No further splits with positive gain, best gain: -inf\n",
      "[LightGBM] [Warning] No further splits with positive gain, best gain: -inf\n",
      "[LightGBM] [Warning] No further splits with positive gain, best gain: -inf\n",
      "[LightGBM] [Warning] No further splits with positive gain, best gain: -inf\n",
      "[LightGBM] [Warning] No further splits with positive gain, best gain: -inf\n",
      "[LightGBM] [Warning] No further splits with positive gain, best gain: -inf\n",
      "[LightGBM] [Warning] No further splits with positive gain, best gain: -inf\n",
      "[LightGBM] [Warning] No further splits with positive gain, best gain: -inf\n",
      "[LightGBM] [Warning] No further splits with positive gain, best gain: -inf\n",
      "[LightGBM] [Warning] No further splits with positive gain, best gain: -inf\n",
      "[LightGBM] [Warning] No further splits with positive gain, best gain: -inf\n",
      "[LightGBM] [Warning] No further splits with positive gain, best gain: -inf\n",
      "[LightGBM] [Warning] No further splits with positive gain, best gain: -inf\n",
      "[LightGBM] [Warning] No further splits with positive gain, best gain: -inf\n",
      "[LightGBM] [Warning] No further splits with positive gain, best gain: -inf\n",
      "[LightGBM] [Warning] No further splits with positive gain, best gain: -inf\n",
      "[LightGBM] [Warning] No further splits with positive gain, best gain: -inf\n",
      "[LightGBM] [Warning] No further splits with positive gain, best gain: -inf\n",
      "[LightGBM] [Warning] No further splits with positive gain, best gain: -inf\n",
      "[LightGBM] [Warning] No further splits with positive gain, best gain: -inf\n",
      "[LightGBM] [Warning] No further splits with positive gain, best gain: -inf\n",
      "[LightGBM] [Warning] No further splits with positive gain, best gain: -inf\n",
      "[LightGBM] [Warning] No further splits with positive gain, best gain: -inf\n",
      "[LightGBM] [Warning] No further splits with positive gain, best gain: -inf\n",
      "[LightGBM] [Warning] No further splits with positive gain, best gain: -inf\n",
      "[LightGBM] [Warning] No further splits with positive gain, best gain: -inf\n",
      "[LightGBM] [Warning] No further splits with positive gain, best gain: -inf\n",
      "[LightGBM] [Warning] No further splits with positive gain, best gain: -inf\n",
      "[LightGBM] [Warning] No further splits with positive gain, best gain: -inf\n",
      "[LightGBM] [Warning] No further splits with positive gain, best gain: -inf\n",
      "[LightGBM] [Warning] No further splits with positive gain, best gain: -inf\n",
      "[LightGBM] [Warning] No further splits with positive gain, best gain: -inf\n",
      "[LightGBM] [Warning] No further splits with positive gain, best gain: -inf\n",
      "[LightGBM] [Warning] No further splits with positive gain, best gain: -inf\n",
      "[LightGBM] [Warning] No further splits with positive gain, best gain: -inf\n",
      "[LightGBM] [Warning] No further splits with positive gain, best gain: -inf\n",
      "[LightGBM] [Warning] No further splits with positive gain, best gain: -inf\n",
      "[LightGBM] [Warning] No further splits with positive gain, best gain: -inf\n",
      "[LightGBM] [Warning] No further splits with positive gain, best gain: -inf\n",
      "[LightGBM] [Warning] No further splits with positive gain, best gain: -inf\n",
      "[LightGBM] [Warning] Auto-choosing col-wise multi-threading, the overhead of testing was 0.000402 seconds.\n",
      "You can set `force_col_wise=true` to remove the overhead.\n",
      "[LightGBM] [Info] Total Bins 10710\n",
      "[LightGBM] [Info] Number of data points in the train set: 1252, number of used features: 42\n",
      "[LightGBM] [Info] Start training from score -1.104219\n",
      "[LightGBM] [Info] Start training from score -1.089865\n",
      "[LightGBM] [Info] Start training from score -1.101812\n",
      "[LightGBM] [Warning] No further splits with positive gain, best gain: -inf\n",
      "[LightGBM] [Warning] No further splits with positive gain, best gain: -inf\n",
      "[LightGBM] [Warning] No further splits with positive gain, best gain: -inf\n",
      "[LightGBM] [Warning] No further splits with positive gain, best gain: -inf\n",
      "[LightGBM] [Warning] No further splits with positive gain, best gain: -inf\n",
      "[LightGBM] [Warning] No further splits with positive gain, best gain: -inf\n",
      "[LightGBM] [Warning] No further splits with positive gain, best gain: -inf\n",
      "[LightGBM] [Warning] No further splits with positive gain, best gain: -inf\n",
      "[LightGBM] [Warning] No further splits with positive gain, best gain: -inf\n",
      "[LightGBM] [Warning] No further splits with positive gain, best gain: -inf\n",
      "[LightGBM] [Warning] No further splits with positive gain, best gain: -inf\n",
      "[LightGBM] [Warning] No further splits with positive gain, best gain: -inf\n",
      "[LightGBM] [Warning] No further splits with positive gain, best gain: -inf\n",
      "[LightGBM] [Warning] No further splits with positive gain, best gain: -inf\n",
      "[LightGBM] [Warning] No further splits with positive gain, best gain: -inf\n",
      "[LightGBM] [Warning] No further splits with positive gain, best gain: -inf\n",
      "[LightGBM] [Warning] No further splits with positive gain, best gain: -inf\n",
      "[LightGBM] [Warning] No further splits with positive gain, best gain: -inf\n",
      "[LightGBM] [Warning] No further splits with positive gain, best gain: -inf\n",
      "[LightGBM] [Warning] No further splits with positive gain, best gain: -inf\n",
      "[LightGBM] [Warning] No further splits with positive gain, best gain: -inf\n",
      "[LightGBM] [Warning] No further splits with positive gain, best gain: -inf\n",
      "[LightGBM] [Warning] No further splits with positive gain, best gain: -inf\n",
      "[LightGBM] [Warning] No further splits with positive gain, best gain: -inf\n",
      "[LightGBM] [Warning] No further splits with positive gain, best gain: -inf\n",
      "[LightGBM] [Warning] No further splits with positive gain, best gain: -inf\n",
      "[LightGBM] [Warning] No further splits with positive gain, best gain: -inf\n",
      "[LightGBM] [Warning] No further splits with positive gain, best gain: -inf\n",
      "[LightGBM] [Warning] No further splits with positive gain, best gain: -inf\n",
      "[LightGBM] [Warning] No further splits with positive gain, best gain: -inf\n",
      "[LightGBM] [Warning] No further splits with positive gain, best gain: -inf\n",
      "[LightGBM] [Warning] No further splits with positive gain, best gain: -inf\n",
      "[LightGBM] [Warning] No further splits with positive gain, best gain: -inf\n",
      "[LightGBM] [Warning] No further splits with positive gain, best gain: -inf\n",
      "[LightGBM] [Warning] No further splits with positive gain, best gain: -inf\n",
      "[LightGBM] [Warning] No further splits with positive gain, best gain: -inf\n",
      "[LightGBM] [Warning] No further splits with positive gain, best gain: -inf\n",
      "[LightGBM] [Warning] No further splits with positive gain, best gain: -inf\n",
      "[LightGBM] [Warning] No further splits with positive gain, best gain: -inf\n",
      "[LightGBM] [Warning] No further splits with positive gain, best gain: -inf\n",
      "[LightGBM] [Warning] No further splits with positive gain, best gain: -inf\n",
      "[LightGBM] [Warning] No further splits with positive gain, best gain: -inf\n",
      "[LightGBM] [Warning] No further splits with positive gain, best gain: -inf\n",
      "[LightGBM] [Warning] No further splits with positive gain, best gain: -inf\n",
      "[LightGBM] [Warning] No further splits with positive gain, best gain: -inf\n",
      "[LightGBM] [Warning] No further splits with positive gain, best gain: -inf\n",
      "[LightGBM] [Warning] No further splits with positive gain, best gain: -inf\n",
      "[LightGBM] [Warning] No further splits with positive gain, best gain: -inf\n",
      "[LightGBM] [Warning] No further splits with positive gain, best gain: -inf\n",
      "[LightGBM] [Warning] No further splits with positive gain, best gain: -inf\n",
      "[LightGBM] [Warning] No further splits with positive gain, best gain: -inf\n",
      "[LightGBM] [Warning] No further splits with positive gain, best gain: -inf\n",
      "[LightGBM] [Warning] No further splits with positive gain, best gain: -inf\n",
      "[LightGBM] [Warning] No further splits with positive gain, best gain: -inf\n",
      "[LightGBM] [Warning] No further splits with positive gain, best gain: -inf\n",
      "[LightGBM] [Warning] No further splits with positive gain, best gain: -inf\n",
      "[LightGBM] [Warning] No further splits with positive gain, best gain: -inf\n",
      "[LightGBM] [Warning] No further splits with positive gain, best gain: -inf\n",
      "[LightGBM] [Warning] No further splits with positive gain, best gain: -inf\n",
      "[LightGBM] [Warning] No further splits with positive gain, best gain: -inf\n",
      "[LightGBM] [Warning] No further splits with positive gain, best gain: -inf\n",
      "[LightGBM] [Warning] No further splits with positive gain, best gain: -inf\n",
      "[LightGBM] [Warning] No further splits with positive gain, best gain: -inf\n",
      "[LightGBM] [Warning] No further splits with positive gain, best gain: -inf\n",
      "[LightGBM] [Warning] No further splits with positive gain, best gain: -inf\n",
      "[LightGBM] [Warning] No further splits with positive gain, best gain: -inf\n",
      "[LightGBM] [Warning] No further splits with positive gain, best gain: -inf\n",
      "[LightGBM] [Warning] No further splits with positive gain, best gain: -inf\n",
      "[LightGBM] [Warning] No further splits with positive gain, best gain: -inf\n",
      "[LightGBM] [Warning] No further splits with positive gain, best gain: -inf\n",
      "[LightGBM] [Warning] No further splits with positive gain, best gain: -inf\n",
      "[LightGBM] [Warning] No further splits with positive gain, best gain: -inf\n",
      "[LightGBM] [Warning] No further splits with positive gain, best gain: -inf\n",
      "[LightGBM] [Warning] No further splits with positive gain, best gain: -inf\n",
      "[LightGBM] [Warning] No further splits with positive gain, best gain: -inf\n",
      "[LightGBM] [Warning] No further splits with positive gain, best gain: -inf\n",
      "[LightGBM] [Warning] No further splits with positive gain, best gain: -inf\n",
      "[LightGBM] [Warning] No further splits with positive gain, best gain: -inf\n",
      "[LightGBM] [Warning] No further splits with positive gain, best gain: -inf\n",
      "[LightGBM] [Warning] No further splits with positive gain, best gain: -inf\n",
      "[LightGBM] [Warning] No further splits with positive gain, best gain: -inf\n",
      "[LightGBM] [Warning] No further splits with positive gain, best gain: -inf\n",
      "[LightGBM] [Warning] No further splits with positive gain, best gain: -inf\n",
      "[LightGBM] [Warning] No further splits with positive gain, best gain: -inf\n",
      "[LightGBM] [Warning] No further splits with positive gain, best gain: -inf\n",
      "[LightGBM] [Warning] No further splits with positive gain, best gain: -inf\n",
      "[LightGBM] [Warning] No further splits with positive gain, best gain: -inf\n",
      "[LightGBM] [Warning] No further splits with positive gain, best gain: -inf\n",
      "[LightGBM] [Warning] No further splits with positive gain, best gain: -inf\n",
      "[LightGBM] [Warning] No further splits with positive gain, best gain: -inf\n",
      "[LightGBM] [Warning] No further splits with positive gain, best gain: -inf\n",
      "[LightGBM] [Warning] No further splits with positive gain, best gain: -inf\n",
      "[LightGBM] [Warning] No further splits with positive gain, best gain: -inf\n",
      "[LightGBM] [Warning] No further splits with positive gain, best gain: -inf\n",
      "[LightGBM] [Warning] No further splits with positive gain, best gain: -inf\n",
      "[LightGBM] [Warning] No further splits with positive gain, best gain: -inf\n",
      "[LightGBM] [Warning] No further splits with positive gain, best gain: -inf\n",
      "[LightGBM] [Warning] No further splits with positive gain, best gain: -inf\n",
      "[LightGBM] [Warning] No further splits with positive gain, best gain: -inf\n",
      "[LightGBM] [Warning] No further splits with positive gain, best gain: -inf\n",
      "[LightGBM] [Warning] No further splits with positive gain, best gain: -inf\n",
      "[LightGBM] [Warning] No further splits with positive gain, best gain: -inf\n",
      "[LightGBM] [Warning] No further splits with positive gain, best gain: -inf\n",
      "[LightGBM] [Warning] No further splits with positive gain, best gain: -inf\n",
      "[LightGBM] [Warning] No further splits with positive gain, best gain: -inf\n",
      "[LightGBM] [Warning] No further splits with positive gain, best gain: -inf\n",
      "[LightGBM] [Warning] No further splits with positive gain, best gain: -inf\n",
      "[LightGBM] [Warning] No further splits with positive gain, best gain: -inf\n",
      "[LightGBM] [Warning] No further splits with positive gain, best gain: -inf\n",
      "[LightGBM] [Warning] No further splits with positive gain, best gain: -inf\n",
      "[LightGBM] [Warning] No further splits with positive gain, best gain: -inf\n",
      "[LightGBM] [Warning] No further splits with positive gain, best gain: -inf\n",
      "[LightGBM] [Warning] No further splits with positive gain, best gain: -inf\n",
      "[LightGBM] [Warning] No further splits with positive gain, best gain: -inf\n",
      "[LightGBM] [Warning] No further splits with positive gain, best gain: -inf\n",
      "[LightGBM] [Warning] No further splits with positive gain, best gain: -inf\n",
      "[LightGBM] [Warning] No further splits with positive gain, best gain: -inf\n",
      "[LightGBM] [Warning] No further splits with positive gain, best gain: -inf\n",
      "[LightGBM] [Warning] No further splits with positive gain, best gain: -inf\n",
      "[LightGBM] [Warning] No further splits with positive gain, best gain: -inf\n",
      "[LightGBM] [Warning] No further splits with positive gain, best gain: -inf\n",
      "[LightGBM] [Warning] No further splits with positive gain, best gain: -inf\n",
      "[LightGBM] [Warning] No further splits with positive gain, best gain: -inf\n",
      "[LightGBM] [Warning] No further splits with positive gain, best gain: -inf\n",
      "[LightGBM] [Warning] No further splits with positive gain, best gain: -inf\n",
      "[LightGBM] [Warning] No further splits with positive gain, best gain: -inf\n",
      "[LightGBM] [Warning] No further splits with positive gain, best gain: -inf\n",
      "[LightGBM] [Warning] No further splits with positive gain, best gain: -inf\n",
      "[LightGBM] [Warning] No further splits with positive gain, best gain: -inf\n",
      "[LightGBM] [Warning] No further splits with positive gain, best gain: -inf\n",
      "[LightGBM] [Warning] No further splits with positive gain, best gain: -inf\n",
      "[LightGBM] [Warning] No further splits with positive gain, best gain: -inf\n",
      "[LightGBM] [Warning] No further splits with positive gain, best gain: -inf\n",
      "[LightGBM] [Warning] Auto-choosing col-wise multi-threading, the overhead of testing was 0.000397 seconds.\n",
      "You can set `force_col_wise=true` to remove the overhead.\n",
      "[LightGBM] [Info] Total Bins 10710\n",
      "[LightGBM] [Info] Number of data points in the train set: 1271, number of used features: 42\n",
      "[LightGBM] [Info] Start training from score -1.112078\n",
      "[LightGBM] [Info] Start training from score -1.076822\n",
      "[LightGBM] [Info] Start training from score -1.107305\n",
      "[LightGBM] [Warning] No further splits with positive gain, best gain: -inf\n",
      "[LightGBM] [Warning] No further splits with positive gain, best gain: -inf\n",
      "[LightGBM] [Warning] No further splits with positive gain, best gain: -inf\n",
      "[LightGBM] [Warning] No further splits with positive gain, best gain: -inf\n",
      "[LightGBM] [Warning] No further splits with positive gain, best gain: -inf\n",
      "[LightGBM] [Warning] No further splits with positive gain, best gain: -inf\n",
      "[LightGBM] [Warning] No further splits with positive gain, best gain: -inf\n",
      "[LightGBM] [Warning] No further splits with positive gain, best gain: -inf\n",
      "[LightGBM] [Warning] No further splits with positive gain, best gain: -inf\n",
      "[LightGBM] [Warning] No further splits with positive gain, best gain: -inf\n",
      "[LightGBM] [Warning] No further splits with positive gain, best gain: -inf\n",
      "[LightGBM] [Warning] No further splits with positive gain, best gain: -inf\n",
      "[LightGBM] [Warning] No further splits with positive gain, best gain: -inf\n",
      "[LightGBM] [Warning] No further splits with positive gain, best gain: -inf\n",
      "[LightGBM] [Warning] No further splits with positive gain, best gain: -inf\n",
      "[LightGBM] [Warning] No further splits with positive gain, best gain: -inf\n",
      "[LightGBM] [Warning] No further splits with positive gain, best gain: -inf\n",
      "[LightGBM] [Warning] No further splits with positive gain, best gain: -inf\n",
      "[LightGBM] [Warning] No further splits with positive gain, best gain: -inf\n",
      "[LightGBM] [Warning] No further splits with positive gain, best gain: -inf\n",
      "[LightGBM] [Warning] No further splits with positive gain, best gain: -inf\n",
      "[LightGBM] [Warning] No further splits with positive gain, best gain: -inf\n",
      "[LightGBM] [Warning] No further splits with positive gain, best gain: -inf\n",
      "[LightGBM] [Warning] No further splits with positive gain, best gain: -inf\n",
      "[LightGBM] [Warning] No further splits with positive gain, best gain: -inf\n",
      "[LightGBM] [Warning] No further splits with positive gain, best gain: -inf\n",
      "[LightGBM] [Warning] No further splits with positive gain, best gain: -inf\n",
      "[LightGBM] [Warning] No further splits with positive gain, best gain: -inf\n",
      "[LightGBM] [Warning] No further splits with positive gain, best gain: -inf\n",
      "[LightGBM] [Warning] No further splits with positive gain, best gain: -inf\n",
      "[LightGBM] [Warning] No further splits with positive gain, best gain: -inf\n",
      "[LightGBM] [Warning] No further splits with positive gain, best gain: -inf\n",
      "[LightGBM] [Warning] No further splits with positive gain, best gain: -inf\n",
      "[LightGBM] [Warning] No further splits with positive gain, best gain: -inf\n",
      "[LightGBM] [Warning] No further splits with positive gain, best gain: -inf\n",
      "[LightGBM] [Warning] No further splits with positive gain, best gain: -inf\n",
      "[LightGBM] [Warning] No further splits with positive gain, best gain: -inf\n",
      "[LightGBM] [Warning] No further splits with positive gain, best gain: -inf\n",
      "[LightGBM] [Warning] No further splits with positive gain, best gain: -inf\n",
      "[LightGBM] [Warning] No further splits with positive gain, best gain: -inf\n",
      "[LightGBM] [Warning] No further splits with positive gain, best gain: -inf\n",
      "[LightGBM] [Warning] No further splits with positive gain, best gain: -inf\n",
      "[LightGBM] [Warning] No further splits with positive gain, best gain: -inf\n",
      "[LightGBM] [Warning] No further splits with positive gain, best gain: -inf\n",
      "[LightGBM] [Warning] No further splits with positive gain, best gain: -inf\n",
      "[LightGBM] [Warning] No further splits with positive gain, best gain: -inf\n",
      "[LightGBM] [Warning] No further splits with positive gain, best gain: -inf\n",
      "[LightGBM] [Warning] No further splits with positive gain, best gain: -inf\n",
      "[LightGBM] [Warning] No further splits with positive gain, best gain: -inf\n",
      "[LightGBM] [Warning] No further splits with positive gain, best gain: -inf\n",
      "[LightGBM] [Warning] No further splits with positive gain, best gain: -inf\n",
      "[LightGBM] [Warning] No further splits with positive gain, best gain: -inf\n",
      "[LightGBM] [Warning] No further splits with positive gain, best gain: -inf\n",
      "[LightGBM] [Warning] No further splits with positive gain, best gain: -inf\n",
      "[LightGBM] [Warning] No further splits with positive gain, best gain: -inf\n",
      "[LightGBM] [Warning] No further splits with positive gain, best gain: -inf\n",
      "[LightGBM] [Warning] No further splits with positive gain, best gain: -inf\n",
      "[LightGBM] [Warning] No further splits with positive gain, best gain: -inf\n",
      "[LightGBM] [Warning] No further splits with positive gain, best gain: -inf\n",
      "[LightGBM] [Warning] No further splits with positive gain, best gain: -inf\n",
      "[LightGBM] [Warning] No further splits with positive gain, best gain: -inf\n",
      "[LightGBM] [Warning] No further splits with positive gain, best gain: -inf\n",
      "[LightGBM] [Warning] No further splits with positive gain, best gain: -inf\n",
      "[LightGBM] [Warning] No further splits with positive gain, best gain: -inf\n",
      "[LightGBM] [Warning] No further splits with positive gain, best gain: -inf\n",
      "[LightGBM] [Warning] No further splits with positive gain, best gain: -inf\n",
      "[LightGBM] [Warning] No further splits with positive gain, best gain: -inf\n",
      "[LightGBM] [Warning] No further splits with positive gain, best gain: -inf\n",
      "[LightGBM] [Warning] No further splits with positive gain, best gain: -inf\n",
      "[LightGBM] [Warning] No further splits with positive gain, best gain: -inf\n",
      "[LightGBM] [Warning] No further splits with positive gain, best gain: -inf\n",
      "[LightGBM] [Warning] No further splits with positive gain, best gain: -inf\n",
      "[LightGBM] [Warning] No further splits with positive gain, best gain: -inf\n",
      "[LightGBM] [Warning] No further splits with positive gain, best gain: -inf\n",
      "[LightGBM] [Warning] No further splits with positive gain, best gain: -inf\n",
      "[LightGBM] [Warning] No further splits with positive gain, best gain: -inf\n",
      "[LightGBM] [Warning] No further splits with positive gain, best gain: -inf\n",
      "[LightGBM] [Warning] No further splits with positive gain, best gain: -inf\n",
      "[LightGBM] [Warning] No further splits with positive gain, best gain: -inf\n",
      "[LightGBM] [Warning] No further splits with positive gain, best gain: -inf\n",
      "[LightGBM] [Warning] No further splits with positive gain, best gain: -inf\n",
      "[LightGBM] [Warning] No further splits with positive gain, best gain: -inf\n",
      "[LightGBM] [Warning] No further splits with positive gain, best gain: -inf\n",
      "[LightGBM] [Warning] No further splits with positive gain, best gain: -inf\n",
      "[LightGBM] [Warning] No further splits with positive gain, best gain: -inf\n",
      "[LightGBM] [Warning] No further splits with positive gain, best gain: -inf\n",
      "[LightGBM] [Warning] No further splits with positive gain, best gain: -inf\n",
      "[LightGBM] [Warning] No further splits with positive gain, best gain: -inf\n",
      "[LightGBM] [Warning] No further splits with positive gain, best gain: -inf\n",
      "[LightGBM] [Warning] No further splits with positive gain, best gain: -inf\n",
      "[LightGBM] [Warning] No further splits with positive gain, best gain: -inf\n",
      "[LightGBM] [Warning] No further splits with positive gain, best gain: -inf\n",
      "[LightGBM] [Warning] No further splits with positive gain, best gain: -inf\n",
      "[LightGBM] [Warning] No further splits with positive gain, best gain: -inf\n",
      "[LightGBM] [Warning] No further splits with positive gain, best gain: -inf\n",
      "[LightGBM] [Warning] No further splits with positive gain, best gain: -inf\n",
      "[LightGBM] [Warning] No further splits with positive gain, best gain: -inf\n",
      "[LightGBM] [Warning] No further splits with positive gain, best gain: -inf\n",
      "[LightGBM] [Warning] No further splits with positive gain, best gain: -inf\n",
      "[LightGBM] [Warning] No further splits with positive gain, best gain: -inf\n",
      "[LightGBM] [Warning] No further splits with positive gain, best gain: -inf\n",
      "[LightGBM] [Warning] No further splits with positive gain, best gain: -inf\n",
      "[LightGBM] [Warning] No further splits with positive gain, best gain: -inf\n",
      "[LightGBM] [Warning] No further splits with positive gain, best gain: -inf\n",
      "[LightGBM] [Warning] No further splits with positive gain, best gain: -inf\n",
      "[LightGBM] [Warning] No further splits with positive gain, best gain: -inf\n",
      "[LightGBM] [Warning] No further splits with positive gain, best gain: -inf\n",
      "[LightGBM] [Warning] No further splits with positive gain, best gain: -inf\n",
      "[LightGBM] [Warning] No further splits with positive gain, best gain: -inf\n",
      "[LightGBM] [Warning] No further splits with positive gain, best gain: -inf\n",
      "[LightGBM] [Warning] No further splits with positive gain, best gain: -inf\n",
      "[LightGBM] [Warning] No further splits with positive gain, best gain: -inf\n",
      "[LightGBM] [Warning] No further splits with positive gain, best gain: -inf\n",
      "[LightGBM] [Warning] No further splits with positive gain, best gain: -inf\n",
      "[LightGBM] [Warning] No further splits with positive gain, best gain: -inf\n",
      "[LightGBM] [Warning] No further splits with positive gain, best gain: -inf\n",
      "[LightGBM] [Warning] No further splits with positive gain, best gain: -inf\n",
      "[LightGBM] [Warning] No further splits with positive gain, best gain: -inf\n",
      "[LightGBM] [Warning] No further splits with positive gain, best gain: -inf\n",
      "[LightGBM] [Warning] No further splits with positive gain, best gain: -inf\n",
      "[LightGBM] [Warning] No further splits with positive gain, best gain: -inf\n",
      "[LightGBM] [Warning] No further splits with positive gain, best gain: -inf\n",
      "[LightGBM] [Warning] No further splits with positive gain, best gain: -inf\n",
      "[LightGBM] [Warning] No further splits with positive gain, best gain: -inf\n",
      "[LightGBM] [Warning] No further splits with positive gain, best gain: -inf\n",
      "[LightGBM] [Warning] No further splits with positive gain, best gain: -inf\n",
      "[LightGBM] [Warning] No further splits with positive gain, best gain: -inf\n",
      "[LightGBM] [Warning] No further splits with positive gain, best gain: -inf\n",
      "[LightGBM] [Warning] No further splits with positive gain, best gain: -inf\n",
      "[LightGBM] [Warning] No further splits with positive gain, best gain: -inf\n",
      "[LightGBM] [Warning] Auto-choosing col-wise multi-threading, the overhead of testing was 0.000775 seconds.\n",
      "You can set `force_col_wise=true` to remove the overhead.\n",
      "[LightGBM] [Info] Total Bins 10710\n",
      "[LightGBM] [Info] Number of data points in the train set: 1263, number of used features: 42\n",
      "[LightGBM] [Info] Start training from score -1.100990\n",
      "[LightGBM] [Info] Start training from score -1.098612\n",
      "[LightGBM] [Info] Start training from score -1.096240\n",
      "[LightGBM] [Warning] No further splits with positive gain, best gain: -inf\n",
      "[LightGBM] [Warning] No further splits with positive gain, best gain: -inf\n",
      "[LightGBM] [Warning] No further splits with positive gain, best gain: -inf\n",
      "[LightGBM] [Warning] No further splits with positive gain, best gain: -inf\n",
      "[LightGBM] [Warning] No further splits with positive gain, best gain: -inf\n",
      "[LightGBM] [Warning] No further splits with positive gain, best gain: -inf\n",
      "[LightGBM] [Warning] No further splits with positive gain, best gain: -inf\n",
      "[LightGBM] [Warning] No further splits with positive gain, best gain: -inf\n",
      "[LightGBM] [Warning] No further splits with positive gain, best gain: -inf\n",
      "[LightGBM] [Warning] No further splits with positive gain, best gain: -inf\n",
      "[LightGBM] [Warning] No further splits with positive gain, best gain: -inf\n",
      "[LightGBM] [Warning] No further splits with positive gain, best gain: -inf\n",
      "[LightGBM] [Warning] No further splits with positive gain, best gain: -inf\n",
      "[LightGBM] [Warning] No further splits with positive gain, best gain: -inf\n",
      "[LightGBM] [Warning] No further splits with positive gain, best gain: -inf\n",
      "[LightGBM] [Warning] No further splits with positive gain, best gain: -inf\n",
      "[LightGBM] [Warning] No further splits with positive gain, best gain: -inf\n",
      "[LightGBM] [Warning] No further splits with positive gain, best gain: -inf\n",
      "[LightGBM] [Warning] No further splits with positive gain, best gain: -inf\n",
      "[LightGBM] [Warning] No further splits with positive gain, best gain: -inf\n",
      "[LightGBM] [Warning] No further splits with positive gain, best gain: -inf\n",
      "[LightGBM] [Warning] No further splits with positive gain, best gain: -inf\n",
      "[LightGBM] [Warning] No further splits with positive gain, best gain: -inf\n",
      "[LightGBM] [Warning] No further splits with positive gain, best gain: -inf\n",
      "[LightGBM] [Warning] No further splits with positive gain, best gain: -inf\n",
      "[LightGBM] [Warning] No further splits with positive gain, best gain: -inf\n",
      "[LightGBM] [Warning] No further splits with positive gain, best gain: -inf\n",
      "[LightGBM] [Warning] No further splits with positive gain, best gain: -inf\n",
      "[LightGBM] [Warning] No further splits with positive gain, best gain: -inf\n",
      "[LightGBM] [Warning] No further splits with positive gain, best gain: -inf\n",
      "[LightGBM] [Warning] No further splits with positive gain, best gain: -inf\n",
      "[LightGBM] [Warning] No further splits with positive gain, best gain: -inf\n",
      "[LightGBM] [Warning] No further splits with positive gain, best gain: -inf\n",
      "[LightGBM] [Warning] No further splits with positive gain, best gain: -inf\n",
      "[LightGBM] [Warning] No further splits with positive gain, best gain: -inf\n",
      "[LightGBM] [Warning] No further splits with positive gain, best gain: -inf\n",
      "[LightGBM] [Warning] No further splits with positive gain, best gain: -inf\n",
      "[LightGBM] [Warning] No further splits with positive gain, best gain: -inf\n",
      "[LightGBM] [Warning] No further splits with positive gain, best gain: -inf\n",
      "[LightGBM] [Warning] No further splits with positive gain, best gain: -inf\n",
      "[LightGBM] [Warning] No further splits with positive gain, best gain: -inf\n",
      "[LightGBM] [Warning] No further splits with positive gain, best gain: -inf\n",
      "[LightGBM] [Warning] No further splits with positive gain, best gain: -inf\n",
      "[LightGBM] [Warning] No further splits with positive gain, best gain: -inf\n",
      "[LightGBM] [Warning] No further splits with positive gain, best gain: -inf\n",
      "[LightGBM] [Warning] No further splits with positive gain, best gain: -inf\n",
      "[LightGBM] [Warning] No further splits with positive gain, best gain: -inf\n",
      "[LightGBM] [Warning] No further splits with positive gain, best gain: -inf\n",
      "[LightGBM] [Warning] No further splits with positive gain, best gain: -inf\n",
      "[LightGBM] [Warning] No further splits with positive gain, best gain: -inf\n",
      "[LightGBM] [Warning] No further splits with positive gain, best gain: -inf\n",
      "[LightGBM] [Warning] No further splits with positive gain, best gain: -inf\n",
      "[LightGBM] [Warning] No further splits with positive gain, best gain: -inf\n",
      "[LightGBM] [Warning] No further splits with positive gain, best gain: -inf\n",
      "[LightGBM] [Warning] No further splits with positive gain, best gain: -inf\n",
      "[LightGBM] [Warning] No further splits with positive gain, best gain: -inf\n",
      "[LightGBM] [Warning] No further splits with positive gain, best gain: -inf\n",
      "[LightGBM] [Warning] No further splits with positive gain, best gain: -inf\n",
      "[LightGBM] [Warning] No further splits with positive gain, best gain: -inf\n",
      "[LightGBM] [Warning] No further splits with positive gain, best gain: -inf\n",
      "[LightGBM] [Warning] No further splits with positive gain, best gain: -inf\n",
      "[LightGBM] [Warning] No further splits with positive gain, best gain: -inf\n",
      "[LightGBM] [Warning] No further splits with positive gain, best gain: -inf\n",
      "[LightGBM] [Warning] No further splits with positive gain, best gain: -inf\n",
      "[LightGBM] [Warning] No further splits with positive gain, best gain: -inf\n",
      "[LightGBM] [Warning] No further splits with positive gain, best gain: -inf\n",
      "[LightGBM] [Warning] No further splits with positive gain, best gain: -inf\n",
      "[LightGBM] [Warning] No further splits with positive gain, best gain: -inf\n",
      "[LightGBM] [Warning] No further splits with positive gain, best gain: -inf\n",
      "[LightGBM] [Warning] No further splits with positive gain, best gain: -inf\n",
      "[LightGBM] [Warning] No further splits with positive gain, best gain: -inf\n",
      "[LightGBM] [Warning] No further splits with positive gain, best gain: -inf\n",
      "[LightGBM] [Warning] No further splits with positive gain, best gain: -inf\n",
      "[LightGBM] [Warning] No further splits with positive gain, best gain: -inf\n",
      "[LightGBM] [Warning] No further splits with positive gain, best gain: -inf\n",
      "[LightGBM] [Warning] No further splits with positive gain, best gain: -inf\n",
      "[LightGBM] [Warning] No further splits with positive gain, best gain: -inf\n",
      "[LightGBM] [Warning] No further splits with positive gain, best gain: -inf\n",
      "[LightGBM] [Warning] No further splits with positive gain, best gain: -inf\n",
      "[LightGBM] [Warning] No further splits with positive gain, best gain: -inf\n",
      "[LightGBM] [Warning] No further splits with positive gain, best gain: -inf\n",
      "[LightGBM] [Warning] No further splits with positive gain, best gain: -inf\n",
      "[LightGBM] [Warning] No further splits with positive gain, best gain: -inf\n",
      "[LightGBM] [Warning] No further splits with positive gain, best gain: -inf\n",
      "[LightGBM] [Warning] No further splits with positive gain, best gain: -inf\n",
      "[LightGBM] [Warning] No further splits with positive gain, best gain: -inf\n",
      "[LightGBM] [Warning] No further splits with positive gain, best gain: -inf\n",
      "[LightGBM] [Warning] No further splits with positive gain, best gain: -inf\n",
      "[LightGBM] [Warning] No further splits with positive gain, best gain: -inf\n",
      "[LightGBM] [Warning] No further splits with positive gain, best gain: -inf\n",
      "[LightGBM] [Warning] No further splits with positive gain, best gain: -inf\n",
      "[LightGBM] [Warning] No further splits with positive gain, best gain: -inf\n",
      "[LightGBM] [Warning] No further splits with positive gain, best gain: -inf\n",
      "[LightGBM] [Warning] No further splits with positive gain, best gain: -inf\n",
      "[LightGBM] [Warning] No further splits with positive gain, best gain: -inf\n",
      "[LightGBM] [Warning] No further splits with positive gain, best gain: -inf\n",
      "[LightGBM] [Warning] No further splits with positive gain, best gain: -inf\n",
      "[LightGBM] [Warning] No further splits with positive gain, best gain: -inf\n",
      "[LightGBM] [Warning] No further splits with positive gain, best gain: -inf\n",
      "[LightGBM] [Warning] No further splits with positive gain, best gain: -inf\n",
      "[LightGBM] [Warning] No further splits with positive gain, best gain: -inf\n",
      "[LightGBM] [Warning] No further splits with positive gain, best gain: -inf\n",
      "[LightGBM] [Warning] No further splits with positive gain, best gain: -inf\n",
      "[LightGBM] [Warning] No further splits with positive gain, best gain: -inf\n",
      "[LightGBM] [Warning] No further splits with positive gain, best gain: -inf\n",
      "[LightGBM] [Warning] No further splits with positive gain, best gain: -inf\n",
      "[LightGBM] [Warning] No further splits with positive gain, best gain: -inf\n",
      "[LightGBM] [Warning] No further splits with positive gain, best gain: -inf\n",
      "[LightGBM] [Warning] No further splits with positive gain, best gain: -inf\n",
      "[LightGBM] [Warning] No further splits with positive gain, best gain: -inf\n",
      "[LightGBM] [Warning] No further splits with positive gain, best gain: -inf\n",
      "[LightGBM] [Warning] No further splits with positive gain, best gain: -inf\n",
      "[LightGBM] [Warning] No further splits with positive gain, best gain: -inf\n",
      "[LightGBM] [Warning] No further splits with positive gain, best gain: -inf\n",
      "[LightGBM] [Warning] No further splits with positive gain, best gain: -inf\n",
      "[LightGBM] [Warning] No further splits with positive gain, best gain: -inf\n",
      "[LightGBM] [Warning] No further splits with positive gain, best gain: -inf\n",
      "[LightGBM] [Warning] No further splits with positive gain, best gain: -inf\n",
      "[LightGBM] [Warning] No further splits with positive gain, best gain: -inf\n",
      "[LightGBM] [Warning] No further splits with positive gain, best gain: -inf\n",
      "[LightGBM] [Warning] No further splits with positive gain, best gain: -inf\n",
      "[LightGBM] [Warning] No further splits with positive gain, best gain: -inf\n",
      "[LightGBM] [Warning] No further splits with positive gain, best gain: -inf\n",
      "[LightGBM] [Warning] No further splits with positive gain, best gain: -inf\n",
      "[LightGBM] [Warning] No further splits with positive gain, best gain: -inf\n",
      "[LightGBM] [Warning] No further splits with positive gain, best gain: -inf\n",
      "[LightGBM] [Warning] No further splits with positive gain, best gain: -inf\n",
      "[LightGBM] [Warning] No further splits with positive gain, best gain: -inf\n",
      "[LightGBM] [Warning] No further splits with positive gain, best gain: -inf\n",
      "[LightGBM] [Warning] No further splits with positive gain, best gain: -inf\n",
      "[LightGBM] [Warning] No further splits with positive gain, best gain: -inf\n",
      "[LightGBM] [Warning] No further splits with positive gain, best gain: -inf\n",
      "[LightGBM] [Warning] Auto-choosing col-wise multi-threading, the overhead of testing was 0.000380 seconds.\n",
      "You can set `force_col_wise=true` to remove the overhead.\n",
      "[LightGBM] [Info] Total Bins 10710\n",
      "[LightGBM] [Info] Number of data points in the train set: 1246, number of used features: 42\n",
      "[LightGBM] [Info] Start training from score -1.070910\n",
      "[LightGBM] [Info] Start training from score -1.143757\n",
      "[LightGBM] [Info] Start training from score -1.082688\n",
      "[LightGBM] [Warning] No further splits with positive gain, best gain: -inf\n",
      "[LightGBM] [Warning] No further splits with positive gain, best gain: -inf\n",
      "[LightGBM] [Warning] No further splits with positive gain, best gain: -inf\n",
      "[LightGBM] [Warning] No further splits with positive gain, best gain: -inf\n",
      "[LightGBM] [Warning] No further splits with positive gain, best gain: -inf\n",
      "[LightGBM] [Warning] No further splits with positive gain, best gain: -inf\n",
      "[LightGBM] [Warning] No further splits with positive gain, best gain: -inf\n",
      "[LightGBM] [Warning] No further splits with positive gain, best gain: -inf\n",
      "[LightGBM] [Warning] No further splits with positive gain, best gain: -inf\n",
      "[LightGBM] [Warning] No further splits with positive gain, best gain: -inf\n",
      "[LightGBM] [Warning] No further splits with positive gain, best gain: -inf\n",
      "[LightGBM] [Warning] No further splits with positive gain, best gain: -inf\n",
      "[LightGBM] [Warning] No further splits with positive gain, best gain: -inf\n",
      "[LightGBM] [Warning] No further splits with positive gain, best gain: -inf\n",
      "[LightGBM] [Warning] No further splits with positive gain, best gain: -inf\n",
      "[LightGBM] [Warning] No further splits with positive gain, best gain: -inf\n",
      "[LightGBM] [Warning] No further splits with positive gain, best gain: -inf\n",
      "[LightGBM] [Warning] No further splits with positive gain, best gain: -inf\n",
      "[LightGBM] [Warning] No further splits with positive gain, best gain: -inf\n",
      "[LightGBM] [Warning] No further splits with positive gain, best gain: -inf\n",
      "[LightGBM] [Warning] No further splits with positive gain, best gain: -inf\n",
      "[LightGBM] [Warning] No further splits with positive gain, best gain: -inf\n",
      "[LightGBM] [Warning] No further splits with positive gain, best gain: -inf\n",
      "[LightGBM] [Warning] No further splits with positive gain, best gain: -inf\n",
      "[LightGBM] [Warning] No further splits with positive gain, best gain: -inf\n",
      "[LightGBM] [Warning] No further splits with positive gain, best gain: -inf\n",
      "[LightGBM] [Warning] No further splits with positive gain, best gain: -inf\n",
      "[LightGBM] [Warning] No further splits with positive gain, best gain: -inf\n",
      "[LightGBM] [Warning] No further splits with positive gain, best gain: -inf\n",
      "[LightGBM] [Warning] No further splits with positive gain, best gain: -inf\n",
      "[LightGBM] [Warning] No further splits with positive gain, best gain: -inf\n",
      "[LightGBM] [Warning] No further splits with positive gain, best gain: -inf\n",
      "[LightGBM] [Warning] No further splits with positive gain, best gain: -inf\n",
      "[LightGBM] [Warning] No further splits with positive gain, best gain: -inf\n",
      "[LightGBM] [Warning] No further splits with positive gain, best gain: -inf\n",
      "[LightGBM] [Warning] No further splits with positive gain, best gain: -inf\n",
      "[LightGBM] [Warning] No further splits with positive gain, best gain: -inf\n",
      "[LightGBM] [Warning] No further splits with positive gain, best gain: -inf\n",
      "[LightGBM] [Warning] No further splits with positive gain, best gain: -inf\n",
      "[LightGBM] [Warning] No further splits with positive gain, best gain: -inf\n",
      "[LightGBM] [Warning] No further splits with positive gain, best gain: -inf\n",
      "[LightGBM] [Warning] No further splits with positive gain, best gain: -inf\n",
      "[LightGBM] [Warning] No further splits with positive gain, best gain: -inf\n",
      "[LightGBM] [Warning] No further splits with positive gain, best gain: -inf\n",
      "[LightGBM] [Warning] No further splits with positive gain, best gain: -inf\n",
      "[LightGBM] [Warning] No further splits with positive gain, best gain: -inf\n",
      "[LightGBM] [Warning] No further splits with positive gain, best gain: -inf\n",
      "[LightGBM] [Warning] No further splits with positive gain, best gain: -inf\n",
      "[LightGBM] [Warning] No further splits with positive gain, best gain: -inf\n",
      "[LightGBM] [Warning] No further splits with positive gain, best gain: -inf\n",
      "[LightGBM] [Warning] No further splits with positive gain, best gain: -inf\n",
      "[LightGBM] [Warning] No further splits with positive gain, best gain: -inf\n",
      "[LightGBM] [Warning] No further splits with positive gain, best gain: -inf\n",
      "[LightGBM] [Warning] No further splits with positive gain, best gain: -inf\n",
      "[LightGBM] [Warning] No further splits with positive gain, best gain: -inf\n",
      "[LightGBM] [Warning] No further splits with positive gain, best gain: -inf\n",
      "[LightGBM] [Warning] No further splits with positive gain, best gain: -inf\n",
      "[LightGBM] [Warning] No further splits with positive gain, best gain: -inf\n",
      "[LightGBM] [Warning] No further splits with positive gain, best gain: -inf\n",
      "[LightGBM] [Warning] No further splits with positive gain, best gain: -inf\n",
      "[LightGBM] [Warning] No further splits with positive gain, best gain: -inf\n",
      "[LightGBM] [Warning] No further splits with positive gain, best gain: -inf\n",
      "[LightGBM] [Warning] No further splits with positive gain, best gain: -inf\n",
      "[LightGBM] [Warning] No further splits with positive gain, best gain: -inf\n",
      "[LightGBM] [Warning] No further splits with positive gain, best gain: -inf\n",
      "[LightGBM] [Warning] No further splits with positive gain, best gain: -inf\n",
      "[LightGBM] [Warning] No further splits with positive gain, best gain: -inf\n",
      "[LightGBM] [Warning] No further splits with positive gain, best gain: -inf\n",
      "[LightGBM] [Warning] No further splits with positive gain, best gain: -inf\n",
      "[LightGBM] [Warning] No further splits with positive gain, best gain: -inf\n",
      "[LightGBM] [Warning] No further splits with positive gain, best gain: -inf\n",
      "[LightGBM] [Warning] No further splits with positive gain, best gain: -inf\n",
      "[LightGBM] [Warning] No further splits with positive gain, best gain: -inf\n",
      "[LightGBM] [Warning] No further splits with positive gain, best gain: -inf\n",
      "[LightGBM] [Warning] No further splits with positive gain, best gain: -inf\n",
      "[LightGBM] [Warning] No further splits with positive gain, best gain: -inf\n",
      "[LightGBM] [Warning] No further splits with positive gain, best gain: -inf\n",
      "[LightGBM] [Warning] No further splits with positive gain, best gain: -inf\n",
      "[LightGBM] [Warning] No further splits with positive gain, best gain: -inf\n",
      "[LightGBM] [Warning] No further splits with positive gain, best gain: -inf\n",
      "[LightGBM] [Warning] No further splits with positive gain, best gain: -inf\n",
      "[LightGBM] [Warning] No further splits with positive gain, best gain: -inf\n",
      "[LightGBM] [Warning] No further splits with positive gain, best gain: -inf\n",
      "[LightGBM] [Warning] No further splits with positive gain, best gain: -inf\n",
      "[LightGBM] [Warning] No further splits with positive gain, best gain: -inf\n",
      "[LightGBM] [Warning] No further splits with positive gain, best gain: -inf\n",
      "[LightGBM] [Warning] No further splits with positive gain, best gain: -inf\n",
      "[LightGBM] [Warning] No further splits with positive gain, best gain: -inf\n",
      "[LightGBM] [Warning] No further splits with positive gain, best gain: -inf\n",
      "[LightGBM] [Warning] No further splits with positive gain, best gain: -inf\n",
      "[LightGBM] [Warning] No further splits with positive gain, best gain: -inf\n",
      "[LightGBM] [Warning] No further splits with positive gain, best gain: -inf\n",
      "[LightGBM] [Warning] No further splits with positive gain, best gain: -inf\n",
      "[LightGBM] [Warning] No further splits with positive gain, best gain: -inf\n",
      "[LightGBM] [Warning] No further splits with positive gain, best gain: -inf\n",
      "[LightGBM] [Warning] No further splits with positive gain, best gain: -inf\n",
      "[LightGBM] [Warning] No further splits with positive gain, best gain: -inf\n",
      "[LightGBM] [Warning] No further splits with positive gain, best gain: -inf\n",
      "[LightGBM] [Warning] No further splits with positive gain, best gain: -inf\n",
      "[LightGBM] [Warning] No further splits with positive gain, best gain: -inf\n",
      "[LightGBM] [Warning] No further splits with positive gain, best gain: -inf\n",
      "[LightGBM] [Warning] No further splits with positive gain, best gain: -inf\n",
      "[LightGBM] [Warning] No further splits with positive gain, best gain: -inf\n",
      "[LightGBM] [Warning] No further splits with positive gain, best gain: -inf\n",
      "[LightGBM] [Warning] No further splits with positive gain, best gain: -inf\n",
      "[LightGBM] [Warning] No further splits with positive gain, best gain: -inf\n",
      "[LightGBM] [Warning] No further splits with positive gain, best gain: -inf\n",
      "[LightGBM] [Warning] No further splits with positive gain, best gain: -inf\n",
      "[LightGBM] [Warning] No further splits with positive gain, best gain: -inf\n",
      "[LightGBM] [Warning] No further splits with positive gain, best gain: -inf\n",
      "[LightGBM] [Warning] No further splits with positive gain, best gain: -inf\n",
      "[LightGBM] [Warning] No further splits with positive gain, best gain: -inf\n",
      "[LightGBM] [Warning] No further splits with positive gain, best gain: -inf\n",
      "[LightGBM] [Warning] No further splits with positive gain, best gain: -inf\n",
      "[LightGBM] [Warning] No further splits with positive gain, best gain: -inf\n",
      "[LightGBM] [Warning] No further splits with positive gain, best gain: -inf\n",
      "[LightGBM] [Warning] No further splits with positive gain, best gain: -inf\n",
      "[LightGBM] [Warning] No further splits with positive gain, best gain: -inf\n",
      "[LightGBM] [Warning] No further splits with positive gain, best gain: -inf\n",
      "[LightGBM] [Warning] No further splits with positive gain, best gain: -inf\n",
      "[LightGBM] [Warning] No further splits with positive gain, best gain: -inf\n",
      "[LightGBM] [Warning] No further splits with positive gain, best gain: -inf\n",
      "[LightGBM] [Warning] No further splits with positive gain, best gain: -inf\n",
      "[LightGBM] [Warning] No further splits with positive gain, best gain: -inf\n",
      "[LightGBM] [Warning] No further splits with positive gain, best gain: -inf\n",
      "[LightGBM] [Warning] No further splits with positive gain, best gain: -inf\n",
      "[LightGBM] [Warning] No further splits with positive gain, best gain: -inf\n",
      "[LightGBM] [Warning] No further splits with positive gain, best gain: -inf\n",
      "[LightGBM] [Warning] No further splits with positive gain, best gain: -inf\n",
      "[LightGBM] [Warning] No further splits with positive gain, best gain: -inf\n",
      "[LightGBM] [Warning] No further splits with positive gain, best gain: -inf\n",
      "[LightGBM] [Warning] No further splits with positive gain, best gain: -inf\n",
      "[LightGBM] [Warning] No further splits with positive gain, best gain: -inf\n",
      "[LightGBM] [Warning] No further splits with positive gain, best gain: -inf\n",
      "[LightGBM] [Warning] Auto-choosing col-wise multi-threading, the overhead of testing was 0.000428 seconds.\n",
      "You can set `force_col_wise=true` to remove the overhead.\n",
      "[LightGBM] [Info] Total Bins 10710\n",
      "[LightGBM] [Info] Number of data points in the train set: 1575, number of used features: 42\n",
      "[LightGBM] [Info] Start training from score -1.098612\n",
      "[LightGBM] [Info] Start training from score -1.098612\n",
      "[LightGBM] [Info] Start training from score -1.098612\n",
      "The optimisation takes 4.279s.\n"
     ]
    }
   ],
   "source": [
    "param_grid={'learning_rate': [.1, .25, .5]}\n",
    "\n",
    "classifier_instance.optimise(features, data_labels, param_grid=param_grid, \n",
    "                             scoring='logloss', \n",
    "                             number_cv_folds=5, metadata=metadata)"
   ]
  },
  {
   "cell_type": "markdown",
   "metadata": {},
   "source": [
    "### Test set\n",
    "\n",
    "We use a small set of the test set here. \n",
    "\n",
    "Before classifying the test set events, we need to obtain their features. \n",
    "\n",
    "#### Preprocess light curves"
   ]
  },
  {
   "cell_type": "code",
   "execution_count": 56,
   "metadata": {},
   "outputs": [
    {
     "name": "stdout",
     "output_type": "stream",
     "text": [
      "The longest event is 74994691 and its length is 1090.99 days.\n",
      "The longest event is 79641012 and its length is 879.68 days.\n",
      "The longest event is 79333412 and its length is 629.56 days.\n",
      "The longest event is 79333412 and its length is 271.56 days.\n",
      "The longest event is 79333412 and its length is 271.56 days.\n"
     ]
    }
   ],
   "source": [
    "test_data.remove_gaps(max_gap_length*2, verbose=True)\n",
    "test_data.remove_gaps(max_gap_length*2, verbose=True)\n",
    "test_data.remove_gaps(max_gap_length, verbose=True)\n",
    "test_data.remove_gaps(max_gap_length, verbose=True)\n",
    "test_data.remove_gaps(max_gap_length, verbose=True)"
   ]
  },
  {
   "cell_type": "markdown",
   "metadata": {},
   "source": [
    "#### Extract Features\n",
    "\n",
    "Fit Gaussian Processes"
   ]
  },
  {
   "cell_type": "code",
   "execution_count": 57,
   "metadata": {},
   "outputs": [],
   "source": [
    "test_analysis_name = test_data_file_name[:-5]\n",
    "create_folder_structure(folder_path, test_analysis_name)"
   ]
  },
  {
   "cell_type": "code",
   "execution_count": 58,
   "metadata": {},
   "outputs": [],
   "source": [
    "test_directories = get_directories(folder_path, test_analysis_name) \n",
    "test_path_saved_gps = test_directories['intermediate_files_directory']"
   ]
  },
  {
   "cell_type": "code",
   "execution_count": 59,
   "metadata": {},
   "outputs": [
    {
     "name": "stdout",
     "output_type": "stream",
     "text": [
      "Performing Gaussian process regression.\n",
      "Models fitted with the Gaussian Processes values.\n",
      "Time taken for Gaussian process regression: 5.24s.\n"
     ]
    }
   ],
   "source": [
    "test_dataset_pickle_name = os.path.join(folder_path, 'test_dataset_gps.pckl')\n",
    "if read_from_pickle and os.path.exists(test_dataset_pickle_name):\n",
    "    with open(test_dataset_pickle_name, 'rb') as pickle_file:\n",
    "        test_data = pickle.load(pickle_file)\n",
    "        print('Test dataset read in from', test_dataset_pickle_name)\n",
    "else:\n",
    "    # This cell can take ~4 min\n",
    "    gps.compute_gps(test_data, number_gp=number_gp, t_min=t_min, t_max=t_max, \n",
    "                gp_dim=gp_dim, output_root=test_path_saved_gps, \n",
    "                number_processes=number_processes)\n",
    "    \n",
    "    with open(test_dataset_pickle_name, 'wb') as pickle_file:\n",
    "        pickle.dump(test_data, pickle_file)"
   ]
  },
  {
   "cell_type": "markdown",
   "metadata": {},
   "source": [
    "Now, we do a wavelet decomposition of the test set events and project them into the feature space obtained with the training set. "
   ]
  },
  {
   "cell_type": "code",
   "execution_count": 60,
   "metadata": {},
   "outputs": [],
   "source": [
    "test_path_saved_wavelets = directories['intermediate_files_directory']"
   ]
  },
  {
   "cell_type": "code",
   "execution_count": 61,
   "metadata": {},
   "outputs": [
    {
     "name": "stdout",
     "output_type": "stream",
     "text": [
      "The wavelet used is sym2.\n",
      "Each passband is decomposed in 2 levels.\n",
      "Performing wavelet decomposition.\n",
      "Time taken for wavelet decomposition: 0.30s.\n",
      "Dimensionality reduced feature space with 40 components.\n"
     ]
    }
   ],
   "source": [
    "wf = snfeatures.WaveletFeatures(output_root=test_path_saved_wavelets)\n",
    "\n",
    "test_reduced_wavelet_features = wf.compute_reduced_features(\n",
    "    test_data, number_comps=number_comps, \n",
    "    path_saved_eigendecomp=path_saved_reduced_wavelets,\n",
    "    **{'wavelet_name': 'sym2', 'number_decomp_levels': 2})"
   ]
  },
  {
   "cell_type": "markdown",
   "metadata": {},
   "source": [
    "Include Redshift Information"
   ]
  },
  {
   "cell_type": "code",
   "execution_count": 62,
   "metadata": {},
   "outputs": [],
   "source": [
    "test_features = test_reduced_wavelet_features.copy()  # only the wavelet features\n",
    "\n",
    "test_metadata = test_data.metadata\n",
    "test_features['hostgal_photoz'] = test_metadata.hostgal_photoz.values.astype(float)\n",
    "test_features['hostgal_photoz_err'] = test_metadata.hostgal_photoz_err.values.astype(float)"
   ]
  },
  {
   "cell_type": "markdown",
   "metadata": {},
   "source": [
    "#### Classify Test Set\n",
    "\n",
    "Compute the predicted class (`y_pred`) and the probability of belonging to each different class (`y_probs`). Note that the predicted class is the one with the highest probability."
   ]
  },
  {
   "cell_type": "code",
   "execution_count": 63,
   "metadata": {},
   "outputs": [],
   "source": [
    "classifier = classifier_instance.classifier\n",
    "y_pred_test = classifier.predict(test_features)\n",
    "y_probs_test = classifier.predict_proba(test_features)"
   ]
  },
  {
   "cell_type": "markdown",
   "metadata": {},
   "source": [
    "#### Performance\n",
    "\n",
    "If we know the true class label of each event we can calculate the performance of the classifier. Otherwise, our predictions are saved in `y_pred_test` and `y_probs_test`.\n",
    "\n",
    "In this example we know the true class labels."
   ]
  },
  {
   "cell_type": "code",
   "execution_count": 64,
   "metadata": {},
   "outputs": [],
   "source": [
    "test_data_labels = test_metadata.true_target  # class label of each event"
   ]
  },
  {
   "cell_type": "markdown",
   "metadata": {},
   "source": [
    "We start by computing the Area under the ROC Curve (AUC) and the PLAsTiCC logloss. For that, choose which class to consider as *positive* (the other classes will be considered *negative*). Then, **write** in `which_column` the column that corresponds to that class. Note that the class order is accessed through the classifier."
   ]
  },
  {
   "cell_type": "code",
   "execution_count": 65,
   "metadata": {},
   "outputs": [],
   "source": [
    "which_column = 2  # we are interested in SN Ia vs others"
   ]
  },
  {
   "cell_type": "code",
   "execution_count": 66,
   "metadata": {},
   "outputs": [
    {
     "name": "stdout",
     "output_type": "stream",
     "text": [
      "              AUC      Logloss  \n",
      "   test      0.850      -0.887  \n"
     ]
    }
   ],
   "source": [
    "classifier.which_column = which_column\n",
    "auc_test = snclassifier.auc_score(classifier=classifier, X_features=test_features, \n",
    "                                  y_true=test_data_labels, which_column=which_column)\n",
    "logloss_test = snclassifier.logloss_score(classifier=classifier, X_features=test_features, \n",
    "                                          y_true=test_data_labels)\n",
    "print('{:^10} {:^10} {:^10}'.format('', 'AUC', 'Logloss'))\n",
    "print('{:^10} {:^10.3f} {:^10.3f}'.format('test', auc_test, logloss_test))"
   ]
  },
  {
   "cell_type": "markdown",
   "metadata": {},
   "source": [
    "Now, we plot the confusion matrix."
   ]
  },
  {
   "cell_type": "code",
   "execution_count": 67,
   "metadata": {},
   "outputs": [
    {
     "name": "stdout",
     "output_type": "stream",
     "text": [
      "Confusion matrix normalised by true class.\n"
     ]
    },
    {
     "data": {
      "text/plain": [
       "array([[0.43333333, 0.43333333, 0.13333333],\n",
       "       [0.13333333, 0.83333333, 0.03333333],\n",
       "       [0.3       , 0.13333333, 0.56666667]])"
      ]
     },
     "execution_count": 67,
     "metadata": {},
     "output_type": "execute_result"
    },
    {
     "data": {
      "application/vnd.jupyter.widget-view+json": {
       "model_id": "20bb9a76d9e347d9a53c0a9059ff9c7c",
       "version_major": 2,
       "version_minor": 0
      },
      "image/png": "[encoded data removed]",
      "text/html": [
       "\n",
       "            <div style=\"display: inline-block;\">\n",
       "                <div class=\"jupyter-widgets widget-label\" style=\"text-align: center;\">\n",
       "                    Figure\n",
       "                </div>\n",
       "                <img src='data:image/png;base64,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' width=640.0/>\n",
       "            </div>\n",
       "        "
      ],
      "text/plain": [
       "Canvas(toolbar=Toolbar(toolitems=[('Home', 'Reset original view', 'home', 'home'), ('Back', 'Back to previous …"
      ]
     },
     "metadata": {},
     "output_type": "display_data"
    }
   ],
   "source": [
    "title = 'Confusion matrix'\n",
    "analysis.plot_confusion_matrix(test_data_labels, y_pred_test, normalise='accuracy', title=title,\n",
    "                               dict_label_to_real=analysis.dict_label_to_real_plasticc)"
   ]
  },
  {
   "cell_type": "markdown",
   "metadata": {},
   "source": [
    "ROC Curves"
   ]
  },
  {
   "cell_type": "code",
   "execution_count": 69,
   "metadata": {},
   "outputs": [
    {
     "data": {
      "application/vnd.jupyter.widget-view+json": {
       "model_id": "1c2b2549b1364b0f86ab90f23478f0b3",
       "version_major": 2,
       "version_minor": 0
      },
      "image/png": "[encoded data removed]",
      "text/html": [
       "\n",
       "            <div style=\"display: inline-block;\">\n",
       "                <div class=\"jupyter-widgets widget-label\" style=\"text-align: center;\">\n",
       "                    Figure\n",
       "                </div>\n",
       "                <img src='data:image/png;base64,iVBORw0KGgoAAAANSUhEUgAAAoAAAAHgCAYAAAA10dzkAAAAOXRFWHRTb2Z0d2FyZQBNYXRwbG90bGliIHZlcnNpb24zLjcuMiwgaHR0cHM6Ly9tYXRwbG90bGliLm9yZy8pXeV/AAAACXBIWXMAAA9hAAAPYQGoP6dpAADm3klEQVR4nOzdd1iT59cH8G8WeyNDFFBRAQcqILjFvRVn3aNqbUVctPpT+2pdFauICLZWrbPuqlj3QnGDglvBiSJDkL3JeN4/KNGYsEIggZzPdXkp9/3kyQGBnNzj3CyGYRgQQgghhBC1wVZ2AIQQQgghpHpRAkgIIYQQomYoASSEEEIIUTOUABJCCCGEqBlKAAkhhBBC1AwlgIQQQgghaoYSQEIIIYQQNUMJICGEEEKImqEEkBBCCCFEzVACSAghhBCiZigBJIQQQghRM5QAEkIIIYSoGUoACSGEEELUDCWAhBBCCCFqhhJAQgghhBA1QwkgIYQQQoiaoQSQEEIIIUTNUAJICCGEEKJmKAEkhBBCCFEzlAASQgghhKgZSgAJIYQQQtQMJYCEEEIIIWqGEkBCCCGEEDVDCSAhhBBCiJqhBJAQQgghRM1QAkgIIYQQomYoASSEEEIIUTOUABJCCCGEqBlKAAkhhBBC1AwlgIQQQgghaoYSQEIIIYQQNUMJICGEEEKImuEqOwBCVFH37t0RFxcHAJg7dy5++OGHEq8dNmwYnj59CgD49ttvsXDhwko////+9z8cP34ca9aswbBhw8r9uA8fPqBHjx6oV68eQkJC5Hru9PR0HDx4ENeuXUNMTAwyMzOhpaUFGxsbuLm5YdiwYWjatKn4+rCwMEycOBFubm7Yu3evXM+pbIGBgQgKCpJo43A4MDQ0RLNmzTB8+HD079+/zPs8evQIBw8exN27d5GcnAwWiwVLS0t06NAB48aNQ6NGjcq8R2JiIg4cOICbN28iNjYW2dnZ0NPTQ8OGDdG+fXsMGzYM1tbWcn+uX7p69SoePHiAx48f48mTJ0hPT4eRkRHCwsIUcn9lmjBhAsLDw8Hj8XDjxg0YGRmVeK29vT0AIDo6ulzthNQGNAJISBmCg4NL7Hv58qU4+asO//vf/2Bvb49jx45Vyf3PnTuHHj16wN/fH8+fP0eTJk3Qp08fuLi44NOnT9i5cycGDx5cYxO9stjY2GDo0KEYOnQoevXqBWNjY9y4cQPz5s3DsmXLSnycUCjE8uXLMXLkSBw9ehRsNhtdunRBx44dUVBQgL///huDBg3C1q1bS33+PXv2oFevXtiyZQvevXuHFi1aoG/fvmjZsiXevn2L33//Hf369cPFixcV8vn++OOP+OOPP3Djxg2kp6cr5J6qIDY2Fnfv3gUA8Pl8nDp1SskREaJ6aASQkFI0b94cT58+xYMHD9C6dWup/uJErEWLFnjy5Ek1RyfNwsICZ86cAY/Hq/Bjz5w5g/nz54PFYmH27NmYOnUqtLS0JK65c+cO1q9fj/fv3ysqZJXi4uICX19fibYdO3Zg7dq1OHjwIIYOHSrz++D//u//cPToUZiYmGDt2rXo0qWLRP/p06fx888/w8/PDwzDYMaMGVL32LZtG9avXw8tLS388ssvGDlyJLjcz7+ihUIhQkJCsH79evHodGX17t0bDRs2RIsWLWBkZARPT0+F3FfZjh8/DoZhYG5ujqSkJBw7dgzjx49XdliEqBQaASSkFMXTr8ePH5fqEwqFOHnyJOrUqYNOnTpVd2gy8Xg82NnZwcbGpkKP+/TpE5YsWQKGYfDLL7/Ay8tLKvkDgHbt2uHAgQMYMGCAokJWed9++6146jY0NFSqPyQkBEePHgWPx8Nff/0llfwBwIABAxAQEAAACAgIQFRUlER/VFQU/P39wWKxEBQUhDFjxkgkf0DRlHSvXr1w7NgxuLm5KeRz+/XXXzF9+nS0b98e+vr6CrmnsjEMIx61X7VqFfT19fH06VO8ePFCuYERomIoASSkFG3btkW9evVw9uxZFBYWSvTduHEDycnJGDRokNSLdbHAwEDY29sjMDBQZn9FpnTt7e3FieiiRYtgb28v/lP8+A8fPsDe3h7du3evyKeJv//+G7m5uWjRogW++eabUq/l8XgyR8G+xufzERwcjLlz56JPnz5o06YN2rRpg8GDByMoKAi5ubkyH/fu3TssXboUffr0QevWreHs7IyePXti7ty5uH37tsS1mZmZ+P333zF48GC0bdsWTk5O6Nq1K7799lscOnSo3J9/WZo0aQIASElJkerbtm0bAGD06NFo1qxZiffo0qULevbsCaFQiB07dkj0/fXXXxAKhejduzc6d+5caiy6urqlPo+yDBs2DPb29lL/R1+aNm0a7O3tcfr0aXFbUlIS1q5diwEDBsDZ2Rlt2rRBt27d8MMPP+DcuXMVjiMsLAxxcXGoV68eunTpgn79+gGQ/SaOEHVGCSAhpWCxWPD09ERGRobUporiF5TqmjYbOnSoeGTP2dlZvFbty3Z5FX9ugwYNqnScxVJSUrBw4ULcvn0bJiYm8PDwQJs2bRAfH4/AwECMHz8e+fn5Eo+JioqCp6cnDh06BC6XK15HZ2RkhEuXLuHs2bPia3Nzc/HNN98gICAAqampcHV1FW+Aefz4MXbu3KmwzyU7OxsAYGJiItGelpaG+/fvAyjf98GQIUMAFI0kMgwDABCJROKRxcGDB8sVX/fu3at0bWh5FH/+Ja2ZTU5Oxq1bt6Cvr4+ePXsCKEr+hg4dih07diA/Px/t27dHly5dYGFhgdu3b+PIkSMVjqP4azBkyBCwWCwMHToUAHDy5EkIBIKKf2KE1FK0BpCQMnh6euL3339HcHAw+vbtC6Bo5Ony5cto1qwZHBwcFLYovzS+vr743//+h/fv32PkyJEV2h1cGj6fL54ea9GihULuCQB6enrYsmULOnfuLDFCmpWVBR8fH4SGhmLPnj347rvvxH27d+9Gbm4ufHx8JNqBot3JX659O3/+PN68eYNu3bohKChI4jkKCwvx8OFDhXweaWlpePToEQDAw8NDoi8qKgoMw4DH48HBwaHMexV/fdPT0/HhwwdYW1vjw4cPyMjIkOiviQYOHIjffvsNFy5cwLJly6CjoyPRf/LkSQiFQvTt2xeampoAgMOHD+PTp08YM2YMfvnlF4nrc3JyKjxtm5OTI/5ZLE5InZ2d0aBBA8TExOD69evo1q2bfJ8gIbUMjQASUgYbGxu4uLjg+vXr4inA06dPo7CwsFYsms/IyBCPRn09wlUZenp66Natm9T0uL6+PhYvXgygKIn7UvHXV9Y0qJGREZo3by51bbt27aSeQ0NDA23btq1U/Pn5+Xj48CFmzpyJrKwsTJkyRWrqOy0tTRxbScsAvlSnTh2pxxb/Dcj/9be2tkbDhg2Vuo7PxMQEnTt3Rm5uLi5cuCDVf+LECQCSI6XF/4ey1tDq6uqiTZs2FYrh7NmzyM3NhbOzM2xtbcXtxaOANA1MyGc0AkhIOXh6euLevXs4efIkJk+ejOPHj4PH4yl0yrS2evToEcLCwhAfH4/8/HwwDCNOOGNiYiSubdGiBUJDQ7F8+XLMmTMHLi4u0NDQkHnf4tGy7du3w9TUFB4eHpVOgI4fPy4zSVi6dCnGjRtXqXsDEH/eirZ79+4quW9FDR06FCEhIThx4oREohcdHY2oqCjY2NjA1dVV3F78f+jn5wcWi4UOHTpAW1tb7ucv/r/7enR8yJAhCAgIQEhIiLjWISHqjhJAQsqhX79+WL16NYKDg9GlSxc8fPgQ3bt3V+iIWVVJTU3Fb7/9JtXu4uKCkSNHwtDQECwWCwzDIDU1tVzFissjJycH8+fPx9WrV0u8pnhtXbFp06bh0aNHuH79OiZPngwNDQ00b94c7dq1g6enJxo0aCC+tl27dpgxYwa2b9+OH3/8EWw2G3Z2dmjbti369+8v1whg8WgvUDTN/+DBA6SkpOC3336Dvb29RPICQJxIpKenQyAQlDkK+OUmEmNjY4m/gaL/K0tLywrHrSo8PDxgZGSEO3fu4OPHj7CwsADweV1g8RrIYkOHDkV4eDiCg4Mxc+ZMcLlc2Nvbw93dHYMHD4ajo2O5n/v9+/e4d+8etLS0xBs/itWtWxft2rXDrVu3cOrUKSoJQwgoASSkXPT09NCzZ0+cPHkSa9euBfB5WqkyRCJRpe9Rltzc3BKnvkaOHAkej4emTZsiOjoaT548kUpy5OXn54erV6+iSZMm+PHHH9GiRQsYGhqCx+OhsLAQLVu2lHqMjo4Otm/fjsePHyM0NBTh4eF4+PAh7t+/j61bt+KXX37BqFGjxNfPnz8fo0aNwpUrV3Dnzh1ERERg//792L9/Pzw9PcX/V+X1dR3AwsJCLFiwAGfPnsWPP/6IM2fOSKxtc3R0BIvFAp/Px/Pnz2V+Tl96/PgxAMDQ0BD169cHANSvXx8GBgbIzMzEkydPanQCqKGhgf79+2P//v04ceIEvvvuO3G5JBaLJZUAstlsrF27FtOnT8eVK1cQFhaG+/fv4+nTp9ixYwdmzpyJOXPmlOu5izd/sNlsTJ8+Xao/MTFRfB0lgITQGkBCyq14Wunq1aswMjKS2hAgS3FB5pJKniQkJCgsvpLUr18f0dHRUn++THSKF8Yr8sSE4vV9GzZsgIeHB+rUqSP+epRVSLply5aYNWsW9uzZg/DwcCxZsgQikQirVq1CVlaW1Oc3YcIEbN68Gbdv38Zff/0FQ0NDBAcH4/r165X6HDQ0NPDrr7/CysoKCQkJUjuLjY2NxesCi9e4lab4mi5duoDFYgGA+NQQAPj3338rFa8qKH5jVPy53Lp1C8nJyXB1dS3xCLvGjRtj+vTp2L59O8LCwrBhwwZoaGjgjz/+wOvXr8t8ToZhxF/b3NxcREZGSv2Jj48HAKoJSMh/KAEkpJzatWuHJk2awMjICMOGDStxbdqXzM3NAQBv376V6ktLS8OzZ88qFENxAiUUCiv0uLKMHz8eOjo6ePz4cZn18wQCQbl22BbvbK1bt65UX0USTU1NTUycOBG2trYoKCiQ+bUsxmKx0KlTJ/Tp0weAYs5w1dHREY9C7dq1SyoBnTZtGgDg4MGDpf5/Xrt2DZcvXwaHw8HUqVOl7sFms3HhwoUyk9bc3NwKf99UJycnJzRq1AgvX77EkydPSpz+LQmXy8WAAQPQtm1bMAxTrmTtzp07iI+Ph6mpKZ4+fSrzDU90dLR49Jg2gxBCCSAh5cZms3Hq1CmEhYVh4cKF5XqMm5sbWCwWrl27JpE0ZWdn4+eff5ZaA1eW4jVV5RkVqQgzMzOsWLECAPDLL7/g999/l6rRBwD37t3D2LFjy5XANWzYEACwf/9+ifZbt26VWKNv3759UhtDgKJELi4uDmw2WzxFevHiRdy7d09qY0VWVhYiIiIAAFZWVmXGWR6DBg1Co0aNkJmZiT179kj09ezZE56enuDz+Zg6darMBO706dPiJHLWrFlSa9scHR0xZ84cMAyDWbNm4eDBg1I160QiEUJCQjB8+HCEh4dL9E2aNAl9+/atlnJE5VG8AWT//v24fPmyzHV5QNHaQFnJbGJiovi0lPL8Hx49ehQA0L9//1LXYRZv2qKagITQGkBCqlT9+vUxYsQIHDlyBOPHj0fbtm3B4/Hw6NEjGBkZoUePHrh8+XK579ejRw9s3rwZu3fvxsuXL2FhYQEWi4Xhw4fD2dm5UrEOGjQIbDYb//d//4eAgABs27YNrVq1gqmpKXJychAVFYWEhASw2exyjeb88MMPmDdvHjZs2IBz586hUaNGiIuLw/379/Hdd99h69atUo85fPgwVqxYAVtbWzRp0gRaWlpISkpCZGQkBAIBpk6dKh5VDQ8Px549e2BqaopmzZrByMgImZmZiIiIQHZ2NpydndGrV69KfU2KcTgceHt7Y968edi9ezcmTZoEPT09cf/q1auhqamJQ4cOYdq0aWjYsCHs7e0hEonw9OlTxMXFgcPhYM6cOZg5c6bM5/j++++hqakJPz8/LFu2DBs2bICTkxMMDQ2RlZWFJ0+eICUlBTweT7x+sFhsbCzi4uKkRifLsnnzZnER6uKTbrKzsyXWWY4cORIjR46s0H2HDBmCjRs3ihOzgQMHSny9il24cAELFy5E3bp14eDgAD09PaSmpuLevXsoKChAv3790KpVq1KfKzs7G5cuXQJQdiHttm3bom7dukhISKCagETtUQJISBX75ZdfYGlpieDgYISHh8PY2Bh9+/bFvHnz8Ouvv1boXo6OjvD398eOHTsQGRkpXlvo4uJS6QQQKDqztkOHDjhw4ACuX7+OqKgoZGVlQVtbGzY2NujXrx9GjBgBOzu7Mu/Vv39/GBsbIygoCC9evEBMTAyaNGmCtWvXwtPTU2YCOHfuXFy5cgUPHz7EvXv3kJubCzMzM3Tu3BljxoxB165dxdcWT8NHREQgKipKXN6jadOm8PT0xNChQ8VT5orQr18//Pnnn4iKisKePXskEjkul4sVK1Zg2LBhOHToEO7evYurV6+CzWbDwsICY8eOxfjx48v8uk2ZMgV9+vTBgQMHcPPmTTx69Ag5OTnQ1dVFo0aNMGbMGAwfPlxhI5uxsbFS0/lfT/GXdTSdLJaWluJdt0DJp6RMmTIFVlZWuH//Ph49eoTMzEyYmprC2dkZI0eOFBdeL83Zs2eRl5eHBg0awMnJqdRrWSwWBgwYgO3bt+P48eOUABK1xmKqqjAVIYQQQghRSbQGkBBCCCFEzVACSAghhBCiZigBJIQQQghRM5QAEkIIIYSoGUoACSGEEELUDCWAhBBCCCFqhhJAQgghhBA1Q4WgK8HV1RWFhYUwMzNTdiiEEEIIKafk5GRoaGjg3r17yg5FaSgBrISCggIIhUJlh0EIIYSQChAIBFLniKsbSgArofhM0oqc5UoIIYQQ5erRo4eyQ1A6WgNICCGEEKJmKAEkhBBCCFEzCksABQKBom5FCCGEEEKqkFxrAGNjY3HlyhWEh4fj+fPnSE1NRX5+PrS0tGBiYoJmzZrBzc0NHh4esLa2VnTMhBBCCCGkEiqUAIaGhmLv3r24desWGIaR2kGTl5eHuLg4xMXF4dKlS1izZg06duyI8ePHo2vXrgoNnBBCCCGEyKdcCeDz58+xZs0a3L17FwzDoHXr1nB3d0erVq1gZ2cHIyMj6OnpISsrCxkZGXj16hUePnyI27dv4/r167hx4wbatm2LxYsXw8HBoao/J0IIIYQQUopyJYDDhw+Hrq4uvvvuOwwbNgy2trYyrzMyMoKRkRFsbW3FW6xjYmJw7NgxHDhwAMOGDcOzZ88UFz0hhBBCCKmwciWA06dPx7fffgtDQ8MKP0GDBg0wf/58TJ06FTt27Kjw4wkhhBBCiGKVKwGcN29epZ/I0NBQIfchhBBCCCGVo5IngZw4cQKRkZF49uwZoqOjUVBQgFmzZsHb27vC97p79y62bNmCR48egc/no1GjRhgzZgxGjhxZBZETQgghhKg+hSeAN2/eRHR0NOrWrYvevXuDw+FU+B4BAQGIi4uDoaEhLCws8P79e7liOX/+PObOnQttbW0MGDAAurq6uHDhAn7++We8ePECS5Yskeu+hBBCCCE1mVwJ4OHDh7Fr1y6sWLECrq6u4vZFixYhODhY/LGLiwt27twJHo9XofuvWrUKNjY2qF+/Po4dO4ZFixZVOMasrCwsXboUXC4X+/btg6OjIwDAy8sLI0aMwJ49e9C3b1+4uLhU+N6EEEIIITWZXCeBnD9/HikpKWjVqpW47d69ezh+/DgMDAwwcuRINGzYEBERERIJYXl16NAB9evXlyc0sXPnziE9PR0DBw4UJ38AoK+vj++//x4AcPDgwUo9ByGEEEJITSTXCODr16/RpEkTiZG9M2fOgMViwd/fHx06dEBWVha6deuG4OBgpay3u3PnDgCgU6dOUn3FbeHh4dUaEyGE1BSC7DTkPLuJnKg74GckKzucWowBXyBCIV8EvkAIkUjZ8dQODIA8NpDFZSGTx0IWl40sLgtZXBZevU/Fp6xPqKNfR9lhKpVcCWBaWprU1Ondu3dhbGyMDh06ACgaaXNxcVFa3b+YmBgAkFmz0MzMDDo6OkhMTEReXh60tbVLvE9xPUNZEhISULdu3UrHSgghqkBUkIuc6HBkP72GvLePAYaykerABqD13x+wlBtLTSACkM1hI4Nb/IeDzP/+zuCykckp+reALfnFFBYKEPPvMyTeioGBqSGgr5z4VYVcCaCmpiby8/PFH2dnZ+P169dSyZKBgQEyMjIqF6GcsrOzARQlorLo6ekhNzcXWVlZpSaAhBBSmzFCPnJfP0D2k2vIfXkPjKBQ2SERNSYEkFWc2HE4XyV4n/8tYlUsU87+kIEXf0cgL6koNxDk8asg+ppFrgSwbt26ePToEUQiEdhsNq5evQqRSIR27dpJXJeeng4jIyNFxKk0ly9fLrGvtNFBQghRVQwjQn7sc2Q/uYGcqFsQ5WUrOySiBgSAzBG7DC4bmf/9O4vDBlPB5K40jIhB3NXXeH/2ORgho7D71gZyJYB9+vTBpk2bMGvWLLRr1w7btm0Dl8tFt27dJK579uwZbGxsFBJoRenp6QEo2g0sS1kjhIQQUtsUJr1D1pNryHl6A4LMT2Vez+JpQdfeDTpN3cDmaVZDhDWXQCjC+8RMvPyQgVexaUhOzy/7QV+wNNFBY2sjWJvrgc2Wa3+mUhUyAmQJ85AlykOmMLfob1EesoS5//2dh1ymoFpjKkjPw8sD95HxUvp7naXAJLOmkisBnDBhAk6ePImQkBCEhIQAAGbMmAErKyvxNREREUhJScGwYcMUE2kFNWjQAE+ePMG7d+/QokULib7k5GTk5ubC0tKSpn8JIbWaICMZ2U9vIPvpNRQmlaOmKpsDnUatodeiM3SatAVbQ6vqg6yhElNyEBGVhIioj3j06hMKCoUoWtFnWuZjdbV5aN3UDK4O5mhjbw5TQ9V8LWIYBnn8fKTkpSElNx2peelIFf+76O+UvDTkFOZWe2wcFhvG2kYw1TaCiY7x5791jPD4+gP4B6xHZkam1OOcnJyQk5NT7fGqGrkSQH19fRw7dkxcDqZFixZwd3eXuCYtLQ0TJ07EgAEDFBJoRbVr1w6nTp3CjRs3pGK4ceMGAMDNzU0ZoRFCSJUS5mUh5/ltZD+5hvzY5+V6jGZ9B+i36Axdxw7g6BhUcYQ1UwFfiCevPyHyv6QvLrliSUTj+oZwdrCAi4M57G2MweEod6SPYRhkF+ZIJXOpX/2dL6jekTsA4LG5kkmdthFMdYxhom0Ek//+baipLzVamp2djaVLl+LQoUNS92SxWPDy8oKPjw/69etXXZ+KypL7JBBtbW14enqW2N+zZ0/07NlT3tuXW15eHuLj46GtrS0xAtm3b1+sX78ep06dwsSJE8W1ALOysrBlyxYAwDfffFPl8RFCSHUQ8QuQ+/Iesp9cR+7r+4BIUOZjeHXqQ69FF+g17wyekXk1RFnzxCdn417UR0RGJeHx6xQU8oXlfqy+Dg9t7M3h4mCBNvZmMNavvtFUESNCZn4WUvKKRu1SctOk/k7JSwdfWP2bITQ5GjD9b6TORPvLvz8nfPoaunJN086YMQNXr16VareyssKmTZvQvn17BXwGtYPCj4LLzs5GTEwMLC0tUaeOfDV2jhw5goiICADAu3fvAACXLl1CXFwcAKBRo0b47rvvAACPHj3CxIkT4ebmhr1794rvoa+vj+XLl2PevHkYN26cxFFwcXFxmDBhgsQpJoQQUtMwIiHyYh4j+8l15ETfAVNY9rozjr4p9Jp3gl6LLtAwt6W1UF/JLxTg8atPiIhKQmRUEhJSyj/Kx2IBTayN4PLfKF9ja2Nw2Ir/+gpFQqTnZ0olc6lf/J2anwGhqPzJqqLo8rQlRu5M/puiLR69M9Uxhg5Pu8q+73x8fHD9+nUIhZ8/98GDB2PNmjU1flOqosmVAN6+fRvnz5/HN998I3HKxpEjR7B69WoUFBSAzWbj22+/hY+PT4XvHxERgePHj0u0RUVFISoqCkDR1G1xAliavn37wsTEBFu2bMGZM2cgEAhgZ2eHH374ASNGjKhwXIQQomwMw6Ag4TWyn1xDzrObEOakl/kYtpYudB3aQ69FZ2jZNAOLVfM2GVQVhmHwISlbvJbv6ZsU8AXlr39oqKfxeZSvqRkM9Sq3WYYv5CMtL6MosStea/dVgpeWnwGGqf4drfqaejKnZMUjd9pG0OIpd82os7Mz5s2bh/Xr10NPTw+rV6/G8OHD6Y2ODCxGju+iefPm4dKlS7h58yYMDIrWirx79w79+/eHSCSCjY0N4uPjIRAIsG3bNpmncdQGxWVgSisVQwghisBPjUfWk+vIeXod/NSEMq9ncXjQaeJatJnDzhksbsXOZK/N8goEePQyuSjpi05CUmr5NzCwWYC9rQmcHczh4mAOu3pGYJdzlK9AUChjGlZyzV1GgezKFVWJBRaMtAxgovPf+jptY5joFP1tqvN5JE+DUzO+hwQCAZYvX45p06bJPAwCoNdvQM4RwCdPnsDR0VGc/AFAcHAwhEIhfv75Z4wfPx7R0dEYPnw49u/fX2sTQEJI7SUqzIcgK1XJQQiR9/Yhsp9cR0HCq7KvZ7Gh3aAF9Jp3hq69O9haulUfYw3xPjET954XjfI9e5sCQQVqwhnpa8LZ3hyuDhZobW8GfR0NqWuKd8qm5sqekk3JS0d2YfXvPGWz2DDWNpRO6v7721TbGEbahuCyOdUem7wyMjKwa9cuzJo1CxyOdNxcLhcrV65UQmQ1i1wJYGpqqsTUL1B09q62tjZGjRoFALC3t0ebNm0QHR1d+SgJIaQaZdw7h5SLO8u1kUIVaFjaQa9FZ+g16wSuvrGyw1EpyWl5CDx8H/dflP88YzabBccGJnC2N4ezvRnMzXhIyy9K7MIS3kjvls1LRx6/YnX/FIHL5sJE21BiKvbzlGxRwmekaVAj6wqW5M6dO5g9ezbi4uLA4XAwa9YsZYdUY8mVAIpEIon5dD6fj6dPn8LZ2RkaGp/fGVlYWODRo0eVj5IQQqoJIxQg9cpelU/+uMaWRZs5mneGRp36yg5HJd14GIfNRx4iu8RjvxiAWwiWRj4MjESwrs+FsSnA0y5EZuFr3MxNx79haShUwk5ZDQ5PIpEzlbFbVl9TT23WtvH5fPj5+SEoKEi8/nHdunXo3LkzWrVqpeToaia5EkALCwu8efNG/PG9e/dQWFiItm3bSlyXn58PHR2dykVICCHVSJSfU67dtMrA1jGAXrNO0GvRGZpWTdTmxb+icvP5+DP4IUIevAZLIx9s43ywNL78UwD2f3+DVbThoxDAawBIqfr4tHlaUlOxX07JmugYQZenQ/+//3nz5g28vb3x4MEDiXaBQIAlS5bg5MmT9LWSg1wJoJubG44cOYK//voLHTt2REBAAFgsFjw8PCSue/nyJSwtLRURJyGEqCW2ps5/mzm6QLuhE1g1aK1WVREIBUjLz5BZwPhDejLi0j9BxMmHdhsl7JTV0C2xgHHx39pK3ilbUzAMgwMHDmDp0qXIy8uT6m/fvr04/yAVJ1cCOG3aNJw8eRLr16/H+vXrwTAMunTpgubNm4uveffuHd69e0fFlgkhNZ7N7O3g6CrpdAwWW61e4AqLd8rKKFqc9l+il5GfBQalJHdcoCq+YoZaBmWWQdHgSm8QIRWXmpqKBQsW4OzZs1J9PB4PCxYswIwZM2RuAiHlI1cCaGNjg4MHD2LXrl1ITU1FixYtMG3aNIlrbt68CQcHB3Tv3l0hgRJCiLKw2GwaeVOAfH6+zMTuy92yWUrYKctisWCiZSRea/f1mjsTHSOYaBmCy1H42QlEhmvXrmHu3Ln4+PGjVJ+dnR2CgoLg5OSkhMhqF7m/m+3t7bFmzZoS+8eOHYuxY8fKe3tCCCE1BMMwyOHninfFFk3NSpdByeVLT+NVNQ6L819CV9LInTEMtfTBoQRf6QoKCuDr64utW7fK7J8wYQKWLl1KewsUhN7OEEIIKRHDMMgqyP5i5C5NugxKbjoKhIXVHhuL4UBYoAmmUOuLP5pgCbTR29keo7o4wVjHAGw6+UTlRUdHw8vLC8+fP5fqMzExgZ+fH3r37q2EyGqvSiWAMTExOHToEB48eIDU1FT06NEDCxYsAAA8fPgQUVFR6Nevn0TBaEIIIapBJBIhvSBTIpGTVcBYoISSOFpczRLLoKSmAH//G4OUVAG+Xu1naaoDn/EucLA1qfaYifxWrFghM/nz8PCAv78/zM3NlRBV7SZ3Anjo0CGsWrUKfH5RfSQWi4W0tDRxf35+Pn755RdwOBw6d5cQQqqZQCREel7GF1Oy0iN3aXkZEDHlP/dWUfQ0dMVTskVTsdJlUHR42lKP4wtEOHAhCv+EvERRKTjJ5K9HW2t859kSOlo148gy8tlvv/2Gnj17IjMzEwCgqamJJUuWYMqUKbWqkLUqkSsBDA8Pxy+//AJ9fX34+PjAxcUFI0eOlLimbdu2MDAwQEhICCWAhBCiQIVCvniNXdFmCukp2fT8zNJ3ylYRQ019GZspJMugaMqxU/ZDUhb89kXg1YcMqT49bR68RrZCp1b1FPEpECWoV68efH19MXPmTDg6OiIoKAgODg7KDqtWkysB/Ouvv8DhcLB9+/YSd+Kw2Ww4Ojri9evXlQqQEFKzFCbHIj/2ORiRUGZ/jrAQT3KTkCuq/tMVyoMR8JFrKDn6FB1zGywN5dRuy+XnSe2WzSrIrvY4WCwWjLUMYaJtVOKZssbahuBxFDv6xjAMLoS9w7YTT1BQKP095dS4DuaNcUYdI+kRQ1KzDBkyBEKhEP3794eWFtVKrGpyJYAPHjyAk5NTmduwTU1N6Sg4QtRITnQ4Ph5bD5SQ/OWyWdhkbYJ0norvuDTTl/z4yQnlxFFNOCz2f4ldyQWMjbQMqn2nbEZ2AQIPP0DY00SpPi6HhQn9HOHZtTHYbPWpk1iTPXnyBOvWrcPmzZuhp6cn85phw4ZVc1TqS64EMDc3t1wLMnNycsRn9hFCajdBZgqST20uMfkDgNuG2qqf/NUyPA6vKIkrpYCxgZa+yu2UjYxOwsYDkUjLKpDqq2emhx/Hu6BxfaPqD4xUmEgkwtatW+Hr6ws+n49ly5bBz89P2WGpPbkSwDp16uDdu3dlXvfmzRs6Co4QNcAwIiSfDIQov+SpSQbAA32a1lEkTa4m6nyx1k7W1Kyehm6NOkmkkC/E7jPP8O+1NzL7+3VogG8HNYeWBlUxqwni4+Mxd+5c3Lx5U9x28OBBdOvWDQMHDlRiZESunyB3d3ecOHECYWFhcHd3l3nNpUuX8P79e4wbN65SARJCVF9G+CnkxTyWaOOZWIGjZyz++AOLj2ReusQ1tiIuuFVyaJdisLg88AzNwFLi8V4aHN5XI3ef19xp87RqVHJXlncJmVi/LwIxCZlSfYZ6Gpg9qg3cmtOgQk1x6tQpLFy4EOnp6VJ9+/btw4ABA2rV929NI1cCOHXqVJw6dQre3t5YvHgxevbsKe7j8/m4dOkSfvnlF2hqamLSpEkKC5YQonoKPsYg9co+iTaOvimsJq8BR/vzOp/LD44C0ZfEH5vpmuK3ASvpBYCAYRicvPEGu049A18gXZbG2cEcc79pA2MDGkGuCbKzs7F06VIcOnRIqo/FYsHLyws+Pj70s69kciWATZo0werVq7FkyRIsWrQIP//8M1gsFk6fPo2TJ09CKBSCw+HA19cXNjY2io6ZEKIiRIJCJJ0IAIRfFgpmwXywt0TyJ2JEuPn+nsRjO9q40gsAQVpmPjYeuo/IqCSpPh6XjW8HNceAjg3pe6WGiIyMhLe3N2JiYqT6rKysEBAQgA4dOlR/YESK3IsohgwZAnt7e/zxxx+4efMmsrOzUVhYCE1NTXTq1AleXl5o2bKlImMlhKiY1Cv7wE9+L9Fm2G4QtBtI/uxHJb9Cal66RFsnm7ZVHR5RceFPExFw6D4yc6SPkWtQ1wA/jnOBbV06SaomEAgECAwMhL+/P4RC6Y1ggwYNgq+vL4yMjKo/OCJTpVbROjg4ICAgAAzDIC0tDSKRCMbGxuBwaJcfIbVd7puHyAw/JdGmYd4AJl3HSl17491diY9tDevBxoiK9qqr/EIBdvz7FGdvx8jsH9LFDhP7O0KDdozXCLGxsfD29sbdu3el+nR1dbF69WqMGDGCRnFVjEK2UbFYLJiY0LmLhKgLYW4Wkk8GSbSxODyYe84BiytZCFggFOD2h0iJto62NPqnrl59SMf6vyMQlyy9Y9zEQBNzRzujjT2d+1pTHDt2DIsXL0ZWVpZUn4uLCwIDA2Fra6uEyEhZaB89IaRCGIZB8pk/IMxOlWg36TEBGmbSa34fJD5FTmGuRFtHG9cqjZGoHqGIQfDVV/j73HMIhNL1Ydu1sMSska1hqKephOiIvG7evCmV/HE4HMydOxezZ88Gl0tphqqS+3+Gz+fjzJkzCAsLQ1JSEgoLpddwAEWjg7t375Y7QEKIasl+dAW50WESbdqNWsPAtZ/M67+e/nWoYwczXdMqi4+onuS0PPgfiMTj15+k+jQ1OJg+pCV6u9vQFGENtGLFCty5c0e86cPW1habNm2Cqyu9yVN1ciWAqampmDx5Ml6+fFnmSR/0A02IYghzs5B++xj4qdLHYlWnvBjJ4x3Z2vowG+gFloyTJPL4+bgXL3l9J5r+VSvhTxOx4UAkcvKkz35ubG2EH8e5oJ6Z7GPBiOrT1dVFYGAgPD09MWzYMKxatarEY96IapErAVy/fj1evHiB+vXrY+zYsWjYsCF0dXUVHRsh5D8iQSES9v2CwqQYZYcixaz/D+Dqy14DfDfuIQqFn1/4OSw22lm7VFdoRMneJ2Zi7Z67KPyqth+LBYzo3gRj+ziAy1GtI+iIbAUFBdDUlD097+zsjJCQEDRu3LiaoyKVIVcCGBoaChMTExw+fJg2fxBSDdKu7FPJ5E+/VQ/oOsg+DQgAbr6XnP5tZdkMBpo0OqAuztyKkUr+zIy1MX+MM1rY1VFSVKQiGIbBgQMH4Ofnh3///Rf16snevU/JX80j11uvrKwsODs7U/JHSDXIffMQGV+VW1EFPDNrmPaaUmJ/Zn4WHiY+l2ij6V/1IRCKcONhnESbWzNLbPLpRslfDZGamorp06fjp59+QmJiIubMmSOzxh+pmeQaAbSxsYFAICj7QkJIpZRUbsWww1Cw2MqrkcbRNYSuYwewNbVLvOZWbAREzOfRH02OBlytnKojPKICHr5MRka25ObAaUNaQE+bV8IjiCq5du0a5s2bh8TEz2uOb9++jT/++AOzZs1SYmREUeRKAEeMGIGAgAB8/PgRFhYWio6JEIKiqZdPZ7fILLdi2HaAkqIqv5tf7f51recELR6d5aourkZ+kPjY3sYYdevQWnFVV1BQAF9fX2zdulVm/5cJIanZ5JoCnjRpEnr06IFJkybh5s2bEImkD+8mhFRO9qMryIm6I9Gm3ahVieVWVElS9idEp7yRaOts66akaEh1yy8U4M7jBIm2rs71lRQNKa/o6GgMGDBAZvJnYmKCnTt3YtWqVUqIjFQFuUYAe/bsCQCIj4/HtGnTwOVyYWZmJrPkC4vFwqVLlyoXJSFqhp+WiE8X/pJoKyq3MktmuRVVc/P9PYmP9TV04WTZTEnRkOp29+lH5Bd+XivGZgGdWlspMSJSGoZhsHPnTqxevRr5+flS/R4eHvD394e5OZ3QUpvIlQDGxUku7OXz+YiPj5d5LdUBJKRiGJEQSf9uAlMo+YvYrP/3JZZbUTU3vtr9287aGVwlrlkk1Sv0vuT0b6smZjDWp+l/VZScnIz58+cjJCREqk9TUxNLlizBlClTwGar/htPUjFyJYCXL19WdByEkP+k3zqOgg/REm36rbpD16GdkiKqmHfpHxCbIfmGkHb/qo+s3EJERH2UaKPpX9V08eJF+Pj4ICUlRarP0dERgYGBcHR0VEJkpDrIlQCWVAeIEFI5+XEvkXbtkEQb19gSpr2/VVJEFff10W+mOsawr2OnpGhIdbv5MF7irF8el432LesqMSIiy9KlS/HXX3/J7Js2bRoWLVoELS0ata3N6JRmQlSEqDAPSSc2Al+UTgGLDfMhc8DWKLnciioRMSKp9X+dbNqCXQPWLRLF+Hr6162ZJXS0qPSLqpG1ns/c3Bz+/v7w8PCo/oBItatUApiZmYl///0XDx48QFpaGtq1a4fp06cDAN6+fYu4uDi4urrSuwii9gQiIXZFHsadD5ESR6N9iRHwwRgLAOPPRXJZHB5Yd36vrjArjQFQICiQaKPpX/WRnJaHp28kpxNp+lc1/fDDD7h69Spu374NAOjTpw/WrVsHU1NTJUdGqovcCeDVq1exYMECZGVlgWEYsFgsiXcUMTExmDlzJtavX48BA1S/ZhkhVel6TBguvL5W9oVfL7RmhICg5lbetzaoCxtDWjKiLq4/iAPzefYXulpcuDrSzlFVxOFwEBAQgMGDB2PevHkYN24cbdpUM3LNy0RFRcHb2xu5ubkYN24cNm7cCObLn3oAnTp1gra2NpWAIQSQ2hShLjrZutGLihr5evq3g5MVeFza/a1Mr169KrGvXr16uHnzJsaPH08/p2pIrhHALVu2QCAQ4I8//ihxrQCPx0OzZs0QHR0ts58QUrs1NmmAAU27KzsMUk1iP2bhTVyGRBtN/ypPTk4Oli5diiNHjuD48eNwcXGReR0t0VJfciWA9+7dQ/PmzctcKGphYUEJICEyONdtgeHN+yP7+W1k3Dkh0adl2xwm3Wr2O3Jtnhbq6VvW6M+BVEzoV0e/mRhoooVdnRKuJlUpMjIS3t7eiImJAQDMnj0b58+fh56ennIDIypFrgQwPT0dbduWvbC7oKAAhYWFZV5HiLox0NKHLcND3M2TMBQIxO0cPWPUHzAXHB0DJUZHSMUwDCM1/dulTX1w2PQGoDoJhUIEBgZiw4YNEAo/rx2OiYnB0qVLsWHDBiVGR1SNXAmgsbFxiSd/fCkmJgZmZmbyPAUhtRsjQlLwRjACyTdIZgO9KPkjNc6L92lITMmVaOvahqZ/q1NsbCy8vb1x9+5dqT49PT20b99eCVERVSbXJpA2bdrgyZMniIqKKvGau3fv4tWrV+UaKSRE3RQkvkXhx7cSbQZt+0PHro2SIiJEfqH3JY8HrWemC7v6hkqKRv0cO3YMvXr1kpn8ubq64uLFixg5cqQSIiOqTK4EcNKkSRCJRPDy8pL5Dffo0SMsWrQIHA4HEydOrHSQhNQ2hUnvJD7mmVnDpNt4JUVDiPyEQhGuP5BMALu2qU/rP6tBRkYGvLy84O3tjaysLIk+DoeDH3/8EUePHoWNjY2SIiSqTK4pYBcXF8ybNw8bNmzAxIkTYWxsDBaLhStXrqBbt25ITEwEwzD46aef6BxBQsrC4cJ8yFyweZrKjoSQCnv46hPSsySLf3eh3b9VLiwsDN7e3oiLi5Pqs7W1xaZNm+Dq6qqEyEhNIXch6O+++w5NmzZFUFAQnjx5AqBoc0h6ejqaNGmCOXPmoGfPngoLlJDaysRjLDQtGig7DELk8vXu38bWRqhnRrtNqwqfz4efnx82b94MkUgk1T9q1CisXLmSdvySMlXqKDgPDw94eHggLS0NHz58gEgkgqWlJSwsLBQVHyEqQ5CdDkFGkpyPTZPZrmXbAobugyoTFlFjAqEIMfGZEMpIBKqDSATcfpwg0eZBo39VasqUKbhy5YpUu6GhIXx9fTF48GAlREVqokolgMWMjY1hbGysiFsRopLSbx1D6pV9cj8+21QPMNaRaGNr6cJ8sDdYLLmW4hI1xjAMLoS9x65TT5GdJ/tsaWVgsYDOrenov6o0ZswYqQSwffv2CAgIQL169LUn5SfXK4+joyMWL15c5nU///wzmjVrJs9TEKIyGAEfadePKPy+dfrNANeACuWSisnMKcSa3XcRdOSBSiV/AODUuA5MDOhkiao0YMAAjB49GkDRiVtLlizBoUOHKPkjFSbXCCDDMFJn/5Z2LSE1maggV6peX2XxjC2h16yjQu9Jar8HL5Lgf+A+UjPzlR2KTL3cbJUdglpYsWIFkpOT8eOPP8LJyUnZ4ZAaSiFTwCXJzc0Fl1ulT0GIUrB4mkXzXeW9nsOR+Firnr2iQyK1GF8gxJ4zzxEc+lpmv7YmR2Z7ddHW5KFHW2t0aUOjUIqQn5+PM2fOYNiwYTL7dXV1sWfPnmqOitQ2VZKdiUQivH79Gnfu3IGlpWVVPAUhSmXj9Qc4uuUvdGt4/x/gxeXPDRzlvmCTmuNdYibW/x2BmIRMqT4DXQ3M+aYN3JrT79naIjo6Gl5eXnj+/DnYbDY8PT2VHRKppcqdAH5dzy84OBjBwcFlPm7IkCEVDooQQtQdwzA4ffMtdp58ikKB9C5fZ3tzzB3dBsa05q5WYBgGO3fuxKpVq1BQUFRXcdGiRXB1dUX9+rSzmiheuRPAL9fysVisUtf2cblcWFhYoFevXpg7d26lAiSEEHWTlpWPTYce4N7zj1J9PC4bkwc2w8COjcBm02kbtUFSUhJ8fHwQEhIi0Z6ZmYmffvoJBw4cUFJkpDYrdwL45bm/Dg4OGDp0KNasWVMlQRU/X1BQEO7evYu8vDxYW1tj6NChmDx5crnXFQqFQpw+fRoHDx7Eu3fvkJ2dDUtLSzg7O+Pbb79FkyZNqix+QgiRR/izRGw6dB8Z2dIbjxrUNcCP41xgW9dACZGRqnDx4kX4+PggJSVFqs/R0RFLly5VQlREHci1BnDNmjVVerZgZGQkpkyZAqFQiH79+sHc3ByhoaFYt24d7t+/j6CgoHKdM+nj44OzZ8/C0tISvXr1gq6uLl6+fIng4GCcPHkS27ZtQ/v27avs8yCEkPLKLxRgx8mnOHsrRmb/4C6NMKl/M2jwaP1obZCXl4cVK1aUuJlj2rRpWLRoEbS0aIqfVA25EsChQ4cqOg4xoVCIxYsXIz8/H1u3bkXXrl0BAHPmzMGUKVNw6dIlnDx5ssxq548ePcLZs2fRpEkTHDlyBNra2uK+4OBgLFy4EH/88QclgIQQpXv9IR3r90XgQ1K2VJ+xvibmjnGGs725EiIjVeHJkyfw8vLCq1evpPrMzc2xceNG8WsfIVWlUkcQxMTEYO3atRgzZgz69OmD3377Tdz38OFDHDp0CJmZ0jvXShMWFoa3b9/C3d1d4gdAQ0MDc+bMAQAcPHiwzPt8+FB0PmW7du0kkj8A4jOK09JkH89FCCHVQSRicOzKK/y46ZrM5M+9uSUCf+xGyV8tIRKJsGXLFgwcOFBm8tenTx9cvnyZkj9SLeQuA3Po0CGsWrUKfH5RJXoWiyWRUOXn5+OXX34Bh8PBiBEjyn3fsLAwAECnTp2k+lxcXKCjo4MHDx6gsLAQGhoaJd6ncePG4vvl5+dLDKMXH6NDo3+kmCArDTnRYRDlS78IM3zVLLpLarZP6XnwPxCJR68+SfVpanAwfUgL9Ha3LddyF6L6EhISMGfOHNy8eVOqT1tbG8uXL8fYsWPp/5tUG7kSwPDwcPzyyy/Q19eHj48PXFxcMHLkSIlr2rZtCwMDA4SEhFQoAXz79i0AwNZWuqI8h8NB/fr18eLFC8TGxsLOzq7E+zRt2hSTJk3C7t270a9fP3h4eEBXVxevXr3C9evXMWDAANqhTAAAwvwcxO36H4SZ0i/EiiAQCZGQnVQl9yY1082H8SUe5da4viF8xrmgvrm+EiIjVYFhGHz//fe4d++eVJ+TkxMCAwPFgxaEVBe5EsC//voLHA4H27dvL/EYGjabDUdHR7x+LbtyfUmys4tGYPT1Zf/y09XVBYByTS0vXrwYtra2WLt2Lfbv3y9ub9asGYYMGQIdHZ0y79GjR48S+xISElC3bt0y70FUW/77ZxVP/jjl+9FJyErCpjs78Dr1nUQ7l0UL+dVRbj4f24Kf4NLd91J9LBYwonsTjOntAB63UqtziIphsVhYuXIlBg0aBIFAIG7z8vKCj49PqbNZhFQVuX7LPHjwAE5OTmWeQWhqaork5GS5AqsshmGwcuVKrF69GrNmzUJoaCgiIyOxb98+sNlsfPfdd9i3b59SYiOqhSms2BSvhqUdOFq6pd+TYRDy5iYWXPhVKvkDgBYWDhV6TlLzRb9LxdwNoTKTvzpG2lj9Q0dM7N+Mkr9aysnJCQsWLAAAWFlZ4ciRI1i0aBElf0Rp5BoBzM3Nhbl52YuSc3JySi0YLYuenh4AICsrq8R7AoCBQel1sI4fP46///4bkydPxnfffSdud3V1xZYtW9CzZ0+sX78enp6e4lFFWS5fvlxiX2mjg6TmYmloQ7tBS5l9PGNLGLoPKvXxWQXZ+PPePoR/eCDVx2GxMcbJEx1sXBQRKqkBhEIRjoS8xIEL0RCJpH8fdm5dDzOHO0FPhxKB2u7777+HQCDApEmTYGRkpOxwiJqTKwGsU6cO3r2THtX42ps3byp8FnDDhg0BQOb9hUIhPnz4AA6HA2tr61Lvc/XqVQCAu7u7VJ+ZmRkaNWqEZ8+e4e3bt2jRokWFYiS1G8/IHJYjF8r12EeJz7E5fDfS8jKk+urqm2NOu2/RyER6fSupnRJTcrBhfySex6RK9WlrcvH9MCd0c6lPC/9riffv32Pbtm1YtmyZzAMLOByOuJoFIcom11yDu7s7oqKixDt2Zbl06RLev3+PDh06VPjeAHDjxg2pvoiICOTm5qJ169ZlDpsXFhZV0U9Nlf7F+2U7j8erUHyEyMIX8rHnwVGsCt0kM/nradcZa3svpuRPjVyJiMVsv6sykz8HW2Ns8vFAd1drSv5qAYZhcPToUfTq1Qs7duxAYGCgskMipExyJYBTp04Fh8OBt7c3goODxRs3AIDP5+Ps2bNYsmQJNDU1MWnSpArd293dHQ0aNEBYWBhCQ0PF7YWFhQgICAAAjB49Wtyel5eH169fIz4+XuI+Li5FU2y7du2Smk4+cOAAEhMTYWZmRjuvSKXFZsRj8aXfcCr6klSfvoYufur0Pb5zHQstrqYSoiPVLTuPj3V/38OG/ZHIKxBI9LHZLIztbQ9fr06wNC19HSmpGTIyMuDl5YXZs2eLXwv9/f0RERGh5MgIKR2Lqegivf+cOHECS5YsgVAoBIfDgVAoBI/Hg0gkErf5+vpi4MCBFb53ZGQkJk+eDJFIhP79+8PMzAyhoaF4+fIlevbsKXEUXFhYGCZOnAg3Nzfs3btXfI+cnByMGTMG0dHRMDU1Rffu3aGvr49nz57hzp074HA42LhxI3r37i3Ppw/g8xrA0tYJEtWX/eQ6kk5sFH+sYW6L+tM3lPk4hmFw/lUo9j48Br5QupxHK0tHzHSbBGNtQ0WGS1TYk9efsOFAJJLT8qT6LE114DPWBQ4NTJQQGakKd+7cwezZsxEXFyfV16VLFxw4cEAJUZHyoNfvShSCHjJkCOzt7fHHH3/g5s2byM7ORmFhITQ1NdGpUyd4eXmhZUvZC+nL4uzsjMOHDyMwMBChoaHIzc2FtbU1fvrpJ0yePLlcUya6uro4cOAAdu7ciYsXL+LUqVPg8/kwNjZG3759MXXq1DJ3MRNSkvT8TPwRvhf3E55I9fHYXIxrNRR9m3iAzaIdnepAIBRh//ko/BPyErLeUnd3tcaMoS2ho0VLTmoDPp8PPz8/BAUFydzoOGrUKKxcuVIJkRFSfnKPAH6JYRikpaVBJBLB2NgYHI561DijdxC1Q0VHACPjH+P38D3ILJA+NcTa0Apz2n0LG6N6VREqUUHxydlYty8Cr2LTpfp0tXnwGtEKnVvT90Nt8fr1a3h7e+Phw4dSfYaGhli7di0GDSq9UgBRPnr9rsQI4JdYLBZMTGhag9RuhYJC7H14DOdfhcrs79+kG8a2GgoNDo3yqAOGYXAh7D22nXiMgkKhVH9LuzqYN8YZZsbaMh5NahqGYbB//34sW7YMeXnSU/zt27dHQEAA6tWjZJ/UDApJAEnt9Sb1Hf6NvoR0GTtbVQUjFECQlQJRgfQv5XIRCiCqZyT+kM0rgGaI9Ahgck4KknOld3QaaRlgptsktK7bTL7nJzVOfqEAG/ZH4vbjBKk+DpuFCf0c4enRGBw27fCtDVJTU/HTTz/h3LlzUn08Hg8LFizAjBkz1Gb2i9QO5UoAFy1aJPcTsFgs/Prrr3I/nihPoZCPlVcDkMOXM7GqbvIut2MD4H1ZVkgEJL8s10NdrZzwfdvxMNCic1vVye5Tz2Qmf/XM9PDjOBc0tjaq/qBIlbh27Rrmzp2Ljx8/SvXZ2dlh8+bNcq93J0SZypUAHj9+XO4noASw5orNiK85yV810+DwMKn1SPS060R13NTQMxm1/fq1b4BvBzWHliZNrNQWDMPgjz/+kJn8TZgwAcuWLYO2Nk3xk5qpXL+p1qxZU9VxEBUkYkTKDkElNTS2xux236KeQcVOuSG1x9dHuk3s74iRPZoqKRpSVVgsFjZs2ICePXsiPT0dAGBiYgI/P79KlRAjRBWUKwEcOnRoVcdBagAum4uJrYcrLwBGhNy3j5H36h5k1drgmdtCw7RyC7C5RubgGtQpsb++gSUczZqAw6a1PuQzM2MdZYdAqkjdunWxfv16TJs2DR4eHvD394e5ubmywyKk0miugpQbl81B3yYeSnluQUYykv7dhPz3z6T6WDwtmPb+FvqtutN0LCFELgzDlPj7o1+/fjhw4AA6deoENptqe5LaodIJYEJCAiIiIpCYmAgAsLCwgIuLC6ysrCodHCEAkP3sJj6d2QJRQa5Un6ZVE5gPmQ2eCX2/EULkc/HiRQQEBGD//v0wMDCQeU2XLl2qOSpCqpbcCWBycjJWrlyJS5cuSVVCZ7FY6N69O/7v//4PFhYWlQ6SqCdRQS4+nd+O7Mcy6u6x2DDqMAzGnUeCxaGBbEJIxeXl5WHFihXYs2cPAGDJkiUIDAxUclSEVA+5XjlTU1MxevRoxMXFgcvlws3NTVz8Mi4uDnfv3sWlS5fw/PlzHD58GKampgoNmtR++R+ikHQiAIL0JKk+rqEZzIfMgZa1oxIiI4TUBk+ePIGXlxdevXolbjt27Bi6d+9O696JWpArAdy4cSPi4uLQrVs3LFu2DJaWkrshP378iOXLlyMkJASbNm3C8uXLFRIsqf0YkRBpN/5B+o1/ABm7kPVadEGdPtPA1tJVQnSEkJpOJBJh69at8PX1BZ/Pl+q/evUqJYBELci1mvXKlSswMzNDQECAVPIHFK0D3LhxI8zMzBASElLpIIl64KclIn7Pz0i/flgq+WNp6sB8yFyYD5lDyR8hRC7x8fEYPXo0Vq5cKZX8aWtrY+3atdi4caNygiOkmsk1ApiRkYGePXtCQ0OjxGs0NDTg6uqq1gctqxNGJH0WakVkP7mGT+e3gynMl+rTsnaE2eDZ4BlR6YXaQiRipNYOE1KVTp06hYULF4rr+X3JyckJgYGBaNy4cfUHRoiSyJUAWllZITs7u8zrcnJyaDdwLZf/IQpJ/wZCkJao+JuzOTDu8g2M2nuCRXX3aoXod6k4euUVIqKSUMiv3JsGQsojOzsbS5cuxaFDh6T6WCwWvLy84OPjU+qABiG1kVwJoKenJ/744w+8e/cOtra2Mq959+4d7ty5g++//75SARLVJchKReJhX4jyshR+b66xJcyHzIVWvSYKvzepXgzD4MGLZPwT8hKPXn1SdjhEjURERGD27NmIiYmR6rOyssKmTZvQvn376g+MEBUgVwI4ffp0PHnyBOPHj4eXlxcGDhwIPT09AEWjfqdOncLmzZvRpUsXzJgxQ6EBE9XAMCIknwqqkuRPv1UPmPaeArYGnbFZk4lEDG4/ScA/l1/g1YcMZYdTpcyM6HtVlTAMg40bN8Lf3x9CofRI8+DBg7FmzRoYGRlVf3CEqAi5EsDevXuDYRgkJydj+fLlWL58ubh4ZmZmpvi6Z8+eSZ2XyGKxcOnSpUqETFRB5r1zyHvzUKH35BrUgWmvKdB1aKfQ+5LqxReIEBoZi39CXiEuueylIjVd1zb14dDARNlhkC+wWCx8/PhRKvnT09PD6tWrMXz4cDo1iKg9uRLAuLg48b+LF3JnZEi/w4+Pj5dqox+6mq8w+T1SL++RaOPomcBy9BKwuPKto2Gx2eAaWdD3Rw2WXyjAhbB3OH71NT6l55V4nYmBFjy72sHV0QJsds3+/9bT5sFQT1PZYRAZli1bhlu3buH169cAAFdXVwQGBsLGxkbJkRGiGuRKAGlnr/piBHwkBQeAEUqWUDAbNAuaFg2UExRRquzcQpy++Rb/Xn+DzJzCEq+rW0cXw7s1RndXa/C4tKmHVC1tbW1s3rwZnp6emDVrFry9vcHl0qlBhBST66eh+NQPon5SQw+gMClGos3AbSB0GrVSTkBEaVIz83Ei9DXO3n6LvIKSd/Q2tDLAyO5N0aGVFTg1fMSPqJ60tDQYGxvL7GvZsiXCwsJQp06dao6KENVHb4dI+YlEyLjzr0QTz8wGJt3GKSkgogyJKTk4euUVLt99D75A+rSWYs0bmWJE9yZwcTCnqX2icHw+H35+ftizZw/Onj1bYkUKSv4IkY0SQFJujKAQwBfFezncopM55Fz3R2qWt/EZ+CfkJW48iIOolBrOro4WGNG9CZo3ojPASdV48+YNZs2ahYcPizaieXt749ixYzTFS0gFyP3T8vbtW2zbtg3h4eFISkqSeaYiULTp49mzZ3IHSFQHA8lXfZNu42ndnxp4/jYVR0Je4O6zjyVew2YBnVrVw4geTdDQyrAaoyPqhGEYHDhwAEuXLkVe3ueNRhEREQgMDMS8efOUGB0hNYtcCeDDhw8xefJk5Ofnl3mcEx33VDtpN2gJQ7cByg6DVBGGYRAZnYQjl1/i6ZuUEq/jctjo0dYaw7o1hlUdvWqMkKib1NRULFiwAGfPnpXq43K50NamWoyEVIRcCeBvv/2GvLw8DBw4ENOmTYONjQ10dHQUHRtRUWwtPZgN8gaLxVZ2KETBRCIGtx7H48jll3gTV3LxZi0NDvq2bwDPrnYwNaQXXlK1rl27hrlz5+LjR+lRaDs7OwQFBcHJyUkJkRFSc8mVAD59+hRNmjTB+vXrFR0PqQHq9P8eXANa31XbCEUM1u29h5uPpOt3FtPX0cCgzo0wsFND6OvQ2k9StQoKCuDr64utW7fK7J8wYQKWLl1KAxCEyEGuBFBbWxtNmzZVdCxExQiz06Ta9Jw8oOdIZ2fWRseuvCwx+TM11MJQj8bo424LLU1aaE+qXnR0NLy8vPD8+XOpPhMTE/j5+UmdNEUIKT+5fpO7urqKq6uT2ksodc4vC3V6T1VKLKRqvYpNx75zUVLt9cx0MbxbE3i4WIPHpSl/UvUYhsHOnTuxevVq5OfnS/V7eHjA398f5ubmSoiOkNpDrgRw1qxZGD16NPbt24dx46gGnDpha9JUS22TXyjA+n0REH5R24XNAuaMdkZX5/pUvJlUG4ZhMH36dJkbPTQ1NbFkyRJMmTIFbDa9GSGksuRKAO3t7bFz507Mnz8fZ86cQceOHWFpaVniD6Wnp2dlYiSEVKEdJ58iLjlbom1kj6bo7mqtpIiIumKxWGjbtq1UAujo6IjAwEA4OjoqKTJCah+5F/OEhYUhPT0dCQkJiIyMLPVaSgAJUU13nyXi7K0YibbG1kYY3dteOQERtTd9+nRcuXIF169fBwBMmzYNixYtgpaWlpIjI6R2kSsB3Lt3L/z9/QEUvTOztraGrq6uQgMjhFSt9KwCbDr0QKJNU4ODH8e5gMuhKTaiHGw2Gxs3bsS4ceOwdOlSdO3aVdkhEVIryZUA/v333+DxePjzzz/RoUMHRcdECKliDMNg0+H7SM8ukGifNrgF6plRQWdStUQiESIiItC2bVuZ/ZaWlrh48SKt9SOkCsn105WQkAA3NzdK/gipoc7deSd1tJtbM0v0aWerpIiIuoiPj8fo0aMxbNgwhIeHl3gdJX+EVC25fsLMzc2hp0ejBITURB+SsrD9xBOJNiM9TXiPag0Wi3b8kqpz6tQp9OrVCzdv3oRIJIK3tzcyMzOVHRYhakmuBLBfv34IDw+XOIybEKL6BEIR/PZFoJAvlGifM7oNjPQ1lRQVqe2ys7Mxf/58zJgxA+np6eL2Dx8+4Oeff1ZeYISoMbkSwFmzZqFBgwb4/vvv8e7dO0XHRAipIvvPR+HVB8kzfvt3aABXRwslRURqu8jISPTp0weHDh2S6rOyssLo0aOVEBUhRK5NINOnTwdQVAqmf//+sLKygqWlpczpIxaLhd27d1cuSkJIpT19k4KjIS8l2uqb62HKoOZKiojUZgKBAIGBgfD394dQKJTqHzx4MNasWQMjI6PqD44QIl8C+OXCXaFQiNjYWMTGxsq8ltYUEaJ8OXl8bNgfgS8O+wCHzYLPOBdoadDZvkSx3r9/j9mzZ+Pu3btSfXp6eli9ejWGDx9Orw+EKJFcv/n37Nmj6DgIIVXoz+OPkJQmuWZ3XF8HNK5vpJyASK3EMAyOHTuGxYsXIzs7W6rfxcUFgYGBsLWl3eaEKJtcCaCbm5ui4yCEVJHr9+NwJeKDRFvzRqYY1q2JkiIitVFGRgYWL16M4OBgqT4Oh4O5c+di9uzZ4HJpxJkQVUA/iYTUYslpedh89KFEm44WF/PHOIPDpuk3ohgMw2DMmDF4+PChVJ+NjQ0CAwPh6uqqhMgIISWpdAIYGRmJu3fv4uPHoqKyFhYWaNu2LZydnSsdHCFEfiIRg40HI5GTx5do/2GYE8xNdJQUFamNWCwW5s6diylTpki0jxw5EitXroS+vr6SIiOElETuBDA2NhY//vgjHj16BKDoHSDwedNHq1atsG7dOlhbWysgTEJIRZ249hqPXn2SaOvSph48XOhnkihe7969MWHCBOzduxeGhobw9fXF4MGDlR0WIaQEciWAaWlpmDhxIhISEqCvr49evXqJE73Y2FhcunQJDx48wKRJk3D06FEYGxsrNGhCSOnexmdgz5nnEm11jLTxwzAnJUVE1MGyZcvA5/Mxf/581KtXT9nhEEJKIVcCuG3bNiQkJGDQoEFYunSp1PD+4sWLsXz5cpw8eRLbt2/HTz/9pJBgCSFlK+ALsX5fBARCkbiNxQLmj3GGno6GEiMjNV1qaiqOHj2KadOmySzhoq2tDT8/PyVERgipKLlOAgkJCYGlpSV+/fVXmWs79PT08Ouvv8LS0hKXLl2qdJCEkPLbffoZ3idmSbQN82iMlo3rKCkiUhtcu3YNvXr1wi+//IJ//vlH2eEQQipJrgQwPj4ezs7O4PF4JV7D4/Hg7OyMhIQEuYMjhFRMZFQSTl5/I9HWyMoQ4/o6KCkiUtMVFBRg+fLlGDNmDBITEwEAS5YsoWNACanh5JoC1tTUlFnk82vZ2dnQ0KApJ2VhBHykXt2PvHdPAJH0UUxlSWXyAcMqCIxUiYzsAmw8GCnRpsFlw2ecM3hcjpKiIjVZdHQ0vLy88Py55HrSnJwcLFu2DLt27VJOYISQSpMrAWzSpAnCwsIQGxtb4i7f2NhYhIWFoUWLFpUKkMgvNXQ/MsL+lfvxQk0uYGiiwIhIVTp5/Q3Ssgok2qYMag4bSwMlRURqKoZhsGvXLqxatQr5+flS/R4eHli7dq0SIiOEKIpcU8AjRoxAQUEBJk2ahNOnT4tLwABFvzhOnTqFSZMmobCwECNGjFBYsKT8GAEfWfcVu/6SygartucxqRIfO9ubY0DHhkqKhtRUycnJmDhxIn7++Wep5E9TUxMrVqzA3r17YWFhoaQICSGKINcI4NChQ3Ht2jWcO3cOP/74IxYtWoS6desCABISEsDn88EwDPr164ehQ4cqNGBSPrmvIyEqyFXsTTl0cIwqE33xRgwA3JpZyNypSUhJLl68CB8fH6SkpEj1OTo6IjAwEI6OjkqIjBCiaHK9orNYLGzcuBF///03du7cibi4OIkFwfXr18fkyZMxbtw4hQVKKib76XWJjzUsGsKo3ZAK3SMr9xPw9oL4YxYlgITUSnl5eVixYgX27Nkjs3/atGlYtGgRtLS0qjkyQkhVqdQr+vjx4zF+/Hh8/PhR4ig4mhpQLlFBLnJfRki0GTj3hl6LzhW6j07KW4kEkBBS+zx58gReXl549eqVVJ+5uTn8/f3h4eFR/YERQqqUQoZ0KOlTLTnRYWAEhZ8b2BzoOrRXXkCEEJXEMAx8fHxkJn99+vTBunXrYGpqqoTICCFVTa5NIIWFhYiPjy+1FEx2djbi4+NRWFhY4jWkanw9/avTqDU4OnQYOyFEEovFwoYNGyTKdWlra2Pt2rX466+/KPkjpBaTKwHctWsXevTogWfPnpV4zbNnz9CjRw/s27dP7uCioqIwa9YsuLu7w8nJCQMGDMD27dshEAgqfK+TJ09i4sSJcHNzQ8uWLdG9e3fMnj0bb9++lTs+VSTITkfe28cSbXotuigpGkKIqmvevDn+97//AQCcnJxw7tw5jB8/njYQEVLLyTUFHBISgrp168LNza3Ea9zc3FC3bl1cvHgRU6ZMqfBzREZGYsqUKRAKhejXrx/Mzc0RGhqKdevW4f79+wgKCirXLyg+nw8fHx+cP38ednZ2GDRoELS1tZGUlISIiAjExMSgYcPaUyoj5/ktgPniDFieFnSauCoxIkKIqps+fTr09PQwcuRIKt5PiJqQKwGMjY1Fs2bNyrzOzs5OqoJ8eQiFQixevBj5+fnYunUrunbtCgCYM2cOpkyZgkuXLuHkyZMYPHhwmfcKCAjA+fPnMWvWLMyaNUsqaeTz+RWOT5V9Pf2ra+8Gtgbt3CNEnUVGRmL79u0ICAiQeYQnm82mqg2EqBm5poAzMzNhYFD26QIGBgbIyMio8P3DwsLw9u1buLu7i5M/ANDQ0MCcOXMAAAcPHizzPklJSdi1axfatGkDb29vmSOGpZ1nXNPw0xJREPdCok2veSclRUMIUTahUIiNGzfC09MTJ06cgL+/v7JDIoSoCLlGAE1MTMq1du7t27cwNKz4YbJhYWEAgE6dpJMXFxcX6Ojo4MGDBygsLCx1uuLChQvg8/no378/8vLycOXKFcTGxsLAwADu7u5o1KhRhWNTZdlPb0h8zNYxgHbDVkqKhlS3r+pAEzUXGxsLb29v3L17V9wWGBiIrl27wt3dXYmREUJUgVwJYJs2bXD+/HmEhYWV+IskLCwMz549Q+/evSt8/+Lk0tbWVqqPw+Ggfv36ePHiBWJjY2FnZ1fifR4/LtoMkZOTg759+yIxMVHcx2KxMGrUKCxbtgwcDqfEe/To0aPEvoSEBPEJKMrGMAyyn1yTaNNz7FCp4s1xmYllX0SUji8QYs+Z53j6Rvr0BqKejh07hsWLFyMrK0uiXSQSYdeuXZQAEkLkmwKeMGECGIbB7Nmz8e+//0IoFIr7hEIhTp48idmzZ4PFYmHChAkVvn9xeRl9fdmlS3R1dQEUTUWXpvg4o8DAQDRs2BD//vsvIiMjsWfPHtja2uLQoUMICgqqcHyqqPBjDPgpcRJtes0rVvj5Sym5adj94B+Jtnr6lnLfj1SN94mZ8Am4huDQ11J9ZiY6SoiIKFNGRga8vLzg7e0tlfxxOBz4+PggMDBQSdERQlSJXMNDLi4u8Pb2RmBgIBYuXIhly5ahfv36AIAPHz4gPz8fDMPAy8sLbdu2VWjAFcH8NydmZGSEoKAg6OnpAQDc3d2xadMmeHp6YteuXfjhhx9KnEq+fPlyifcvbXSwun29+YNraAbN+k3lupeIEeH38N3IKZQ8S3iAfXe54yOKxTAMztx8ix0nn6JQIJLqb9+yLlzszZUQGVGWsLAweHt7Iy4uTqrP1tYWmzZtgqsrVQQghBSRe37Qy8sLjRs3xubNm/HixQu8fPlS3Ne0aVPMnDkTffv2levexYna1+9gi+Xk5ABAmRtRikcQ27VrJ75nMXt7e9SvXx/v37/Hmzdv4ODgIFesqoBhRFLr//SadwKLJdcAL868CMHjj9ESbR1sXNHRRnnJPPksLSsfmw49wL3nH6X6eFw2Jg9ohoGdGoHNpjpu6oDP58PPzw+bN2+GSCT9ZmDkyJFYtWqV1O9AQoh6q9RRcH369EGfPn2QnJyMhIQEAEDdunVhZmZWqaCK6/K9e/dOqk8oFOLDhw/gcDiwtrYu131KmkouTiDz8/MrE67S5cc+hzBLcv2XXnP5ij+/S/+A/Y9OSLSZ6hhjmstoKgyrAu49/4iAg/eRnl0g1WdrqY8fx7uiQd2yd+iT2uHNmzfw9vbGgwcPpPoMDQ3h6+tbrnJZhBD1I98Q0VfMzMzg5OQEJyenSid/AMQLlG/cuCHVFxERgdzcXLRu3brMgqXt2xedfyvrnMvCwkJxglmvXr3KhqxU2U8kp381zG2gYW5T4fsUCvnYdGcnBKLPJ62wwIKX2yToaehWOk4ivwK+EFuOPcLy7XdkJn+DOzfChrldKflTEwzD4MCBA+jdu7fM5K99+/a4ePEiJX+EkBIpJAFUNHd3dzRo0ABhYWEIDQ0VtxcWFiIgIAAAMHr0aHF7Xl4eXr9+jfj4eIn7uLq6omnTprh37x6uXLki0ffnn38iKysLbm5uCklalYUR8pHz/LZEm7ybP/Y/CkZshuTXcJBDT7SwsJc7PlJ5b+IyMM//Kk7flC69ZKyvieXT22O6Z0to8ErezU5qnzNnziAvL0+ijcvlYsmSJTh06FCNf2NLCKla5ZoC3rFjB8aPH1+pI4IKCwvx999/49tvvy3zWg6HgzVr1mDy5Mnw8vJC//79YWZmhtDQULx8+RI9e/bEoEGDxNc/evRIfM7v3r17xe1sNhtr167FhAkTMHPmTPTs2RP169fHkydPEB4eDmNjY6xYsULuz0kV5L5+AFF+tkSbbrOKF39+lPgcZ16ESLQ1MKqPb1oMKuERpKqJRAxOXHuNPWeeQSCULvLn3twS3qNaw1BPUwnREWVisVjw8/NDjx49kJqaCqDo5KWgoCA4OTkpOTpCSE1QrhHA3377Db169cLu3buRlpZWoSdITU3Fzp070aNHD6xbt67cj3N2dsbhw4fRtWtXhIaGYs+ePRCJRPjpp58QEBBQ7vVozZo1w7FjxzBgwABERkZi7969ePfuHUaOHInjx4/X+HOAv979q1nfATyjiu3+zCrIxubw3RJtPA4Ps9t9Cx6n9pyUUpOkZORh6dZb2HHyqVTyp8HjYOaIVlgyxY2SPzVmbm4OPz8/AEWluc6dO0fJHyGk3FgMU/b5Abdu3cKaNWvw8uVL8Hg8dO7cGe7u7mjdujXs7OwkdpdlZ2fj1atXePDgAe7cuYMbN25AIBCgSZMmWLRoETp06FCln1B1Ki4DU1qpmKokKszDO/9vwQgKxW11+k6HgUv5d18zDIMNt7Yh7MN9ifYpbUahX9NuCouVlN/NR/HYfOQBsnKlz6m2q28In7EusLaQvbGJ1D58Pr/UIyufPXtWrrPZCSGfKfv1WxWUawq4Q4cOOHHiBI4fP46///4bISEhEmvqOBwOdHR0kJubK1EUmmEYNGvWDOPHj4enpyfYbJVcclhj5by4K5H8gc2BrmPFEuzQmDtSyV8ry2bo28RDARGSisgrEGBb8GNcDH8v1cdiAcM8GmNcX0fwuPRzpA4YhsHOnTuxY8cOnDp1CkZGRjKvo+SPECKPcpeBYbPZGD58OIYPH45Hjx7h8uXLCA8PR1RUFPLy8sSncmhra8PR0RFubm7o3r07TUlUoa+PftNu2AocnfLvAk3Pz8SOyEMSbfoaupjpNpFKvlQzgVCE//vzFqLfSS+xqGOohfljXdCycR0lREaUISkpCT4+PggJKVqXu3DhQmzZsoV+LgkhCiNXHcDiki/FihNAAwMDaGtrKyw4UjKGESE/5olEm16Liu3+vRf3EPkCyZIiM9qOh7G2YaXjIxXzKjZdZvLXqZUVvEa0gp6O/BuwSM1y8eJF+Pj4iI+yBIBTp07hyJEjGDVqlBIjI4TUJpUqBF1MW1ubEr/qxjBghJJrxDTr2lXoFhn5kietNDdvCrf6rSsbGZFDdp7k/yWXw4b3qFbo5mJNoz5qIi8vDytWrMCePXtk9r99K10GiBBC5KWQBJCoisolCjo8SuJVhZG+Jrq7VryYN6mZnjx5Ai8vL5lF683NzbFx40Z07dpVCZERQmorWk1OCCFKIhKJsGXLFgwcOFBm8tenTx9cvnyZkj9CiMLRCCAhhChBfHw85s6di5s3b0r1aWtrY/ny5Rg7diwtASCEVAlKAAkhpJqdOnUKCxcuRHp6ulSfk5MTAgMD0bhx4+oPjBCiNigBJISQalJ8mtHBgwel+lgsFry8vODj41OpYzcJIaQ8KAEkhJBqwmazoaOjI9VuZWWFTZs2oX379kqIihCijmgTCCGEVKPFixfD3t5e/PHgwYNx8eJFSv4IIdWKEkBCCKlG2traCAoKgomJCQICAvD777+XeMwbIYRUlUolgGFhYZg9eza6dOmCFi1aYPHixeK+W7duYcOGDUhOTq50kIQQUtO8e/euxL5mzZohPDwcI0aMoF2+hBClkDsB9Pf3x+TJk3HhwgUkJSVBIBCAYRhxv76+PrZt24bz588rJFCieEJGpOwQyH9EIqbsi0iNkJGRAS8vL/To0QOvX78u8To6PYkQokxyJYAXL17En3/+ibp16yIwMBC3bt2SuqZly5YwNTXFlStXKh0kkcZPTZBqY3HKv6cnsyAbl15fl2jT5GpWOi5ScUKhCP+EvJRo09LgKCkaUhl37txBr169EBwcjLy8PMyePRt8Pr/sBxJCSDWTKwHcu3cvtLS08Ndff6FXr14wMTGReZ2DgwPev39fqQCJbNlPJZM3jq4RuAam5XoswzD48+7fSM/PlGh3tXJSWHyk/P658hLPY1Il2tybWyopGiIPPp8PX19fjBgxAnFxceL2Bw8eYMOGDUqMjBBCZJOrDMzz58/h5OSEhg0blnqdkZERIiIi5AqMlIxhGGQ/vSHRptu8E1js8o0aXXl7C3fjHkq0tbZshvbWzgqLkZTPi/dpOHA+WqLNwkQHo3o2VVJEpKJev34Nb29vPHz4UKrP0NAQzZo1U0JUhBBSOrlGAAsKCsq1ay09PZ0WOFeBgvhXEKQlSrTpNe9crscmZiVh5/0jEm36mnqY6TaR/q+qWX6BABv2R0D4xfo/NgvwGesCHS2eEiMj5cEwDPbv348+ffrITP7at2+PixcvYtCgQUqIjhBCSifXCKClpaXMg8u/JBKJ8OrVK1hbW8sVGClZ9tNrEh/zTOpCs65dmY8TioQIvLMTBYICifbv246HkbahQmMkZfvr5FPEJedItI3s2RSODWUvqSCqIzU1FQsWLMDZs2el+ng8HhYsWIAZM2aAw6G1nIQQ1STXCGDHjh3x9u1bmb/8ih07dgyJiYno0qWL3MERaYxIiJxnkptudJt3Ltfo3bFnZ/EyNUairUejTmhbr5UiQyTlEP40Eedux0i0NbUxwuhe9rIfQFTGtWvX0LNnT5m//+zs7HDy5EnMnDmTkj9CiEqTawRw+vTpOHHiBBYsWIDXr1+jb9++AACBQIDY2FicP38eQUFBMDQ0xMSJExUasLrLi3kCYU66RJte805lPu7Fpzc4+kzyBctSzwyTWg9XZHikHNKy8rHp8H2JNk0NDnzGuoDLodrsqio/Px++vr7Ytm2bzP4JEyZg2bJlVN6FEFIjyJUAWllZISgoCHPmzMHmzZuxefNmsFgsnDp1CqdOnQLDMNDV1cXGjRthZmam6JjV2te7fzUs7aBhWq/Ux+Tx8xEYtguiL+r+sVlszG73LbR4WlUSJ5GNYRhsOvQAGdmFEu3Th7SAlZmekqIiZRGJRBgxYgTu378v1WdiYgI/Pz/07t1bCZERQoh85B5u6NChA06fPo0pU6agcePG0NLSAo/Hg42NDcaPH4+TJ0/S2ZYKJuIXICfqjkSbXouyR/923z+Cj9mSJ7KMaD4AjU0bKDI8Ug5nb8fg3vOPEm3uzS3R291WSRGR8mCz2Rg+XHq03MPDA5cvX6bkjxBS48g1AljM3NwcCxYswIIFCxQVDylF7utIMIV5X7SwoNes9AQw/MMDhLyVXDNob9oIQx37VEGEpDSxH7Pw179PJdqM9TXhPao17cCuASZPnoyQkBCEhIRAU1MTS5YswZQpU8Bm07Q9IaTmkSsBvHv3LurUqVNmHcCYmBgkJyejbdu2cgWn7m69v4cTUReQWZANABDlZkJk+7nYM4vLA+fq+lLvkZmfJfGxNlcLs9pNBqecNQOJYvAFIvjtj0AhXyjRPmd0Gxjq0QksNQGLxcKGDRswa9YsLF++HA4ODsoOiRBC5CZXAjhhwgQMGzYMv/76a6nXbd++HUePHsXz58/lCk6dpealI+D2DjD46oxY3peJmwjITavQfac4j4KFHq3LrG7hTxPx+kOGRNvAjg3h4mChpIiILHl5eQgNDRVvbPuamZkZDh06VM1REUKI4sk9d8EwdHh9VXqfHied/FVSu/rO6NqgnULvScon6p3kUW/1zPQweVBzJUVDZHny5An69u2LadOm4ebNm8oOhxBCqlSVLl5JSUmBlhbtMpWHopM/W8N6+M51LK01UxGODUygyaNpeFUgEonwxx9/YODAgXj16hUYhsHs2bORllax0XVCCKlJyj0FfPfuXYmPP336JNVWTCAQ4M2bN7h58ybs7Mo+oYKUTVcowqiPmeKPDTsMh7ZN+dYgaXO1YWdiAx6Hjhcj5Evx8fGYO3eu1IhfYmIili5disDAQCVFRgghVavcCeCECRMkRo9u3LiBGzdulPoYhmHwzTffyB8dEeOKGNjnFtWOY2low9Z5ENg82jxAiLxOnTqFhQsXIj09XarPyckJc+bMqf6gCCGkmpQ7AfxyJ+/du3dhampa4i5gDQ0NmJubo1evXujevXvloyQSdB3cKfkjRE7Z2dlYunSpzM0cLBYLXl5e8PHxgYaGhhKiI4SQ6lHuBHDv3r3ifzs4OKBz585Ys2ZNlQRFSqfXvLOyQyCkRoqMjIS3tzdiYmKk+qysrBAQEIAOHTpUf2CEEFLN5CoDc/nyZejo6Cg6FlIOHF1DaDdoqewwCKlRBAIBAgMD4e/vD6FQKNU/ePBgrFmzBkZGRtUfHCGEKIFcCWC9eqWfPUuqjq5jR7CoiDMh5fb+/XvMnj1b5qY1PT09rF69GsOHD6cd8oQQtVKpo+AAIDc3F+/fv0d2dnaJtQHpJBDF0WtB07+ElJdQKMT48ePx+vVrqT4XFxcEBgbC1pbOYSaEqB+5E8CYmBisXr0at27dgkgkKvE6FouFZ8+eyfs05AtcIwtoWjVRdhiE1BgcDgfLly/H+PHjJdrmzp2L2bNng8ut9HtgQgipkeQqBB0fH49vvvkG169fR506dWBiYgKGYdCqVSsYGxuLRwJbt24NFxcXhQasLhgZSbVe8840TVVDCUV0co6ydOvWDVOnTgUA2Nra4tixY5g/fz4lf4QQtSZXAvjnn38iIyMDs2bNQmhoKLp06QIWi4WDBw/i1q1b2LlzJ2xsbMDlcrFjxw5Fx6wW+Gkfpdpo+rfmEYoYHLn8AmduvlV2KGpt8eLFmD17Ni5cuABXV1dlh0MIIUonVwJ48+ZNWFlZwcvLS2Z/+/bt8ddff+HRo0fYunVrpQJUV0xBrsTHLDYbGnXqKykaIo+k1Fws+eMm9px5LjUCWLeOrpKiqp3evHkDX1/fEtcha2lpYeHChdDT06vmyAghRDXJlQAmJSXBwcFBPB3JZhfdhs/ni6+pX78+2rZti9OnTysgTEJqltDID5jtdwVP36RI9Tk2MMGgzo2UEFXtwzAM9u/fj969eyMwMBAHDhxQdkiEEFIjyLUIRltbW2L9jK5u0WhGcnIyrKysxO16enqIj4+vZIiE1Bw5eXxsOf4IVyM+SPWxWcDInk0xupc9uBy53nuRL6SmpmLBggU4e/asuG3p0qVwd3enM8gJIaQMcr0KWVhYSCR2DRo0AACEh4eL2wQCAR49egRDQ8PKRUhIDfHsbQpmb7gqM/kzN9bGrzM7YXxfR0r+FODatWvo2bOnRPIHAHl5ediwYYOSoiKEkJpDrhFAZ2dnBAcHIzs7G3p6evDw8MDq1auxevVq5ObmwtLSEocPH0ZCQgL69Omj6JgJUSkCoQgHL0bjyKUXkLXZ18O5Pr4f5gRdbV71B1fLFBQUwNfXt8S1xRMmTMDSpUurOSpCCKl55EoAe/fujVu3biE8PBzdu3eHlZUVpk2bhj///BMrV64EULQ2R19fHz4+PgoNmBBVkvApB377IhD9Pk2qT0eLix+Gt4KHM23eUYTo6Gh4eXnh+fPnUn0mJibw8/ND7969lRAZIYTUPHIlgB06dMCFCxck2ubNmwdHR0dcuHABGRkZaNiwISZOnAhra2uFBEqIKmEYBpfvxmJr8CPkFUifLdu8kSnmj3GGuQmdmV1ZDMNg586dWL16NfLz86X6PTw84O/vD3NzcyVERwghNZNCK6H27dsXffv2VeQtCVE5WbmF2PzPQ9x8KL3BicNmYWwfBwzv3gQcNhXtrqykpCT4+PggJCREqk9TUxNLlizBlClTxJUICCGElI9cCaCbmxuaNGmCffv2KToeQlTao1fJ2LA/EikZ0iNRVnV04TPOBU1tjJUQWe1z8eJF+Pj4ICVFRikdR0cEBgbC0dFRCZERQkjNJ1cCyOfzYWlpqehYCFFZfIEI+849x7GrryCr1nBvd1tMG9IC2pp0vJgiCIVC/PbbbzKTv2nTpmHRokXQ0tJSQmSEEFI7yPVq1bBhQ5m/mAmpjUQiBr677yL8WaJUn74OD7NGtkYHJysZjyTy4nA4CAoKQv/+/cXr/szNzeHv7w8PDw/lBkcIIbWAXAtnRowYgXv37iEqKkrR8ZD/5L1/+lULrSdTllM33shM/lo3MUPgj90o+asi9vb2+L//+z8AQJ8+fXDp0iVK/gghREHkGgEcO3YsXr58iUmTJmH69Ono0aMH6tWrBw0NDUXHp5ayn91EfsxjwMpI3MbiUg05ZYhJyMSu088k2rgcNiYNcMTgznZg00aPSmMYRnys5NcmTZqEevXqoWfPniVeQwghpOLkSgC/XHjt5+cHPz+/Eq9lsVh49uxZif1EkiDzEz6d/VNqbJatSeVEqlshXwi/fRHgC0QS7f831R3O9lRyRBFOnz6NPXv2YO/evTLfQLJYLPTq1UsJkRFCSO0m1xQwwzDl/iMSicq+IQEAMIwISf8GQpSfI91JZS6q3d6zzxGTkCnR5tnVjpI/BcjJyYGPjw++++473LhxA+vWrVN2SIQQolbkGgGktX9VIyPsJPLfPVF2GATAwxfJCA59LdHWoK4BJvSjsiOVFRkZCW9vb8TExIjb/vjjD3Tt2hWdOnVSXmCEEKJGaFhJRRR8jEHqlf3KDoOgqNCz/8FIiTYelw2fcS7Q4HGUFFXNJxAI4O/vD09PT4nkDyiaVfj6dCFCCCFVR6UTwKioKMyaNQvu7u5wcnLCgAEDsH37dggEArnv+fvvv8Pe3h729va4deuWAqOVn4hfgKRgf0D05edFC96VgWEYbP7noVSh50kDmqFBXQMlRVXzxcbGYsSIEVi/fj2EQsmj83R1dbFx40YsX75cSdERQoj6UdkEMDIyEt988w2uXr2KLl26YMKECWCxWFi3bh3mzJkDRlY13jI8ffoUv//+O3R0VGtDReqVv8H/9EGiTcehnZKiUW9XImKljnhr3cQMgzo1UlJENd+xY8fQq1cv3L17V6rPxcUFFy9exMiRI2mXLyGEVCOVTACFQiEWL16M/Px8bN68GevWrcNPP/2EY8eOwdXVFZcuXcLJkycrdM+CggIsWLAALVq0UKldhbmv7yPz7hmJNg2LhtBv2VVJEamvxJQcbDn2WKJNX4eHuWPaULkXOWRkZMDLywve3t7IysqS6ONwOPDx8cGxY8dga2urpAgJIUR9qWQCGBYWhrdv38Ld3R1du35OhDQ0NDBnzhwAwMGDByt0Tz8/P3z48AG+vr4qc3C8MDcTySeDJNpYXA2YD5kDFofWmlUnoYjBhv2RyCuQXF7gNaI1TA21lRRVzXXnzh306tULwcHBUn22trY4duwY5s+fDy6Xjs4jhBBlUI1M6CthYWEAIHNHoIuLC3R0dPDgwQMUFhaW6363b9/Gnj17MH/+fDRo0ECRocqNYRgkn/4Dwpx0iXaT7hOgYWatnKDU2D8hL/A8JlWirUdba3RsRad8VIRQKISvry9GjBiBuLg4qf6RI0fiwoULcHV1VUJ0hBBCiqnk2++3b98CgMypIQ6Hg/r16+PFixeIjY2FnZ1dqffKysrCokWL4OrqiokTJ1Y4lh49epTYl5CQgLp161b4ngCQ9TAEuS/CJdq0G7WBgWs/ue5H5PcyNg0HzkdLtFmY6OA7z5ZKiqjmYrPZiI6Ollqja2hoCF9fXwwePFhJkRFCCPmSSo4AZmdnAwD09fVl9uvq6gIAMjMzZfZ/aeXKlcjIyMCaNWtUZpE5PzUBKRd2SLSxdQxgNshLZWJUF/kFAvjti4BQ9DlhYbMAn7Eu0NGi4/cqisViYf369TA3/1wsu3379rh48SIlf4QQokJUcgRQUc6fP48TJ05g6dKlsLaWb1r18uXLJfaVNjpYEkYkRNKJADB8yTIjZv1/AFfPuML3I5Xz18mniEuWPHllZI+mcGxooqSIaj5TU1Ns2LAB3377LX766SfMmDEDHFrTSgghKqVSCWBYWBj27duHBw8eIDU1FYMHD8avv/4KALh16xbu3LmDCRMmwMzMrEL31dPTAwCpnYPFcnKKXrANDEquy5aeno5ly5ahffv2GDt2bIWevyql3fgHBfEvJdr0W/eErr2bkiJSX+FPE3HudoxEW1MbI4zuba+cgGqYrKysEkfpu3Xrhlu3bsm9RIIQQkjVkjsB9Pf3x9atWyXW+nz5b319fWzbtg3m5uYYP358he7dsGFDAMC7d++k+oRCIT58+AAOh1PqqF5CQgLS0tJw+/ZtODg4yLxmypQpAIA1a9Zg2LBhFYpRHvkfopF+4x+JNq6xJUx7Ta7y5yaS0rLysenwfYk2TQ0OfMa6gMtRyZURKqOgoAC+vr74999/cfHiRZiYyB4tpeSPEEJUl1wJ4MWLF/Hnn3/CysoKixYtgouLCzp06CBxTcuWLWFqaoorV65UOAF0d3fHli1bcOPGDXz33XcSfREREcjNzYWLiws0NDRKvIeRkRFGjBghs+/evXuIiYlBly5dYG5uXi07g0UFeUj6dxPAiD43stgwHzIXbA0qM1KdGIbBpkMPkJEtuYt8+pAWsDLTU1JUNUN0dDS8vLzw/PlzAMBPP/2E7du309pVQgipYeRKAPfu3QstLS389ddf4tE6WRwcHGSO4pXF3d0dDRo0QFhYGEJDQ8W1AAsLCxEQEAAAGD16tPj6vLw8xMfHQ1tbG1ZWRWU76tati9WrV8u8///+9z/ExMRgypQpUolrVUm5uAOCtESJNuPOo6BVr0m1PD/57OztGNx7/lGizb25JXq7U0HikjAMg127dmHVqlXIz/+8fvXcuXM4cOCASi2zIIQQUja5EsDnz5/Dycmp1OQPKBqFi4iIqPD9ORwO1qxZg8mTJ8PLywv9+/eHmZkZQkND8fLlS/Ts2RODBg0SX//o0SNMnDgRbm5u2Lt3b4Wfr6rlRN1B1sMQiTbN+vYw6lj1085EUuzHLPz171OJNmN9TXiPak2jWCVITk7G/PnzERISItWnqakJPp+vhKgIIYRUhlwJYEFBAYyMjMq8Lj09Xe4XVWdnZxw+fBiBgYEIDQ1Fbm4urK2t8dNPP2Hy5Mk15sVakJWK5DN/SLSxNLRgPng2WGzaGVmd+AIR/PZHoJAvlGifM7oNDPU0lRSVart48SJ8fHyQkpIi1efg4ICgoCA4OjoqITJCCCGVIVcCaGlpiVevXpV6jUgkwqtXr+QuvwIUvcBs3ry5zOvc3d0RHR1d5nXFfH194evrK3dc5cUwIiSfCoIoL1uivU7vqeAZW1b58xNJBy5E4fWHDIm2gR0bwsXBQkkRqa68vDysXLkSu3fvltk/depULF68GFpaWtUcGSGEEEWQa7tjx44d8fbtW5w9e7bEa44dO4bExER06dJF7uBqusx7Z5H35qFEm65DO+g5dVNSROrr6ZsU/BMiWX7H2kIPkwc1V1JEquvJkyfo16+fzOTP3Nwc+/btw4oVKyj5I4SQGkyuEcDp06fjxIkTWLBgAV6/fo2+ffsCAAQCAWJjY3H+/HkEBQXB0NBQruPXaoPC5PdIvSy5HpGjZ4I6/b4Hi8WCQCTErsjDuPMhEoVC6TVUwi93C6u5e88/4u9zzxGfnF32xSUo5Ivw5elkXA4LP45zhSaPpuGLiUQibN26Fb6+vjLX9fXu3Rvr16+HqampEqIjhBCiSHIlgFZWVggKCsKcOXOwefNmbN68GSwWC6dOncKpU6fAMAx0dXWxcePGCheBri3S7/wL5qvEzmzQLHB0igrnXo8Jw4XX15QRWo2Sm8/Hhv2RyMotLPviCpjQzxGN6hkq9J41mUAgwPjx43H9+nWpPi0tLfzyyy8YP358jVl7SwghpHRyV7zt0KEDTp8+jSlTpqBx48bQ0tICj8eDjY0Nxo8fj5MnT6J9+/aKjLVGKUx8I/GxgWs/6DRqJf44NiO+Qvcz0VLPZOXpmxSFJ38t7epgSNfGCr1nTcflctGsWTOp9pYtW+L8+fOYMGECJX+EEFKLVOooOHNzcyxYsAALFixQVDy1llY9+Y8X47K5GN68vwKjqTmevU1V6P3qmeli/lhncNiUzHxt4cKFuH79Op49ewYWiwUvLy/4+PiUWnCdEEJIzSRXAlhYWEgvCgrmXLeFzCSPBRbqGVhCm6eeC+6fvpEsP9KnnS16udnIdS8NHgc2Fvrg0FFvMmlqamLz5s2YOnUq1q5dW21F0gkhhFQ/uRLATp06oX///hgyZAjatGmj6JjUkoGWPpqYll5YW90U8oV4GZsu0da+ZV3Y28o+e5aUTSAQ4OnTp2jVqpXM/qZNm+Lq1avgcGhzDCGE1GZyDYVkZ2fj4MGDGDt2LPr06YMtW7YgPr5ia9oIKcvL2HQIhJ93Q7NYgAMlf3J7//49hg8fjmHDhuHly5clXkfJHyGE1H5yJYChoaH48ccf0bhxY7x79w4BAQHo2bMnJk2ahODgYOTm5io6TqKGnr2VnP5tUNcAuto8JUVTczEMg6NHj6JXr164d+8e8vPz4eXlhYKCAmWHRgghREnkSgDNzMwwbdo0nDx5EsHBwZg4cSJMTEwQFhaGRYsWoWPHjli4cCFu376t6HiJGvl6A0izhlR/rqIyMjIwa9YszJ49G9nZn+soPn36FOvWrVNiZIQQQpSp0qvhHRwcsGjRIly7dg1//vkn+vXrB4ZhcOLECXz77bfo1o1OvSAVJxIxeB7zdQJI078VcefOHfTq1QvBwcFSfba2tujXr1/1B0UIIUQlKGw7JJvNRteuXbFhwwbcuHED48ePB8MwSExMVNRTEDUS+zELOXmShbRpBLB8+Hw+fH19MWLECMTFxUn1jxo1ChcuXICLi4sSoiOEEKIKKlUH8GufPn3Cv//+ixMnTuDFixcAihJDQirq6/V/5sbaqGOkraRoao43b95g1qxZePjwoVSfoaEh1q5di0GDBikhMkIIIaqk0glgQUEBLl68iODgYNy5cwdCoRAMw6Bhw4bw9PTEkCFDFBEnUTNP33w1/duIRv9KwzAMDhw4gKVLlyIvL0+qv3379ggICEC9evWUEB0hhBBVI3cCGB4ejuDgYFy4cAE5OTlgGAaGhobo378/hg4dCicnJ0XGSdTMsxjJEUCa/i1ZamoqFixYgLNnz0r18Xg8LFiwADNmzKDyLoQQQsTkSgC7d++OhIQEMAwDLpcLDw8PDB06FN26dQOPR2U6SOUkpeUiOU1yFIs2gMjG5/MxaNAgxMTESPXZ2dlh8+bNaNmyZfUHRgghRKXJlQDGx8ejWbNm8PT0xMCBA2FiQi/ORHGef1X+RU+bB2tzfSVFo9p4PB5++OEHLFy4UKJ9woQJWLZsGbS1ad0kIYQQaXIlgP/++y+aNm2q6FgIASC9AcSxoQnYbJaSolF948aNQ0hICM6fPw8TExP4+fmhd+/eyg6LEEKICpMrAaTkj1QlKgBdMSwWC+vXr4eenh5+/vlnmJubKzskQgghKo5qtBCVkp3Hx7vETIk2Wv8HJCUl4cCBAyX2m5iYYNOmTZT8EUIIKZdyjQA6OjqCxWLh9OnTaNiwIRwdHcv9BCwWC8+ePZM7QKJeomJSwTCfP+Zx2WhibaS0eFTBxYsX4ePjg5SUFFhZWaFr167KDokQQkgNV64RQIZhIBKJJD4u758vH0dIWb5e/9fUxhg8rnqWL8nLy8OiRYswefJkpKQUfV3mzp2L1NTUMh5JCCGElK5cI4BRUVGlfkyIokiv/1PP6d8nT57Ay8sLr169kmhPSkrC6tWr4efnp6TICCGE1Aa0BpCoDL5AiBfv0yTa1G0DiEgkwh9//IGBAwdKJX8A0KdPHyxZskQJkRFCCKlN5EoAg4KCcPny5TKvCwkJQVBQkDxPQdTQq9gM8AWflwywWICDrbESI6pe8fHxGD16NFatWgU+ny/Rp62tjd9++w1//fUX1d0khBBSaXIngJcuXSrzupCQEGzevFmepyBq6Ov1f7aWBtDT0VBSNNXr1KlT6NWrF27evCnV5+TkhHPnzmHcuHFgsageIiGEkMqT+yzg8hAKhWr7gsWIhJIN6vllqJCv1/85qsH6v+zsbCxduhSHDh2S6mOxWPDy8oKPjw80NNQjESaEEFI9qjQBjI2NhZ6eXlU+hcoSZkkmMxxdI+UEUkOIRAyex0iOANb29X8RERGYPXu2zHN8rayssGnTJrRv3776AyOEEFLrlTsB/HotX1RUVInr+4RCIV6/fo2IiAi4ublVLsIaSJSfA1FBrkQb16COkqKpGWKTspCVK7nurXktTgD5fD5mzpyJDx8+SPUNHjwYa9asgZGRUfUHRgghRC1UKAFksVhgGAYsFgtRUVF4/vx5qY/R1taGl5dXpYOsaQSZKVJtHIPam8wowtfTv2bG2jAz1lZSNFWPx+PBz88Po0ePBvNf5Ws9PT2sXr0aw4cPV9ulExXFMAyEQiEEAoGyQyGEKBGXywWHw6HfnRVQ7gTQy8tLnABu3rwZjo6O6NGjh8xreTweLCws0KlTJ9Spo34jX4LMZImPObpGYHNpDVdpvt4A0qxB7U+YO3XqhBkzZmDLli1wdXVFYGAgbGxslB1WjcAwDNLT05GcnAyhUFj2AwghtR6Hw4G5uTkMDQ0pESyHcieA3t7e4n8fP34c7du3x6xZs6okqJpOkCGZANL0b9mkCkA3qv0bQABgwYIFsLa2xvjx48HlVumS3FolMTER6enpMDAwgIGBAbhcLv3CJ0RNMQwDgUCAzMxMJCQkIC8vD3Xr1lV2WCpPrleckJAQRcdRqwgyP0l8zDU0U1IkNcOn9DwkpUqumawtG0Du3LmD48ePw9fXV2aCoqmpicmTJ1d/YDWYUChERkYGzMzM1HKGgRAim76+PjQ1NfHp0yeYm5uDw1HPY0TLi4YcqoAg4+sEkF6kSvP8q9E/XS0ubCz0lRSNYvD5fPj5+SEoKAgMw8DR0ZESPQXh8/lgGAa6urrKDoUQomJ0dXWRnJwMPp9PCWAZypUAFu/2HT9+PIyMjCp0ukdxLTN1IjUCSFPApfp6/Z9jQ1Ow2TV3Ou/169fw9vbGw4cPxW0rV65Ehw4d0LRpUyVGVrvQlC8h5Gv0e6H8yp0AslgsDBgwQJwAFm8IKcmXO4bVLgGUWgNIU8ClkVr/V0MLQDMMgwMHDmDp0qXIy8uT6MvPz8euXbvw66+/Kik6Qggh5LNyJYDFO4CNjY0lPibSGJEQgq+KQMs7Bfz0TQpOXn+DjJwCRYSmst4mZEh8XBPX/6WmpmLBggU4e/asVB+Xy8XChQsxY8YMJURGCCGESCtXAvjlDmBZH5PPhNlpACOSaJNnCjgzpxBLt95GIV+9SlxwOWw0sTZSdhgVcu3aNcydOxcfP36U6rOzs0NQUBCcnJyUEBkhhBAiG1vZAdQ2X28AYXE1wNYxqPB9Xn1IV7vkDwCa2hhBg1czFu4WFBRg+fLlGDNmjMzkb8KECTh37hwlf6RabNy4Efb29nB0dERCQkKJ1/3vf/+Dvb09jh07VuI1gYGBsLe3R2BgoMz+1NRUBAUFYdSoUXB3d0fz5s3h7u6OCRMmYPv27UhLSyt33A8ePMC8efPQtWtXtGjRAq6urujduzdmz56N3bt3Sy01sre3h729Pbp3747CwkKZ9+zevTvs7e2l2u3t7dGlSxeJtg8fPsDe3h5jxowpd8xVLTU1FStWrICHhwdatGgBDw8PrFixokJf1y89fPgQc+bMQadOndCiRQt06tQJU6ZMwdWrV6Wuzc7Ohr+/P/r27YuWLVuibdu2mDp1Km7fvl3qcyQmJmLFihXo1asXWrZsCXd3d4wcORI7duyQK2ZS9RSeAN68eRM7duzA2bNn1bJA69dFoLkGdeSaLheJSl5fWZuN7eOg7BDKJTo6GgMGDMDWrVul+kxMTLBz5074+vpCR0dHCdERdSMUCnHs2DGwWCyIRCIcPXq0yp7r0qVL6NmzJwIDA5GRkYHevXtj2rRp6NevH7KysrBu3Tr07NkTubm5Zd4rODgYY8aMwblz59C4cWOMHTsWY8aMgaOjI+7du4dff/21xNeRuLg47N27V9GfntKlpqbim2++wb59+2BnZ4fJkyfDzs4O+/btwzfffIPU1NSyb/KFnTt34ptvvsHdu3fRuXNnTJ06Fd26dUNGRgbCw8Mlrs3IyMA333yDLVu2gMvlYvTo0ejduzeePn2KyZMn48iRIzKf4+7duxgwYACOHDkirngwcOBA6Onp4cKFC3J/LUjVkqsMzOHDh7Fr1y6sWLECrq6u4vZFixYhODhY/LGLiwt27twJHo9X6UBriqoqAaOrzcOEvjUjOZIHm8NGm6ZmsDRV7dIeDMNg586dWL16NfLz86X6PTw84O/vD3NzcyVER9RVaGgoPn78iG+++QZnz57F0aNHMXPmTLDZin2Pf+fOHcyZMwccDgdr167FkCFDpN7gPn78GKtWrSrzeL68vDysWLECLBYLO3bsQLt27ST6GYbBjRs3ZJbyKD7pYcuWLRg+fHitOjfbz88P79+/x/Tp0/Hjjz+K29evX49t27Zhw4YNWLVqVbnuFRoaCl9fX3Tp0gUBAQFSb0j5fMnz1wMDA/Hq1Sv07t0b/v7+4uL08+fPx/Dhw7Fq1Sp07twZlpaW4sd8/PgRXl5eMDIyws6dO6VOM/r6OYjqkCsBPH/+PFJSUtCqVStx271793D8+HEYGhqiT58+uHfvHiIiIhAcHIyRI0cqLGBVV1UlYLQ1uRjQqZFC7kXkJxAI8M8//0glf5qamliyZAmmTJmi8BddQspy+PBhABBPYx46dAjXr19H165dFfYcQqEQy5Ytg0AgwNKlS+Hp6SnzupYtW2Lfvn1l/hy8fPkSOTk5cHBwkEr+gKJKEp07d5b5WC0tLXz77bdYs2YNNm/ejCVLllT481FFOTk5OHnyJHR0dDBz5kyJvpkzZ2Lfvn04efIkFi1aVK46mOvXr4eOjg7WrVsnczbi68GZS5cuAQBmz54tcTKRqakpJk+ejDVr1uCff/6ROAVs69atyMjIwIYNG2QeZalOA0A1jVyvVK9fv0aTJk0k/mPPnDkDFosFf39/rFixAocOHYKurq7EiKA6oBIwtRuPx0NgYCC0tbXFbY6Ojjh9+jSmTp1KyR+pdh8/fsS1a9fE6/+GDRsGACVO18krPDwcMTExsLCwwIgRI0q9lsvllvmzUDxql5ycXK7p4q+NGzcONjY2OHDgAN6/f1/hx6uiBw8eoKCgAM7OzlIJm46ODpydnZGfn49Hjx6Vea8XL17gxYsX6NixIwwMDHDr1i1s374du3btwr1792Q+5tOnogEMa2trqb7itjt37ki0nz59GkZGRujYsSOio6Oxe/dubNu2DZcuXUJBQe2uYFHTyTUCmJaWBhcXF4m2u3fvwtjYGB06dABQdCSLi4sLnj17VvkoaxDpY+CoCHRtY2dnh+XLl2PBggWYNm0aFi1aBC0tLWWHRf4jFDHIzpW9OUBV6OlogKOgYudHjx6FUCgUJ36tW7dGo0aNcOXKFSQnJ8PMTDFvQiMiIgAAbm5uCjlhwdraGs2bN8fTp08xduxYjBo1Cs7OzrCzsyvXqBGPx4OPjw/mzJmD9evXY9OmTZWOqbyOHTuGuLi4cl9fr1498f9PaWJiYgAADRo0kNnfoEED3LhxA2/fvkX79u1Lvdfjx48BAMbGxhg3bhwiIyMl+p2dnREYGChxnKKRkRGSk5Px4cMHNG7cWOL62NhYAMDbt28l2tLS0tCyZUusXLkS+/btk3iMpaUlAgIC0Lp161JjJcohVwKoqakpMQWWnZ2N169fo0ePHhLXGRgYICMj4+uH12p0CkjtIRAIJKZBvjR27Fi0bNmSdviqmBsP4/DnscdIz1btkQcjPU3MGNYSnVrVq9R9GIbBP//8Ay6Xi0GDBonbhw4dCj8/Pxw7dkxh9SeLR4e+XP9VGSwWC5s2bcKCBQsQERGB5cuXAyhK7Fq0aIH+/ftj1KhRpb656tu3L9q0aYPz588jMjISzs7OComtLMePH5faQFEaNze3ciWAWVlZAAA9PT2Z/cXtxdeVJiWl6ISlo0ePwtLSEjt27EDr1q2RkJCA3377DaGhoZgzZ45E0ubh4YEjR45g06ZN8Pf3Fyf6qamp2L17NwBIvKYXb0h59uwZXr16hRUrVqB3797Iz8/HgQMH8Oeff2LGjBk4e/YsTExqZoH/2kyuBLBu3bp49OgRRCIR2Gw2rl69CpFIJLWOIz09vVYtzi2LqCAXovwciTYaAax5RCIRtm7dihMnTuD48eMyX4BYLBYlfyoo6PAD5OSXvvlAFaRnFyDo8INKJ4A3btxAXFwcunXrBlPTzwXUhwwZAn9/fxw5cgTfffedyhbur1+/Pvbv34/o6Gjcvn0bjx8/xsOHD3H//n3cv38fR44cwd69e0t9HVm4cCFGjx6NtWvX4tChQ9USd03YfVxcPkcoFMLf31+8Zr9x48bYtGkT+vbti3v37kkkzrNnz8aNGzdw/vx5eHp6ol27dsjLy8Ply5dhYWGB+Ph4ial9kUgkfg4vLy9888034r758+cjJiYG58+fx+HDh/H9999X16dOykmuBUt9+vRBcnIyZs2ahT179mDt2rXgcrno1q2bxHXPnj1DvXqV+wVXk3w9+gcAHBoBrFHi4+MxevRorFy5Eo8ePcKaNWuUHRIhJSpe5zd06FCJdgsLC3To0AGxsbFSa7aKk8HiF29Zivu+TByLpwpl1bysLHt7e0yePBl+fn64dOkS/vnnH9jZ2eHFixdlnj3fpk0b9OnTBw8ePMCZM2cUHlt10tfXB1A0qyZLcXvxdeW5l5mZmcSGTaBoE03Hjh0BfJ4qBgBzc3P8888/GDduHHJycnDgwAFcvXoV/fv3R0BAAABIvNEwMPhc4/brGcAv2758DqI65BoBnDBhAk6ePImQkBCEhIQAAGbMmAErKyvxNREREUhJSSnXsHdt8fUGEI6uEdhcDSVFQyrq1KlTWLhwIdLT08Vt27dvR/fu3RW6m5JUnVmjWteoKeDKSElJEf/+nT17donXHT58WGK9WHFi8OX3+deKCw5/+QJfvO47PDwcQqFQIesAS9KyZUv83//9HyZPnoywsLAyr/fx8UFISAg2bNiAnj17VllcxapqDWDx2r/itYBfK25v2LBhmfcqvqakZLH4//brjRp16tTB0qVLsXTpUon24kLQLVt+/r61trYGl/v/7d13WBRX28Dh34KAgIgNKxbELIINUcFYYsMaY8TeQNSob2yIJsaSmBiNJZrXAipREyuaiKJGo2JBESyAoGhU7CjYO9KUMt8ffLuv6y6wwBIQzn1dXglzZmfO7Gx59pTnlCItLU3ltaJgbm4OoDFlllD48hQAmpmZ4e/vr0wH07BhQ5ycnFT2efHiBW5ubnz66ac6qeiHQC0HoGj9+yAkJCQwe/Zsjd1HMpmMy5cviwDwA9GmSQ0+blS9REwC8ff3JzU1lUaNGmlc9QIyU3YdPnyY58+fK8dg1a+fmU/0/PnzWR5bUabYFzLHsdWpU4eYmBj8/f2zTe+VlpaGnp5evmbFa5PmRKF27doMHjyYTZs2qU1EKAgFNQbQ3t4eIyMjIiMjSUpKUpkJnJSURGRkJKVLl9Zq+Im9vT3Gxsbcu3eP5ORklcwFADdu3ADQupduz549APTs2VO5zdDQEAcHB8LCwrh+/brKhBLITPWTm3MI/648BYAAxsbGWeaBAnB2dv5XfokVJWIG8IcnIiKCSZMmafzFXb16dVasWJHjbDuhaNHXk2Fexqiwq1HgduzYAcCcOXNo0KCBxn2MjIzw9fVlz549jBgxAoDOnTszf/58AgMDOX36tNrre+fOnVy5coVatWqpZHvQ19dnzpw5jBo1innz5mFkZESvXr3UznnlyhXmzJnDmjVrNLYKKcTGxnL8+HFcXFzUJj2kpaWxbt06ALWME1kZP348u3fvZvXq1QU+5rGgxgCampry2WefsWPHDlatWqWSCHrVqlUkJSXRv39/teD45s2bQGaGAgVjY2P69OmDr68vK1as4JtvvlGWnT59muDgYMzMzFRyLWZkZJCcnKx2/N27d7N7926aNm2q9r0+dOhQwsLC8Pb2VgadkDlUQDFxpCQ1BH1I8hwAvkuSJGWXQbly5UpsLjQxA/jDkZaWhpeXF0uXLtW41FSvXr1YsGBBiZrEJHw4QkNDiYmJwc7OLsvgD6Bfv374+vri5+enDADNzMxYuHAhnp6ejBw5krZt22JjY0N6ejoXL14kLCwMMzMzlixZotbN27JlS5YvX860adP4+uuvWbVqFY6OjpQvX57Xr18TFRXFP//8Q9myZbOcQa+QkJDAvHnz+Pnnn3FwcEAul2NsbMzTp08JDg7m8ePH1KpVi/Hjx2v1nJQrV46xY8eyePFirfYvqqZOnUpYWBhr167lypUr2NnZcfnyZUJCQqhVqxZTpkxRe0yPHj2AzCUq3zV58mTCw8P5/fffOX/+PPb29ty/f58jR46gp6fH3LlzVYL05ORkWrduTatWrahVqxYymUw5Icfa2prly5erfb9369aNzz//nD179vD555/zySefkJyczJEjR3j58iWurq5qPYRC0ZCvADA4OJj169cTGRmpHEdgZGREs2bNcHd3zzKLe3GllgTaXCSBLoru3r3LpEmTCA8PVysrU6YMP/30E3379i2yMycFQbHyR04Jme3s7JQBxNmzZ5VLdzo7O7Nz507Wr19PaGgop0+fRk9Pj6pVqzJs2DBGjhyZZbeds7MzR44cwdfXl+DgYA4ePEhCQgJmZmZYW1vz1Vdf0b9//xzXwba2tsbb25uQkBCioqLYt28f8fHxmJiYYGVlxZAhQ3B1dc0yJYombm5ubN26NVfj84qaChUq8Oeff+Ll5UVgYCChoaFUrFiRIUOGMHHixFylUylbtizbtm1j9erVBAQEsHnzZkxMTGjbti1jx46ladOmKvsbGhrSo0cPIiIiOHXqFJDZve7p6cnw4cPVupEVFi5cSNOmTdm+fTt+fn7IZDJsbGwYPHhwtj2FQuGSSYq54rm0dOlS1qxZo5xqrkjcqVj3TyaTMWbMGDw9PXVU1aJHMcPp6NGjANz1/o9KEFil79eY1ldf4ghg07kd7Lt2VPl3e6uPGefopvz77JVHzFn3v9l7lcoZs/67Ljqtf0kjSRL+/v7MnDlT4yy7Zs2a4eXlRe3atQuhdoK2UlJSuH37NlZWViIBtyAIKrT9fHj/+7skylML4PHjx/n1118xMTFh5MiR9O3bV5kc9OHDh8pflmvWrKFp06a0b99el3UukqSMdNLin6lsE13ARcebN2+YMmWKxqUJ9fX1mTx5str6l4IgCIJQXOXp227z5s2UKlVKmVn8XdWqVWPChAm0bduWIUOGsGXLlhIRAKYnvARJNa+W6AIuOgwNDZWt0++qXbs2K1asUHaNCYIgCEJJkKcA8J9//qFZs2bZru/XpEkTWrRokecEkNHR0Xh7exMeHk5ycjI1a9bExcUFd3d3rVppHj16xKFDhwgKCuLWrVs8fvwYU1NT7OzsGDx4MF266LY7NS1edfyfTN8APZOsZ8AJ/y6ZTMaiRYuIiIjg4cOHAPTv35958+blaoyRIAiCIBQHeQoAk5KS1PL9aFKxYkWSkpJyffzIyEhGjBhBeno63bt3p3LlygQFBbF48WLOnTuHt7d3jgP0N2/ezNq1a6lRowZOTk5UqlSJ+/fvc+jQIU6dOoW7uzszZszIdd2yopYD0LySmERQxJQvX57ly5czduxYFixYoDGFhSAIgiCUBHkKAC0sLLh06VKO+12+fBkLi9x1g6anpzNz5kxSUlJYs2aNMgGvh4cHI0aM4MiRI+zduzfHL+/GjRuzadMmtennN2/eZMCAAWzYsIHPPvuMhg0b5qp+WREpYIoGSZK4f/9+ljMY27RpQ2hoqGj1EwRBEEq0PCXsa926NXfu3FGuDajJ8uXLiYmJoU2bNrk6dmhoKLdv38bJyUll9QVDQ0M8PDwA+OOPP3I8TpcuXTTmHrK2tlbmTMpNJvecqC0DV1aM//u3PX/+nNGjR9OjRw+ePHmS5X4i+BMEQRBKujy1AI4dO5YDBw7g4+PDoUOH+Oyzz7C0tAQys7vv3buX27dvU6ZMGcaMGZOrYyvWfdQUODZr1gwTExPOnz/P27dvMTTM2zq7ijGEulzLUtMqIK9S4rn9Ig4J9UXXHyeqzhh+9jKZs1f+t8j69diXOqtbSXDixAk8PT2V4/umTJnCpk2bRDe8IAiCIGiQpwDQ0tKSNWvW4Onpyc2bN9VaAiVJokqVKixdulQZGGrr9u3bABpzsenr62Npacm1a9eIjY1VWfZGWwkJCRw6dAiZTJbr1snsvD8G8IpeKt57Z5Keob7KhCbnrj0hLOBMzjsKKt68ecPChQtZs2aNyvbAwEA2btyIu7t74VRMEARBEIqwPCc9c3Bw4PDhw+zfv5+zZ8/y6FFm61WVKlVo3rw53bt3x8go9+txKhL0mpmZaSxXrFEYHx+f62NLksSsWbN4+vQpgwcP1iqAVCSL1OTBgwdUq1YNUG8BPPw6RuvgTxuiIUvd1atXGT9+PFeuXFErq1ChAtWrVy+EWgmCIAhC0ZevrLeGhob07t37g1nqZeHChRw8eBAHBwedzgDOeJNMRorqyhIJGeo557I9RmL2KWPqVjfPdb2KK0mS2LBhA/PmzSMlJUWtvH379ixdupTKlSsXQu0EQRAEoegrcsseKAbov379WmN5YmIigMoC1tr4+eef2bBhAy1atODXX3/VunUyu2ViFK2D77f+AaCv+tSWMTTFqJQhqWkZvHr9BuX6e5IesvgqlHsrR1ZOfU6OTJYZ/H3Zt7FW9S3unjx5wpQpUwgMDFQrMzIyYtasWYwYMUJtwXJBEARBEP4nXwHgkydP2LFjB2fPnlUOvq9SpQotWrSgT58+VKlSJdfHtLKyAuDOnTtqZenp6cTFxaGvr0/NmjW1Pub8+fPZuHEjTk5O/Prrr1kuaJ1XajOATc2RodpnO9JhAA5VmjLpl+OkPP9fbkR9PRlLJn1CvZrldFqn4ujw4cNMnTqVZ8+eqZXZ2tri5eWFra1tIdRMEARBED4seW4m2bt3L127dmXFihWcPHmSmzdvcvPmTU6dOsWKFSvo1q0be/bsyfVxFalbQkJC1MoiIiJISkrC3t5eqxnAkiQxZ84cNm7cSOvWrVmzZo3Ogz/QPgfgmt0XefRcNTH20G71RfCXg+TkZGbMmIG7u7vG4O+LL75g3759IvgTBEEQBC3lqQXwzJkzTJs2DUmSaNu2Lb169VIm3r137x579+7lxIkTzJgxg8qVK/Pxxx9rfWwnJyfq1KlDaGgoQUFBylyAb9++Vc42HjRokHL/5ORk7t+/j7Gxscqgf0mS+O677/Dz8+OTTz7B29s7T5NStKGeA7AS8FZl29U7LzgarjperUHdivTp8FGB1Km4ePPmDZ9++ilXr15VK6tcuTLLli1TyRcpCIKQG/7+/syYMYMFCxbQp0+fwq6OIPxr8hQArlq1CoDFixfz2WefqZQ5ODjw2WefsW/fPr766it8fHxyFQDq6+uzYMEC3N3dGT9+PD169MDCwoKgoCCuX7+Os7OzyjkvXLiAm5sbjo6ObN68Wbl95cqV+Pn5Ubp0aWxtbdXShEBmt6Gzs3NuL1+Neg5AC0i/p7LtUOgd4H9d4ialS+E52AF9PTG9NztGRkZ07txZLQDs2rUrS5YsoUKFCoVUM0EoWpYtW8bq1avR09MjMDBQmaHgfdOnT2fXrl3ZBjxeXl54e3szYcIEJk6cqFb+/Plztm7dyokTJ7hz5w4JCQmUKVMGuVxOu3bt6Nu3L+XLl9eq3ufPn2fjxo1ERkby7NkzSpcuTYUKFahfvz7NmjXDzc1NJZ+njY0NADVq1ODgwYMae4M6duzIvXv31D43bGxsqFKlCidOnNCqbh+66OhovL29CQ8PJzk5mZo1a+Li4oK7u7syH6420tPT+fvvv/njjz+U97tq1ao4ODgwcuRIPvpItSHD1dU1x4UW+vbty/z581W2xcbGsnbtWsLCwnjw4AGmpqbUrFmTPn364OLikufcv4JmeQoA//nnHxo3bqwW/L2rZ8+ebN68mYsXL+b6+A4ODmzfvh0vLy+CgoJISkqiZs2afP3117i7u2uV3DcuLg6AlJQUfv31V437uLi4FEwAWLYSvFANAN+kqqaE+U+fxlSpYJLvc5cEU6dOJTg4mKioKIyNjfnhhx8YOnSoSPIsCP8vPT0df39/ZDIZGRkZ7Ny5kwkTJhTIuY4cOcK0adNITEykTp06dOnShQoVKvDq1SvOnz/P4sWLWb16NcHBwZiYZP8Zt3v3bmVGhlatWtG1a1eMjIy4e/cu4eHhBAQEMHToUI3Byr1799i8eTOjRo0qkOv80EVGRjJixAjS09Pp3r07lStXJigoiMWLF3Pu3Dm8vb21/gydOnUqBw4coGrVqnTu3BlTU1OuX7/O7t272bt3L2vXrlVp6HFxccHR0VHjsbZs2cLLly/55JNPVLZfuHCB4cOHk5KSQtu2benUqRMJCQkcP36c2bNnc+jQIdatWyc+93UoTwGgnp6eVpMwLC0tuXnzZl5OQf369Vm5cmWO+zk5OWnsHly4cCELFy7M07lz6/0k0KXMK8GLrPdva1+D9g65S5BdkhkaGuLl5cW0adNYtGgR9erVK+wqCUKREhQUxKNHjxg4cCAHDhxg586djBs3Tuez4c+cOYOHhwf6+vosWrSIzz//XO0L+eLFi8ybN4+0tLRsj5WcnMyPP/6ITCbj999/p2XLlirlkiQREhKiccUmc3NzZDIZPj4+9O3bl3LlyuX72oqT9PR0Zs6cSUpKCmvWrFEOk/Hw8GDEiBEcOXKEvXv30qtXrxyPdeHCBQ4cOMBHH32En5+fyjj63bt3880337B69WqVADCrluVbt27h7e1NpUqV1HLsent7k5SUxMKFC3FxcVFuT05OZsCAAYSEhHD27FlatGiRq+dCyFqePh3s7Oy0Cuxu3bqFnZ1dXk7xQUl7rToxoVQ26wBXMi/NuL6Nxa+Y9yQmJmbbLWNtbc3OnTtF8CcIGmzfvh2AwYMH0717d+7fv09wcLBOz5Gens73339PWloas2bNonfv3ho/xxo1aoSvr2+Oa25fv36dxMREPvroI7XgD0Amk9G2bVuN5yhdujRffvkl8fHxWjUUaOv48eMMHDgQe3t7HB0d8fDw4O7duxr3TU5OZs2aNfTp04emTZvStGlTunfvzrx583j6VENqsH9RaGgot2/fxsnJSWWMtKGhIR4eHgD88ccfWh1L0ZvWsmVLtUmUih60Fy+yafF4h+J12qdPHwwMDFTKYmNjgczu+3cZGxvTqlUrIHPogaA7eQoAv/zyS65evcqWLVuy3MfX15fo6Gj+85//5LlyH4KExDfw3oof208/5Vm8eoJimQw8hzhQxkSMY3hXZGQkXbp0wd3dXeOqHoKQG1JGOumJr4r0P0mHqwQ9evSIEydOYGNjg62trbL1xc/PT2fnAAgLCyMmJoYqVarQr1+/bPctVapUjq2Pila7J0+ekJSUlO2+mgwdOpRatWqxbdu2LIO03Dh8+DDjx4+natWquLm50aRJEw4ePMiAAQOIiYlR2ffVq1cMGjSIX375hZSUFPr27cugQYOoW7cuO3fuzHPPl66EhoYCaFzutFmzZpiYmHD+/Hnevn2rVv4+xY/u0NBQtcT7x44dA9BqnP/bt2/ZvXs3MpmMAQMGqJUrxhEeP35cZXtKSgqnT5/G2NgYe3v7HM8jaC9PXcClSpViyJAh/PTTT+zbt49PP/1UOQv4/v377Nu3j6ioKIYOHYqBgQHh4eEqjy9OTbhv3qi+gVIlPXaceohhw7fovTf8pXe7ejSul3XrYEmTlpaGl5cXS5cuJT098wtxwoQJ/P3335QuXbqQayd8iBKunOJZwDrSE18VdlWypW9qTsWuX1DGtlW+j7Vz507S09OVgZ+9vT1169bl2LFjPHnyBAsL3XzmREREAODo6KixWza3atasSYMGDbh06RJDhgxhwIABODg4YG1trdY6pImBgQFTp07Fw8ODJUuWsGLFinzVJzAwEB8fHzp06KDctnHjRubPn8/cuXP57bfflNt//PFHoqOjGTp0KN99951KK2VCQgIZGRlandPLyytXdXR0dFSmSsvO7du3Aahdu7Zamb6+PpaWlly7do3Y2Ngcl0SVy+UMHz6cjRs30r17d9q3b4+pqSk3btwgODiYTz/9lMmTJ+dYp0OHDvHixQtat26tcQiZh4cHkZGRzJgxgwMHDlCvXj0SEhIICgoiNTWV5cuX5ym3sJC1PAWArq6uyGQyJEni/PnzREVFqZRLUuY6F76+vvj6+qqUyWQyLl++nMfqFj16qL7RX2aYIqHeZWFRzhjX7vX/rWoVebGxsUycOFHtx0F0dDSLFy/mu+++K6SaCR+yp3+vJuNN7luT/m3pia94+vfqfAeAkiSxY8cOSpUqpTIpz8XFhV9++QV/f3/Gjh2b3+oCKLs1q1atqpPjyWQyVqxYwbRp04iIiGDOnDlAZmDXsGFDevTowYABA7L9MditWzeaNm1KQEAAkZGRODg45Lk+LVu2VAn+AIYNG8aWLVsICQnh0aNHVKlShWfPnrF//34qV67M119/rdZFnVPX97u8vb1zVccJEyZoFQAmJGQuTWpmZqax3NTUFID4+Hitzjtz5kxq167NokWL2Lp1q3K7nZ0dn3/+eY6TfQD+/PNPAI2tf5A5zMfPzw9PT0+OHTumbF00MDBQtsgKupWnALA4teDll55MUvn7RYapxv0+bW2FQan8/2ouDvz9/Zk5c6bG5f4UaR8EQchZSEgI9+7do0OHDlSsWFG5/fPPP2fp0qX4+fkxZsyYIjvm2NLSkq1bt3L16lVOnz7NxYsXiYqK4ty5c5w7dw4/Pz82b96c7SSPb775hkGDBrFo0SJlkJEXmr7X9PX1adasGXfv3uXy5ctUqVKFixcvkpGRQfPmzfO9sICmCYxFjSRJzJs3j23btjF58mR69eqFmZkZV65cYcGCBYwZM4bZs2czdOjQLI8RExNDWFiYxskfCpcvX2bcuHFUrFgRX19fbG1tef36NX/99RfLli3j6NGj7NixI8ugVsi9PAWA7+bbK+n032sBLF2hMs71a3GOMN5th6hUTvcrkHxoXr16xcyZM9m9e7damZ6eHp6enkyaNClX+akE4V2VPv3yg+oCzi/FOL93Z01C5pKcrVq1IiQkhDNnzqiM0VIEg9l1UyrK3g0cK1XKXOHo0aNH+a73+2xsbJT5/SBzJvE333zDtWvX8Pb25ttvv83ysU2bNqVr164EBASwf/9+evTokac6KK4vq+2KH6yKVrOi3B2paIXU9CMbMifdAZQtWzbHY+3atYstW7bg7u7OmDFjlNubN2+Oj48Pzs7OLFmyhN69eytbFt+nCMw1Tf6AzOFAkydP5sWLF/j5+SmHLZiamjJmzBiePn3Kxo0b2bBhg8a8lELeiG/afNJDtQWwcRMb2rdrytcH/+ZO0f4O+leFhoYyceJE7t27p1ZWq1YtvLy8aN68eSHUTChOyti2wtTGiYzkhMKuSrb0jMsg08tfj8CzZ88IDAwEYNKkSVnut337dpUAUNGC8vLlyywfo5jV+W6A0KxZMyBzMkh6erpOxgFmpVGjRnz33Xe4u7srJzRkZ+rUqQQGBvLf//43z7lds5q5q9iueN4Uz4kuAuGCGgNoZWUFwJ07d9TK0tPTiYuLQ19fX6t0bopJGZrOa2FhQd26dbl8+TK3b9+mYcOGavvkNPkDMjOG3LlzhwYNGmgcs+rk5MTGjRu5dOlSjvUVtCcCwHx6PwAsZS4mebwrNTWVX375hZUrV2pscejfvz9z584VzfqCzsj09NE3NS/sahQ4f39/UlNTadSokUrr2bsCAgI4fPgwz58/V66aU79+5ljk8+fPZ3lsRZliX8gMPurUqUNMTAz+/v70798/y8enpaWhp6eXrzyEWbUmaVK7dm0GDx7Mpk2b1Mada+v98ciQGSwpJr8oUpo1btwYPT09zp49S3Jycr66gQtqDKCTkxM+Pj6EhISotNpB5mSepKQkmjVrptXKGoqZwlmlYFFsz2rizpEjR3j+/HmWkz/ePUdW6WRyOoeQNyIAzCc9mWpQU8pcczdCSXTr1i0mTpyo8YvG3NychQsXapWIVBAEdTt27ABgzpw5NGjQQOM+RkZG+Pr6smfPHkaMGAFA586dmT9/PoGBgZw+fVothcfOnTu5cuUKtWrVUrb6QeZ4uDlz5jBq1CjmzZuHkZGRxvfvlStXmDNnDmvWrMm2izE2Npbjx4/j4uKiNnEiLS2NdevWAajUITvjx49n9+7drF69Ok9jHs+cOcOxY8dUJoJs2bKFu3fv0rp1a2WXb4UKFejRowf79u1TTlh793yJiYlkZGRo9aO2oMYAOjk5UadOHUJDQwkKClLmAnz79i3Lly8HYNCgQSqPSU5O5v79+xgbG1O9enXl9mbNmnHs2DE2bNhA165dVa5r27ZtPHz4EAsLiyxztCq6fwcOHJhlfeVyOWXLluX+/fv4+fmp/LiIj4/n999/B9CYL1LIOxEA5pNaC2A2SaBLEkVurMePH6uVffzxxyxfvlyZOkgQhNwJDQ0lJiYGOzu7LIM/gH79+uHr64ufn58yADQzM2PhwoV4enoycuRI2rZti42NDenp6Vy8eJGwsDDMzMxYsmSJWjdvy5YtWb58OdOmTePrr79m1apVODo6Ur58eV6/fk1UVBT//PMPZcuWzXEsb0JCAvPmzePnn3/GwcEBuVyOsbExT58+JTg4mMePH1OrVi3Gjx+v1XNSrlw5xo4dy+LFi7Xa/30dO3ZkwoQJODs7U7t2ba5cucKJEycoV64cs2fPVtl39uzZXL9+HV9fX86cOUPr1q0xMDAgLi6OkJAQVq9erVVLXUHR19dnwYIFuLu7M378eHr06IGFhQVBQUFcv34dZ2dntaVcL1y4gJubG46Ojirj/IcMGcLevXu5evUqXbt2pWPHjpiZmXH58mXOnDmDvr4+s2fP1jgk4M6dO4SGhlKpUiW1BM/vMjQ0ZObMmcyYMYNvv/2Wv//+G1tbW+Lj4wkMDOT58+fY29tn2+os5J4IAHWsVNmKOe9UApQuXZrp06czZcoU5bZSpUoxbdo0/vOf/xTo+CFBKO4UKyrklJDZzs4OOzs7Ll++zNmzZ5XjbJ2dndm5cyfr168nNDSU06dPo6enR9WqVRk2bBgjR47M8geas7MzR44cwdfXl+DgYA4ePEhCQgJmZmZYW1vz1Vdf0b9//xxTg1hbW+Pt7U1ISAhRUVHs27eP+Ph4TExMsLKyYsiQIbi6uuYqrYqbmxtbt27VONY4J507d2bgwIGsXr2aoKAgDAwM6Nq1K1OnTlXLp2dubs4ff/zBxo0b2b9/P9u3b0dPT49q1arRt2/fIrFikYODA9u3b8fLy4ugoCCSkpKoWbMmX3/9Ne7u7lq3kpqamrJt2zbWr1/P4cOH2bdvH6mpqZQvX55u3boxatQoGjdurPGx27dvR5KkLCd/vMvFxQVLS0s2btzI+fPnCQ8Px9DQECsrK0aMGMHw4cO16rIWtCeTFEn7hFzr1KkTaS8fsb5P5vgbPZOy1PFcD8DXB+dx59X/PoQmtRxBm9qaF8curiRJYuzYsfz999/KD/usPigEQVspKSncvn0bKysrkTBcEAQV2n4+KNLRHD169N+qWpEjWgB1SHT/qpLJZCxatIjatWvj6empVbJQQRAEQRAKXt6naAlqSuIEkKtXr+Lj45Nlefny5Zk1a5YI/gRBEAShCNFJC+CdO3d4/vw55cqVU+YfKolKlc0MADOkDJLTUnLY+8MmSRIbNmxg3rx5pKSkYG1tTefOnQu7WoIgCIIgaCHPLYBpaWl4eXnx8ccf061bN4YMGcKaNWuU5X/99ReDBg3i2rVrOqnoh0DRAvj31UAeJz5TKStrVHzy3D158gQ3Nze+/fZbUlIyA92pU6fy5MmTQq6ZIAiCIAjayFMAmJqayqhRo1i1ahUJCQnUq1eP9+eSNGvWjPPnzxMQEKCTin4ISpW1IOZFHNsu7lHZXtGkPHYWHxVSrXTr8OHDdOrUSbkCgcKzZ89yndVeEARBEITCkacAcPPmzYSGhtK6dWsCAwPZu3ev2j41atSgdu3anDx5Mt+V/FBkmJrjdeZ30jLSlNtkyJjg5E4p/Q97vk1ycjIzZszA3d2dZ8+eqZWPHj2amTNnFkLNBEEQBEHIrTxFJX/99Rfly5dn2bJl2eZosra2LlFr9+14EEFs/AOVbZ/V70yDyvJCqpFu/PPPP4wfP54bN26olVWuXJlly5YpM80LgiAIglD05akFMCYmhiZNmuSYoNPExCTL9QOLm2tlSnMw5pTKtjrlLBnU8LMsHlH0ZWRk4OPjQ8+ePTUGf127duXo0aMi+BMEQRCED0yeWgC1XeD70aNHJSL9R6KeDD8L1TUvDfQNmNRy5Afb9Xv//n0mT56ssQvf2NiYH374gaFDh+ZpzU1BEARBEApXnqKTOnXqcOnSJVJTU7Nc3iUhIYHo6Gjk8g+7+1Mb/pXNeP3eymauTfpgaV6tcCqUT/v27eObb77h5cuXamWNGzfGy8urSCx1JAiCIAhC3uSpC7hLly48efKEZcuWZbmPl5cXCQkJdOvWLa91+yC80ZNxqYzqcjP2Ve3oWu/D7BZNTk7mxx9/VAv+ZDIZEyZMYM+ePSL4EwRBEIQPXJ5aAN3c3Ni9eze///47//zzD126dAHg4cOH7Ny5k4CAAIKDg6lXrx4DBw7UaYWLmqT3usPNjMowztHtg+0aNTY2ZsWKFfTr10+Z2qd69eosX76cVq1aFXLtBEEQBEHQhTwFgCYmJmzYsIFJkyYRGhpKWFgYAGfOnOHMmTNIkoSdnR0rV67E0NBQpxUuaqT34rz/tBhGOWPzwqmMjrRs2ZIJEybg5eXFZ599xsKFCylXrlxhV0sQBEEQBB3J8wyFqlWrsn37doKCgggODiY2Npb09HSqVatG27Zt6dy58wfbCpZXneq2oUWNJoVdDZ2YOnUq9vb2dO3atcTdR0EQBEEo7vI9RbVdu3YiDQhgUbocw+37FnY1tCJJEv7+/gQEBODj46NxVreBgUGxH78pCMXJsmXLWL16NXp6egQGBlKtmuZJaNOnT2fXrl0sWLCAPn36aNzHy8sLb29vJkyYwMSJE9XKnz9/ztatWzlx4gR37twhISGBMmXKIJfLadeuHX379qV8+fJa1fv8+fNs3LiRyMhInj17RunSpalQoQL169enWbNmuLmpDqmxsbEBMhcbOHjwoMZepo4dO3Lv3j2uXr2qst3GxoYqVapw4sQJrepW1KSlpbFhwwZ27drF3bt3MTExoUWLFkycOFH5vGgrNjaWtWvXEhYWxoMHDzA1NaVmzZr06dMHFxcXtefV1dVV2dv3vkqVKmW56MPhw4dZv349V65cAcDW1paRI0fi7Oycq/oKuvdh5igpgobb9qG0Qemcdyxkr169YubMmezevRuA3377jdGjRxdupQRByJf09HT8/f2RyWRkZGSwc+dOJkyYUCDnOnLkCNOmTSMxMZE6derQpUsXKlSowKtXrzh//jyLFy9m9erVBAcH55gGbPfu3cyYMQOAVq1a0bVrV4yMjLh79y7h4eEEBAQwdOhQSpVS/6q6d+8emzdvZtSoUQVynUWNJEl4eHhw5MgRPvroI9zc3Hj8+DEHDhwgODiY9evX4+DgoNWxLly4wPDhw0lJSaFt27Z06tSJhIQEjh8/zuzZszl06BDr1q3T2Puj6XWV1X3esGEDCxYsoEKFCsofG/v372f8+PHKlaWEwiMCQB2pamJR2FXI0ZkzZ5g0aRL37t1Tbps/fz6tW7fGzs6uEGsmCEJ+BAUF8ejRIwYOHMiBAwfYuXMn48aN0zpnq7bOnDmDh4cH+vr6LFq0iM8//1wtSLh48SLz5s0jLS0ti6NkUmQckMlk/P7777Rs2VKlXJIkQkJC0NfXV3usubk5MpkMHx8f+vbtWyLGKP/1118cOXKEFi1a8Pvvvytb6Hr27MmYMWOYNWsW+/bt0/h8vc/b25ukpCQWLlyIi4uLcntycjIDBgwgJCSEs2fP0qJFC7XHamoR1iQ2NpYlS5ZQvnx5du3aRdWqVYHMZUN79+7NkiVL6NSpEzVr1tTqeILu5enTwdbWVut/IrAofKmpqSxcuJB+/fqpBH8Ab9++5eDBg4VUM0EQdGH79u0ADB48mO7du3P//n2Cg4N1eo709HS+//570tLSmDVrFr1799bYQtSoUSN8fX1zXCnq+vXrJCYm8tFHH6kFf5CZeqpt27Yaz1G6dGm+/PJL4uPjWblyZd4viszPQEVLYvv27WnYsCFOTk6MHj2a8PDwfB1bl/744w8APDw8VLpn27Vrh6OjI7du3cqyi/Z9sbGxQGZX+buMjY2V2R7yu4rXjh07SE1NZdiwYcrgDzLnDwwbNozU1FR27tyZr3MI+ZOnAFCSJK3/ZWRk6LrOQi7cunWL3r174+XlpUzromBubo6Pjw9TpkwppNoJgu5lZGQQn/K6SP/T5efio0ePOHHiBDY2Ntja2iq72vz8/HR2DoCwsDBiYmKoUqUK/fr1y3bfUqVK5dj6qGi1e/LkCUlJSbmuz9ChQ6lVqxbbtm3j7t27uX68wqtXr5g/f76yO3TEiBG0bduWs2fPMnz4cAIDA/N8bF158+YNUVFRmJiYaOzmbdu2LQChoaFaHe+jjz4C4Pjx4yrbU1JSOH36NMbGxtjb22t87P79+/n111/ZsGEDJ0+eJDU1VeN+irq0adNGrUyxTduAVSgYeeoCjo6O1rhdkiQePHhASEgIK1asoG/fvnh6euargkLeSJLEtm3bmD17NsnJyWrlH3/8McuXL6dGjRqFUDtBKBinYyP4PeJPXr15XdhVyZa5kRkjmw3k45rN8n2snTt3kp6ergz87O3tqVu3LseOHePJkydYWOhmeEpERAQAjo6OWnUz5qRmzZo0aNCAS5cuMWTIEAYMGICDgwPW1tZZrjD1LgMDA6ZOnYqHhwdLlixhxYoVeaqHubk5x48fp0qVKirbHz16RN++fVm0aJFaS1lW3k2Lpi1tulTv3r1Leno6lpaWGp/72rVrAxATE6PVOT08PIiMjGTGjBkcOHCAevXqkZCQQFBQEKmpqSxfvlzt+VB4/zu9WrVqzJ8/Xy1PrKIuirrlp75CwdDpGECZTEb16tUZMGAAdnZ2DBo0CCsrK3r37q3L0wg5eP78OdOmTePAgQNqZQYGBkybNo2xY8fq5ENcEIqSX8N9SUpV/8FT1Lx685pfw33zHQBKksSOHTsoVaoUn332mXK7i4sLv/zyC/7+/owdOza/1QXg6dOnACrdefkhk8lYsWIF06ZNIyIigjlz5gCZn1ENGzakR48eDBgwgNKls55c161bN5o2bUpAQACRkZFaT4J4l6GhocZgp0qVKnTr1o3Nmzdz//59qlevnuOxwsLC8Pb2ztX5tQkAX7/O/EGTVbe6Yrtiv5xYW1vj5+eHp6cnx44d49ixY0Dmc+/m5kaTJurpzDp16sQXX3yBra0tZcuWJS4ujj/++ANfX1/Gjh3Ltm3baNiwoXL/hIQEAMzMzLKsb3x8vFb1FQpGgU0CadiwIY0aNWLTpk0iAPwXnThxAk9PTx4+fKhWZm1tzcqVK2nUqFEh1EwQBF0LCQnh3r17dOjQgYoVKyq3f/755yxduhQ/Pz/GjBlTZHN5WlpasnXrVq5evcrp06e5ePEiUVFRnDt3jnPnzuHn58fmzZuzneTxzTffMGjQIBYtWsSff/6Zp3pcvXqVdevWERERwePHj9W6NR89eqRVADhx4kStJ0kUpsuXLzNu3DgqVqyIr68vtra2vH79mr/++otly5Zx9OhRduzYoRK8vT9jt169enz77beULl2atWvXsnLlSlavXv0vX4mQH7qdIvYeCwsLbt26VZCnEP7f27dvmTNnDoMHD9YY/Lm6uhIQECCCP6FYG9tiKOZG6i0ORY25kRljWwzN93EU4/zenckJma1XrVq1IjY2ljNnzqiUKYLB7MYhKsreDRwrVaoEZAZDumZjY4O7uzu//PILR44cYceOHVhbW3Pt2rUcW9SaNm1K165dOX/+PPv378/1uc+dO0f//v05cOAAH330EUOHDmXcuHFMmDABR0dHIPPztTApAjFFq9r7smtte19aWhqTJ0/mxYsX+Pj40Lx5c0xNTalatSpjxoxh2LBhxMTEsGHDBq3qNmDAAAAiIyNVtmfXKqmob9myZbU6h1AwCqwFMDk5maioKIyMjArqFMI79PT0OHv2rNr2ChUq8MsvvyjXaxaE4uzjms1wqtGUhLeJhV2VbJUxNM13ipZnz54pJyhMmjQpy/22b9/Oxx9/rPxbESS8fPkyy8e8ePECUP2CbtYss7s6LCyM9PT0Ah1C0qhRI7777jvc3d21mtgwdepUAgMD+e9//5vrBMM+Pj68efMGX19fmjdvrlI2e/bsXI3pK6gxgLVq1UJfX5+4uDiNz/2dO3cAqFOnTo7HunXrFnfu3KFBgwYax4c6OTmxceNGLl26pFX9FQm/35/IU6dOHV68eMGdO3fUkoLnpr5CwclTAHj//v0sy5KSkrh9+za//fYbjx8/pmvXrnmunKC9UqVK4eXlRZcuXUhMzPzya9++PUuXLqVy5cqFXDtB+Pfo6elRtnTRbwXML39/f1JTU2nUqFGWq0AEBARw+PBhnj9/ToUKFQCoX78+kLkCR1YUZYp9IXPyR506dYiJicHf35/+/ftn+fi0tDT09PTyFeSamppqvW/t2rUZPHgwmzZtwtfXN1fnuXPnDuXKlVML/jIyMtRatXJSUGMAjYyMaNKkCZGRkURGRqrl51Ok/HFycsrxWIrWTEWQ/z5F+hdtJuIAREVFAZnd+e9ycnLi3LlzhISEqM0oDgkJAVC2sAqFI08BYMeOHXMcUyJJEhYWFkydOjVPFRNyr06dOsydO5cZM2Ywa9YsRowYofNEsIIgFA07duwAYM6cOTRo0EDjPkZGRvj6+rJnzx5GjBgBQOfOnZk/fz6BgYGcPn1apXUQMmcVX7lyhVq1ailb/QD09fWZM2cOo0aNYt68eRgZGdGrVy+1c165coU5c+awZs2abLv4YmNjOX78OC4uLmqTG9LS0li3bh2ASh2yM378eHbv3s3q1atzNeaxRo0axMTEcO3aNeRyuXL76tWruX79utbHgYIdAzho0CAiIyNZvny5SiLooKAgwsLCsLKyUguo7t+/T3JyMtWrV8fY2BgAuVxO2bJluX//Pn5+fiqBfHx8PL///juASm7G2NhYzMzM1MZiPnjwgLlz5wKoTEIC6NevH7/99htbtmyhX79+yslDDx8+ZMuWLRgYGNC374exfGpxlacAMLvBsAYGBlSuXBknJyeGDh2q9XqQgvYSExOz/HU8YMAAWrdurfZrTBCE4iM0NJSYmBjs7OyyDP4g80vY19cXPz8/ZQBoZmbGwoUL8fT0ZOTIkbRt2xYbGxvS09O5ePEiYWFhmJmZsWTJErWuxpYtW7J8+XKmTZvG119/zapVq3B0dKR8+fK8fv2aqKgo/vnnH8qWLatx+bZ3JSQkMG/ePH7++WccHByQy+UYGxvz9OlTgoODefz4MbVq1WL8+PFaPSflypVj7NixLF68WKv9Fdzc3AgJCVEm0TY1NeXcuXNER0fToUMH5QzZwtarVy8CAgI4evQoffr0oV27djx58oT9+/djZGTE/Pnz1e7XN998Q1hYGJs2bVK2DhoaGjJz5kxmzJjBt99+y99//42trS3x8fEEBgby/Plz7O3tVQLD8PBwfvjhB5o3b46lpSVmZmbExcVx/PhxUlJSaN26NV988YXKuWvWrMlXX33FggULcHFxoUePHkBmHsEXL14wY8YMsQpIIctTAFgUEmOWRIqlk06fPs2BAweUv+jeJZPJRPAnCMWcYuWPnBIy29nZYWdnx+XLlzl79qyym9PZ2ZmdO3eyfv16QkNDOX36NHp6espVGkaOHJlljlBnZ2eOHDmCr68vwcHBHDx4kISEBMzMzLC2tuarr76if//+Oa4DbG1tjbe3NyEhIURFRbFv3z7i4+MxMTHBysqKIUOG4OrqmuOKIu9yc3Nj69ataiseZaddu3asXLkSHx8f/v77bwwNDWnatCl//vknR44cKTIBoEwmY/ny5WzcuBF/f382bdqEiYkJ7dq1Y9KkSVkOA9DExcUFS0tLNm7cyPnz5wkPD8fQ0BArKytGjBjB8OHDVVYbadCgAd27d+fSpUv8888/JCYmUqZMGRo3bkyvXr3o27evxt4md3d3atSowe+//46/vz+QOazgxx9/pHPnzvl/UoR8kUnvLw+hhejoaPT09FSay0uiTp068TjxKbaerVjS+htqWdYpsHP9888/jB8/nhs3bgAwfPhw5s+fX2DnE4SiKiUlhdu3b2NlZZVtjjhBEEoebT8fOnXqBMDRo0f/raoVOXkaINa7d29+/PFHXddF0CAjI4PVq1fTs2dPZfAHsHHjRg4fPlyINRMEQRAE4UOVpy5gc3NznWWDF7J2//59Jk+ezMmTJ9XKjI2NRRZ1QRAEQRDyJE8BYIMGDUSC5wK2b98+vvnmG425uho3boyXlxf16tX79ysmCIIgCMIHL09dwF988QVXrlxh9+7dOq6OkJCQwJQpUxg7dqxa8CeTyZgwYQJ79uwRwZ8gCIIgCHmWpxZAAwMDBgwYwIwZM9i/fz+dOnWievXqWQ64fD9ppaBZREQEkyZNIiYmRq2sevXqLF++nFatWv37FRMEQRAEoVjRKgDcvXs3tWrVwsHBAchcV1YmkyFJEidOnFBmIddEJpNx+fJl3dS2mEpLS8PLy4ulS5eSnp6uVt6rVy8WLFiQ7YLogiAIgiAI2tIqAJw+fTouLi7KAFC06OlOUlISQ4YMITw8XK2sTJky/PTTT/Tt2zdXme0FQRAEQRCyk6cu4M2bN+u6HiWWiYkJlpaWagFg8+bN8fLyolatWoVUM0Eo2vKQwlQQhGJOfC5oTywUWwT89NNPytU79PX1+eqrr9i5c6cI/gRBA8VyV6mpqYVcE0EQihrF58L7y+IJ6kQAWASYm5uzYsUKrKys8Pf3x9PTM8d1NAWhpDIwMMDIyIhXr16JX/uCIChJksSrV68wMjLCwMCgsKtT5Iko41+SmprKzZs3qV+/vsZyJycnjh8/LgI/QdBCpUqVuHfvHnFxcZibm2NgYCDGyQpCCSVJEqmpqbx69YqEhIQs17EWVGkdbQQHB+Pm5pbrE8hkMjZu3JjrxxUnt27dYsKECdy9e5cjR45kuYqKCP4EQTtly5YF4OnTp9y7d6+QayMIQlFgZGREjRo1lJ8PQva0jjiePXvG06dPc32CkvyrXJIktm3bxuzZs0lOTgbA09MTX19f9PRE77sg5EfZsmUpW7YsqampGtMnCYJQcujr64tu31zSOgB0cHCgX79+BVmXYuX58+dMmzaNAwcOqGw/ceIEv/32G6NHjy6kmglC8WJgYCA++AVBEHJJ6wCwVq1auLi4FGRdio0TJ04wefJkHj16pFZmbW1Ny5YtC6FWgiAIgiAImYr0oLPo6Gi8vb0JDw8nOTmZmjVr4uLigru7e67Gy4WHh+Pj48OFCxdITU2lbt26DB48mP79++u0vm/evGHhwoWsWbNGY7mrqyvff/89xsbGOj2vIAiCIAhCbhTZADAyMpIRI0aQnp5O9+7dqVy5MkFBQSxevJhz587h7e2t1fjCgIAAJk+ejLGxMZ9++immpqYcOnSIb7/9lmvXrjFr1iyd1PfWrVuMdP+CK1euqJVVqFCBX375hS5duujkXIIgCIIgCPlRJAPA9PR0Zs6cSUpKCmvWrKFdu3YAeHh4MGLECI4cOcLevXvp1atXtsd5/fo1s2fPplSpUvj6+mJrawvA+PHj6devH5s2baJbt240a9YsX/W9H3yLEftH8fbNW7Wy9u3bs3TpUipXrpyvcwiCIAiCIOhKkZyKGhoayu3bt3FyclIGfwCGhoZ4eHgA8Mcff+R4nIMHD/Ly5Ut69uypDP4AzMzM+M9//qP1cbLzNv4Nt3f9oxb8GRkZ8eOPP7J582YR/AmCIAiCUKRo1QIYHR1d0PVQERoaCkCbNm3Uypo1a4aJiQnnz5/n7du3GBoaZnmcM2fOZHkcxbawsLB81TUjVT39hK2tLV5eXipBpyAIgiAIQlFRJLuAb9++DUDt2rXVyvT19bG0tOTatWvExsZibW2d5XFiYmKyPI6FhQUmJiY8fPiQ5OTkLCdmdOrUKcvjx8XFIZPJMDExUW4zMzMjIyODCRMmZPk4QRAEQRAKz4MHD0r8esFFMgBMSEgAMoMpTUxNTQGIj4/P13HKlClDUlISr1+/zvPMXJlMRs2aNfP0WEF3Hjx4AEC1atUKuSaCuBdFi7gfRYe4F0VHeno6GRkZhV2NQlUkA8Ci5OjRo1mWKVoHs9tH+HeIe1F0iHtRtIj7UXSIe1F0ZNe7V1IUyUkgZcqUATJn8WqSmJgIkON6fzkdJ6cWQkEQBEEQhOKoSAaAVlZWANy5c0etLD09nbi4OPT19XPseq1Tp06Wx3ny5AlJSUlUrVpVJGYWBEEQBKFEKZIBoJOTEwAhISFqZRERESQlJWFvb5/tDGBAueSapuMotjk6Oua3uoIgCIIgCB+UIhsA1qlTh9DQUIKCgpTb3759y/LlywEYNGiQcntycjI3b97k/v37Ksfp1q0b5cqVY9++fSordLx+/RofHx8ABg4cWJCXIgiCIAiCUOQUyUkg+vr6LFiwAHd3d8aPH0+PHj2wsLAgKCiI69ev4+zszGeffabc/8KFC7i5ueHo6MjmzZuV283MzJgzZw6enp4MHTpUZSm4e/fu4erqSvPmzQvjEgVBEARBEApNkQwAARwcHNi+fTteXl4EBQWRlJREzZo1+frrr3F3d9dqHWDIbAWsUKECPj4+7N+/n7S0NKytrfnyyy/p169fAV+FIAiCIAhC0SOTJEkq7EoIgiAIgiAI/54iOQZQEARBEARBKDgiABQEQRAEQShhRAAoCIIgCIJQwogAUBAEQRAEoYQRAaAgCIIgCEIJU2TTwBSW6OhovL29CQ8PJzk5mZo1a+Li4oK7uzulSmn/dIWHh+Pj48OFCxdITU2lbt26DB48mP79+xdg7YuX/N6LR48ecejQIYKCgrh16xaPHz/G1NQUOzs7Bg8eTJcuXf6FqygedPW+eNeqVauUid3Xr19Pq1atdFnlYkuX92Lv3r34+fkRHR1NcnIyFhYWNGzYEE9PT+WSnELWdHEv0tPT+fvvv/njjz+4c+cOCQkJVK1aFQcHB0aOHMlHH31UwFfx4duzZw+RkZFcvnyZq1ev8ubNGyZMmMDEiRNzfayS9N0t0sC8IzIykhEjRpCenk737t2pXLmySvJpb29vrfIPBgQEMHnyZIyNjdWST7u5uTFr1qx/4Wo+bLq4F0uWLGHt2rXUqFEDJycnKlWqxP379zl06BBv377F3d2dGTNm/EtX9OHS1fviXZcuXWLgwIEYGBiQlJQkAkAt6epepKamMnXqVAICArC2tubjjz/G2NiYx48fExERwbfffkuHDh3+hSv6cOnqXkyePJkDBw5QtWpVOnTogKmpKdevXyc4OBh9fX3Wrl3Lxx9//C9c0YerY8eO3Lt3D3Nzc8zNzbl7926eAsAS990tCZIkSVJaWprUtWtXSS6XS8ePH1duf/PmjTRkyBBJLpdLe/bsyfE48fHxkqOjo9SwYUPp8uXLKtu7dOkiyeVy6ezZswVyDcWFru5FQECAdObMGbXtN27ckBwcHCS5XC5dvHhRp3UvbnR1L96VkpIi9ejRQxo4cKD09ddfS3K5XDp58qSuq17s6PJeLF68WJLL5dKKFSukjIwMtfK3b9/qrN7Fka7uRVRUlCSXy6VPP/1USkpKUinbtWuXJJfLJVdXV53Xv7g5efKkFBsbK0mSJO3cuVP52s6NkvjdLcYA/r/Q0FBu376Nk5MT7dq1U243NDTEw8MDgD/++CPH4xw8eJCXL1/Ss2dPbG1tldvNzMz4z3/+o/VxSjJd3YsuXbrg5OSktt3a2poePXoAEBYWpqNaF0+6uhfv+uWXX4iLi2PhwoXo6YmPIG3p6l48fvyYDRs20LRpUyZOnKixlcrAwEB3FS+GdHUv4uLiAGjZsiXGxsYqZc7OzgC8ePFCV9Uutlq1aoWlpWW+jlESv7vFGMD/FxoaCkCbNm3Uypo1a4aJiQnnz5/n7du3GBoaZnmcM2fOZHkcxTYRdGRPV/ciO4rxOfr6+nmvaAmg63tx+vRpNm3axIwZM6hTp46uq1us6epeHDp0iNTUVHr06EFycjLHjh0jNjaWsmXL4uTkRN26dQvsGooLXd2LevXqKY+XkpJC6dKllWXHjh0DEN2//5KS+N0tAsD/d/v2bQBq166tVqavr4+lpSXXrl0jNjYWa2vrLI8TExOT5XEsLCwwMTHh4cOHJCcnq/3iEzLp6l5kJSEhgUOHDiGTyTS+2YX/0eW9eP36NTNmzKB58+a4ubkVSH2LM13di4sXLwKQmJhIt27dePjwobJMJpMxYMAAvv/+e/HjKBu6uhdyuZzhw4ezceNGunfvTvv27TE1NeXGjRsEBwfz6aefMnny5IK6DOEdJfG7WwSA/y8hIQHIbO7VxNTUFID4+Ph8HadMmTIkJSXx+vXrYvMi0jVd3QtNJEli1qxZPH36lMGDB+cpgCxJdHkv5s6dy6tXr9i8eXOuJ40IursXz549A8DLywtHR0fWrFmDpaUl//zzD7Nnz+bPP/+kYsWKyq5MQZ0u3xczZ86kdu3aLFq0iK1btyq329nZ8fnnn2NiYqKDGgs5KYnf3WIAjlCiLFy4kIMHD+Lg4CBmAP+LAgIC2LNnD1999RU1a9Ys7OqUaNL/J34oV64c3t7e2NjYYGpqipOTEytWrEBPT48NGzbw9u3bQq5p8SdJEnPnzuWnn35iwoQJBAUFERkZia+vL3p6eowZMwZfX9/CrqZQTIkA8P+VKVMGyOym0iQxMRGAsmXL5us4Of3KEHR3L973888/s2HDBlq0aMG6deswMjLKX0VLAF3ci5cvX/L999/z8ccfM2TIEN1XsoTQ1ftC8dnTsmVL5TEVbGxssLS0JCkpiVu3buW3ysWWru7Frl272LJlC66urowZM4aqVatiampK8+bN8fHxoXTp0ixZskR5PKHglMTvbhEA/j9F0tM7d+6olaWnpxMXF4e+vn6OrReKge2ajvPkyROSkpKoWrVqsWlCLgi6uhfvmj9/Pr/99htOTk6sXbtW2UUjZE8X9+LBgwe8ePGC06dPU79+fWxsbJT/du3aBcCIESOwsbHB39+/YC6kGNDV+0JxnKy+yBRBS0pKSn6qW6zp6l4cP34cQGO2AgsLC+rWrUtSUpJyzKFQcErid7cIAP+f4g0YEhKiVhYREUFSUhL29vY5znRs2bJllsdRbHN0dMxvdYs1Xd0LyOximTNnDhs3bqR169asWbOmWL2BC5ou7kW5cuXo16+fxn+KD91PPvlE5W9Bna7eF4pZpTdu3FAre/v2rfILsEaNGvmtcrGlq3uh6GZ//vy5xnLFdpGWp+CVyO/uwk1DWHSkpaUpkz1qk9gzKSlJunHjhnTv3j2V42iTTDI8PLzgL+gDpqt7kZGRIc2aNUuSy+XSF198IaWkpPxr11Bc6OpeZOWbb74RiaC1pKt7kZ6eLvXs2VOSy+VSYGCgStmKFSskuVwuDRs2rGAv5gOnq3uxZs0aZSLo+Ph4lbKtW7dKcrlcat26tZSWllawF1SM5JQIWnx3/49YCu4dkZGRuLu7k5GRQY8ePbCwsMhyaZ/Q0FDc3NxwdHRk8+bNKsc5ePAgnp6eGpeTcXV15dtvvy2My/ug6OJeeHt74+XlRenSpRk+fLjGX9G2trbKhKuCZrp6X2gyffp0du3aJZaC05Ku7sXly5dxdXUlKSkJZ2dn5SzgsLAwypcvz7Zt28RawDnQxb1ITExk8ODBXL16lYoVK9KxY0fMzMy4fPkyZ86cQV9fn2XLlol1y3Pg5+dHREQEkNmFGxkZSf369ZUJnevWrcuYMWMA8d39LpEG5h0ODg5s374dLy8vgoKCSEpKombNmnz99de4u7trnbqiW7duVKhQAR8fH/bv309aWhrW1tZ8+eWX9OvXr4CvonjQxb1QZNlPSUnh119/1biPi4uLCABzoKv3hZB/uroXdnZ2+Pv74+XlxenTpzl27BgVKlSgf//+jB8/nmrVqhXwlXz4dHEvTE1N2bZtG+vXr+fw4cPs27eP1NRUypcvT7du3Rg1ahSNGzf+F67mwxYREaEcT6wQHR1NdHQ0kNl1qwgAs1PSvrtFC6AgCIIgCEIJIyaBCIIgCIIglDAiABQEQRAEQShhRAAoCIIgCIJQwogAUBAEQRAEoYQRAaAgCIIgCEIJIwJAQRAEQRCEEkYEgIIgCIIgCCWMCAAFQRAEQRBKGBEACoIgCIIglDAiABRyrWPHjtjY2GT778qVK3k6dmhoKDY2Nri6uuq41sWTl5cXNjY2eHl55fqxinsl/DtOnTqFjY0N69atK+yqFEvTp0/HxsYGf3//wq5KluLi4rCxsaFjx46FVoebN29ia2vLTz/9VGh1EIoGEQAKedamTRtcXFw0/jM3Ny/s6pVo+QkMizNXV1dsbGwIDQ39V8+bnp7OggULsLCwYNiwYf/qufNDvI5y50MIQq2trenZsyfbtm3j9u3bhV0doRCVKuwKCB+uMWPG4OTkVNjVKNGGDh1Kjx49KF++fK4fu3///gKokaDJ7t27uXbtGtOnT6d06dKFXZ1iacqUKYwePZrKlSsXdlWyVKVKFfbv34+BgUGh1mPcuHH89ddfLF26lBUrVhRqXYTCIwJAQfiAVahQgQoVKuTpsdbW1jqujZCVLVu2YGBgwOeff17YVSm2KleuXKSDPwADA4Mi8b6zsrKiadOmHDlyhIcPH1K1atXCrpJQCEQAKBSYZ8+esXfvXk6cOEFMTAxPnjyhdOnSyOVy+vfvT+/evXN1vLCwMNavX8/Vq1d5/PgxpqamVKpUiebNmzNq1Chq1aqlsn9iYiKbN28mICCAmJgYMjIyqFOnDr169cLV1RVDQ0Otz+3q6kpYWBibNm0iIyOD1atXc+nSJTIyMmjYsCHjxo3j448/1vjY2NhY1qxZw8mTJ5X1btiwIcOGDaNDhw5q+8fHx7NlyxYOHjzIgwcPePPmDeXLl8fa2pquXbsycOBA5b5eXl54e3szYcIEJk6cCGSO0bx37x4A3t7eeHt7K/d/dz/F+L+rV68q/9urVy+qV69OYGAgMplMrW6PHz+mffv2mJiYcPLkSYyMjJRl9+7dY926dYSEhPDw4UOMjIywtbXF1dWVLl26aP1cv1u36Ohotm3bxo4dO7h9+zb6+vqcPXsWgJMnT3L48GEiIiJ49OgRycnJVK5cmdatWzN27Fhq1KihPF5cXBydOnVS/u3m5qZyvk2bNqm0ZuvyWi5cuMDly5fp0KFDtsF6REQEmzdvJjIykufPn1O2bFlq1apFx44dcXNzU2k5zMjIYPfu3ezYsYNr167x5s0bqlevTseOHRk9erTaeUJDQ3Fzc8PR0ZHffvsNHx8f9u7dy4MHD6hQoQJdu3bF09MTExMT5WO0fR3l5j4ovPt+kslkrFq1iosXL6Knp0eLFi2YNm0aderUISMjgw0bNrBz505iY2MxNzenV69eeHh4qL1/p0+fzq5du1iwYAF9+vTRuL1JkyYsW7aMsLAwkpKSqFevHqNHj6ZHjx5qdYyKiuLAgQOEhYXx4MEDXr9+TcWKFWnRogVjxoxBLper7P/ueNoZM2YwY8YM5d+KOilehzVq1CAwMFDtnNHR0axdu5awsDBevHhB2bJladq0KSNHjqRZs2Zq+yvu0dGjR7l58ya//vorV65cQSaT0bRpU6ZMmUKDBg3UHgfQu3dvzp07x59//omHh4fGfYTiTQSAQoEJCQlhwYIFVK9endq1a2Nvb8+jR484d+4cZ8+eJSoqiu+//16rY+3YsYNZs2ahp6dHkyZNsLe3JyEhgXv37vHHH3/g6OioEgA+ePCAESNGcPv2bSwsLGjRogUymYzz58/z888/c/z4cX777bdcBYEAhw8fxtfXF7lcTvv27bl79y5hYWGEh4ezaNEitRaeyMhIRo8eTUJCAnXq1KFLly48efKE06dPExISwpgxY5g6dapy/6SkJAYOHMitW7ewsLCgefPmlC5dmkePHnHx4kXu37+vEgBq0rVrV06dOkV0dDT169fH1tZWWfbu/7/PxsYGOzs7Ll++TGhoKC1btlTb56+//iI9PZ0ePXqoBH+nTp1iwoQJJCYmYmVlRfv27Xn58iVRUVGEhYUxduxYpkyZkuPz+745c+bg5+dHs2bN6NChA/fv31eW/fDDDzx69Ih69erh5OREamoqV69e5c8//yQgIIBt27ZRt25dAExMTHBxcSE4OJinT5/Spk0bLCwslMeqVKlSgV3L0aNHATQ+nworV65UdsXZ2trSvHlzXr16xa1bt/jll1/o0aMHlpaWAEiSxJQpUzhw4ACGhoY4OTlRpkwZIiMj+f333zlw4AAbN26kdu3aaudJTU1l1KhRREdH06JFC6ysrDh79iybNm3i1q1b/Pbbb8p9tX0d5eY+aHputmzZQuPGjWnTpg2XLl3i6NGjXLhwgb/++osffviB4OBgnJycsLS0JCwsjHXr1vH8+XMWLFig9T0AuHz5MnPnzqVatWq0atWKuLg4Lly4gKenJ+np6Xz22Wcq+y9dupTw8HDq1auHvb09+vr6XL9+nb1793L48GHWrVtHixYtlPu7uLgQERHB3bt3cXBwUHn+3/9xqsmhQ4eYMmUKqamp1K9fH0dHR+Li4jhy5AiBgYF89913DBkyRONj//zzT9atW0fTpk355JNPuHz5MiEhIURGRuLv74+VlZXaYxQ/eAIDA0UAWFJJgpBLHTp0kORyuXTmzJls97tx44YUFRWltv3OnTtS+/btJblcLp07d06l7MyZM5JcLpeGDRum8Zzv7y9JkhQTEyPdvXtX+XdGRobUv39/SS6XSwsXLpTevHmjLHv16pU0cuRISS6XS8uWLdPiajMNGzZMksvlklwulzZs2KBStnv3bkkul0v29vbSw4cPldtTUlKkTz75RJLL5dJ///tfKSMjQ1kWEREh2dvbS3K5XDp+/Lhyu7+/vySXy6WxY8dKqampKud58+aNFBYWprJtxYoVklwul1asWKHV9ncpruddGzZskORyuTR9+nSNj+nZs6ckl8uls2fPKrc9fPhQat68udSgQQNp3759KvvfuHFDee9OnTqVZV2yqluLFi2kS5cuadzn8OHDUnx8vMq2tLQ0afny5ZJcLpdGjhyp9hjFfczqtVsQ1zJw4EBJLpdLkZGRGssPHjwoyeVyqXnz5mrHzcjIkE6fPq1ynZs3b5bkcrnUrl07KSYmRrn9zZs30pQpUyS5XC7169dP5TiK95VcLpcGDhwovXz5Ull2584dqVmzZpJcLtf69fWu/NyH+vXrS4cPH1a5BldXV0kul0uffvqp1L17d+nx48fK8ujoaKlBgwaSjY2NFBsbq3LMb775RpLL5dLOnTs1bpfL5dKaNWtUytatWyfJ5XKpY8eOanUMCgqSnj59qrZ9+/btklwul7p166byns6uDgqxsbGSXC6XOnTooLL90aNHUtOmTSW5XC5t27ZNpezQoUOSra2tZGdnJ125ckWlTPF6bNSokRQaGqrc/vbtW2ncuHHZvpclSZIcHR0lGxsb6cWLF1nuIxRfYhawkGdubm4aU8AoZgxaW1vTuHFjtcfVqlWLL7/8EoCAgACtzqXoErO3t1crq127NjVr1lT+feLECaKionB0dGTatGkqrXxly5ZlwYIFGBgYsHXrViRJys0l07hxY4YPH66y7fPPP6dt27YkJSWxY8cO5fYDBw7w8OFDrKys8PDwUOlSdXBwYOTIkQCsX79euf3Zs2dAZmtRqVKqDfSGhoYqLQ4F4bPPPqNUqVIEBASQnJysUnblyhWuXbtG7dq1VbqjNm7cSHx8PGPGjOHTTz9VeYy1tTXTp08HwNfXN9f1+eKLL7Czs9NY5uzsjJmZmco2fX19Jk2aRJUqVTh16hQJCQm5Ol9BXEt0dLTy8ZqsXLkSgFmzZqkNI5DJZLRs2VLlOhWvlylTpqi0MhkaGvL9999jZmbGhQsXlF3l79LT02PevHkqs/Rr1apFr169API0Ozo/9+HTTz/F2dlZ5RoU3fPXr1/n22+/VWmptbGxoV27dkiSRHh4eK7qaW9vz+jRo1W2ubm5YW5uTlxcnLK7W+GTTz6hYsWKasfp378/TZs25datW9y4cSNXdcjK9u3bSUxMpFWrVgwaNEilrHPnzvTq1Yu0tDQ2b96s8fGK7n0FAwMD/vOf/wDZ31MrKyskSVIOAxFKFtEFLOTZ+91oCu92D6WmpnLq1CmioqJ4+vQpqampSJLEkydPAIiJidHqXA0bNiQ8PJzp06fj7u6OjY2NxjFqkBkAQmYXlqZ9KleuTJ06dbh+/ToxMTEau0ey0rNnT43be/XqRXBwsMqXruILqlevXujpqf/W6tu3L97e3kRGRpKeno6+vj4NGzYEYN26dVSsWJH27durfbkWpAoVKtC2bVuOHTvG4cOHlYEBZM5kBdS6uYODgwHo1q2bxmM2b94cgPPnz+e6Pu+O29Pk3r17HD9+nJiYGBITE8nIyAAgLS2NjIwM7t69m2UAqYmuryUpKYnk5GT09fU13sfHjx9z9epVjI2N1QJOTR4+fEhcXBwGBgYa9y9btiydO3fG39+f8PBwZX0VqlWrRr169dQep3gPPH78WKvrel9e70ObNm3Utim6Sw0MDDRmGVCU57aubdu2VdtmYGCApaUlr1694vHjx2rjFZ89e0ZgYCA3b97k9evXpKenA/D06VMg8/Pro48+ylU9NFF8bmQ1Lrpv377s2rUry6D3k08+UdumzT0tV64c8L8fnkLJIgJAIc9ySgNz8+ZNxo0bl22Qp20LzQ8//MCECRPYtWsXu3btwtzcnCZNmtCmTRt69+6t0qIRGxsLwNy5c5k7d262x33+/HmuAkBNA9rf3f7w4UPltkePHgEox269r2rVqhgYGPDmzRtevnxJxYoVadmyJWPHjmXdunV89dVX6OnpYW1tTYsWLejRo0eBtwBC5limY8eOsWfPHmUAmJ6ezr59+5DJZGoBoOL5fn8M1ftevHiR67pk9XxD5hittWvXKr+UNcltC6Cur+X169dA5hhETT9GHjx4AGS+RrRJDaJ4TVWvXh19fX2N+yhawxX7vqtatWoaH2NqagrA27dvc6zD+/JzH6pUqaK2TTERpVKlShqvUVGe27pmNdM1q2v39fVl0aJFvHnzJstj5vb1lZWcPiuyu6eg+b6WKVMGyPwRnhXFPorXqVCyiABQKDAeHh7ExMTg7OzM6NGjsbKyokyZMujr6xMSEsKoUaO0Pla9evXYu3cvp0+fJjg4mIiICEJCQjhx4gSrVq3it99+U7aeKb6IWrZsmeUXnoLiF3BRMmXKFAYMGMCxY8c4c+YMERERbN26la1bt9K7d28WLVpUoOfv0KED5ubmnD59msePH1O5cmVCQkJ4+vQpjo6Oal9Siue7Z8+eOs9vllXOvIMHD+Lj40OZMmWYOXMmTk5OVK5cWdndP2jQIM6dO5frLn5dX4ui1S8pKQlJktSCwKxasQuKppbo/MjvfciuPrqua26Od+HCBebOnUupUqWYMWMG7du3p2rVqsrX49SpU9m3b1+uX18FJa+vI0UA+2/2MghFhwgAhQJx8+ZNrl+/TqVKlVixYoXaL/k7d+7k+pgGBgZ88sknyu6OZ8+esXjxYnbt2sXcuXP5888/gf/9Gu7Zsyf9+/fP55WoencW6rsU44febdFQ/L+iVel9Dx8+JDU1FSMjI7WVUywtLXF1dcXV1RVJkjh58iRTpkxh9+7d9OzZU2N3lq4YGhrSo0cPtm3bxl9//cUXX3zBnj17AM1dVNWqVePOnTt4eHhoNdtRFxRjRz09Penbt69aeV5eX6D7azExMcHExISkpCRev35N2bJlVcoVrVJxcXGkpqbmGHQqXlP3799XDht4n+L1pql1TdcK6j4UtkOHDiFJEq6urri7u6uV6/q6qlSpwq1bt4iNjdWY7qWg7unLly8BNI51FIo/MQlEKBCvXr0CwMLCQuOXlC5WoahYsSKenp4AKoOYFcGRthNMcuPvv//WuH3fvn0AKmOuFN21e/fuVY6JepdiuSgHBwe1CR/vkslktGnThq5duwJoNWBbEUikpaXluK8mLi4uAOzZs4eEhASOHj2KsbGxsg7vUjzfBw8ezNO58kLx+tLUrXf69GmeP3+u8XGK5yWr7sqCuJb69esDaJwwULlyZeRyOcnJyVq9J6pWrYqlpSWpqakaX4uvX7/myJEjADoZLpDT6yiv96Goy+66bt68meVa5zm9vrKi+NxQ/NB6n+KzQpdDQCRJ4vbt2+jp6Slfo0LJIgJAoUDUqVMHPT09rl+/rjIxQpIkfHx8NM5QzEpycjIbNmzQ+GVy/PhxQHUMTOfOnbGzsyM4OJj58+drHKcTFxeX5Ydtds6fP8+WLVtUtu3bt4+goCCMjY3p16+fcnu3bt2oUqUKt2/fZsWKFSrdRVFRUfz+++8AjBgxQrn98OHDnD17Vq1r6fXr10RERACZ479yomgpuHXrVi6vMFOTJk2wsrLi2rVrLF26lJSUFJydnZVjht41cuRITE1N8fb2xs/PT+3LT5IkLly4wMmTJ/NUF00UeeX8/PxUxjjFxcXxww8/ZPk4xfNy8+ZNjeUFcS2K2ZlRUVEay8eNGwfATz/9xJkzZ9TKQ0NDVcZoKVqk/vvf/3L37l3l9rdv3/Ljjz8SHx9P48aN1SaA5EVOr6O83oeiTnFde/bsITExUbn9+fPnzJw5M8uAOKfXV1YGDBiAiYkJp06dYvv27SplR48e5a+//qJUqVK4urrm6rjZuX37Ni9fvsTGxkas3V5CiS5goUBUqFCBQYMGsXXrVmWKggoVKnDp0iViY2MZOXKkMgDKSWpqKgsWLODnn3+mfv361KpVC5lMxu3bt7ly5QqlSpXiq6++Uu6vp6fHypUrGT16NBs3bsTf35/69etTpUoVkpKSuHXrFjExMTRp0iTXS3MNGzaMefPmsWPHDqytrYmNjSUqKgqZTMb333+v0mJQunRpli5dypgxY1i9ejUHDx6kQYMGPH36lPDwcNLT0xkzZgzt2rVTPkaxOkLFihWxs7OjXLlyxMfHExERQUJCAg4ODnTu3DnHerZp0wZjY2MOHTrE0KFDqVWrFnp6enTs2DHHmbUKvXv3ZunSpcqAV9Eq+L4aNWrg7e2Nh4cH3377Ld7e3tSrV49y5crx8uVLoqOjefr0KaNHj6Z169ZanTsnrq6u7Nq1i+PHj9O1a1caNWpEQkIC4eHhNG7cmPLly3Pu3Dm1xzk7O+Pv78/PP//MyZMnlV1fo0aNom7dugVyLZ06dcLHx4czZ86oBPsK3bt359q1a6xatYrhw4djZ2dH3bp1efXqFTdv3uT+/fscPXpUOU5r6NChnD17loMHD9KzZ0+VRNCKZb2WLFmSj2f3f3J6HeX1PhR1ffr0YcOGDVy6dInOnTvTrFkzUlNTCQsLo3Llyjg7OytbWt/VqVMnVq5cycaNG7l+/TpVqlRBJpPRt29fHBwcsjxf5cqVWbRoEVOmTOG7775TJs++d+8e586dQyaTMXv2bJ221Cl+bGhajUgoGf4PShXWrkKZOIYAAAAASUVORK5CYII=' width=640.0/>\n",
       "            </div>\n",
       "        "
      ],
      "text/plain": [
       "Canvas(toolbar=Toolbar(toolitems=[('Home', 'Reset original view', 'home', 'home'), ('Back', 'Back to previous …"
      ]
     },
     "metadata": {},
     "output_type": "display_data"
    }
   ],
   "source": [
    "analysis.plot_classifier_roc_curve(test_data_labels, y_probs_test,\n",
    "                                   dict_label_to_real=analysis.dict_label_to_real_plasticc)"
   ]
  },
  {
   "cell_type": "markdown",
   "metadata": {},
   "source": [
    "And that's it! An end-to-end analysis to reproduce our results on the PLAsTiCC dataset."
   ]
  },
  {
   "cell_type": "markdown",
   "metadata": {},
   "source": [
    "[Go back to top.](#index)"
   ]
  }
 ],
 "metadata": {
  "kernelspec": {
   "display_name": "Python 3 (ipykernel)",
   "language": "python",
   "name": "python3"
  },
  "language_info": {
   "codemirror_mode": {
    "name": "ipython",
    "version": 3
   },
   "file_extension": ".py",
   "mimetype": "text/x-python",
   "name": "python",
   "nbconvert_exporter": "python",
   "pygments_lexer": "ipython3",
   "version": "3.10.12"
  },
  "toc-autonumbering": true
 },
 "nbformat": 4,
 "nbformat_minor": 4
}
