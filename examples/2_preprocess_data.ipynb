{
 "cells": [
  {
   "cell_type": "markdown",
   "id": "coated-portugal",
   "metadata": {},
   "source": [
    "# Preprocess Dataset\n",
    "\n",
    "In this notebook we exemplify the ligh curve preprocessing described in [Link to paper in arXiv]().\n",
    "For that we use the SN Ia, SN Ibc and SN II of the PLAsTiCC dataset  ([The  PLAsTiCC  team  et  al.](https://arxiv.org/abs/1810.00001); [Kessler et al. 2019](https://iopscience.iop.org/article/10.1088/1538-3873/ab26f1)).\n",
    "\n",
    "#### Index<a name=\"index\"></a>\n",
    "1. [Import Packages](#imports)\n",
    "2. [Load the Original Dataset](#loadData)\n",
    "3. [Preprocess Light Curves](#preprocess)\n",
    "4. [Save Processed PlasticcData](#saveData)\n",
    "5. [Light Curve Comparison](#comparison)\n",
    "\n",
    "## 1. Import Packages<a name=\"imports\"></a>"
   ]
  },
  {
   "cell_type": "code",
   "execution_count": 1,
   "id": "expired-validation",
   "metadata": {},
   "outputs": [],
   "source": [
    "import os\n",
    "import pickle\n",
    "import sys"
   ]
  },
  {
   "cell_type": "code",
   "execution_count": 2,
   "id": "worldwide-lebanon",
   "metadata": {},
   "outputs": [],
   "source": [
    "import matplotlib.pyplot as plt\n",
    "import seaborn as sns"
   ]
  },
  {
   "cell_type": "code",
   "execution_count": 3,
   "id": "guilty-exception",
   "metadata": {},
   "outputs": [
    {
     "name": "stdout",
     "output_type": "stream",
     "text": [
      "No module named 'pymultinest'\n",
      "\n",
      "                PyMultinest not found. If you would like to use, please install\n",
      "                Mulitnest with 'sh install/multinest_install.sh; source\n",
      "                install/setup.sh'\n",
      "                \n"
     ]
    }
   ],
   "source": [
    "from snmachine import sndata\n",
    "from utils.plasticc_pipeline import get_directories, load_dataset"
   ]
  },
  {
   "cell_type": "code",
   "execution_count": 4,
   "id": "peaceful-empire",
   "metadata": {},
   "outputs": [],
   "source": [
    "%config Completer.use_jedi = False  # enable autocomplete"
   ]
  },
  {
   "cell_type": "markdown",
   "id": "pleasant-transsexual",
   "metadata": {},
   "source": [
    "#### Aestetic settings"
   ]
  },
  {
   "cell_type": "code",
   "execution_count": 5,
   "id": "affiliated-surrey",
   "metadata": {},
   "outputs": [],
   "source": [
    "%matplotlib inline\n",
    "\n",
    "sns.set(font_scale=1.3, style=\"ticks\")"
   ]
  },
  {
   "cell_type": "markdown",
   "id": "amended-mayor",
   "metadata": {},
   "source": [
    "## 2. Load Original Dataset<a name=\"loadData\"></a>\n",
    "\n",
    "First, **write** the path to the dataset folder `folder_path`."
   ]
  },
  {
   "cell_type": "code",
   "execution_count": 6,
   "id": "handmade-happening",
   "metadata": {},
   "outputs": [],
   "source": [
    "folder_path = '../snmachine/example_data'"
   ]
  },
  {
   "cell_type": "markdown",
   "id": "specified-heating",
   "metadata": {},
   "source": [
    "Then, **write** in `data_file_name` the name of the file where your dataset is saved.\n",
    "\n",
    "In this notebook we use the dataset created in [1_load_data](1_load_data.ipynb)."
   ]
  },
  {
   "cell_type": "code",
   "execution_count": 7,
   "id": "narrative-basket",
   "metadata": {},
   "outputs": [],
   "source": [
    "data_file_name = 'example_dataset.pckl'"
   ]
  },
  {
   "cell_type": "markdown",
   "id": "occupational-possible",
   "metadata": {},
   "source": [
    "Load the dataset."
   ]
  },
  {
   "cell_type": "code",
   "execution_count": 8,
   "id": "optical-coordination",
   "metadata": {},
   "outputs": [
    {
     "name": "stdout",
     "output_type": "stream",
     "text": [
      "Opening from binary pickle\n",
      "Dataset loaded from pickle file as: <snmachine.sndata.PlasticcData object at 0x7f21ac8bb150>\n"
     ]
    }
   ],
   "source": [
    "data_path = os.path.join(folder_path, data_file_name)\n",
    "dataset = load_dataset(data_path)"
   ]
  },
  {
   "cell_type": "markdown",
   "id": "special-sudan",
   "metadata": {},
   "source": [
    "Save the data of one event to later compare on the Section [Light curve transformation](#transformation). **Choose** the event by modifying `obj_show`."
   ]
  },
  {
   "cell_type": "code",
   "execution_count": 9,
   "id": "decent-illinois",
   "metadata": {},
   "outputs": [],
   "source": [
    "obj_show = '7033'\n",
    "obs_before = dataset.data[obj_show].to_pandas()"
   ]
  },
  {
   "cell_type": "markdown",
   "id": "fixed-marshall",
   "metadata": {},
   "source": [
    "## 3. Preprocess Light Curves<a name=\"preprocess\"></a>\n",
    "\n",
    "**Write** the maximum duration of the gap to allowed in the light curves, `max_gap_length`."
   ]
  },
  {
   "cell_type": "code",
   "execution_count": 10,
   "id": "continuing-skating",
   "metadata": {},
   "outputs": [],
   "source": [
    "max_gap_length = 50"
   ]
  },
  {
   "cell_type": "markdown",
   "id": "level-correspondence",
   "metadata": {},
   "source": [
    "To remove all the gaps longer than `max_gap_length`, the `remove_gaps` function must be called a few times; it only removes the first gap longer than `max_gap_length`.\n",
    "\n",
    "To introduce uniformity in the dataset, the resulting light curves are translated so their first observation is at time zero."
   ]
  },
  {
   "cell_type": "code",
   "execution_count": 11,
   "id": "proof-breeding",
   "metadata": {},
   "outputs": [
    {
     "name": "stdout",
     "output_type": "stream",
     "text": [
      "The longest event is 74994691 and its length is 1090.99 days.\n",
      "The longest event is 79641012 and its length is 879.68 days.\n",
      "The longest event is 79333412 and its length is 629.56 days.\n",
      "The longest event is 79333412 and its length is 271.56 days.\n",
      "The longest event is 79333412 and its length is 271.56 days.\n"
     ]
    }
   ],
   "source": [
    "dataset.remove_gaps(max_gap_length*2, verbose=True)\n",
    "dataset.remove_gaps(max_gap_length*2, verbose=True)\n",
    "dataset.remove_gaps(max_gap_length, verbose=True)\n",
    "dataset.remove_gaps(max_gap_length, verbose=True)\n",
    "dataset.remove_gaps(max_gap_length, verbose=True)"
   ]
  },
  {
   "cell_type": "code",
   "execution_count": 12,
   "id": "refined-constitutional",
   "metadata": {},
   "outputs": [
    {
     "name": "stdout",
     "output_type": "stream",
     "text": [
      "The longest processed light curve has 271.56 days.\n"
     ]
    }
   ],
   "source": [
    "print(f'The longest processed light curve has {dataset.get_max_length():.2f} days.')"
   ]
  },
  {
   "cell_type": "markdown",
   "id": "roman-powder",
   "metadata": {},
   "source": [
    "## 4. Save Processed PlasticcData<a name=\"saveData\"></a>\n",
    "\n",
    "Now, **chose** a path to save the PlasticcData instance created (`folder_path_to_save`) and the name of the file (`file_name`)."
   ]
  },
  {
   "cell_type": "code",
   "execution_count": 13,
   "id": "lasting-strategy",
   "metadata": {},
   "outputs": [
    {
     "data": {
      "text/plain": [
       "'example_dataset_gapless50.pckl'"
      ]
     },
     "execution_count": 13,
     "metadata": {},
     "output_type": "execute_result"
    }
   ],
   "source": [
    "folder_path_to_save = folder_path\n",
    "file_name = data_file_name[:-5]+'_gapless50.pckl'\n",
    "file_name"
   ]
  },
  {
   "cell_type": "code",
   "execution_count": 14,
   "id": "rural-table",
   "metadata": {},
   "outputs": [],
   "source": [
    "with open(os.path.join(folder_path_to_save, file_name), 'wb') as f:\n",
    "    pickle.dump(dataset, f, pickle.HIGHEST_PROTOCOL)"
   ]
  },
  {
   "cell_type": "markdown",
   "id": "civilian-merchant",
   "metadata": {},
   "source": [
    "[Go back to top.](#index)\n",
    "\n",
    "## 5. Light Curve Comparison<a name=\"comparison\"></a>\n",
    "\n",
    "Here we show the difference between one original light curve and the transformed one."
   ]
  },
  {
   "cell_type": "code",
   "execution_count": 15,
   "id": "dominican-carroll",
   "metadata": {},
   "outputs": [],
   "source": [
    "obs_after = dataset.data[obj_show]"
   ]
  },
  {
   "cell_type": "code",
   "execution_count": 16,
   "id": "white-pasta",
   "metadata": {},
   "outputs": [
    {
     "data": {
      "text/plain": [
       "Text(0.5, 1.0, 'Before')"
      ]
     },
     "execution_count": 16,
     "metadata": {},
     "output_type": "execute_result"
    },
    {
     "data": {
      "image/png": "[encoded data removed]",
      "text/plain": [
       "<Figure size 432x288 with 1 Axes>"
      ]
     },
     "metadata": {},
     "output_type": "display_data"
    }
   ],
   "source": [
    "sndata.plot_lc(obs_before)\n",
    "plt.axvspan(xmin=729, xmax=849, color='gray', alpha=.3)\n",
    "plt.title('Before')"
   ]
  },
  {
   "cell_type": "code",
   "execution_count": 17,
   "id": "nominated-skating",
   "metadata": {},
   "outputs": [
    {
     "data": {
      "text/plain": [
       "Text(0.5, 1.0, 'After')"
      ]
     },
     "execution_count": 17,
     "metadata": {},
     "output_type": "execute_result"
    },
    {
     "data": {
      "image/png": "[encoded data removed]",
      "text/plain": [
       "<Figure size 432x288 with 1 Axes>"
      ]
     },
     "metadata": {},
     "output_type": "display_data"
    }
   ],
   "source": [
    "sndata.plot_lc(obs_after, False)\n",
    "plt.title('After')"
   ]
  },
  {
   "cell_type": "markdown",
   "id": "crucial-community",
   "metadata": {},
   "source": [
    "[Go back to top.](#index)\n",
    "\n",
    "*Previous notebook:* [1_load_data](1_load_data.ipynb)\n",
    "\n",
    "**Next notebook:** [3_model_lightcurves](3_model_lightcurves.ipynb)"
   ]
  }
 ],
 "metadata": {
  "kernelspec": {
   "display_name": "Python 3",
   "language": "python",
   "name": "python3"
  },
  "language_info": {
   "codemirror_mode": {
    "name": "ipython",
    "version": 3
   },
   "file_extension": ".py",
   "mimetype": "text/x-python",
   "name": "python",
   "nbconvert_exporter": "python",
   "pygments_lexer": "ipython3",
   "version": "3.7.9"
  }
 },
 "nbformat": 4,
 "nbformat_minor": 5
}
