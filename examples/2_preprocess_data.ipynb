{
 "cells": [
  {
   "cell_type": "markdown",
   "id": "empirical-cradle",
   "metadata": {},
   "source": [
    "# Preprocess dataset\n",
    "\n",
    "In this notebook we exemplify the ligh curve preprocessing described in [Link to paper]().\n",
    "For that we use the SNe Ia, SN Ibc and SN II of the PLAsTiCC dataset. **references**.\n",
    "\n",
    "#### Index<a name=\"index\"></a>\n",
    "1. [Import packages](#imports)\n",
    "2. [Load the original dataset](#loadData)\n",
    "3. [Preprocess light curves](#preprocess)\n",
    "4. [Save processed PlasticcData](#saveData)\n",
    "5. [Light curve comparison](#comparison)\n",
    "\n",
    "## 1. Import packages<a name=\"imports\"></a>"
   ]
  },
  {
   "cell_type": "code",
   "execution_count": null,
   "id": "central-transcript",
   "metadata": {},
   "outputs": [],
   "source": [
    "!pip install ../snmachine/"
   ]
  },
  {
   "cell_type": "code",
   "execution_count": null,
   "id": "adequate-rebate",
   "metadata": {},
   "outputs": [],
   "source": [
    "import os\n",
    "import pickle\n",
    "import sys"
   ]
  },
  {
   "cell_type": "code",
   "execution_count": null,
   "id": "raised-female",
   "metadata": {},
   "outputs": [],
   "source": [
    "import matplotlib.pyplot as plt\n",
    "import seaborn as sns"
   ]
  },
  {
   "cell_type": "code",
   "execution_count": null,
   "id": "corresponding-cherry",
   "metadata": {},
   "outputs": [],
   "source": [
    "from snmachine import sndata\n",
    "from utils.plasticc_pipeline import get_directories, load_dataset"
   ]
  },
  {
   "cell_type": "code",
   "execution_count": null,
   "id": "assumed-explanation",
   "metadata": {},
   "outputs": [],
   "source": [
    "%config Completer.use_jedi = False  # enable autocomplete"
   ]
  },
  {
   "cell_type": "markdown",
   "id": "damaged-execution",
   "metadata": {},
   "source": [
    "#### Aestetic settings"
   ]
  },
  {
   "cell_type": "code",
   "execution_count": null,
   "id": "patient-requirement",
   "metadata": {},
   "outputs": [],
   "source": [
    "%matplotlib inline\n",
    "\n",
    "sns.set(font_scale=1.3, style=\"ticks\")"
   ]
  },
  {
   "cell_type": "markdown",
   "id": "consolidated-yugoslavia",
   "metadata": {},
   "source": [
    "## 2. Load original dataset<a name=\"loadData\"></a>\n",
    "\n",
    "First, **write** the path to the dataset folder `folder_path`."
   ]
  },
  {
   "cell_type": "code",
   "execution_count": null,
   "id": "therapeutic-ideal",
   "metadata": {},
   "outputs": [],
   "source": [
    "root_dir = '/share/hypatia/snmachine_resources/plasticc'\n",
    "folder_path = os.path.join(root_dir, 'data', 'raw_data')"
   ]
  },
  {
   "cell_type": "markdown",
   "id": "joined-sponsorship",
   "metadata": {},
   "source": [
    "Then, **write** in `data_file_name` the name of the file where your dataset is saved.\n",
    "\n",
    "In this notebook we use the dataset created in [1_load_data]()."
   ]
  },
  {
   "cell_type": "code",
   "execution_count": null,
   "id": "conventional-garbage",
   "metadata": {},
   "outputs": [],
   "source": [
    "data_file_name = 'example_dataset.pckl'"
   ]
  },
  {
   "cell_type": "markdown",
   "id": "considerable-lotus",
   "metadata": {},
   "source": [
    "Load the dataset."
   ]
  },
  {
   "cell_type": "code",
   "execution_count": null,
   "id": "confused-dragon",
   "metadata": {},
   "outputs": [],
   "source": [
    "data_path = os.path.join(folder_path, data_file_name)\n",
    "dataset = load_dataset(data_path)"
   ]
  },
  {
   "cell_type": "markdown",
   "id": "modular-conservation",
   "metadata": {},
   "source": [
    "Save the data of one event to later compare on the Section [Light curve transformation](#transformation). **Choose** the event by modifying `obj_show`."
   ]
  },
  {
   "cell_type": "code",
   "execution_count": null,
   "id": "perceived-dietary",
   "metadata": {},
   "outputs": [],
   "source": [
    "obj_show = '7033'\n",
    "obs_before = dataset.data[obj_show].to_pandas()"
   ]
  },
  {
   "cell_type": "markdown",
   "id": "animal-astronomy",
   "metadata": {},
   "source": [
    "## 3. Preprocess light curves<a name=\"preprocess\"></a>\n",
    "\n",
    "**Write** the maximum duration of the gap to allowed in the light curves, `max_gap_length`."
   ]
  },
  {
   "cell_type": "code",
   "execution_count": null,
   "id": "listed-discount",
   "metadata": {},
   "outputs": [],
   "source": [
    "max_gap_length = 50"
   ]
  },
  {
   "cell_type": "markdown",
   "id": "front-twenty",
   "metadata": {},
   "source": [
    "To remove all the gaps longer than `max_gap_length`, the `remove_gaps` function must be called a few times; it only removes the first gap longer than `max_gap_length`.\n",
    "\n",
    "To introduce uniformity in the dataset, the resulting light curves are tranlated so their first observation is at time zero."
   ]
  },
  {
   "cell_type": "code",
   "execution_count": null,
   "id": "hundred-description",
   "metadata": {},
   "outputs": [],
   "source": [
    "dataset.remove_gaps(max_gap_length*2, verbose=True)\n",
    "dataset.remove_gaps(max_gap_length*2, verbose=True)\n",
    "dataset.remove_gaps(max_gap_length, verbose=True)\n",
    "dataset.remove_gaps(max_gap_length, verbose=True)\n",
    "dataset.remove_gaps(max_gap_length, verbose=True)"
   ]
  },
  {
   "cell_type": "code",
   "execution_count": null,
   "id": "statutory-lecture",
   "metadata": {},
   "outputs": [],
   "source": [
    "print(f'The longest processed light curve has {dataset.get_max_length():.2f} days.')"
   ]
  },
  {
   "cell_type": "markdown",
   "id": "whole-struggle",
   "metadata": {},
   "source": [
    "## 4. Save processed PlasticcData<a name=\"saveData\"></a>\n",
    "\n",
    "Now, **chose** a path to save the PlasticcData instance created (`folder_path_to_save`) and the name of the file (`file_name`)."
   ]
  },
  {
   "cell_type": "code",
   "execution_count": null,
   "id": "listed-camera",
   "metadata": {},
   "outputs": [],
   "source": [
    "folder_path_to_save = folder_path\n",
    "file_name = data_file_name[:-5]+'_gapless50.pckl'\n",
    "file_name"
   ]
  },
  {
   "cell_type": "code",
   "execution_count": null,
   "id": "blessed-hormone",
   "metadata": {},
   "outputs": [],
   "source": [
    "with open(os.path.join(folder_path_to_save, file_name), 'wb') as f:\n",
    "    pickle.dump(dataset, f, pickle.HIGHEST_PROTOCOL)"
   ]
  },
  {
   "cell_type": "markdown",
   "id": "auburn-athletics",
   "metadata": {},
   "source": [
    "[Go back to top.](#index)\n",
    "\n",
    "## 5. Light curve comparison<a name=\"comparison\"></a>\n",
    "\n",
    "Here we show the difference between one original light curve and the transformed one."
   ]
  },
  {
   "cell_type": "code",
   "execution_count": null,
   "id": "existing-firewall",
   "metadata": {},
   "outputs": [],
   "source": [
    "obs_after = dataset.data[obj_show]"
   ]
  },
  {
   "cell_type": "code",
   "execution_count": null,
   "id": "annual-polymer",
   "metadata": {},
   "outputs": [],
   "source": [
    "sndata.plot_lc(obs_before)\n",
    "plt.axvspan(xmin=729, xmax=849, color='gray', alpha=.3)"
   ]
  },
  {
   "cell_type": "code",
   "execution_count": null,
   "id": "radical-particular",
   "metadata": {},
   "outputs": [],
   "source": [
    "sndata.plot_lc(obs_after, False)"
   ]
  },
  {
   "cell_type": "markdown",
   "id": "periodic-skirt",
   "metadata": {},
   "source": [
    "[Go back to top.](#index)"
   ]
  }
 ],
 "metadata": {
  "kernelspec": {
   "display_name": "Python 3",
   "language": "python",
   "name": "python3"
  },
  "language_info": {
   "codemirror_mode": {
    "name": "ipython",
    "version": 3
   },
   "file_extension": ".py",
   "mimetype": "text/x-python",
   "name": "python",
   "nbconvert_exporter": "python",
   "pygments_lexer": "ipython3",
   "version": "3.7.9"
  }
 },
 "nbformat": 4,
 "nbformat_minor": 5
}
