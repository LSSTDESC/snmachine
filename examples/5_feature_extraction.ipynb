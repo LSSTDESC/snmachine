{
 "cells": [
  {
   "cell_type": "markdown",
   "id": "owned-stewart",
   "metadata": {},
   "source": [
    "# Feature Extraction\n",
    "\n",
    "In this notebook we follow the wavelet decomposition approach of [Lochner et al. (2016)](https://iopscience.iop.org/article/10.3847/0067-0049/225/2/31) to extract features. We also include the photometric redshift and its uncertainty as classification features.\n",
    "\n",
    "#### Index<a name=\"index\"></a>\n",
    "1. [Import Packages](#imports)\n",
    "2. [Load Dataset](#loadData)\n",
    "3. [Extract Features](#features)\n",
    "    1. [Fit Gaussian Processes](#gps)\n",
    "    2. [Wavelet Decomposition](#waveletDecomp)\n",
    "    3. [Include Redshift Information](#addZ)\n",
    "    4. [Save the Features](#saveFeatures)\n",
    "\n",
    "## 1. Import Packages<a name=\"imports\"></a>"
   ]
  },
  {
   "cell_type": "code",
   "execution_count": null,
   "id": "present-opinion",
   "metadata": {},
   "outputs": [],
   "source": [
    "!pip install ../snmachine/"
   ]
  },
  {
   "cell_type": "code",
   "execution_count": null,
   "id": "traditional-partition",
   "metadata": {},
   "outputs": [],
   "source": [
    "import collections\n",
    "import os\n",
    "import pickle\n",
    "import sys\n",
    "import time"
   ]
  },
  {
   "cell_type": "code",
   "execution_count": null,
   "id": "identified-stuart",
   "metadata": {},
   "outputs": [],
   "source": [
    "import matplotlib.pyplot as plt\n",
    "import numpy as np\n",
    "import pandas as pd\n",
    "import seaborn as sns"
   ]
  },
  {
   "cell_type": "code",
   "execution_count": null,
   "id": "convinced-shakespeare",
   "metadata": {},
   "outputs": [],
   "source": [
    "import lightgbm as lgb\n",
    "import matplotlib.pyplot as plt\n",
    "import numpy as np\n",
    "import pandas as pd\n",
    "import scipy.stats"
   ]
  },
  {
   "cell_type": "code",
   "execution_count": null,
   "id": "broadband-alexandria",
   "metadata": {},
   "outputs": [],
   "source": [
    "from snmachine import gps, snfeatures\n",
    "from utils.plasticc_pipeline import load_dataset"
   ]
  },
  {
   "cell_type": "code",
   "execution_count": null,
   "id": "electronic-holiday",
   "metadata": {},
   "outputs": [],
   "source": [
    "%config Completer.use_jedi = False  # enable autocomplete"
   ]
  },
  {
   "cell_type": "markdown",
   "id": "saved-amplifier",
   "metadata": {},
   "source": [
    "## 2. Load Dataset<a name=\"loadData\"></a>\n",
    "\n",
    "First, **write** the path to the folder that contains the dataset we want to augment, `folder_path`."
   ]
  },
  {
   "cell_type": "code",
   "execution_count": null,
   "id": "introductory-accounting",
   "metadata": {},
   "outputs": [],
   "source": [
    "root_dir = '/share/hypatia/snmachine_resources/plasticc'\n",
    "folder_path = os.path.join(root_dir, 'data', 'raw_data')"
   ]
  },
  {
   "cell_type": "markdown",
   "id": "final-bradley",
   "metadata": {},
   "source": [
    "Then, **write** in `data_file_name` the name of the file where your dataset is saved.\n",
    "\n",
    "In this notebook we use the dataset saved in [4_augment_data]()."
   ]
  },
  {
   "cell_type": "code",
   "execution_count": null,
   "id": "breathing-crown",
   "metadata": {},
   "outputs": [],
   "source": [
    "data_file_name = 'example_dataset_aug.pckl'"
   ]
  },
  {
   "cell_type": "markdown",
   "id": "serious-savage",
   "metadata": {},
   "source": [
    "Load the dataset."
   ]
  },
  {
   "cell_type": "code",
   "execution_count": null,
   "id": "crude-memorabilia",
   "metadata": {},
   "outputs": [],
   "source": [
    "data_path = os.path.join(folder_path, data_file_name)\n",
    "dataset = load_dataset(data_path)"
   ]
  },
  {
   "cell_type": "markdown",
   "id": "cross-flight",
   "metadata": {},
   "source": [
    "## 3. Extract Features<a name=\"features\"></a>\n",
    "\n",
    "### 3.1. Fit Gaussian Processes<a name=\"gps\"></a>\n",
    "\n",
    "To obtain the wavelet decomposition, we first used the GPs to interpolate all light curves onto the same time grid; we chose approximately one grid point per day and used a two-level wavelet decomposition, following [Lochner et al. (2016)](https://iopscience.iop.org/article/10.3847/0067-0049/225/2/31).\n",
    "\n",
    "If you have not fitted the GPs previously, **run** **<font color=Orange>A)</font>**; it follows the GP modeling of light curves described in [3_model_lightcurves]().\n",
    "Otherwise, follow **<font color=Orange>B)</font>** to **read in** the previously saved GPs. \n",
    "\n",
    "First **write** the path to the folder where the GP files will be/were saved (`saved_gps_path`)."
   ]
  },
  {
   "cell_type": "code",
   "execution_count": null,
   "id": "prerequisite-minister",
   "metadata": {},
   "outputs": [],
   "source": [
    "saved_gps_path = os.path.join(folder_path, data_file_name[:-5])"
   ]
  },
  {
   "cell_type": "markdown",
   "id": "independent-jamaica",
   "metadata": {},
   "source": [
    "**<font color=Orange>A)</font>** **Choose**:\n",
    "- `t_min`: minimim time to evaluate the Gaussian Process Regression at.\n",
    "- `t_max`: maximum time to evaluate the Gaussian Process Regression at.\n",
    "- `gp_dim`: dimension of the Gaussian Process Regression. If  `gp_dim` is 1, the filters are fitted independently. If `gp_dim` is 2, the Matern kernel is used to fit light curves both in time and wavelength.\n",
    "- `number_gp`: number of points to evaluate the Gaussian Process Regression at.\n",
    "- `number_processes`: number of processors to use for parallelisation (**<font color=green>optional</font>**)."
   ]
  },
  {
   "cell_type": "code",
   "execution_count": null,
   "id": "compact-bosnia",
   "metadata": {},
   "outputs": [],
   "source": [
    "t_min = 0\n",
    "t_max = 277\n",
    "\n",
    "gp_dim = 2\n",
    "number_gp = 276\n",
    "number_processes = 1"
   ]
  },
  {
   "cell_type": "code",
   "execution_count": null,
   "id": "constitutional-complex",
   "metadata": {},
   "outputs": [],
   "source": [
    "gps.compute_gps(dataset, number_gp=number_gp, t_min=t_min, t_max=t_max, \n",
    "                gp_dim=gp_dim, output_root=saved_gps_path, \n",
    "                number_processes=number_processes)"
   ]
  },
  {
   "cell_type": "markdown",
   "id": "false-mixer",
   "metadata": {},
   "source": [
    "**<font color=Orange>B)</font>** Read in the previously saved GPs."
   ]
  },
  {
   "cell_type": "code",
   "execution_count": null,
   "id": "bridal-institution",
   "metadata": {},
   "outputs": [],
   "source": [
    "gps.read_gp_files_into_models(dataset, saved_gps_path)"
   ]
  },
  {
   "cell_type": "markdown",
   "id": "major-disabled",
   "metadata": {},
   "source": [
    "### 3.2. Wavelet Decomposition<a name=\"waveletDecomp\"></a>\n",
    "\n",
    "Now, we do a wavelet decomposition of the events. **Write** in `saved_wavelets_path` the path to the folder where to save them."
   ]
  },
  {
   "cell_type": "code",
   "execution_count": null,
   "id": "roman-compensation",
   "metadata": {},
   "outputs": [],
   "source": [
    "saved_wavelets_path = saved_gps_path"
   ]
  },
  {
   "cell_type": "markdown",
   "id": "agreed-particle",
   "metadata": {},
   "source": [
    "Following [Lochner et al. (2016)](https://iopscience.iop.org/article/10.3847/0067-0049/225/2/31), we then reduced the dimensionality of this wavelet space using Principal Component Analysis (PCA). Therefore, **choose** the number of PCA components to keep (`number_comps`) and **write** the path to the folder where to save the reduced wavelets (`saved_reduced_wavelets_path`)."
   ]
  },
  {
   "cell_type": "code",
   "execution_count": null,
   "id": "understood-scholar",
   "metadata": {},
   "outputs": [],
   "source": [
    "number_comps = 40\n",
    "saved_reduced_wavelets_path = saved_gps_path"
   ]
  },
  {
   "cell_type": "markdown",
   "id": "rough-douglas",
   "metadata": {},
   "source": [
    "**<font color=Orange>A)</font>** Perform the wavelet decomposition and dimensionality reduction."
   ]
  },
  {
   "cell_type": "code",
   "execution_count": null,
   "id": "single-context",
   "metadata": {},
   "outputs": [],
   "source": [
    "wf = snfeatures.WaveletFeatures(output_root=saved_wavelets_path)\n",
    "\n",
    "reduced_wavelet_features = wf.compute_reduced_features(\n",
    "    dataset, number_comps=number_comps, \n",
    "    **{'wavelet_name': 'sym2', 'number_decomp_levels': 2,\n",
    "       'path_save_eigendecomp': saved_reduced_wavelets_path})"
   ]
  },
  {
   "cell_type": "markdown",
   "id": "local-graph",
   "metadata": {},
   "source": [
    "If you previously calculated the wavelet decomposition of the events, and are only looking to project them into a lower dimensional space saved in `saved_reduced_wavelets_path`, run **<font color=Orange>B)</font>**.\n",
    "\n",
    "**<font color=Orange>B)</font>** Project previously calculated wavelet features onto a lower dimensional space."
   ]
  },
  {
   "cell_type": "markdown",
   "id": "large-diameter",
   "metadata": {},
   "source": [
    "```python\n",
    "wf = snfeatures.WaveletFeatures(output_root=saved_wavelets_path)\n",
    "feature_space = wf.load_feature_space(dataset)\n",
    "\n",
    "reduced_wavelet_features = wf.project_to_space(\n",
    "    feature_space, path_saved_eigendecomp=saved_reduced_wavelets_path,\n",
    "    number_comps=number_comps)\n",
    "```"
   ]
  },
  {
   "cell_type": "markdown",
   "id": "homeless-mattress",
   "metadata": {},
   "source": [
    "Save the reduced features."
   ]
  },
  {
   "cell_type": "code",
   "execution_count": null,
   "id": "corrected-distributor",
   "metadata": {},
   "outputs": [],
   "source": [
    "wf.save_reduced_features(reduced_wavelet_features, saved_reduced_wavelets_path)"
   ]
  },
  {
   "cell_type": "markdown",
   "id": "following-bangkok",
   "metadata": {},
   "source": [
    "### 3.3. Include Redshift Information<a name=\"addZ\"></a>\n",
    "\n",
    "In [paper]() we found that photometric redshift and its uncertainty are crucial for classification. Therefore, in the cell bellow, we include these properties as features. **Modify** it to include other properties as features."
   ]
  },
  {
   "cell_type": "code",
   "execution_count": null,
   "id": "lonely-symphony",
   "metadata": {},
   "outputs": [],
   "source": [
    "features = reduced_wavelet_features.copy()  # only the wavelet features\n",
    "\n",
    "metadata = dataset.metadata\n",
    "features['hostgal_photoz'] = metadata.hostgal_photoz.values.astype(float)\n",
    "features['hostgal_photoz_err'] = metadata.hostgal_photoz_err.values.astype(float)"
   ]
  },
  {
   "cell_type": "markdown",
   "id": "parallel-audience",
   "metadata": {},
   "source": [
    "### 3.4. Save the Features<a name=\"saveFeatures\"></a>\n",
    "\n",
    "**Write** in `saved_features_path` the path to the folder where to save the final set of features."
   ]
  },
  {
   "cell_type": "code",
   "execution_count": null,
   "id": "third-hospital",
   "metadata": {},
   "outputs": [],
   "source": [
    "saved_features_path = saved_gps_path"
   ]
  },
  {
   "cell_type": "markdown",
   "id": "expected-regard",
   "metadata": {},
   "source": [
    "Save the features and the class of the events."
   ]
  },
  {
   "cell_type": "code",
   "execution_count": null,
   "id": "smaller-commons",
   "metadata": {},
   "outputs": [],
   "source": [
    "features.to_pickle(os.path.join(saved_features_path, 'features.pckl'))\n",
    "\n",
    "data_labels = dataset.labels.astype(int)  # class label of each event\n",
    "data_labels.to_pickle(os.path.join(saved_features_path, 'data_labels.pckl'))"
   ]
  },
  {
   "cell_type": "markdown",
   "id": "worth-registrar",
   "metadata": {},
   "source": [
    "[Go back to top.](#index)"
   ]
  }
 ],
 "metadata": {
  "kernelspec": {
   "display_name": "Python 3",
   "language": "python",
   "name": "python3"
  },
  "language_info": {
   "codemirror_mode": {
    "name": "ipython",
    "version": 3
   },
   "file_extension": ".py",
   "mimetype": "text/x-python",
   "name": "python",
   "nbconvert_exporter": "python",
   "pygments_lexer": "ipython3",
   "version": "3.7.9"
  }
 },
 "nbformat": 4,
 "nbformat_minor": 5
}
