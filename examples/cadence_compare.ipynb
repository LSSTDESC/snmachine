{
 "cells": [
  {
   "cell_type": "markdown",
   "metadata": {},
   "source": [
    "# Notebook for comparing observing stratergies and their effect on Supernova classification"
   ]
  },
  {
   "cell_type": "markdown",
   "metadata": {},
   "source": [
    "This notebook illustrates the use of the `snmachine` supernova classification package by classifying a subset simulated data from the supernova photometric classification challenge (SPCC). \n",
    "\n",
    "See Lochner et al. (2016) http://arxiv.org/abs/1603.00882\n",
    "\n",
    "NOTE: The results here differ slightly from the paper because we're using a much smaller dataset (in the interest of disk space and speed) and the feature extraction methods use least squares here (which is must faster) whereas in the paper we used nested sampling for more accurate fits."
   ]
  },
  {
   "cell_type": "markdown",
   "metadata": {},
   "source": [
    "<img src=\"pipeline.png\" width=600>"
   ]
  },
  {
   "cell_type": "markdown",
   "metadata": {},
   "source": [
    "This image illustrates the how the pipeline works. As the user, you can choose what feature extraction method you want to use. Here we have three (four, technically, since there are two parametric models) but it's straighforward to write a new feature extraction method. Once features have been extracted, they can be run through one of several machine learning algorithms and again, it's easy to write your own algorithm into the pipeline. There's a convenience function in `snclassifier` to run a feature set through multiple algorithms and plot the result. The rest of this notebook goes through applying each of the feature extraction methods to a set of simulations and running all feature sets through different classification algorithms."
   ]
  },
  {
   "cell_type": "code",
   "execution_count": 1,
   "metadata": {
    "scrolled": true
   },
   "outputs": [],
   "source": [
    "%%capture --no-stdout \n",
    "#I use this to supress unnecessary warnings for clarity\n",
    "%load_ext autoreload\n",
    "%autoreload #Use this to reload modules if they are changed on disk while the notebook is running\n",
    "from __future__ import division\n",
    "from snmachine import sndata, snfeatures, snclassifier, tsne_plot, example_data\n",
    "import numpy as np\n",
    "import matplotlib.pyplot as plt\n",
    "import time, os, pywt,subprocess\n",
    "from sklearn.decomposition import PCA\n",
    "from astropy.table import Table,join,vstack\n",
    "from astropy.io import fits\n",
    "import sklearn.metrics \n",
    "import sncosmo\n",
    "%matplotlib nbagg"
   ]
  },
  {
   "cell_type": "markdown",
   "metadata": {},
   "source": [
    "## Set up output structure"
   ]
  },
  {
   "cell_type": "markdown",
   "metadata": {},
   "source": [
    "We make lots of output files so it makes sense to put them in one place. This is the recommended output file structure."
   ]
  },
  {
   "cell_type": "code",
   "execution_count": 5,
   "metadata": {},
   "outputs": [],
   "source": [
    "dataset='lsst'"
   ]
  },
  {
   "cell_type": "code",
   "execution_count": 6,
   "metadata": {},
   "outputs": [
    {
     "data": {
      "text/plain": [
       "1"
      ]
     },
     "execution_count": 6,
     "metadata": {},
     "output_type": "execute_result"
    }
   ],
   "source": [
    "# WARNING...\n",
    "#Multinest uses a hardcoded character limit for the output file names. I believe it's a limit of 100 characters\n",
    "#so avoid making this file path to lengthy if using nested sampling or multinest output file names will be truncated\n",
    "\n",
    "#Change outdir to somewhere on your computer if you like\n",
    "outdir=os.path.join('output_%s_no_z' %dataset,'')\n",
    "out_features=os.path.join(outdir,'features') #Where we save the extracted features to\n",
    "out_class=os.path.join(outdir,'classifications') #Where we save the classification probabilities and ROC curves\n",
    "out_int=os.path.join(outdir,'int') #Any intermediate files (such as multinest chains or GP fits)\n",
    "\n",
    "subprocess.call(['mkdir',outdir])\n",
    "subprocess.call(['mkdir',out_features])\n",
    "subprocess.call(['mkdir',out_class])\n",
    "subprocess.call(['mkdir',out_int])"
   ]
  },
  {
   "cell_type": "code",
   "execution_count": 7,
   "metadata": {},
   "outputs": [
    {
     "name": "stdout",
     "output_type": "stream",
     "text": [
      "output_lsst_no_z/\n"
     ]
    }
   ],
   "source": [
    "print(outdir)"
   ]
  },
  {
   "cell_type": "markdown",
   "metadata": {},
   "source": [
    "## Initialise dataset object"
   ]
  },
  {
   "cell_type": "markdown",
   "metadata": {},
   "source": [
    "Load a subset of the SPCC DES simulated data (http://arxiv.org/abs/1008.1024)"
   ]
  },
  {
   "cell_type": "code",
   "execution_count": 38,
   "metadata": {},
   "outputs": [
    {
     "name": "stdout",
     "output_type": "stream",
     "text": [
      "/Users/tallamjr/PhD/project/snmachine/snmachine/example_data/SPCC_SUBSET/\n"
     ]
    }
   ],
   "source": [
    "#Data root\n",
    "rt=os.path.join(example_data, 'SPCC_SUBSET','')\n",
    "print(rt)"
   ]
  },
  {
   "cell_type": "code",
   "execution_count": 25,
   "metadata": {},
   "outputs": [],
   "source": [
    "#We can automatically untar the data from here\n",
    "# if not os.path.exists(rt):\n",
    "#    subprocess.call(['tar', '-zxvf', 'SPCC_SUBSET.tar.gz'])"
   ]
  },
  {
   "cell_type": "code",
   "execution_count": 26,
   "metadata": {
    "scrolled": true
   },
   "outputs": [
    {
     "name": "stdout",
     "output_type": "stream",
     "text": [
      "Reading data...\n",
      "2000 objects read into memory.\n"
     ]
    }
   ],
   "source": [
    "dat=sndata.Dataset(rt)"
   ]
  },
  {
   "cell_type": "code",
   "execution_count": 27,
   "metadata": {},
   "outputs": [],
   "source": [
    "#For now we restrict ourselves to three supernova types: Ia (1), II (2) and Ibc (3)\n",
    "types=dat.get_types()\n",
    "types['Type'][np.floor(types['Type']/10)==2]=2\n",
    "types['Type'][np.floor(types['Type']/10)==3]=3"
   ]
  },
  {
   "cell_type": "markdown",
   "metadata": {
    "collapsed": true
   },
   "source": [
    "Now we can plot all the data and cycle through it (left and right arrows on your keyboard)"
   ]
  },
  {
   "cell_type": "code",
   "execution_count": 28,
   "metadata": {
    "scrolled": false
   },
   "outputs": [
    {
     "data": {
      "image/png": "[encoded data removed]",
      "text/plain": [
       "<Figure size 432x288 with 1 Axes>"
      ]
     },
     "metadata": {},
     "output_type": "display_data"
    }
   ],
   "source": [
    "dat.plot_all()"
   ]
  },
  {
   "cell_type": "markdown",
   "metadata": {},
   "source": [
    "Each light curve is represented in the Dataset object as an astropy table, compatible with `sncosmo`:"
   ]
  },
  {
   "cell_type": "code",
   "execution_count": 29,
   "metadata": {
    "scrolled": true
   },
   "outputs": [
    {
     "data": {
      "text/html": [
       "<i>Table length=113</i>\n",
       "<table id=\"table4887442936\" class=\"table-striped table-bordered table-condensed\">\n",
       "<thead><tr><th>mjd</th><th>filter</th><th>flux</th><th>flux_error</th><th>zp</th><th>zpsys</th></tr></thead>\n",
       "<thead><tr><th>float64</th><th>str4</th><th>float64</th><th>float64</th><th>float64</th><th>str2</th></tr></thead>\n",
       "<tr><td>0.0</td><td>desg</td><td>-0.7663</td><td>10.48</td><td>27.5</td><td>ab</td></tr>\n",
       "<tr><td>0.0160000000033</td><td>desr</td><td>3.049</td><td>7.841</td><td>27.5</td><td>ab</td></tr>\n",
       "<tr><td>0.0320000000065</td><td>desi</td><td>0.4541</td><td>9.312</td><td>27.5</td><td>ab</td></tr>\n",
       "<tr><td>0.977000000006</td><td>desz</td><td>4.622</td><td>5.329</td><td>27.5</td><td>ab</td></tr>\n",
       "<tr><td>1.985</td><td>desg</td><td>0.8938</td><td>3.205</td><td>27.5</td><td>ab</td></tr>\n",
       "<tr><td>2.0</td><td>desr</td><td>3.493</td><td>2.427</td><td>27.5</td><td>ab</td></tr>\n",
       "<tr><td>2.016</td><td>desi</td><td>-2.318</td><td>4.311</td><td>27.5</td><td>ab</td></tr>\n",
       "<tr><td>9.957</td><td>desz</td><td>39.55</td><td>27.34</td><td>27.5</td><td>ab</td></tr>\n",
       "<tr><td>10.106</td><td>desg</td><td>-26.03</td><td>25.58</td><td>27.5</td><td>ab</td></tr>\n",
       "<tr><td>10.121</td><td>desr</td><td>8.005</td><td>4.158</td><td>27.5</td><td>ab</td></tr>\n",
       "<tr><td>...</td><td>...</td><td>...</td><td>...</td><td>...</td><td>...</td></tr>\n",
       "<tr><td>141.809</td><td>desg</td><td>-3.739</td><td>6.169</td><td>27.5</td><td>ab</td></tr>\n",
       "<tr><td>141.817</td><td>desr</td><td>1.227</td><td>2.489</td><td>27.5</td><td>ab</td></tr>\n",
       "<tr><td>141.825</td><td>desi</td><td>7.29</td><td>3.656</td><td>27.5</td><td>ab</td></tr>\n",
       "<tr><td>141.836</td><td>desz</td><td>7.572</td><td>4.396</td><td>27.5</td><td>ab</td></tr>\n",
       "<tr><td>149.813</td><td>desg</td><td>-0.7022</td><td>3.351</td><td>27.5</td><td>ab</td></tr>\n",
       "<tr><td>149.821</td><td>desr</td><td>-0.0889</td><td>2.403</td><td>27.5</td><td>ab</td></tr>\n",
       "<tr><td>149.836</td><td>desi</td><td>-0.5574</td><td>4.046</td><td>27.5</td><td>ab</td></tr>\n",
       "<tr><td>149.852</td><td>desz</td><td>-1.806</td><td>6.782</td><td>27.5</td><td>ab</td></tr>\n",
       "<tr><td>157.828</td><td>desg</td><td>3.068</td><td>3.701</td><td>27.5</td><td>ab</td></tr>\n",
       "<tr><td>157.848</td><td>desr</td><td>-1.397</td><td>3.007</td><td>27.5</td><td>ab</td></tr>\n",
       "</table>"
      ],
      "text/plain": [
       "<Table length=113>\n",
       "      mjd       filter   flux  flux_error    zp   zpsys\n",
       "    float64      str4  float64  float64   float64  str2\n",
       "--------------- ------ ------- ---------- ------- -----\n",
       "            0.0   desg -0.7663      10.48    27.5    ab\n",
       "0.0160000000033   desr   3.049      7.841    27.5    ab\n",
       "0.0320000000065   desi  0.4541      9.312    27.5    ab\n",
       " 0.977000000006   desz   4.622      5.329    27.5    ab\n",
       "          1.985   desg  0.8938      3.205    27.5    ab\n",
       "            2.0   desr   3.493      2.427    27.5    ab\n",
       "          2.016   desi  -2.318      4.311    27.5    ab\n",
       "          9.957   desz   39.55      27.34    27.5    ab\n",
       "         10.106   desg  -26.03      25.58    27.5    ab\n",
       "         10.121   desr   8.005      4.158    27.5    ab\n",
       "            ...    ...     ...        ...     ...   ...\n",
       "        141.809   desg  -3.739      6.169    27.5    ab\n",
       "        141.817   desr   1.227      2.489    27.5    ab\n",
       "        141.825   desi    7.29      3.656    27.5    ab\n",
       "        141.836   desz   7.572      4.396    27.5    ab\n",
       "        149.813   desg -0.7022      3.351    27.5    ab\n",
       "        149.821   desr -0.0889      2.403    27.5    ab\n",
       "        149.836   desi -0.5574      4.046    27.5    ab\n",
       "        149.852   desz  -1.806      6.782    27.5    ab\n",
       "        157.828   desg   3.068      3.701    27.5    ab\n",
       "        157.848   desr  -1.397      3.007    27.5    ab"
      ]
     },
     "execution_count": 29,
     "metadata": {},
     "output_type": "execute_result"
    }
   ],
   "source": [
    "dat.data[dat.object_names[0]]"
   ]
  },
  {
   "cell_type": "markdown",
   "metadata": {},
   "source": [
    "## Extract features for the data"
   ]
  },
  {
   "cell_type": "markdown",
   "metadata": {},
   "source": [
    "The next step is to extract useful features from the data. This can often take a long time, depending on the feature extraction method, so it's a good idea to save these to file (`snmachine` by default saves to astropy tables)"
   ]
  },
  {
   "cell_type": "code",
   "execution_count": 40,
   "metadata": {},
   "outputs": [
    {
     "name": "stdout",
     "output_type": "stream",
     "text": [
      "/Users/tallamjr/PhD/project/snmachine/snmachine/example_data/output_lsst_no_z/features/lsst_all\n"
     ]
    }
   ],
   "source": [
    "read_from_file=False #We can use this flag to quickly rerun from saved features\n",
    "\n",
    "out_features_dat=os.path.join(example_data, out_features,'features') #Where we save the extracted features to\n",
    "subprocess.call(['mkdir', '-p',out_features_dat])\n",
    "\n",
    "run_name=os.path.join(example_data, out_features,'%s_all' %dataset)\n",
    "print(run_name)"
   ]
  },
  {
   "cell_type": "markdown",
   "metadata": {},
   "source": [
    "t-SNE plots: \n",
    "These are useful visualisation plots which embed high dimensional features into a lower dimensional space to indicate how well the features separate between classes (see https://lvdmaaten.github.io/tsne/)"
   ]
  },
  {
   "cell_type": "markdown",
   "metadata": {},
   "source": [
    "### Wavelet features"
   ]
  },
  {
   "cell_type": "markdown",
   "metadata": {},
   "source": [
    "The wavelet feature extraction process is quite complicated, although it is fairly fast. Remember to save the PCA eigenvalues, vectors and mean for later reconstruction!"
   ]
  },
  {
   "cell_type": "code",
   "execution_count": 41,
   "metadata": {},
   "outputs": [],
   "source": [
    "waveFeats=snfeatures.WaveletFeatures()"
   ]
  },
  {
   "cell_type": "code",
   "execution_count": 42,
   "metadata": {
    "scrolled": true
   },
   "outputs": [
    {
     "name": "stdout",
     "output_type": "stream",
     "text": [
      "Performing Gaussian process regression\n",
      "DES_SN000642.DAT\n",
      "DES_SN038961.DAT\n",
      "DES_SN078784.DAT\n",
      "DES_SN114902.DAT\n",
      "DES_SN158372.DAT\n",
      "DES_SN193701.DAT\n",
      "DES_SN233023.DAT\n",
      "DES_SN271748.DAT\n",
      "DES_SN307719.DAT\n",
      "DES_SN337157.DAT\n",
      "DES_SN372696.DAT\n",
      "DES_SN406784.DAT\n",
      "DES_SN443045.DAT\n",
      "DES_SN486601.DAT\n",
      "DES_SN527005.DAT\n",
      "DES_SN568107.DAT\n",
      "DES_SN601066.DAT\n",
      "DES_SN640747.DAT\n",
      "DES_SN681254.DAT\n",
      "DES_SN717910.DAT\n",
      "DES_SN758195.DAT\n",
      "DES_SN795507.DAT\n",
      "DES_SN830977.DAT\n",
      "DES_SN869580.DAT\n",
      "Time taken for Gaussian process regression 185.72856998443604\n",
      "Performing wavelet decomposition\n",
      "Time for wavelet decomposition 95.56159687042236\n",
      "Running PCA...\n",
      "Time for PCA 2.8091189861297607\n"
     ]
    }
   ],
   "source": [
    "%%capture --no-stdout\n",
    "if read_from_file:\n",
    "    wave_features=Table.read('%s_wavelets.dat' %run_name, format='ascii')\n",
    "    #Crucial for this format of id's\n",
    "    blah=wave_features['Object'].astype(str)\n",
    "    wave_features.replace_column('Object', blah)\n",
    "    PCA_vals=np.loadtxt('%s_wavelets_PCA_vals.dat' %run_name)\n",
    "    PCA_vec=np.loadtxt('%s_wavelets_PCA_vec.dat' %run_name)\n",
    "    PCA_mean=np.loadtxt('%s_wavelets_PCA_mean.dat' %run_name)\n",
    "else:\n",
    "    wave_features=waveFeats.extract_features(dat,nprocesses=6,output_root=out_int,save_output='all')\n",
    "    wave_features.write('%s_wavelets.dat' %run_name, format='ascii')\n",
    "    np.savetxt('%s_wavelets_PCA_vals.dat' %run_name,waveFeats.PCA_eigenvals)\n",
    "    np.savetxt('%s_wavelets_PCA_vec.dat' %run_name,waveFeats.PCA_eigenvectors)\n",
    "    np.savetxt('%s_wavelets_PCA_mean.dat' %run_name,waveFeats.PCA_mean)\n",
    "    \n",
    "    PCA_vals=waveFeats.PCA_eigenvals\n",
    "    PCA_vec=waveFeats.PCA_eigenvectors\n",
    "    PCA_mean=waveFeats.PCA_mean"
   ]
  },
  {
   "cell_type": "code",
   "execution_count": 43,
   "metadata": {},
   "outputs": [
    {
     "name": "stdout",
     "output_type": "stream",
     "text": [
      "Fitting supernova models...\n",
      "Models fitted.\n"
     ]
    }
   ],
   "source": [
    "dat.set_model(waveFeats.fit_sn,wave_features,PCA_vec,PCA_mean,0,dat.get_max_length(),dat.filter_set)"
   ]
  },
  {
   "cell_type": "code",
   "execution_count": 44,
   "metadata": {},
   "outputs": [
    {
     "data": {
      "image/png": "[encoded data removed]",
      "text/plain": [
       "<Figure size 432x288 with 1 Axes>"
      ]
     },
     "metadata": {},
     "output_type": "display_data"
    }
   ],
   "source": [
    "dat.plot_all()"
   ]
  },
  {
   "cell_type": "code",
   "execution_count": 45,
   "metadata": {},
   "outputs": [
    {
     "data": {
      "image/png": "[encoded data removed]",
      "text/plain": [
       "<Figure size 432x288 with 1 Axes>"
      ]
     },
     "metadata": {},
     "output_type": "display_data"
    }
   ],
   "source": [
    "plt.figure()\n",
    "tsne_plot.plot(wave_features,join(wave_features,types)['Type'])"
   ]
  },
  {
   "cell_type": "markdown",
   "metadata": {},
   "source": [
    "## Classify"
   ]
  },
  {
   "cell_type": "markdown",
   "metadata": {},
   "source": [
    "Finally, we're ready to run the machine learning algorithm. There's a utility function in the `snclassifier` library to make it easy to run all the algorithms available, including converting features to `numpy` arrays and rescaling them and automatically generating ROC curves and metrics. Hyperparameters are automatically selected using a grid search combined with cross-validation. All functionality can also be individually run from `snclassifier`."
   ]
  },
  {
   "cell_type": "markdown",
   "metadata": {},
   "source": [
    "Classifiers can be run in parallel, change this parameter to the number of processors on your machine (we're only running 4 algorithms so it won't help to set this any higher than 4)."
   ]
  },
  {
   "cell_type": "code",
   "execution_count": 46,
   "metadata": {},
   "outputs": [],
   "source": [
    "nproc=2"
   ]
  },
  {
   "cell_type": "code",
   "execution_count": 47,
   "metadata": {},
   "outputs": [
    {
     "name": "stdout",
     "output_type": "stream",
     "text": [
      "['svm', 'knn', 'random_forest', 'decision_tree', 'boost_dt', 'boost_rf', 'nb', 'neural_network']\n"
     ]
    }
   ],
   "source": [
    "#Available classifiers \n",
    "print(snclassifier.choice_of_classifiers)"
   ]
  },
  {
   "cell_type": "markdown",
   "metadata": {},
   "source": [
    "### Wavelet features"
   ]
  },
  {
   "cell_type": "code",
   "execution_count": 48,
   "metadata": {},
   "outputs": [
    {
     "name": "stdout",
     "output_type": "stream",
     "text": [
      "Created classifier of type:\n",
      "RandomForestClassifier(bootstrap=True, class_weight=None, criterion='gini',\n",
      "            max_depth=None, max_features='auto', max_leaf_nodes=None,\n",
      "            min_impurity_split=1e-07, min_samples_leaf=1,\n",
      "            min_samples_split=2, min_weight_fraction_leaf=0.0,\n",
      "            n_estimators=10, n_jobs=1, oob_score=False, random_state=None,\n",
      "            verbose=0, warm_start=False)\n",
      "\n",
      "Optimised parameters: {'criterion': 'entropy', 'n_estimators': 400}\n",
      "Classifier random_forest: AUC = 0.97466008291 FoM = 0.629813664596\n",
      "\n",
      "Time taken  2.0516922871271768 minutes\n"
     ]
    },
    {
     "name": "stderr",
     "output_type": "stream",
     "text": [
      "/Users/tallamjr/PhD/project/snmachine/snmachine/snclassifier.py:128: MatplotlibDeprecationWarning: The set_color_cycle function was deprecated in version 1.5. Use `.set_prop_cycle` instead.\n",
      "  ax.set_color_cycle(cols)\n"
     ]
    },
    {
     "data": {
      "image/png": "[encoded data removed]",
      "text/plain": [
       "<Figure size 432x288 with 1 Axes>"
      ]
     },
     "metadata": {},
     "output_type": "display_data"
    }
   ],
   "source": [
    "plt.figure()\n",
    "clss=snclassifier.run_pipeline(wave_features,types,output_name=os.path.join(out_class,'wavelets'),\n",
    "                          classifiers=['random_forest'], nprocesses=nproc)"
   ]
  },
  {
   "cell_type": "code",
   "execution_count": null,
   "metadata": {},
   "outputs": [],
   "source": []
  }
 ],
 "metadata": {
  "kernelspec": {
   "display_name": "Python 3",
   "language": "python",
   "name": "python3"
  },
  "language_info": {
   "codemirror_mode": {
    "name": "ipython",
    "version": 3
   },
   "file_extension": ".py",
   "mimetype": "text/x-python",
   "name": "python",
   "nbconvert_exporter": "python",
   "pygments_lexer": "ipython3",
   "version": "3.6.6"
  }
 },
 "nbformat": 4,
 "nbformat_minor": 1
}
