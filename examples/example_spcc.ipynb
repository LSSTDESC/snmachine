{
 "cells": [
  {
   "cell_type": "markdown",
   "metadata": {},
   "source": [
    "# Notebook for running the snmachine pipeline on Supernova Photometric Classification Challenge simulated data"
   ]
  },
  {
   "cell_type": "markdown",
   "metadata": {},
   "source": [
    "This notebook illustrates the use of the `snmachine` supernova classification package by classifying a subset simulated data from the supernova photometric classification challenge (SPCC). \n",
    "\n",
    "See Lochner et al. (2016): http://arxiv.org/abs/1603.00882\n",
    "\n",
    "NOTE: The results here differ slightly from the paper because we're using a much smaller dataset (in the interest of disk space and speed). Additionally, here the feature extraction methods use least squares (which is must faster) whereas in the paper we used nested sampling for more accurate fits."
   ]
  },
  {
   "cell_type": "markdown",
   "metadata": {},
   "source": [
    "<img src=\"pipeline.png\" width=600>"
   ]
  },
  {
   "cell_type": "markdown",
   "metadata": {},
   "source": [
    "This image illustrates the how the pipeline works. As the user, you can choose what feature extraction method you want to use. Here we have three (four, technically, since there are two parametric models) but it's straighforward to write a new feature extraction method. Once features have been extracted, they can be run through one of several machine learning algorithms and again, it's easy to write your own algorithm into the pipeline. There's a convenience function in `snclassifier` to run a feature set through multiple algorithms and plot the result. The rest of this notebook goes through applying each of the feature extraction methods to a set of simulations and running all feature sets through different classification algorithms."
   ]
  },
  {
   "cell_type": "code",
   "execution_count": 1,
   "metadata": {},
   "outputs": [
    {
     "name": "stdout",
     "output_type": "stream",
     "text": [
      "\u001b[31mERROR: Directory '../snmachine/' is not installable. Neither 'setup.py' nor 'pyproject.toml' found.\u001b[0m\r\n"
     ]
    }
   ],
   "source": [
    "!pip install ../snmachine/"
   ]
  },
  {
   "cell_type": "code",
   "execution_count": 2,
   "metadata": {},
   "outputs": [],
   "source": [
    "import os"
   ]
  },
  {
   "cell_type": "code",
   "execution_count": 3,
   "metadata": {},
   "outputs": [],
   "source": [
    "import matplotlib.pyplot as plt\n",
    "import numpy as np\n",
    "import seaborn as sns"
   ]
  },
  {
   "cell_type": "code",
   "execution_count": 4,
   "metadata": {},
   "outputs": [
    {
     "name": "stdout",
     "output_type": "stream",
     "text": [
      "No module named 'pymultinest'\n",
      "\n",
      "                PyMultinest not found. If you would like to use, please install\n",
      "                Mulitnest with 'sh install/multinest_install.sh; source\n",
      "                install/setup.sh'\n",
      "                \n"
     ]
    }
   ],
   "source": [
    "from snmachine import example_data, sndata, snfeatures\n",
    "from utils.plasticc_pipeline import create_folder_structure, get_directories"
   ]
  },
  {
   "cell_type": "code",
   "execution_count": 5,
   "metadata": {},
   "outputs": [],
   "source": [
    "%config Completer.use_jedi = False  # enable autocomplete"
   ]
  },
  {
   "cell_type": "markdown",
   "metadata": {},
   "source": [
    "#### Aestetic settings"
   ]
  },
  {
   "cell_type": "code",
   "execution_count": 6,
   "metadata": {},
   "outputs": [],
   "source": [
    "%matplotlib nbagg\n",
    "\n",
    "sns.set(font_scale=1.3, style=\"ticks\")"
   ]
  },
  {
   "cell_type": "code",
   "execution_count": null,
   "metadata": {},
   "outputs": [],
   "source": []
  },
  {
   "cell_type": "code",
   "execution_count": null,
   "metadata": {
    "scrolled": true
   },
   "outputs": [],
   "source": [
    "from __future__ import division\n",
    "from snmachine import sndata, snfeatures, snclassifier, tsne_plot, example_data\n",
    "import numpy as np\n",
    "import matplotlib.pyplot as plt\n",
    "import time, os, pywt,subprocess\n",
    "from sklearn.decomposition import PCA\n",
    "from astropy.table import Table,join,vstack\n",
    "from astropy.io import fits\n",
    "import sklearn.metrics \n",
    "import sncosmo"
   ]
  },
  {
   "cell_type": "code",
   "execution_count": null,
   "metadata": {},
   "outputs": [],
   "source": [
    "%%capture --no-stdout \n",
    "#I use this to supress unnecessary warnings for clarity\n",
    "%load_ext autoreload\n",
    "%autoreload #Use this to reload modules if they are changed on disk while the notebook is running\n",
    "%matplotlib nbagg"
   ]
  },
  {
   "cell_type": "markdown",
   "metadata": {},
   "source": [
    "## Set up output structure"
   ]
  },
  {
   "cell_type": "markdown",
   "metadata": {},
   "source": [
    "We make lots of output files so it makes sense to put them in one place. This is the recommended output file structure.\n",
    "\n",
    "We start by **naming** our analysis."
   ]
  },
  {
   "cell_type": "code",
   "execution_count": 7,
   "metadata": {},
   "outputs": [],
   "source": [
    "dataset_name = 'spcc'\n",
    "analysis_name = os.path.join(f'output_{dataset_name}_no_z')"
   ]
  },
  {
   "cell_type": "markdown",
   "metadata": {},
   "source": [
    "Then, we **write** in `folder_path` the path where to save the folder.\n",
    "\n",
    "Note that `MultiNest` uses a hardcoded character limit for the output file names (we believe it is 100 characters). Thus, avoid making this file path to lengthy if using nested sampling otherwise the multinest output file names will be truncated."
   ]
  },
  {
   "cell_type": "code",
   "execution_count": 8,
   "metadata": {},
   "outputs": [],
   "source": [
    "folder_path = '.'"
   ]
  },
  {
   "cell_type": "markdown",
   "metadata": {},
   "source": [
    "Create the folder structure."
   ]
  },
  {
   "cell_type": "code",
   "execution_count": 9,
   "metadata": {},
   "outputs": [
    {
     "name": "stdout",
     "output_type": "stream",
     "text": [
      "\n",
      "                Folders already exist with this analysis name.\n",
      "\n",
      "                Are you sure you would like to proceed, this will overwrite the\n",
      "                output_spcc_no_z folder [Y/n]\n",
      "                \n",
      "Y\n",
      "Overwriting existing folder..\n"
     ]
    }
   ],
   "source": [
    "create_folder_structure(folder_path, analysis_name)"
   ]
  },
  {
   "cell_type": "markdown",
   "metadata": {},
   "source": [
    "See the folder structure. We save:\n",
    "* the extracted features in `directories['features_directory']`\n",
    "* the classification probabilities and ROC curves in `directories['classifications_directory']`\n",
    "* the any intermediate files (such as multinest chains or GP fits) in `directories['intermediate_files_directory']`"
   ]
  },
  {
   "cell_type": "code",
   "execution_count": 10,
   "metadata": {},
   "outputs": [
    {
     "data": {
      "text/plain": [
       "{'analysis_directory': './output_spcc_no_z',\n",
       " 'features_directory': './output_spcc_no_z/wavelet_features',\n",
       " 'classifications_directory': './output_spcc_no_z/classifications',\n",
       " 'intermediate_files_directory': './output_spcc_no_z/intermediate_files',\n",
       " 'plots_directory': './output_spcc_no_z/plots'}"
      ]
     },
     "execution_count": 10,
     "metadata": {},
     "output_type": "execute_result"
    }
   ],
   "source": [
    "directories = get_directories(folder_path, analysis_name) \n",
    "directories"
   ]
  },
  {
   "cell_type": "code",
   "execution_count": null,
   "metadata": {},
   "outputs": [],
   "source": [
    "path_saved_features = directories['features_directory']\n",
    "path_saved_interm = directories['intermediate_files_directory']\n",
    "path_saved_classifier = directories['classifications_directory']"
   ]
  },
  {
   "cell_type": "markdown",
   "metadata": {},
   "source": [
    "## Initialise dataset object"
   ]
  },
  {
   "cell_type": "markdown",
   "metadata": {},
   "source": [
    "Load a subset of the SPCC DES simulated data (http://arxiv.org/abs/1008.1024). For that, we **write** the path where the data is. Alternatively, we can automatically untar the data."
   ]
  },
  {
   "cell_type": "code",
   "execution_count": 12,
   "metadata": {},
   "outputs": [],
   "source": [
    "data_path = os.path.join(example_data, 'SPCC_SUBSET', '')"
   ]
  },
  {
   "cell_type": "code",
   "execution_count": 13,
   "metadata": {},
   "outputs": [],
   "source": [
    "if not os.path.exists(data_path):  # automatically untar the data\n",
    "    subprocess.call(['tar', '-zxvf', 'SPCC_SUBSET.tar.gz'])"
   ]
  },
  {
   "cell_type": "code",
   "execution_count": 14,
   "metadata": {},
   "outputs": [
    {
     "name": "stdout",
     "output_type": "stream",
     "text": [
      "Reading data...\n",
      "2000 objects read into memory.\n"
     ]
    }
   ],
   "source": [
    "dataset = sndata.Dataset(data_path)"
   ]
  },
  {
   "cell_type": "markdown",
   "metadata": {},
   "source": [
    "For now we restrict ourselves to three supernova types: Ia (1), II (2) and Ibc (3)."
   ]
  },
  {
   "cell_type": "code",
   "execution_count": 15,
   "metadata": {},
   "outputs": [],
   "source": [
    "types = dataset.get_types()\n",
    "types['Type'][np.floor(types['Type']/10)==2] = 2\n",
    "types['Type'][np.floor(types['Type']/10)==3] = 3"
   ]
  },
  {
   "cell_type": "markdown",
   "metadata": {
    "collapsed": true
   },
   "source": [
    "Now we can plot all the data and cycle through it (left and right arrows on your keyboard)"
   ]
  },
  {
   "cell_type": "code",
   "execution_count": 16,
   "metadata": {
    "scrolled": false
   },
   "outputs": [
    {
     "data": {
      "application/javascript": [
       "/* Put everything inside the global mpl namespace */\n",
       "/* global mpl */\n",
       "window.mpl = {};\n",
       "\n",
       "mpl.get_websocket_type = function () {\n",
       "    if (typeof WebSocket !== 'undefined') {\n",
       "        return WebSocket;\n",
       "    } else if (typeof MozWebSocket !== 'undefined') {\n",
       "        return MozWebSocket;\n",
       "    } else {\n",
       "        alert(\n",
       "            'Your browser does not have WebSocket support. ' +\n",
       "                'Please try Chrome, Safari or Firefox ≥ 6. ' +\n",
       "                'Firefox 4 and 5 are also supported but you ' +\n",
       "                'have to enable WebSockets in about:config.'\n",
       "        );\n",
       "    }\n",
       "};\n",
       "\n",
       "mpl.figure = function (figure_id, websocket, ondownload, parent_element) {\n",
       "    this.id = figure_id;\n",
       "\n",
       "    this.ws = websocket;\n",
       "\n",
       "    this.supports_binary = this.ws.binaryType !== undefined;\n",
       "\n",
       "    if (!this.supports_binary) {\n",
       "        var warnings = document.getElementById('mpl-warnings');\n",
       "        if (warnings) {\n",
       "            warnings.style.display = 'block';\n",
       "            warnings.textContent =\n",
       "                'This browser does not support binary websocket messages. ' +\n",
       "                'Performance may be slow.';\n",
       "        }\n",
       "    }\n",
       "\n",
       "    this.imageObj = new Image();\n",
       "\n",
       "    this.context = undefined;\n",
       "    this.message = undefined;\n",
       "    this.canvas = undefined;\n",
       "    this.rubberband_canvas = undefined;\n",
       "    this.rubberband_context = undefined;\n",
       "    this.format_dropdown = undefined;\n",
       "\n",
       "    this.image_mode = 'full';\n",
       "\n",
       "    this.root = document.createElement('div');\n",
       "    this.root.setAttribute('style', 'display: inline-block');\n",
       "    this._root_extra_style(this.root);\n",
       "\n",
       "    parent_element.appendChild(this.root);\n",
       "\n",
       "    this._init_header(this);\n",
       "    this._init_canvas(this);\n",
       "    this._init_toolbar(this);\n",
       "\n",
       "    var fig = this;\n",
       "\n",
       "    this.waiting = false;\n",
       "\n",
       "    this.ws.onopen = function () {\n",
       "        fig.send_message('supports_binary', { value: fig.supports_binary });\n",
       "        fig.send_message('send_image_mode', {});\n",
       "        if (fig.ratio !== 1) {\n",
       "            fig.send_message('set_dpi_ratio', { dpi_ratio: fig.ratio });\n",
       "        }\n",
       "        fig.send_message('refresh', {});\n",
       "    };\n",
       "\n",
       "    this.imageObj.onload = function () {\n",
       "        if (fig.image_mode === 'full') {\n",
       "            // Full images could contain transparency (where diff images\n",
       "            // almost always do), so we need to clear the canvas so that\n",
       "            // there is no ghosting.\n",
       "            fig.context.clearRect(0, 0, fig.canvas.width, fig.canvas.height);\n",
       "        }\n",
       "        fig.context.drawImage(fig.imageObj, 0, 0);\n",
       "    };\n",
       "\n",
       "    this.imageObj.onunload = function () {\n",
       "        fig.ws.close();\n",
       "    };\n",
       "\n",
       "    this.ws.onmessage = this._make_on_message_function(this);\n",
       "\n",
       "    this.ondownload = ondownload;\n",
       "};\n",
       "\n",
       "mpl.figure.prototype._init_header = function () {\n",
       "    var titlebar = document.createElement('div');\n",
       "    titlebar.classList =\n",
       "        'ui-dialog-titlebar ui-widget-header ui-corner-all ui-helper-clearfix';\n",
       "    var titletext = document.createElement('div');\n",
       "    titletext.classList = 'ui-dialog-title';\n",
       "    titletext.setAttribute(\n",
       "        'style',\n",
       "        'width: 100%; text-align: center; padding: 3px;'\n",
       "    );\n",
       "    titlebar.appendChild(titletext);\n",
       "    this.root.appendChild(titlebar);\n",
       "    this.header = titletext;\n",
       "};\n",
       "\n",
       "mpl.figure.prototype._canvas_extra_style = function (_canvas_div) {};\n",
       "\n",
       "mpl.figure.prototype._root_extra_style = function (_canvas_div) {};\n",
       "\n",
       "mpl.figure.prototype._init_canvas = function () {\n",
       "    var fig = this;\n",
       "\n",
       "    var canvas_div = (this.canvas_div = document.createElement('div'));\n",
       "    canvas_div.setAttribute(\n",
       "        'style',\n",
       "        'border: 1px solid #ddd;' +\n",
       "            'box-sizing: content-box;' +\n",
       "            'clear: both;' +\n",
       "            'min-height: 1px;' +\n",
       "            'min-width: 1px;' +\n",
       "            'outline: 0;' +\n",
       "            'overflow: hidden;' +\n",
       "            'position: relative;' +\n",
       "            'resize: both;'\n",
       "    );\n",
       "\n",
       "    function on_keyboard_event_closure(name) {\n",
       "        return function (event) {\n",
       "            return fig.key_event(event, name);\n",
       "        };\n",
       "    }\n",
       "\n",
       "    canvas_div.addEventListener(\n",
       "        'keydown',\n",
       "        on_keyboard_event_closure('key_press')\n",
       "    );\n",
       "    canvas_div.addEventListener(\n",
       "        'keyup',\n",
       "        on_keyboard_event_closure('key_release')\n",
       "    );\n",
       "\n",
       "    this._canvas_extra_style(canvas_div);\n",
       "    this.root.appendChild(canvas_div);\n",
       "\n",
       "    var canvas = (this.canvas = document.createElement('canvas'));\n",
       "    canvas.classList.add('mpl-canvas');\n",
       "    canvas.setAttribute('style', 'box-sizing: content-box;');\n",
       "\n",
       "    this.context = canvas.getContext('2d');\n",
       "\n",
       "    var backingStore =\n",
       "        this.context.backingStorePixelRatio ||\n",
       "        this.context.webkitBackingStorePixelRatio ||\n",
       "        this.context.mozBackingStorePixelRatio ||\n",
       "        this.context.msBackingStorePixelRatio ||\n",
       "        this.context.oBackingStorePixelRatio ||\n",
       "        this.context.backingStorePixelRatio ||\n",
       "        1;\n",
       "\n",
       "    this.ratio = (window.devicePixelRatio || 1) / backingStore;\n",
       "    if (this.ratio !== 1) {\n",
       "        fig.send_message('set_dpi_ratio', { dpi_ratio: this.ratio });\n",
       "    }\n",
       "\n",
       "    var rubberband_canvas = (this.rubberband_canvas = document.createElement(\n",
       "        'canvas'\n",
       "    ));\n",
       "    rubberband_canvas.setAttribute(\n",
       "        'style',\n",
       "        'box-sizing: content-box; position: absolute; left: 0; top: 0; z-index: 1;'\n",
       "    );\n",
       "\n",
       "    var resizeObserver = new ResizeObserver(function (entries) {\n",
       "        var nentries = entries.length;\n",
       "        for (var i = 0; i < nentries; i++) {\n",
       "            var entry = entries[i];\n",
       "            var width, height;\n",
       "            if (entry.contentBoxSize) {\n",
       "                if (entry.contentBoxSize instanceof Array) {\n",
       "                    // Chrome 84 implements new version of spec.\n",
       "                    width = entry.contentBoxSize[0].inlineSize;\n",
       "                    height = entry.contentBoxSize[0].blockSize;\n",
       "                } else {\n",
       "                    // Firefox implements old version of spec.\n",
       "                    width = entry.contentBoxSize.inlineSize;\n",
       "                    height = entry.contentBoxSize.blockSize;\n",
       "                }\n",
       "            } else {\n",
       "                // Chrome <84 implements even older version of spec.\n",
       "                width = entry.contentRect.width;\n",
       "                height = entry.contentRect.height;\n",
       "            }\n",
       "\n",
       "            // Keep the size of the canvas and rubber band canvas in sync with\n",
       "            // the canvas container.\n",
       "            if (entry.devicePixelContentBoxSize) {\n",
       "                // Chrome 84 implements new version of spec.\n",
       "                canvas.setAttribute(\n",
       "                    'width',\n",
       "                    entry.devicePixelContentBoxSize[0].inlineSize\n",
       "                );\n",
       "                canvas.setAttribute(\n",
       "                    'height',\n",
       "                    entry.devicePixelContentBoxSize[0].blockSize\n",
       "                );\n",
       "            } else {\n",
       "                canvas.setAttribute('width', width * fig.ratio);\n",
       "                canvas.setAttribute('height', height * fig.ratio);\n",
       "            }\n",
       "            canvas.setAttribute(\n",
       "                'style',\n",
       "                'width: ' + width + 'px; height: ' + height + 'px;'\n",
       "            );\n",
       "\n",
       "            rubberband_canvas.setAttribute('width', width);\n",
       "            rubberband_canvas.setAttribute('height', height);\n",
       "\n",
       "            // And update the size in Python. We ignore the initial 0/0 size\n",
       "            // that occurs as the element is placed into the DOM, which should\n",
       "            // otherwise not happen due to the minimum size styling.\n",
       "            if (width != 0 && height != 0) {\n",
       "                fig.request_resize(width, height);\n",
       "            }\n",
       "        }\n",
       "    });\n",
       "    resizeObserver.observe(canvas_div);\n",
       "\n",
       "    function on_mouse_event_closure(name) {\n",
       "        return function (event) {\n",
       "            return fig.mouse_event(event, name);\n",
       "        };\n",
       "    }\n",
       "\n",
       "    rubberband_canvas.addEventListener(\n",
       "        'mousedown',\n",
       "        on_mouse_event_closure('button_press')\n",
       "    );\n",
       "    rubberband_canvas.addEventListener(\n",
       "        'mouseup',\n",
       "        on_mouse_event_closure('button_release')\n",
       "    );\n",
       "    // Throttle sequential mouse events to 1 every 20ms.\n",
       "    rubberband_canvas.addEventListener(\n",
       "        'mousemove',\n",
       "        on_mouse_event_closure('motion_notify')\n",
       "    );\n",
       "\n",
       "    rubberband_canvas.addEventListener(\n",
       "        'mouseenter',\n",
       "        on_mouse_event_closure('figure_enter')\n",
       "    );\n",
       "    rubberband_canvas.addEventListener(\n",
       "        'mouseleave',\n",
       "        on_mouse_event_closure('figure_leave')\n",
       "    );\n",
       "\n",
       "    canvas_div.addEventListener('wheel', function (event) {\n",
       "        if (event.deltaY < 0) {\n",
       "            event.step = 1;\n",
       "        } else {\n",
       "            event.step = -1;\n",
       "        }\n",
       "        on_mouse_event_closure('scroll')(event);\n",
       "    });\n",
       "\n",
       "    canvas_div.appendChild(canvas);\n",
       "    canvas_div.appendChild(rubberband_canvas);\n",
       "\n",
       "    this.rubberband_context = rubberband_canvas.getContext('2d');\n",
       "    this.rubberband_context.strokeStyle = '#000000';\n",
       "\n",
       "    this._resize_canvas = function (width, height, forward) {\n",
       "        if (forward) {\n",
       "            canvas_div.style.width = width + 'px';\n",
       "            canvas_div.style.height = height + 'px';\n",
       "        }\n",
       "    };\n",
       "\n",
       "    // Disable right mouse context menu.\n",
       "    this.rubberband_canvas.addEventListener('contextmenu', function (_e) {\n",
       "        event.preventDefault();\n",
       "        return false;\n",
       "    });\n",
       "\n",
       "    function set_focus() {\n",
       "        canvas.focus();\n",
       "        canvas_div.focus();\n",
       "    }\n",
       "\n",
       "    window.setTimeout(set_focus, 100);\n",
       "};\n",
       "\n",
       "mpl.figure.prototype._init_toolbar = function () {\n",
       "    var fig = this;\n",
       "\n",
       "    var toolbar = document.createElement('div');\n",
       "    toolbar.classList = 'mpl-toolbar';\n",
       "    this.root.appendChild(toolbar);\n",
       "\n",
       "    function on_click_closure(name) {\n",
       "        return function (_event) {\n",
       "            return fig.toolbar_button_onclick(name);\n",
       "        };\n",
       "    }\n",
       "\n",
       "    function on_mouseover_closure(tooltip) {\n",
       "        return function (event) {\n",
       "            if (!event.currentTarget.disabled) {\n",
       "                return fig.toolbar_button_onmouseover(tooltip);\n",
       "            }\n",
       "        };\n",
       "    }\n",
       "\n",
       "    fig.buttons = {};\n",
       "    var buttonGroup = document.createElement('div');\n",
       "    buttonGroup.classList = 'mpl-button-group';\n",
       "    for (var toolbar_ind in mpl.toolbar_items) {\n",
       "        var name = mpl.toolbar_items[toolbar_ind][0];\n",
       "        var tooltip = mpl.toolbar_items[toolbar_ind][1];\n",
       "        var image = mpl.toolbar_items[toolbar_ind][2];\n",
       "        var method_name = mpl.toolbar_items[toolbar_ind][3];\n",
       "\n",
       "        if (!name) {\n",
       "            /* Instead of a spacer, we start a new button group. */\n",
       "            if (buttonGroup.hasChildNodes()) {\n",
       "                toolbar.appendChild(buttonGroup);\n",
       "            }\n",
       "            buttonGroup = document.createElement('div');\n",
       "            buttonGroup.classList = 'mpl-button-group';\n",
       "            continue;\n",
       "        }\n",
       "\n",
       "        var button = (fig.buttons[name] = document.createElement('button'));\n",
       "        button.classList = 'mpl-widget';\n",
       "        button.setAttribute('role', 'button');\n",
       "        button.setAttribute('aria-disabled', 'false');\n",
       "        button.addEventListener('click', on_click_closure(method_name));\n",
       "        button.addEventListener('mouseover', on_mouseover_closure(tooltip));\n",
       "\n",
       "        var icon_img = document.createElement('img');\n",
       "        icon_img.src = '_images/' + image + '.png';\n",
       "        icon_img.srcset = '_images/' + image + '_large.png 2x';\n",
       "        icon_img.alt = tooltip;\n",
       "        button.appendChild(icon_img);\n",
       "\n",
       "        buttonGroup.appendChild(button);\n",
       "    }\n",
       "\n",
       "    if (buttonGroup.hasChildNodes()) {\n",
       "        toolbar.appendChild(buttonGroup);\n",
       "    }\n",
       "\n",
       "    var fmt_picker = document.createElement('select');\n",
       "    fmt_picker.classList = 'mpl-widget';\n",
       "    toolbar.appendChild(fmt_picker);\n",
       "    this.format_dropdown = fmt_picker;\n",
       "\n",
       "    for (var ind in mpl.extensions) {\n",
       "        var fmt = mpl.extensions[ind];\n",
       "        var option = document.createElement('option');\n",
       "        option.selected = fmt === mpl.default_extension;\n",
       "        option.innerHTML = fmt;\n",
       "        fmt_picker.appendChild(option);\n",
       "    }\n",
       "\n",
       "    var status_bar = document.createElement('span');\n",
       "    status_bar.classList = 'mpl-message';\n",
       "    toolbar.appendChild(status_bar);\n",
       "    this.message = status_bar;\n",
       "};\n",
       "\n",
       "mpl.figure.prototype.request_resize = function (x_pixels, y_pixels) {\n",
       "    // Request matplotlib to resize the figure. Matplotlib will then trigger a resize in the client,\n",
       "    // which will in turn request a refresh of the image.\n",
       "    this.send_message('resize', { width: x_pixels, height: y_pixels });\n",
       "};\n",
       "\n",
       "mpl.figure.prototype.send_message = function (type, properties) {\n",
       "    properties['type'] = type;\n",
       "    properties['figure_id'] = this.id;\n",
       "    this.ws.send(JSON.stringify(properties));\n",
       "};\n",
       "\n",
       "mpl.figure.prototype.send_draw_message = function () {\n",
       "    if (!this.waiting) {\n",
       "        this.waiting = true;\n",
       "        this.ws.send(JSON.stringify({ type: 'draw', figure_id: this.id }));\n",
       "    }\n",
       "};\n",
       "\n",
       "mpl.figure.prototype.handle_save = function (fig, _msg) {\n",
       "    var format_dropdown = fig.format_dropdown;\n",
       "    var format = format_dropdown.options[format_dropdown.selectedIndex].value;\n",
       "    fig.ondownload(fig, format);\n",
       "};\n",
       "\n",
       "mpl.figure.prototype.handle_resize = function (fig, msg) {\n",
       "    var size = msg['size'];\n",
       "    if (size[0] !== fig.canvas.width || size[1] !== fig.canvas.height) {\n",
       "        fig._resize_canvas(size[0], size[1], msg['forward']);\n",
       "        fig.send_message('refresh', {});\n",
       "    }\n",
       "};\n",
       "\n",
       "mpl.figure.prototype.handle_rubberband = function (fig, msg) {\n",
       "    var x0 = msg['x0'] / fig.ratio;\n",
       "    var y0 = (fig.canvas.height - msg['y0']) / fig.ratio;\n",
       "    var x1 = msg['x1'] / fig.ratio;\n",
       "    var y1 = (fig.canvas.height - msg['y1']) / fig.ratio;\n",
       "    x0 = Math.floor(x0) + 0.5;\n",
       "    y0 = Math.floor(y0) + 0.5;\n",
       "    x1 = Math.floor(x1) + 0.5;\n",
       "    y1 = Math.floor(y1) + 0.5;\n",
       "    var min_x = Math.min(x0, x1);\n",
       "    var min_y = Math.min(y0, y1);\n",
       "    var width = Math.abs(x1 - x0);\n",
       "    var height = Math.abs(y1 - y0);\n",
       "\n",
       "    fig.rubberband_context.clearRect(\n",
       "        0,\n",
       "        0,\n",
       "        fig.canvas.width / fig.ratio,\n",
       "        fig.canvas.height / fig.ratio\n",
       "    );\n",
       "\n",
       "    fig.rubberband_context.strokeRect(min_x, min_y, width, height);\n",
       "};\n",
       "\n",
       "mpl.figure.prototype.handle_figure_label = function (fig, msg) {\n",
       "    // Updates the figure title.\n",
       "    fig.header.textContent = msg['label'];\n",
       "};\n",
       "\n",
       "mpl.figure.prototype.handle_cursor = function (fig, msg) {\n",
       "    var cursor = msg['cursor'];\n",
       "    switch (cursor) {\n",
       "        case 0:\n",
       "            cursor = 'pointer';\n",
       "            break;\n",
       "        case 1:\n",
       "            cursor = 'default';\n",
       "            break;\n",
       "        case 2:\n",
       "            cursor = 'crosshair';\n",
       "            break;\n",
       "        case 3:\n",
       "            cursor = 'move';\n",
       "            break;\n",
       "    }\n",
       "    fig.rubberband_canvas.style.cursor = cursor;\n",
       "};\n",
       "\n",
       "mpl.figure.prototype.handle_message = function (fig, msg) {\n",
       "    fig.message.textContent = msg['message'];\n",
       "};\n",
       "\n",
       "mpl.figure.prototype.handle_draw = function (fig, _msg) {\n",
       "    // Request the server to send over a new figure.\n",
       "    fig.send_draw_message();\n",
       "};\n",
       "\n",
       "mpl.figure.prototype.handle_image_mode = function (fig, msg) {\n",
       "    fig.image_mode = msg['mode'];\n",
       "};\n",
       "\n",
       "mpl.figure.prototype.handle_history_buttons = function (fig, msg) {\n",
       "    for (var key in msg) {\n",
       "        if (!(key in fig.buttons)) {\n",
       "            continue;\n",
       "        }\n",
       "        fig.buttons[key].disabled = !msg[key];\n",
       "        fig.buttons[key].setAttribute('aria-disabled', !msg[key]);\n",
       "    }\n",
       "};\n",
       "\n",
       "mpl.figure.prototype.handle_navigate_mode = function (fig, msg) {\n",
       "    if (msg['mode'] === 'PAN') {\n",
       "        fig.buttons['Pan'].classList.add('active');\n",
       "        fig.buttons['Zoom'].classList.remove('active');\n",
       "    } else if (msg['mode'] === 'ZOOM') {\n",
       "        fig.buttons['Pan'].classList.remove('active');\n",
       "        fig.buttons['Zoom'].classList.add('active');\n",
       "    } else {\n",
       "        fig.buttons['Pan'].classList.remove('active');\n",
       "        fig.buttons['Zoom'].classList.remove('active');\n",
       "    }\n",
       "};\n",
       "\n",
       "mpl.figure.prototype.updated_canvas_event = function () {\n",
       "    // Called whenever the canvas gets updated.\n",
       "    this.send_message('ack', {});\n",
       "};\n",
       "\n",
       "// A function to construct a web socket function for onmessage handling.\n",
       "// Called in the figure constructor.\n",
       "mpl.figure.prototype._make_on_message_function = function (fig) {\n",
       "    return function socket_on_message(evt) {\n",
       "        if (evt.data instanceof Blob) {\n",
       "            /* FIXME: We get \"Resource interpreted as Image but\n",
       "             * transferred with MIME type text/plain:\" errors on\n",
       "             * Chrome.  But how to set the MIME type?  It doesn't seem\n",
       "             * to be part of the websocket stream */\n",
       "            evt.data.type = 'image/png';\n",
       "\n",
       "            /* Free the memory for the previous frames */\n",
       "            if (fig.imageObj.src) {\n",
       "                (window.URL || window.webkitURL).revokeObjectURL(\n",
       "                    fig.imageObj.src\n",
       "                );\n",
       "            }\n",
       "\n",
       "            fig.imageObj.src = (window.URL || window.webkitURL).createObjectURL(\n",
       "                evt.data\n",
       "            );\n",
       "            fig.updated_canvas_event();\n",
       "            fig.waiting = false;\n",
       "            return;\n",
       "        } else if (\n",
       "            typeof evt.data === 'string' &&\n",
       "            evt.data.slice(0, 21) === 'data:image/png;base64'\n",
       "        ) {\n",
       "            fig.imageObj.src = evt.data;\n",
       "            fig.updated_canvas_event();\n",
       "            fig.waiting = false;\n",
       "            return;\n",
       "        }\n",
       "\n",
       "        var msg = JSON.parse(evt.data);\n",
       "        var msg_type = msg['type'];\n",
       "\n",
       "        // Call the  \"handle_{type}\" callback, which takes\n",
       "        // the figure and JSON message as its only arguments.\n",
       "        try {\n",
       "            var callback = fig['handle_' + msg_type];\n",
       "        } catch (e) {\n",
       "            console.log(\n",
       "                \"No handler for the '\" + msg_type + \"' message type: \",\n",
       "                msg\n",
       "            );\n",
       "            return;\n",
       "        }\n",
       "\n",
       "        if (callback) {\n",
       "            try {\n",
       "                // console.log(\"Handling '\" + msg_type + \"' message: \", msg);\n",
       "                callback(fig, msg);\n",
       "            } catch (e) {\n",
       "                console.log(\n",
       "                    \"Exception inside the 'handler_\" + msg_type + \"' callback:\",\n",
       "                    e,\n",
       "                    e.stack,\n",
       "                    msg\n",
       "                );\n",
       "            }\n",
       "        }\n",
       "    };\n",
       "};\n",
       "\n",
       "// from http://stackoverflow.com/questions/1114465/getting-mouse-location-in-canvas\n",
       "mpl.findpos = function (e) {\n",
       "    //this section is from http://www.quirksmode.org/js/events_properties.html\n",
       "    var targ;\n",
       "    if (!e) {\n",
       "        e = window.event;\n",
       "    }\n",
       "    if (e.target) {\n",
       "        targ = e.target;\n",
       "    } else if (e.srcElement) {\n",
       "        targ = e.srcElement;\n",
       "    }\n",
       "    if (targ.nodeType === 3) {\n",
       "        // defeat Safari bug\n",
       "        targ = targ.parentNode;\n",
       "    }\n",
       "\n",
       "    // pageX,Y are the mouse positions relative to the document\n",
       "    var boundingRect = targ.getBoundingClientRect();\n",
       "    var x = e.pageX - (boundingRect.left + document.body.scrollLeft);\n",
       "    var y = e.pageY - (boundingRect.top + document.body.scrollTop);\n",
       "\n",
       "    return { x: x, y: y };\n",
       "};\n",
       "\n",
       "/*\n",
       " * return a copy of an object with only non-object keys\n",
       " * we need this to avoid circular references\n",
       " * http://stackoverflow.com/a/24161582/3208463\n",
       " */\n",
       "function simpleKeys(original) {\n",
       "    return Object.keys(original).reduce(function (obj, key) {\n",
       "        if (typeof original[key] !== 'object') {\n",
       "            obj[key] = original[key];\n",
       "        }\n",
       "        return obj;\n",
       "    }, {});\n",
       "}\n",
       "\n",
       "mpl.figure.prototype.mouse_event = function (event, name) {\n",
       "    var canvas_pos = mpl.findpos(event);\n",
       "\n",
       "    if (name === 'button_press') {\n",
       "        this.canvas.focus();\n",
       "        this.canvas_div.focus();\n",
       "    }\n",
       "\n",
       "    var x = canvas_pos.x * this.ratio;\n",
       "    var y = canvas_pos.y * this.ratio;\n",
       "\n",
       "    this.send_message(name, {\n",
       "        x: x,\n",
       "        y: y,\n",
       "        button: event.button,\n",
       "        step: event.step,\n",
       "        guiEvent: simpleKeys(event),\n",
       "    });\n",
       "\n",
       "    /* This prevents the web browser from automatically changing to\n",
       "     * the text insertion cursor when the button is pressed.  We want\n",
       "     * to control all of the cursor setting manually through the\n",
       "     * 'cursor' event from matplotlib */\n",
       "    event.preventDefault();\n",
       "    return false;\n",
       "};\n",
       "\n",
       "mpl.figure.prototype._key_event_extra = function (_event, _name) {\n",
       "    // Handle any extra behaviour associated with a key event\n",
       "};\n",
       "\n",
       "mpl.figure.prototype.key_event = function (event, name) {\n",
       "    // Prevent repeat events\n",
       "    if (name === 'key_press') {\n",
       "        if (event.which === this._key) {\n",
       "            return;\n",
       "        } else {\n",
       "            this._key = event.which;\n",
       "        }\n",
       "    }\n",
       "    if (name === 'key_release') {\n",
       "        this._key = null;\n",
       "    }\n",
       "\n",
       "    var value = '';\n",
       "    if (event.ctrlKey && event.which !== 17) {\n",
       "        value += 'ctrl+';\n",
       "    }\n",
       "    if (event.altKey && event.which !== 18) {\n",
       "        value += 'alt+';\n",
       "    }\n",
       "    if (event.shiftKey && event.which !== 16) {\n",
       "        value += 'shift+';\n",
       "    }\n",
       "\n",
       "    value += 'k';\n",
       "    value += event.which.toString();\n",
       "\n",
       "    this._key_event_extra(event, name);\n",
       "\n",
       "    this.send_message(name, { key: value, guiEvent: simpleKeys(event) });\n",
       "    return false;\n",
       "};\n",
       "\n",
       "mpl.figure.prototype.toolbar_button_onclick = function (name) {\n",
       "    if (name === 'download') {\n",
       "        this.handle_save(this, null);\n",
       "    } else {\n",
       "        this.send_message('toolbar_button', { name: name });\n",
       "    }\n",
       "};\n",
       "\n",
       "mpl.figure.prototype.toolbar_button_onmouseover = function (tooltip) {\n",
       "    this.message.textContent = tooltip;\n",
       "};\n",
       "mpl.toolbar_items = [[\"Home\", \"Reset original view\", \"fa fa-home icon-home\", \"home\"], [\"Back\", \"Back to previous view\", \"fa fa-arrow-left icon-arrow-left\", \"back\"], [\"Forward\", \"Forward to next view\", \"fa fa-arrow-right icon-arrow-right\", \"forward\"], [\"\", \"\", \"\", \"\"], [\"Pan\", \"Left button pans, Right button zooms\\nx/y fixes axis, CTRL fixes aspect\", \"fa fa-arrows icon-move\", \"pan\"], [\"Zoom\", \"Zoom to rectangle\\nx/y fixes axis, CTRL fixes aspect\", \"fa fa-square-o icon-check-empty\", \"zoom\"], [\"\", \"\", \"\", \"\"], [\"Download\", \"Download plot\", \"fa fa-floppy-o icon-save\", \"download\"]];\n",
       "\n",
       "mpl.extensions = [\"eps\", \"jpeg\", \"pdf\", \"png\", \"ps\", \"raw\", \"svg\", \"tif\"];\n",
       "\n",
       "mpl.default_extension = \"png\";/* global mpl */\n",
       "\n",
       "var comm_websocket_adapter = function (comm) {\n",
       "    // Create a \"websocket\"-like object which calls the given IPython comm\n",
       "    // object with the appropriate methods. Currently this is a non binary\n",
       "    // socket, so there is still some room for performance tuning.\n",
       "    var ws = {};\n",
       "\n",
       "    ws.close = function () {\n",
       "        comm.close();\n",
       "    };\n",
       "    ws.send = function (m) {\n",
       "        //console.log('sending', m);\n",
       "        comm.send(m);\n",
       "    };\n",
       "    // Register the callback with on_msg.\n",
       "    comm.on_msg(function (msg) {\n",
       "        //console.log('receiving', msg['content']['data'], msg);\n",
       "        // Pass the mpl event to the overridden (by mpl) onmessage function.\n",
       "        ws.onmessage(msg['content']['data']);\n",
       "    });\n",
       "    return ws;\n",
       "};\n",
       "\n",
       "mpl.mpl_figure_comm = function (comm, msg) {\n",
       "    // This is the function which gets called when the mpl process\n",
       "    // starts-up an IPython Comm through the \"matplotlib\" channel.\n",
       "\n",
       "    var id = msg.content.data.id;\n",
       "    // Get hold of the div created by the display call when the Comm\n",
       "    // socket was opened in Python.\n",
       "    var element = document.getElementById(id);\n",
       "    var ws_proxy = comm_websocket_adapter(comm);\n",
       "\n",
       "    function ondownload(figure, _format) {\n",
       "        window.open(figure.canvas.toDataURL());\n",
       "    }\n",
       "\n",
       "    var fig = new mpl.figure(id, ws_proxy, ondownload, element);\n",
       "\n",
       "    // Call onopen now - mpl needs it, as it is assuming we've passed it a real\n",
       "    // web socket which is closed, not our websocket->open comm proxy.\n",
       "    ws_proxy.onopen();\n",
       "\n",
       "    fig.parent_element = element;\n",
       "    fig.cell_info = mpl.find_output_cell(\"<div id='\" + id + \"'></div>\");\n",
       "    if (!fig.cell_info) {\n",
       "        console.error('Failed to find cell for figure', id, fig);\n",
       "        return;\n",
       "    }\n",
       "    fig.cell_info[0].output_area.element.one(\n",
       "        'cleared',\n",
       "        { fig: fig },\n",
       "        fig._remove_fig_handler\n",
       "    );\n",
       "};\n",
       "\n",
       "mpl.figure.prototype.handle_close = function (fig, msg) {\n",
       "    var width = fig.canvas.width / fig.ratio;\n",
       "    fig.cell_info[0].output_area.element.off(\n",
       "        'cleared',\n",
       "        fig._remove_fig_handler\n",
       "    );\n",
       "\n",
       "    // Update the output cell to use the data from the current canvas.\n",
       "    fig.push_to_output();\n",
       "    var dataURL = fig.canvas.toDataURL();\n",
       "    // Re-enable the keyboard manager in IPython - without this line, in FF,\n",
       "    // the notebook keyboard shortcuts fail.\n",
       "    IPython.keyboard_manager.enable();\n",
       "    fig.parent_element.innerHTML =\n",
       "        '<img src=\"' + dataURL + '\" width=\"' + width + '\">';\n",
       "    fig.close_ws(fig, msg);\n",
       "};\n",
       "\n",
       "mpl.figure.prototype.close_ws = function (fig, msg) {\n",
       "    fig.send_message('closing', msg);\n",
       "    // fig.ws.close()\n",
       "};\n",
       "\n",
       "mpl.figure.prototype.push_to_output = function (_remove_interactive) {\n",
       "    // Turn the data on the canvas into data in the output cell.\n",
       "    var width = this.canvas.width / this.ratio;\n",
       "    var dataURL = this.canvas.toDataURL();\n",
       "    this.cell_info[1]['text/html'] =\n",
       "        '<img src=\"' + dataURL + '\" width=\"' + width + '\">';\n",
       "};\n",
       "\n",
       "mpl.figure.prototype.updated_canvas_event = function () {\n",
       "    // Tell IPython that the notebook contents must change.\n",
       "    IPython.notebook.set_dirty(true);\n",
       "    this.send_message('ack', {});\n",
       "    var fig = this;\n",
       "    // Wait a second, then push the new image to the DOM so\n",
       "    // that it is saved nicely (might be nice to debounce this).\n",
       "    setTimeout(function () {\n",
       "        fig.push_to_output();\n",
       "    }, 1000);\n",
       "};\n",
       "\n",
       "mpl.figure.prototype._init_toolbar = function () {\n",
       "    var fig = this;\n",
       "\n",
       "    var toolbar = document.createElement('div');\n",
       "    toolbar.classList = 'btn-toolbar';\n",
       "    this.root.appendChild(toolbar);\n",
       "\n",
       "    function on_click_closure(name) {\n",
       "        return function (_event) {\n",
       "            return fig.toolbar_button_onclick(name);\n",
       "        };\n",
       "    }\n",
       "\n",
       "    function on_mouseover_closure(tooltip) {\n",
       "        return function (event) {\n",
       "            if (!event.currentTarget.disabled) {\n",
       "                return fig.toolbar_button_onmouseover(tooltip);\n",
       "            }\n",
       "        };\n",
       "    }\n",
       "\n",
       "    fig.buttons = {};\n",
       "    var buttonGroup = document.createElement('div');\n",
       "    buttonGroup.classList = 'btn-group';\n",
       "    var button;\n",
       "    for (var toolbar_ind in mpl.toolbar_items) {\n",
       "        var name = mpl.toolbar_items[toolbar_ind][0];\n",
       "        var tooltip = mpl.toolbar_items[toolbar_ind][1];\n",
       "        var image = mpl.toolbar_items[toolbar_ind][2];\n",
       "        var method_name = mpl.toolbar_items[toolbar_ind][3];\n",
       "\n",
       "        if (!name) {\n",
       "            /* Instead of a spacer, we start a new button group. */\n",
       "            if (buttonGroup.hasChildNodes()) {\n",
       "                toolbar.appendChild(buttonGroup);\n",
       "            }\n",
       "            buttonGroup = document.createElement('div');\n",
       "            buttonGroup.classList = 'btn-group';\n",
       "            continue;\n",
       "        }\n",
       "\n",
       "        button = fig.buttons[name] = document.createElement('button');\n",
       "        button.classList = 'btn btn-default';\n",
       "        button.href = '#';\n",
       "        button.title = name;\n",
       "        button.innerHTML = '<i class=\"fa ' + image + ' fa-lg\"></i>';\n",
       "        button.addEventListener('click', on_click_closure(method_name));\n",
       "        button.addEventListener('mouseover', on_mouseover_closure(tooltip));\n",
       "        buttonGroup.appendChild(button);\n",
       "    }\n",
       "\n",
       "    if (buttonGroup.hasChildNodes()) {\n",
       "        toolbar.appendChild(buttonGroup);\n",
       "    }\n",
       "\n",
       "    // Add the status bar.\n",
       "    var status_bar = document.createElement('span');\n",
       "    status_bar.classList = 'mpl-message pull-right';\n",
       "    toolbar.appendChild(status_bar);\n",
       "    this.message = status_bar;\n",
       "\n",
       "    // Add the close button to the window.\n",
       "    var buttongrp = document.createElement('div');\n",
       "    buttongrp.classList = 'btn-group inline pull-right';\n",
       "    button = document.createElement('button');\n",
       "    button.classList = 'btn btn-mini btn-primary';\n",
       "    button.href = '#';\n",
       "    button.title = 'Stop Interaction';\n",
       "    button.innerHTML = '<i class=\"fa fa-power-off icon-remove icon-large\"></i>';\n",
       "    button.addEventListener('click', function (_evt) {\n",
       "        fig.handle_close(fig, {});\n",
       "    });\n",
       "    button.addEventListener(\n",
       "        'mouseover',\n",
       "        on_mouseover_closure('Stop Interaction')\n",
       "    );\n",
       "    buttongrp.appendChild(button);\n",
       "    var titlebar = this.root.querySelector('.ui-dialog-titlebar');\n",
       "    titlebar.insertBefore(buttongrp, titlebar.firstChild);\n",
       "};\n",
       "\n",
       "mpl.figure.prototype._remove_fig_handler = function (event) {\n",
       "    var fig = event.data.fig;\n",
       "    fig.close_ws(fig, {});\n",
       "};\n",
       "\n",
       "mpl.figure.prototype._root_extra_style = function (el) {\n",
       "    el.style.boxSizing = 'content-box'; // override notebook setting of border-box.\n",
       "};\n",
       "\n",
       "mpl.figure.prototype._canvas_extra_style = function (el) {\n",
       "    // this is important to make the div 'focusable\n",
       "    el.setAttribute('tabindex', 0);\n",
       "    // reach out to IPython and tell the keyboard manager to turn it's self\n",
       "    // off when our div gets focus\n",
       "\n",
       "    // location in version 3\n",
       "    if (IPython.notebook.keyboard_manager) {\n",
       "        IPython.notebook.keyboard_manager.register_events(el);\n",
       "    } else {\n",
       "        // location in version 2\n",
       "        IPython.keyboard_manager.register_events(el);\n",
       "    }\n",
       "};\n",
       "\n",
       "mpl.figure.prototype._key_event_extra = function (event, _name) {\n",
       "    var manager = IPython.notebook.keyboard_manager;\n",
       "    if (!manager) {\n",
       "        manager = IPython.keyboard_manager;\n",
       "    }\n",
       "\n",
       "    // Check for shift+enter\n",
       "    if (event.shiftKey && event.which === 13) {\n",
       "        this.canvas_div.blur();\n",
       "        // select the cell after this one\n",
       "        var index = IPython.notebook.find_cell_index(this.cell_info[0]);\n",
       "        IPython.notebook.select(index + 1);\n",
       "    }\n",
       "};\n",
       "\n",
       "mpl.figure.prototype.handle_save = function (fig, _msg) {\n",
       "    fig.ondownload(fig, null);\n",
       "};\n",
       "\n",
       "mpl.find_output_cell = function (html_output) {\n",
       "    // Return the cell and output element which can be found *uniquely* in the notebook.\n",
       "    // Note - this is a bit hacky, but it is done because the \"notebook_saving.Notebook\"\n",
       "    // IPython event is triggered only after the cells have been serialised, which for\n",
       "    // our purposes (turning an active figure into a static one), is too late.\n",
       "    var cells = IPython.notebook.get_cells();\n",
       "    var ncells = cells.length;\n",
       "    for (var i = 0; i < ncells; i++) {\n",
       "        var cell = cells[i];\n",
       "        if (cell.cell_type === 'code') {\n",
       "            for (var j = 0; j < cell.output_area.outputs.length; j++) {\n",
       "                var data = cell.output_area.outputs[j];\n",
       "                if (data.data) {\n",
       "                    // IPython >= 3 moved mimebundle to data attribute of output\n",
       "                    data = data.data;\n",
       "                }\n",
       "                if (data['text/html'] === html_output) {\n",
       "                    return [cell, data, j];\n",
       "                }\n",
       "            }\n",
       "        }\n",
       "    }\n",
       "};\n",
       "\n",
       "// Register the function which deals with the matplotlib target/channel.\n",
       "// The kernel may be null if the page has been refreshed.\n",
       "if (IPython.notebook.kernel !== null) {\n",
       "    IPython.notebook.kernel.comm_manager.register_target(\n",
       "        'matplotlib',\n",
       "        mpl.mpl_figure_comm\n",
       "    );\n",
       "}\n"
      ],
      "text/plain": [
       "<IPython.core.display.Javascript object>"
      ]
     },
     "metadata": {},
     "output_type": "display_data"
    },
    {
     "data": {
      "text/html": [
       "<img src=\"data:image/png;base64,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\" width=\"737.777797322215\">"
      ],
      "text/plain": [
       "<IPython.core.display.HTML object>"
      ]
     },
     "metadata": {},
     "output_type": "display_data"
    }
   ],
   "source": [
    "dataset.plot_all()"
   ]
  },
  {
   "cell_type": "markdown",
   "metadata": {},
   "source": [
    "Each light curve is represented in the Dataset object as an astropy table, compatible with `sncosmo`:"
   ]
  },
  {
   "cell_type": "code",
   "execution_count": 17,
   "metadata": {
    "collapsed": true
   },
   "outputs": [
    {
     "data": {
      "text/html": [
       "<i>Table length=113</i>\n",
       "<table id=\"table140219084326544\" class=\"table-striped table-bordered table-condensed\">\n",
       "<thead><tr><th>mjd</th><th>filter</th><th>flux</th><th>flux_error</th><th>zp</th><th>zpsys</th></tr></thead>\n",
       "<thead><tr><th>float64</th><th>str4</th><th>float64</th><th>float64</th><th>float64</th><th>str2</th></tr></thead>\n",
       "<tr><td>0.0</td><td>desg</td><td>-0.7663</td><td>10.48</td><td>27.5</td><td>ab</td></tr>\n",
       "<tr><td>0.01600000000325963</td><td>desr</td><td>3.049</td><td>7.841</td><td>27.5</td><td>ab</td></tr>\n",
       "<tr><td>0.03200000000651926</td><td>desi</td><td>0.4541</td><td>9.312</td><td>27.5</td><td>ab</td></tr>\n",
       "<tr><td>0.9770000000062282</td><td>desz</td><td>4.622</td><td>5.329</td><td>27.5</td><td>ab</td></tr>\n",
       "<tr><td>1.985000000000582</td><td>desg</td><td>0.8938</td><td>3.205</td><td>27.5</td><td>ab</td></tr>\n",
       "<tr><td>2.0</td><td>desr</td><td>3.493</td><td>2.427</td><td>27.5</td><td>ab</td></tr>\n",
       "<tr><td>2.0160000000032596</td><td>desi</td><td>-2.318</td><td>4.311</td><td>27.5</td><td>ab</td></tr>\n",
       "<tr><td>9.957000000002154</td><td>desz</td><td>39.55</td><td>27.34</td><td>27.5</td><td>ab</td></tr>\n",
       "<tr><td>10.105999999999767</td><td>desg</td><td>-26.03</td><td>25.58</td><td>27.5</td><td>ab</td></tr>\n",
       "<tr><td>10.121000000006461</td><td>desr</td><td>8.005</td><td>4.158</td><td>27.5</td><td>ab</td></tr>\n",
       "<tr><td>...</td><td>...</td><td>...</td><td>...</td><td>...</td><td>...</td></tr>\n",
       "<tr><td>141.8090000000011</td><td>desg</td><td>-3.739</td><td>6.169</td><td>27.5</td><td>ab</td></tr>\n",
       "<tr><td>141.81700000000274</td><td>desr</td><td>1.227</td><td>2.489</td><td>27.5</td><td>ab</td></tr>\n",
       "<tr><td>141.82500000000437</td><td>desi</td><td>7.29</td><td>3.656</td><td>27.5</td><td>ab</td></tr>\n",
       "<tr><td>141.83600000000297</td><td>desz</td><td>7.572</td><td>4.396</td><td>27.5</td><td>ab</td></tr>\n",
       "<tr><td>149.81300000000192</td><td>desg</td><td>-0.7022</td><td>3.351</td><td>27.5</td><td>ab</td></tr>\n",
       "<tr><td>149.82100000000355</td><td>desr</td><td>-0.0889</td><td>2.403</td><td>27.5</td><td>ab</td></tr>\n",
       "<tr><td>149.83600000000297</td><td>desi</td><td>-0.5574</td><td>4.046</td><td>27.5</td><td>ab</td></tr>\n",
       "<tr><td>149.85200000000623</td><td>desz</td><td>-1.806</td><td>6.782</td><td>27.5</td><td>ab</td></tr>\n",
       "<tr><td>157.82800000000134</td><td>desg</td><td>3.068</td><td>3.701</td><td>27.5</td><td>ab</td></tr>\n",
       "<tr><td>157.8480000000054</td><td>desr</td><td>-1.397</td><td>3.007</td><td>27.5</td><td>ab</td></tr>\n",
       "</table>"
      ],
      "text/plain": [
       "<Table length=113>\n",
       "        mjd         filter   flux  flux_error    zp   zpsys\n",
       "      float64        str4  float64  float64   float64  str2\n",
       "------------------- ------ ------- ---------- ------- -----\n",
       "                0.0   desg -0.7663      10.48    27.5    ab\n",
       "0.01600000000325963   desr   3.049      7.841    27.5    ab\n",
       "0.03200000000651926   desi  0.4541      9.312    27.5    ab\n",
       " 0.9770000000062282   desz   4.622      5.329    27.5    ab\n",
       "  1.985000000000582   desg  0.8938      3.205    27.5    ab\n",
       "                2.0   desr   3.493      2.427    27.5    ab\n",
       " 2.0160000000032596   desi  -2.318      4.311    27.5    ab\n",
       "  9.957000000002154   desz   39.55      27.34    27.5    ab\n",
       " 10.105999999999767   desg  -26.03      25.58    27.5    ab\n",
       " 10.121000000006461   desr   8.005      4.158    27.5    ab\n",
       "                ...    ...     ...        ...     ...   ...\n",
       "  141.8090000000011   desg  -3.739      6.169    27.5    ab\n",
       " 141.81700000000274   desr   1.227      2.489    27.5    ab\n",
       " 141.82500000000437   desi    7.29      3.656    27.5    ab\n",
       " 141.83600000000297   desz   7.572      4.396    27.5    ab\n",
       " 149.81300000000192   desg -0.7022      3.351    27.5    ab\n",
       " 149.82100000000355   desr -0.0889      2.403    27.5    ab\n",
       " 149.83600000000297   desi -0.5574      4.046    27.5    ab\n",
       " 149.85200000000623   desz  -1.806      6.782    27.5    ab\n",
       " 157.82800000000134   desg   3.068      3.701    27.5    ab\n",
       "  157.8480000000054   desr  -1.397      3.007    27.5    ab"
      ]
     },
     "execution_count": 17,
     "metadata": {},
     "output_type": "execute_result"
    }
   ],
   "source": [
    "dataset.data[dataset.object_names[0]]"
   ]
  },
  {
   "cell_type": "markdown",
   "metadata": {},
   "source": [
    "## Extract features for the data"
   ]
  },
  {
   "cell_type": "markdown",
   "metadata": {},
   "source": [
    "The next step is to extract useful features from the data. This can often take a long time, depending on the feature extraction method, so it's a good idea to save these to file."
   ]
  },
  {
   "cell_type": "code",
   "execution_count": 18,
   "metadata": {},
   "outputs": [],
   "source": [
    "read_from_file = False  # use this flag to quickly rerun from saved features\n",
    "run_name = os.path.join(path_saved_features, f'{dataset}_all')"
   ]
  },
  {
   "cell_type": "markdown",
   "metadata": {},
   "source": [
    "### 1. SALT2 Template features"
   ]
  },
  {
   "cell_type": "code",
   "execution_count": 19,
   "metadata": {},
   "outputs": [],
   "source": [
    "# This is a Features object, not yet the extracted features\n",
    "salt2_features_instance = snfeatures.TemplateFeatures(sampler='leastsq') "
   ]
  },
  {
   "cell_type": "markdown",
   "metadata": {},
   "source": [
    "This performs the actual feature extraction. All feature extraction methods are parallelised with multiprocessing, just set `nprocesses`>1 for parallelisation."
   ]
  },
  {
   "cell_type": "code",
   "execution_count": 34,
   "metadata": {},
   "outputs": [
    {
     "name": "stdout",
     "output_type": "stream",
     "text": [
      "Feature extraction...\n",
      "Fitting templates using leastsq ...\n",
      "MODEL-NAME: Ia\n",
      "0 objects fitted\n",
      "100 objects fitted\n",
      "200 objects fitted\n",
      "300 objects fitted\n",
      "400 objects fitted\n",
      "500 objects fitted\n",
      "600 objects fitted\n",
      "700 objects fitted\n",
      "800 objects fitted\n",
      "900 objects fitted\n",
      "1000 objects fitted\n"
     ]
    },
    {
     "ename": "RuntimeError",
     "evalue": "result is NaN for [ 0.8576 -52.9033 1.58e-05 1.01815 nan ]",
     "output_type": "error",
     "traceback": [
      "\u001b[0;31m---------------------------------------------------------------------------\u001b[0m",
      "\u001b[0;31mRuntimeError\u001b[0m                              Traceback (most recent call last)",
      "\u001b[0;32m<ipython-input-34-e5103f3a5da8>\u001b[0m in \u001b[0;36m<module>\u001b[0;34m\u001b[0m\n\u001b[1;32m      9\u001b[0m     salt2_features = salt2_features_instance.extract_features(\n\u001b[1;32m     10\u001b[0m         \u001b[0mdataset\u001b[0m\u001b[0;34m,\u001b[0m \u001b[0muse_redshift\u001b[0m\u001b[0;34m=\u001b[0m\u001b[0;32mTrue\u001b[0m\u001b[0;34m,\u001b[0m \u001b[0mnumber_processes\u001b[0m\u001b[0;34m=\u001b[0m\u001b[0;36m1\u001b[0m\u001b[0;34m,\u001b[0m\u001b[0;34m\u001b[0m\u001b[0;34m\u001b[0m\u001b[0m\n\u001b[0;32m---> 11\u001b[0;31m         chain_directory=path_saved_interm)\n\u001b[0m\u001b[1;32m     12\u001b[0m     \u001b[0msalt2_features\u001b[0m\u001b[0;34m.\u001b[0m\u001b[0mwrite\u001b[0m\u001b[0;34m(\u001b[0m\u001b[0;34mf'{run_name}_templates.dat'\u001b[0m\u001b[0;34m,\u001b[0m \u001b[0mformat\u001b[0m\u001b[0;34m=\u001b[0m\u001b[0;34m'ascii'\u001b[0m\u001b[0;34m)\u001b[0m\u001b[0;34m\u001b[0m\u001b[0;34m\u001b[0m\u001b[0m\n",
      "\u001b[0;32m~/.conda/envs/snmachine/lib/python3.7/site-packages/snmachine/snfeatures.py\u001b[0m in \u001b[0;36mextract_features\u001b[0;34m(self, d, save_output, chain_directory, use_redshift, number_processes, restart, seed)\u001b[0m\n\u001b[1;32m    786\u001b[0m                             res, fitted_model = sncosmo.fit_lc(\n\u001b[1;32m    787\u001b[0m                                 \u001b[0mlc\u001b[0m\u001b[0;34m,\u001b[0m \u001b[0mself\u001b[0m\u001b[0;34m.\u001b[0m\u001b[0mmodel\u001b[0m\u001b[0;34m,\u001b[0m \u001b[0mvparam_names\u001b[0m\u001b[0;34m=\u001b[0m\u001b[0mprms\u001b[0m\u001b[0;34m,\u001b[0m \u001b[0mbounds\u001b[0m\u001b[0;34m=\u001b[0m\u001b[0mbnds\u001b[0m\u001b[0;34m,\u001b[0m\u001b[0;34m\u001b[0m\u001b[0;34m\u001b[0m\u001b[0m\n\u001b[0;32m--> 788\u001b[0;31m                                 minsnr=0)\n\u001b[0m\u001b[1;32m    789\u001b[0m                         \u001b[0;32melse\u001b[0m\u001b[0;34m:\u001b[0m\u001b[0;34m\u001b[0m\u001b[0;34m\u001b[0m\u001b[0m\n\u001b[1;32m    790\u001b[0m                             res, fitted_model = sncosmo.fit_lc(\n",
      "\u001b[0;32m~/.conda/envs/snmachine/lib/python3.7/site-packages/sncosmo/fitting.py\u001b[0m in \u001b[0;36mfit_lc\u001b[0;34m(data, model, vparam_names, bounds, spectra, method, guess_amplitude, guess_t0, guess_z, minsnr, modelcov, verbose, maxcall, phase_range, wave_range, warn)\u001b[0m\n\u001b[1;32m    732\u001b[0m         m, fmin = _run_iminuit(fitchisq, model.param_names, start_values,\n\u001b[1;32m    733\u001b[0m                                \u001b[0mstart_errors\u001b[0m\u001b[0;34m,\u001b[0m \u001b[0mbounds\u001b[0m\u001b[0;34m,\u001b[0m \u001b[0mfixed_parameters\u001b[0m\u001b[0;34m,\u001b[0m \u001b[0mmaxcall\u001b[0m\u001b[0;34m,\u001b[0m\u001b[0;34m\u001b[0m\u001b[0;34m\u001b[0m\u001b[0m\n\u001b[0;32m--> 734\u001b[0;31m                                verbose)\n\u001b[0m\u001b[1;32m    735\u001b[0m \u001b[0;34m\u001b[0m\u001b[0m\n\u001b[1;32m    736\u001b[0m         \u001b[0;32mif\u001b[0m \u001b[0mverbose\u001b[0m\u001b[0;34m:\u001b[0m\u001b[0;34m\u001b[0m\u001b[0;34m\u001b[0m\u001b[0m\n",
      "\u001b[0;32m~/.conda/envs/snmachine/lib/python3.7/site-packages/sncosmo/fitting.py\u001b[0m in \u001b[0;36m_run_iminuit\u001b[0;34m(chisq, parameter_names, start_values, start_errors, bounds, fixed_parameters, maxcall, verbose)\u001b[0m\n\u001b[1;32m    424\u001b[0m             \u001b[0mm\u001b[0m\u001b[0;34m.\u001b[0m\u001b[0merrors\u001b[0m\u001b[0;34m[\u001b[0m\u001b[0mkey\u001b[0m\u001b[0;34m]\u001b[0m \u001b[0;34m=\u001b[0m \u001b[0;36m0.\u001b[0m\u001b[0;34m\u001b[0m\u001b[0;34m\u001b[0m\u001b[0m\n\u001b[1;32m    425\u001b[0m \u001b[0;34m\u001b[0m\u001b[0m\n\u001b[0;32m--> 426\u001b[0;31m         \u001b[0mm\u001b[0m\u001b[0;34m.\u001b[0m\u001b[0mmigrad\u001b[0m\u001b[0;34m(\u001b[0m\u001b[0mncall\u001b[0m\u001b[0;34m=\u001b[0m\u001b[0mmaxcall\u001b[0m\u001b[0;34m)\u001b[0m\u001b[0;34m\u001b[0m\u001b[0;34m\u001b[0m\u001b[0m\n\u001b[0m\u001b[1;32m    427\u001b[0m         \u001b[0mfmin\u001b[0m \u001b[0;34m=\u001b[0m \u001b[0mm\u001b[0m\u001b[0;34m.\u001b[0m\u001b[0mfmin\u001b[0m\u001b[0;34m\u001b[0m\u001b[0;34m\u001b[0m\u001b[0m\n\u001b[1;32m    428\u001b[0m     \u001b[0;32melse\u001b[0m\u001b[0;34m:\u001b[0m\u001b[0;34m\u001b[0m\u001b[0;34m\u001b[0m\u001b[0m\n",
      "\u001b[0;32m~/.conda/envs/snmachine/lib/python3.7/site-packages/iminuit/_minuit.py\u001b[0m in \u001b[0;36mmigrad\u001b[0;34m(self, ncall, iterate)\u001b[0m\n\u001b[1;32m    546\u001b[0m             \u001b[0;32mif\u001b[0m \u001b[0mself\u001b[0m\u001b[0;34m.\u001b[0m\u001b[0m_precision\u001b[0m \u001b[0;32mis\u001b[0m \u001b[0;32mnot\u001b[0m \u001b[0;32mNone\u001b[0m\u001b[0;34m:\u001b[0m\u001b[0;34m\u001b[0m\u001b[0;34m\u001b[0m\u001b[0m\n\u001b[1;32m    547\u001b[0m                 \u001b[0mmigrad\u001b[0m\u001b[0;34m.\u001b[0m\u001b[0mprecision\u001b[0m \u001b[0;34m=\u001b[0m \u001b[0mself\u001b[0m\u001b[0;34m.\u001b[0m\u001b[0m_precision\u001b[0m\u001b[0;34m\u001b[0m\u001b[0;34m\u001b[0m\u001b[0m\n\u001b[0;32m--> 548\u001b[0;31m             \u001b[0mfm\u001b[0m \u001b[0;34m=\u001b[0m \u001b[0mmigrad\u001b[0m\u001b[0;34m(\u001b[0m\u001b[0mncall\u001b[0m\u001b[0;34m,\u001b[0m \u001b[0mself\u001b[0m\u001b[0;34m.\u001b[0m\u001b[0m_tolerance\u001b[0m\u001b[0;34m)\u001b[0m\u001b[0;34m\u001b[0m\u001b[0;34m\u001b[0m\u001b[0m\n\u001b[0m\u001b[1;32m    549\u001b[0m             \u001b[0;32mif\u001b[0m \u001b[0mfm\u001b[0m\u001b[0;34m.\u001b[0m\u001b[0mis_valid\u001b[0m \u001b[0;32mor\u001b[0m \u001b[0mfm\u001b[0m\u001b[0;34m.\u001b[0m\u001b[0mhas_reached_call_limit\u001b[0m\u001b[0;34m:\u001b[0m\u001b[0;34m\u001b[0m\u001b[0;34m\u001b[0m\u001b[0m\n\u001b[1;32m    550\u001b[0m                 \u001b[0;32mbreak\u001b[0m\u001b[0;34m\u001b[0m\u001b[0;34m\u001b[0m\u001b[0m\n",
      "\u001b[0;31mRuntimeError\u001b[0m: result is NaN for [ 0.8576 -52.9033 1.58e-05 1.01815 nan ]"
     ]
    }
   ],
   "source": [
    "if read_from_file:\n",
    "    print('Reading from file...')\n",
    "    salt2_features = Table.read(f'{run_name}_templates.dat', \n",
    "                                format='ascii')\n",
    "    better_name = salt2_features['Object'].astype(str)\n",
    "    salt2_features.replace_column('Object', better_name)\n",
    "else:\n",
    "    print('Feature extraction...')\n",
    "    salt2_features = salt2_features_instance.extract_features(\n",
    "        dataset, use_redshift=True, number_processes=1, \n",
    "        chain_directory=path_saved_interm)\n",
    "    salt2_features.write(f'{run_name}_templates.dat', format='ascii')"
   ]
  },
  {
   "cell_type": "code",
   "execution_count": 32,
   "metadata": {},
   "outputs": [
    {
     "name": "stdout",
     "output_type": "stream",
     "text": [
      "Feature extraction...\n",
      "Fitting templates using leastsq ...\n",
      "MODEL-NAME: Ia\n"
     ]
    },
    {
     "ename": "RuntimeError",
     "evalue": "result is NaN for [ 0.6421 -37.0659 5.13706e-06 nan -0.0445148 ]",
     "output_type": "error",
     "traceback": [
      "\u001b[0;31m---------------------------------------------------------------------------\u001b[0m",
      "\u001b[0;31mRemoteTraceback\u001b[0m                           Traceback (most recent call last)",
      "\u001b[0;31mRemoteTraceback\u001b[0m: \n\"\"\"\nTraceback (most recent call last):\n  File \"/home/calves/.conda/envs/snmachine/lib/python3.7/multiprocessing/pool.py\", line 121, in worker\n    result = (True, func(*args, **kwds))\n  File \"/home/calves/.conda/envs/snmachine/lib/python3.7/multiprocessing/pool.py\", line 44, in mapstar\n    return list(map(*args))\n  File \"/home/calves/.conda/envs/snmachine/lib/python3.7/site-packages/snmachine/snfeatures.py\", line 388, in _run_leastsq_templates\n    bounds=bnds, minsnr=0)\n  File \"/home/calves/.conda/envs/snmachine/lib/python3.7/site-packages/sncosmo/fitting.py\", line 734, in fit_lc\n    verbose)\n  File \"/home/calves/.conda/envs/snmachine/lib/python3.7/site-packages/sncosmo/fitting.py\", line 426, in _run_iminuit\n    m.migrad(ncall=maxcall)\n  File \"/home/calves/.conda/envs/snmachine/lib/python3.7/site-packages/iminuit/_minuit.py\", line 548, in migrad\n    fm = migrad(ncall, self._tolerance)\nRuntimeError: result is NaN for [ 0.6421 -37.0659 5.13706e-06 nan -0.0445148 ]\n\"\"\"",
      "\nThe above exception was the direct cause of the following exception:\n",
      "\u001b[0;31mRuntimeError\u001b[0m                              Traceback (most recent call last)",
      "\u001b[0;32m<ipython-input-32-66f62a931553>\u001b[0m in \u001b[0;36m<module>\u001b[0;34m\u001b[0m\n\u001b[1;32m      9\u001b[0m     salt2_features = salt2_features_instance.extract_features(\n\u001b[1;32m     10\u001b[0m         \u001b[0mdataset\u001b[0m\u001b[0;34m,\u001b[0m \u001b[0muse_redshift\u001b[0m\u001b[0;34m=\u001b[0m\u001b[0;32mTrue\u001b[0m\u001b[0;34m,\u001b[0m \u001b[0mnumber_processes\u001b[0m\u001b[0;34m=\u001b[0m\u001b[0;36m4\u001b[0m\u001b[0;34m,\u001b[0m\u001b[0;34m\u001b[0m\u001b[0;34m\u001b[0m\u001b[0m\n\u001b[0;32m---> 11\u001b[0;31m         chain_directory=path_saved_interm)\n\u001b[0m\u001b[1;32m     12\u001b[0m     \u001b[0msalt2_features\u001b[0m\u001b[0;34m.\u001b[0m\u001b[0mwrite\u001b[0m\u001b[0;34m(\u001b[0m\u001b[0;34mf'{run_name}_templates.dat'\u001b[0m\u001b[0;34m,\u001b[0m \u001b[0mformat\u001b[0m\u001b[0;34m=\u001b[0m\u001b[0;34m'ascii'\u001b[0m\u001b[0;34m)\u001b[0m\u001b[0;34m\u001b[0m\u001b[0;34m\u001b[0m\u001b[0m\n",
      "\u001b[0;32m~/.conda/envs/snmachine/lib/python3.7/site-packages/snmachine/snfeatures.py\u001b[0m in \u001b[0;36mextract_features\u001b[0;34m(self, d, save_output, chain_directory, use_redshift, number_processes, restart, seed)\u001b[0m\n\u001b[1;32m    808\u001b[0m                                            bounds=self.bounds[\n\u001b[1;32m    809\u001b[0m                                                self.templates[mod_name]])\n\u001b[0;32m--> 810\u001b[0;31m                     \u001b[0mout\u001b[0m \u001b[0;34m=\u001b[0m \u001b[0mp\u001b[0m\u001b[0;34m.\u001b[0m\u001b[0mmap\u001b[0m\u001b[0;34m(\u001b[0m\u001b[0mpartial_func\u001b[0m\u001b[0;34m,\u001b[0m \u001b[0md\u001b[0m\u001b[0;34m.\u001b[0m\u001b[0mobject_names\u001b[0m\u001b[0;34m)\u001b[0m\u001b[0;34m\u001b[0m\u001b[0;34m\u001b[0m\u001b[0m\n\u001b[0m\u001b[1;32m    811\u001b[0m                     \u001b[0moutput\u001b[0m \u001b[0;34m=\u001b[0m \u001b[0mout\u001b[0m\u001b[0;34m[\u001b[0m\u001b[0;36m0\u001b[0m\u001b[0;34m]\u001b[0m\u001b[0;34m\u001b[0m\u001b[0;34m\u001b[0m\u001b[0m\n\u001b[1;32m    812\u001b[0m                     \u001b[0;32mfor\u001b[0m \u001b[0mi\u001b[0m \u001b[0;32min\u001b[0m \u001b[0mrange\u001b[0m\u001b[0;34m(\u001b[0m\u001b[0;36m1\u001b[0m\u001b[0;34m,\u001b[0m \u001b[0mlen\u001b[0m\u001b[0;34m(\u001b[0m\u001b[0mout\u001b[0m\u001b[0;34m)\u001b[0m\u001b[0;34m)\u001b[0m\u001b[0;34m:\u001b[0m\u001b[0;34m\u001b[0m\u001b[0;34m\u001b[0m\u001b[0m\n",
      "\u001b[0;32m~/.conda/envs/snmachine/lib/python3.7/multiprocessing/pool.py\u001b[0m in \u001b[0;36mmap\u001b[0;34m(self, func, iterable, chunksize)\u001b[0m\n\u001b[1;32m    266\u001b[0m         \u001b[0;32min\u001b[0m \u001b[0ma\u001b[0m \u001b[0mlist\u001b[0m \u001b[0mthat\u001b[0m \u001b[0;32mis\u001b[0m \u001b[0mreturned\u001b[0m\u001b[0;34m.\u001b[0m\u001b[0;34m\u001b[0m\u001b[0;34m\u001b[0m\u001b[0m\n\u001b[1;32m    267\u001b[0m         '''\n\u001b[0;32m--> 268\u001b[0;31m         \u001b[0;32mreturn\u001b[0m \u001b[0mself\u001b[0m\u001b[0;34m.\u001b[0m\u001b[0m_map_async\u001b[0m\u001b[0;34m(\u001b[0m\u001b[0mfunc\u001b[0m\u001b[0;34m,\u001b[0m \u001b[0miterable\u001b[0m\u001b[0;34m,\u001b[0m \u001b[0mmapstar\u001b[0m\u001b[0;34m,\u001b[0m \u001b[0mchunksize\u001b[0m\u001b[0;34m)\u001b[0m\u001b[0;34m.\u001b[0m\u001b[0mget\u001b[0m\u001b[0;34m(\u001b[0m\u001b[0;34m)\u001b[0m\u001b[0;34m\u001b[0m\u001b[0;34m\u001b[0m\u001b[0m\n\u001b[0m\u001b[1;32m    269\u001b[0m \u001b[0;34m\u001b[0m\u001b[0m\n\u001b[1;32m    270\u001b[0m     \u001b[0;32mdef\u001b[0m \u001b[0mstarmap\u001b[0m\u001b[0;34m(\u001b[0m\u001b[0mself\u001b[0m\u001b[0;34m,\u001b[0m \u001b[0mfunc\u001b[0m\u001b[0;34m,\u001b[0m \u001b[0miterable\u001b[0m\u001b[0;34m,\u001b[0m \u001b[0mchunksize\u001b[0m\u001b[0;34m=\u001b[0m\u001b[0;32mNone\u001b[0m\u001b[0;34m)\u001b[0m\u001b[0;34m:\u001b[0m\u001b[0;34m\u001b[0m\u001b[0;34m\u001b[0m\u001b[0m\n",
      "\u001b[0;32m~/.conda/envs/snmachine/lib/python3.7/multiprocessing/pool.py\u001b[0m in \u001b[0;36mget\u001b[0;34m(self, timeout)\u001b[0m\n\u001b[1;32m    655\u001b[0m             \u001b[0;32mreturn\u001b[0m \u001b[0mself\u001b[0m\u001b[0;34m.\u001b[0m\u001b[0m_value\u001b[0m\u001b[0;34m\u001b[0m\u001b[0;34m\u001b[0m\u001b[0m\n\u001b[1;32m    656\u001b[0m         \u001b[0;32melse\u001b[0m\u001b[0;34m:\u001b[0m\u001b[0;34m\u001b[0m\u001b[0;34m\u001b[0m\u001b[0m\n\u001b[0;32m--> 657\u001b[0;31m             \u001b[0;32mraise\u001b[0m \u001b[0mself\u001b[0m\u001b[0;34m.\u001b[0m\u001b[0m_value\u001b[0m\u001b[0;34m\u001b[0m\u001b[0;34m\u001b[0m\u001b[0m\n\u001b[0m\u001b[1;32m    658\u001b[0m \u001b[0;34m\u001b[0m\u001b[0m\n\u001b[1;32m    659\u001b[0m     \u001b[0;32mdef\u001b[0m \u001b[0m_set\u001b[0m\u001b[0;34m(\u001b[0m\u001b[0mself\u001b[0m\u001b[0;34m,\u001b[0m \u001b[0mi\u001b[0m\u001b[0;34m,\u001b[0m \u001b[0mobj\u001b[0m\u001b[0;34m)\u001b[0m\u001b[0;34m:\u001b[0m\u001b[0;34m\u001b[0m\u001b[0;34m\u001b[0m\u001b[0m\n",
      "\u001b[0;31mRuntimeError\u001b[0m: result is NaN for [ 0.6421 -37.0659 5.13706e-06 nan -0.0445148 ]"
     ]
    }
   ],
   "source": [
    "if read_from_file:\n",
    "    print('Reading from file...')\n",
    "    salt2_features = Table.read(f'{run_name}_templates.dat', \n",
    "                                format='ascii')\n",
    "    better_name = salt2_features['Object'].astype(str)\n",
    "    salt2_features.replace_column('Object', better_name)\n",
    "else:\n",
    "    print('Feature extraction...')\n",
    "    salt2_features = salt2_features_instance.extract_features(\n",
    "        dataset, use_redshift=True, number_processes=4, \n",
    "        chain_directory=path_saved_interm)\n",
    "    salt2_features.write(f'{run_name}_templates.dat', format='ascii')"
   ]
  },
  {
   "cell_type": "markdown",
   "metadata": {},
   "source": [
    "Then, we take the fitted parameters and generate the model light curve for plotting purposes."
   ]
  },
  {
   "cell_type": "code",
   "execution_count": null,
   "metadata": {},
   "outputs": [],
   "source": [
    "dataset.set_model(salt2_features_instance.fit_sn, salt2_features)"
   ]
  },
  {
   "cell_type": "markdown",
   "metadata": {},
   "source": [
    "Now we can see how well the SALT2 model fits our light curves."
   ]
  },
  {
   "cell_type": "code",
   "execution_count": null,
   "metadata": {
    "scrolled": false
   },
   "outputs": [],
   "source": [
    "dataset.plot_all()"
   ]
  },
  {
   "cell_type": "markdown",
   "metadata": {},
   "source": [
    "t-SNE plots: \n",
    "These are useful visualisation plots which embed high dimensional features into a lower dimensional space to indicate how well the features separate between classes (see https://lvdmaaten.github.io/tsne/)."
   ]
  },
  {
   "cell_type": "code",
   "execution_count": null,
   "metadata": {},
   "outputs": [],
   "source": [
    "plt.figure()\n",
    "tsne_plot.plot(salt2_features, join(salt2_features, types)['Type'])"
   ]
  },
  {
   "cell_type": "markdown",
   "metadata": {},
   "source": [
    "### 2.1 Parametric fits - model 1 (Newling et al.)"
   ]
  },
  {
   "cell_type": "code",
   "execution_count": 41,
   "metadata": {},
   "outputs": [],
   "source": [
    "model1_features_instance = snfeatures.ParametricFeatures(\n",
    "    'newling', sampler='leastsq')"
   ]
  },
  {
   "cell_type": "code",
   "execution_count": 42,
   "metadata": {
    "scrolled": false
   },
   "outputs": [
    {
     "name": "stdout",
     "output_type": "stream",
     "text": [
      "0 objects fitted\n"
     ]
    },
    {
     "ename": "RuntimeError",
     "evalue": "pedantic is not one of the parameters []",
     "output_type": "error",
     "traceback": [
      "\u001b[0;31m---------------------------------------------------------------------------\u001b[0m",
      "\u001b[0;31mRuntimeError\u001b[0m                              Traceback (most recent call last)",
      "\u001b[0;32m<ipython-input-42-8105831cb0a0>\u001b[0m in \u001b[0;36m<module>\u001b[0;34m\u001b[0m\n\u001b[1;32m      6\u001b[0m \u001b[0;32melse\u001b[0m\u001b[0;34m:\u001b[0m\u001b[0;34m\u001b[0m\u001b[0;34m\u001b[0m\u001b[0m\n\u001b[1;32m      7\u001b[0m     read_from_file = model1_features_instance.extract_features(\n\u001b[0;32m----> 8\u001b[0;31m         dataset, number_processes=1, chain_directory=path_saved_interm)\n\u001b[0m\u001b[1;32m      9\u001b[0m     \u001b[0mread_from_file\u001b[0m\u001b[0;34m.\u001b[0m\u001b[0mwrite\u001b[0m\u001b[0;34m(\u001b[0m\u001b[0;34mf'{run_name}_newling.dat'\u001b[0m\u001b[0;34m,\u001b[0m \u001b[0mformat\u001b[0m\u001b[0;34m=\u001b[0m\u001b[0;34m'ascii'\u001b[0m\u001b[0;34m)\u001b[0m\u001b[0;34m\u001b[0m\u001b[0;34m\u001b[0m\u001b[0m\n",
      "\u001b[0;32m~/.conda/envs/snmachine/lib/python3.7/site-packages/snmachine/snfeatures.py\u001b[0m in \u001b[0;36mextract_features\u001b[0;34m(self, d, chain_directory, save_output, n_attempts, number_processes, n_walkers, n_steps, walker_spread, burn, nlp, starting_point, convert_to_binary, n_iter, restart, seed)\u001b[0m\n\u001b[1;32m   1057\u001b[0m                 \u001b[0;32mif\u001b[0m \u001b[0mself\u001b[0m\u001b[0;34m.\u001b[0m\u001b[0msampler\u001b[0m \u001b[0;34m==\u001b[0m \u001b[0;34m'leastsq'\u001b[0m\u001b[0;34m:\u001b[0m\u001b[0;34m\u001b[0m\u001b[0;34m\u001b[0m\u001b[0m\n\u001b[1;32m   1058\u001b[0m                     newtable = _run_leastsq(obj, d, self.model, n_attempts,\n\u001b[0;32m-> 1059\u001b[0;31m                                             seed=seed)\n\u001b[0m\u001b[1;32m   1060\u001b[0m                 \u001b[0;32melif\u001b[0m \u001b[0mself\u001b[0m\u001b[0;34m.\u001b[0m\u001b[0msampler\u001b[0m \u001b[0;34m==\u001b[0m \u001b[0;34m'mcmc'\u001b[0m\u001b[0;34m:\u001b[0m\u001b[0;34m\u001b[0m\u001b[0;34m\u001b[0m\u001b[0m\n\u001b[1;32m   1061\u001b[0m                     \u001b[0;32mif\u001b[0m \u001b[0;34m(\u001b[0m\u001b[0mseed\u001b[0m \u001b[0;34m!=\u001b[0m \u001b[0;34m-\u001b[0m\u001b[0;36m1\u001b[0m\u001b[0;34m)\u001b[0m\u001b[0;34m:\u001b[0m\u001b[0;34m\u001b[0m\u001b[0;34m\u001b[0m\u001b[0m\n",
      "\u001b[0;32m~/.conda/envs/snmachine/lib/python3.7/site-packages/snmachine/snfeatures.py\u001b[0m in \u001b[0;36m_run_leastsq\u001b[0;34m(obj, d, model, n_attempts, seed)\u001b[0m\n\u001b[1;32m    145\u001b[0m \u001b[0;34m\u001b[0m\u001b[0m\n\u001b[1;32m    146\u001b[0m                 m = Minuit(mini_func, pedantic=False, print_level=0,\n\u001b[0;32m--> 147\u001b[0;31m                            forced_parameters=model.param_names, **input_args)\n\u001b[0m\u001b[1;32m    148\u001b[0m \u001b[0;34m\u001b[0m\u001b[0m\n\u001b[1;32m    149\u001b[0m                 \u001b[0mm\u001b[0m\u001b[0;34m.\u001b[0m\u001b[0mmigrad\u001b[0m\u001b[0;34m(\u001b[0m\u001b[0;34m)\u001b[0m\u001b[0;34m\u001b[0m\u001b[0;34m\u001b[0m\u001b[0m\n",
      "\u001b[0;32m~/.conda/envs/snmachine/lib/python3.7/site-packages/iminuit/_minuit.py\u001b[0m in \u001b[0;36m__init__\u001b[0;34m(self, fcn, grad, name, *args, **kwds)\u001b[0m\n\u001b[1;32m    484\u001b[0m         )\n\u001b[1;32m    485\u001b[0m \u001b[0;34m\u001b[0m\u001b[0m\n\u001b[0;32m--> 486\u001b[0;31m         \u001b[0mself\u001b[0m\u001b[0;34m.\u001b[0m\u001b[0m_init_state\u001b[0m \u001b[0;34m=\u001b[0m \u001b[0m_make_init_state\u001b[0m\u001b[0;34m(\u001b[0m\u001b[0mself\u001b[0m\u001b[0;34m.\u001b[0m\u001b[0m_pos2var\u001b[0m\u001b[0;34m,\u001b[0m \u001b[0margs\u001b[0m\u001b[0;34m,\u001b[0m \u001b[0mkwds\u001b[0m\u001b[0;34m)\u001b[0m\u001b[0;34m\u001b[0m\u001b[0;34m\u001b[0m\u001b[0m\n\u001b[0m\u001b[1;32m    487\u001b[0m         \u001b[0mself\u001b[0m\u001b[0;34m.\u001b[0m\u001b[0m_values\u001b[0m \u001b[0;34m=\u001b[0m \u001b[0mmutil\u001b[0m\u001b[0;34m.\u001b[0m\u001b[0mValueView\u001b[0m\u001b[0;34m(\u001b[0m\u001b[0mself\u001b[0m\u001b[0;34m)\u001b[0m\u001b[0;34m\u001b[0m\u001b[0;34m\u001b[0m\u001b[0m\n\u001b[1;32m    488\u001b[0m         \u001b[0mself\u001b[0m\u001b[0;34m.\u001b[0m\u001b[0m_errors\u001b[0m \u001b[0;34m=\u001b[0m \u001b[0mmutil\u001b[0m\u001b[0;34m.\u001b[0m\u001b[0mErrorView\u001b[0m\u001b[0;34m(\u001b[0m\u001b[0mself\u001b[0m\u001b[0;34m)\u001b[0m\u001b[0;34m\u001b[0m\u001b[0;34m\u001b[0m\u001b[0m\n",
      "\u001b[0;32m~/.conda/envs/snmachine/lib/python3.7/site-packages/iminuit/_minuit.py\u001b[0m in \u001b[0;36m_make_init_state\u001b[0;34m(pos2var, args, kwds)\u001b[0m\n\u001b[1;32m   1422\u001b[0m             \u001b[0;32mif\u001b[0m \u001b[0mkw\u001b[0m \u001b[0;32mnot\u001b[0m \u001b[0;32min\u001b[0m \u001b[0mpos2var\u001b[0m\u001b[0;34m:\u001b[0m\u001b[0;34m\u001b[0m\u001b[0;34m\u001b[0m\u001b[0m\n\u001b[1;32m   1423\u001b[0m                 raise RuntimeError(\n\u001b[0;32m-> 1424\u001b[0;31m                     \u001b[0;34mf\"{kw} is not one of the parameters [{' '.join(pos2var)}]\"\u001b[0m\u001b[0;34m\u001b[0m\u001b[0;34m\u001b[0m\u001b[0m\n\u001b[0m\u001b[1;32m   1425\u001b[0m                 )\n\u001b[1;32m   1426\u001b[0m         \u001b[0mnargs\u001b[0m \u001b[0;34m=\u001b[0m \u001b[0mlen\u001b[0m\u001b[0;34m(\u001b[0m\u001b[0mkwds\u001b[0m\u001b[0;34m)\u001b[0m\u001b[0;34m\u001b[0m\u001b[0;34m\u001b[0m\u001b[0m\n",
      "\u001b[0;31mRuntimeError\u001b[0m: pedantic is not one of the parameters []"
     ]
    }
   ],
   "source": [
    "%%capture --no-stdout\n",
    "if read_from_file:\n",
    "    model1_features = Table.read(f'{run_name}_newling.dat', \n",
    "                               format='ascii')\n",
    "    better_name = mod1_features['Object'].astype(str)\n",
    "    read_from_file.replace_column('Object', better_name)\n",
    "else:\n",
    "    read_from_file = model1_features_instance.extract_features(\n",
    "        dataset, number_processes=1, chain_directory=path_saved_interm)\n",
    "    read_from_file.write(f'{run_name}_newling.dat', format='ascii')"
   ]
  },
  {
   "cell_type": "markdown",
   "metadata": {},
   "source": [
    "Unfortunately, sometimes the fitting methods return NaN for some parameters for these models."
   ]
  },
  {
   "cell_type": "code",
   "execution_count": 37,
   "metadata": {},
   "outputs": [
    {
     "ename": "NameError",
     "evalue": "name 'mod1_features' is not defined",
     "output_type": "error",
     "traceback": [
      "\u001b[0;31m---------------------------------------------------------------------------\u001b[0m",
      "\u001b[0;31mNameError\u001b[0m                                 Traceback (most recent call last)",
      "\u001b[0;32m<ipython-input-37-1c4bb2f435ec>\u001b[0m in \u001b[0;36m<module>\u001b[0;34m\u001b[0m\n\u001b[0;32m----> 1\u001b[0;31m \u001b[0;32mfor\u001b[0m \u001b[0mc\u001b[0m \u001b[0;32min\u001b[0m \u001b[0mmod1_features\u001b[0m\u001b[0;34m.\u001b[0m\u001b[0mcolnames\u001b[0m\u001b[0;34m[\u001b[0m\u001b[0;36m1\u001b[0m\u001b[0;34m:\u001b[0m\u001b[0;34m]\u001b[0m\u001b[0;34m:\u001b[0m\u001b[0;34m\u001b[0m\u001b[0;34m\u001b[0m\u001b[0m\n\u001b[0m\u001b[1;32m      2\u001b[0m     \u001b[0mmodel1_features\u001b[0m\u001b[0;34m[\u001b[0m\u001b[0mc\u001b[0m\u001b[0;34m]\u001b[0m\u001b[0;34m[\u001b[0m\u001b[0mnp\u001b[0m\u001b[0;34m.\u001b[0m\u001b[0misnan\u001b[0m\u001b[0;34m(\u001b[0m\u001b[0mmodel1_features\u001b[0m\u001b[0;34m[\u001b[0m\u001b[0mc\u001b[0m\u001b[0;34m]\u001b[0m\u001b[0;34m)\u001b[0m\u001b[0;34m]\u001b[0m \u001b[0;34m=\u001b[0m \u001b[0;36m0\u001b[0m\u001b[0;34m\u001b[0m\u001b[0;34m\u001b[0m\u001b[0m\n",
      "\u001b[0;31mNameError\u001b[0m: name 'mod1_features' is not defined"
     ]
    }
   ],
   "source": [
    "for c in mod1_features.colnames[1:]:\n",
    "    model1_features[c][np.isnan(model1_features[c])] = 0"
   ]
  },
  {
   "cell_type": "markdown",
   "metadata": {},
   "source": [
    "Finally, we take the features and generate the model light curve for plotting purposes."
   ]
  },
  {
   "cell_type": "code",
   "execution_count": null,
   "metadata": {
    "scrolled": true
   },
   "outputs": [],
   "source": [
    "dataset.set_model(model1_features_instance.fit_sn, model1_features)"
   ]
  },
  {
   "cell_type": "markdown",
   "metadata": {},
   "source": [
    "Now we can see how well the SALT2 model fits our light curves."
   ]
  },
  {
   "cell_type": "code",
   "execution_count": null,
   "metadata": {
    "scrolled": false
   },
   "outputs": [],
   "source": [
    "dataset.plot_all()"
   ]
  },
  {
   "cell_type": "markdown",
   "metadata": {},
   "source": [
    "We also make a t-SNE plot."
   ]
  },
  {
   "cell_type": "code",
   "execution_count": null,
   "metadata": {},
   "outputs": [],
   "source": [
    "plt.figure()\n",
    "tsne_plot.plot(model1_features, join(model1_features, types)['Type'])"
   ]
  },
  {
   "cell_type": "markdown",
   "metadata": {},
   "source": [
    "### 2.2 Parametric fits - model 2 (Karpenka et al.)"
   ]
  },
  {
   "cell_type": "code",
   "execution_count": 38,
   "metadata": {},
   "outputs": [],
   "source": [
    "model2_features_instance = snfeatures.ParametricFeatures(\n",
    "    'karpenka', sampler='leastsq')"
   ]
  },
  {
   "cell_type": "code",
   "execution_count": 39,
   "metadata": {
    "scrolled": true
   },
   "outputs": [
    {
     "name": "stderr",
     "output_type": "stream",
     "text": [
      "ERROR:root:Internal Python error in the inspect module.\n",
      "Below is the traceback from this internal error.\n",
      "\n"
     ]
    },
    {
     "name": "stdout",
     "output_type": "stream",
     "text": [
      "Traceback (most recent call last):\n",
      "  File \"/home/calves/.conda/envs/snmachine/lib/python3.7/site-packages/IPython/core/interactiveshell.py\", line 3331, in run_code\n",
      "    exec(code_obj, self.user_global_ns, self.user_ns)\n",
      "  File \"<ipython-input-39-75a6e50b62b0>\", line 7, in <module>\n",
      "    dataset, number_processes=4, chain_directory=path_saved_interm)\n",
      "  File \"/home/calves/.conda/envs/snmachine/lib/python3.7/site-packages/snmachine/snfeatures.py\", line 1083, in extract_features\n",
      "    out = p.map(partial_func, d.object_names)\n",
      "  File \"/home/calves/.conda/envs/snmachine/lib/python3.7/multiprocessing/pool.py\", line 268, in map\n",
      "    return self._map_async(func, iterable, mapstar, chunksize).get()\n",
      "  File \"/home/calves/.conda/envs/snmachine/lib/python3.7/multiprocessing/pool.py\", line 651, in get\n",
      "    self.wait(timeout)\n",
      "  File \"/home/calves/.conda/envs/snmachine/lib/python3.7/multiprocessing/pool.py\", line 648, in wait\n",
      "    self._event.wait(timeout)\n",
      "  File \"/home/calves/.conda/envs/snmachine/lib/python3.7/threading.py\", line 552, in wait\n",
      "    signaled = self._cond.wait(timeout)\n",
      "  File \"/home/calves/.conda/envs/snmachine/lib/python3.7/threading.py\", line 296, in wait\n",
      "    waiter.acquire()\n",
      "KeyboardInterrupt\n",
      "\n",
      "During handling of the above exception, another exception occurred:\n",
      "\n",
      "Traceback (most recent call last):\n",
      "  File \"/home/calves/.conda/envs/snmachine/lib/python3.7/site-packages/IPython/core/interactiveshell.py\", line 2044, in showtraceback\n",
      "    stb = value._render_traceback_()\n",
      "AttributeError: 'KeyboardInterrupt' object has no attribute '_render_traceback_'\n",
      "\n",
      "During handling of the above exception, another exception occurred:\n",
      "\n",
      "Traceback (most recent call last):\n",
      "  File \"/home/calves/.conda/envs/snmachine/lib/python3.7/site-packages/IPython/core/ultratb.py\", line 1148, in get_records\n",
      "    return _fixed_getinnerframes(etb, number_of_lines_of_context, tb_offset)\n",
      "  File \"/home/calves/.conda/envs/snmachine/lib/python3.7/site-packages/IPython/core/ultratb.py\", line 316, in wrapped\n",
      "    return f(*args, **kwargs)\n",
      "  File \"/home/calves/.conda/envs/snmachine/lib/python3.7/site-packages/IPython/core/ultratb.py\", line 350, in _fixed_getinnerframes\n",
      "    records = fix_frame_records_filenames(inspect.getinnerframes(etb, context))\n",
      "  File \"/home/calves/.conda/envs/snmachine/lib/python3.7/inspect.py\", line 1502, in getinnerframes\n",
      "    frameinfo = (tb.tb_frame,) + getframeinfo(tb, context)\n",
      "  File \"/home/calves/.conda/envs/snmachine/lib/python3.7/inspect.py\", line 1460, in getframeinfo\n",
      "    filename = getsourcefile(frame) or getfile(frame)\n",
      "  File \"/home/calves/.conda/envs/snmachine/lib/python3.7/inspect.py\", line 693, in getsourcefile\n",
      "    if os.path.exists(filename):\n",
      "  File \"/home/calves/.conda/envs/snmachine/lib/python3.7/genericpath.py\", line 19, in exists\n",
      "    os.stat(path)\n",
      "KeyboardInterrupt\n"
     ]
    },
    {
     "ename": "KeyboardInterrupt",
     "evalue": "",
     "output_type": "error",
     "traceback": [
      "\u001b[0;31m---------------------------------------------------------------------------\u001b[0m"
     ]
    }
   ],
   "source": [
    "%%capture --no-stdout\n",
    "if read_from_file:\n",
    "    model2_features = Table.read(f'{run_name}_karpenka.dat', format='ascii')\n",
    "    better_name = model2_features['Object'].astype(str)\n",
    "    model2_features.replace_column('Object', better_name)\n",
    "else:\n",
    "    model2_features = model2_features_instance.extract_features(\n",
    "        dataset, number_processes=4, chain_directory=path_saved_interm)\n",
    "    model2_features.write(f'{run_name}_karpenka.dat', format='ascii')"
   ]
  },
  {
   "cell_type": "markdown",
   "metadata": {},
   "source": [
    "Unfortunately, sometimes the fitting methods return NaN for some parameters for these models."
   ]
  },
  {
   "cell_type": "code",
   "execution_count": 40,
   "metadata": {},
   "outputs": [
    {
     "ename": "NameError",
     "evalue": "name 'model2_features' is not defined",
     "output_type": "error",
     "traceback": [
      "\u001b[0;31m---------------------------------------------------------------------------\u001b[0m",
      "\u001b[0;31mNameError\u001b[0m                                 Traceback (most recent call last)",
      "\u001b[0;32m<ipython-input-40-04d37e8a12a3>\u001b[0m in \u001b[0;36m<module>\u001b[0;34m\u001b[0m\n\u001b[0;32m----> 1\u001b[0;31m \u001b[0;32mfor\u001b[0m \u001b[0mc\u001b[0m \u001b[0;32min\u001b[0m \u001b[0mmodel2_features\u001b[0m\u001b[0;34m.\u001b[0m\u001b[0mcolnames\u001b[0m\u001b[0;34m[\u001b[0m\u001b[0;36m1\u001b[0m\u001b[0;34m:\u001b[0m\u001b[0;34m]\u001b[0m\u001b[0;34m:\u001b[0m\u001b[0;34m\u001b[0m\u001b[0;34m\u001b[0m\u001b[0m\n\u001b[0m\u001b[1;32m      2\u001b[0m     \u001b[0mmodel2_features\u001b[0m\u001b[0;34m[\u001b[0m\u001b[0mc\u001b[0m\u001b[0;34m]\u001b[0m\u001b[0;34m[\u001b[0m\u001b[0mnp\u001b[0m\u001b[0;34m.\u001b[0m\u001b[0misnan\u001b[0m\u001b[0;34m(\u001b[0m\u001b[0mmodel2_features\u001b[0m\u001b[0;34m[\u001b[0m\u001b[0mc\u001b[0m\u001b[0;34m]\u001b[0m\u001b[0;34m)\u001b[0m\u001b[0;34m]\u001b[0m \u001b[0;34m=\u001b[0m \u001b[0;36m0\u001b[0m\u001b[0;34m\u001b[0m\u001b[0;34m\u001b[0m\u001b[0m\n",
      "\u001b[0;31mNameError\u001b[0m: name 'model2_features' is not defined"
     ]
    }
   ],
   "source": [
    "for c in model2_features.colnames[1:]:\n",
    "    model2_features[c][np.isnan(model2_features[c])] = 0"
   ]
  },
  {
   "cell_type": "markdown",
   "metadata": {},
   "source": [
    "Finally, we take the features and generate the model light curve for plotting purposes."
   ]
  },
  {
   "cell_type": "code",
   "execution_count": null,
   "metadata": {},
   "outputs": [],
   "source": [
    "dataset.set_model(model2_features_instance.fit_sn, model2_features)"
   ]
  },
  {
   "cell_type": "markdown",
   "metadata": {},
   "source": [
    "Now we can see how well the SALT2 model fits our light curves."
   ]
  },
  {
   "cell_type": "code",
   "execution_count": null,
   "metadata": {},
   "outputs": [],
   "source": [
    "dataset.plot_all()"
   ]
  },
  {
   "cell_type": "markdown",
   "metadata": {},
   "source": [
    "We also make a t-SNE plot."
   ]
  },
  {
   "cell_type": "code",
   "execution_count": null,
   "metadata": {},
   "outputs": [],
   "source": [
    "plt.figure()\n",
    "tsne_plot.plot(model2_features, join(model2_features, types)['Type'])"
   ]
  },
  {
   "cell_type": "markdown",
   "metadata": {},
   "source": [
    "### 3. Wavelet features"
   ]
  },
  {
   "cell_type": "markdown",
   "metadata": {},
   "source": [
    "The wavelet feature extraction process is quite complicated, although it is fairly fast. Remember to save the PCA eigenvalues, vectors and mean for later reconstruction!"
   ]
  },
  {
   "cell_type": "code",
   "execution_count": null,
   "metadata": {},
   "outputs": [],
   "source": [
    "wavelet_features_instance = snfeatures.WaveletFeatures()"
   ]
  },
  {
   "cell_type": "code",
   "execution_count": null,
   "metadata": {
    "scrolled": true
   },
   "outputs": [],
   "source": [
    "%%capture --no-stdout\n",
    "if read_from_file:\n",
    "    wavelet_features = Table.read(f'{run_name}_wavelets.dat', format='ascii')\n",
    "    #Crucial for this format of id's\n",
    "    better_name = wavelet_features['Object'].astype(str)\n",
    "    wavelet_features.replace_column('Object', better_name)\n",
    "    PCA_vals = np.loadtxt(f'{run_name}_wavelets_PCA_vals.dat')\n",
    "    PCA_vec = np.loadtxt(f'{run_name}_wavelets_PCA_vec.dat')\n",
    "    PCA_mean = np.loadtxt(f'{run_name}_wavelets_PCA_mean.dat')\n",
    "else:\n",
    "    wavelet_features = wavelet_features_instance.extract_features(\n",
    "        dataset, number_processes=4, output_root=path_saved_interm,\n",
    "        save_output='all')  # TODO -> this will likely fail\n",
    "    wavelet_features.write(f'{run_name}_wavelets.dat', format='ascii')\n",
    "    \n",
    "    PCA_vals = wavelet_features_instance.PCA_eigenvals\n",
    "    PCA_vec = wavelet_features_instance.PCA_eigenvectors\n",
    "    PCA_mean = wavelet_features_instance.PCA_mean\n",
    "    \n",
    "    np.savetxt(f'{run_name}_wavelets_PCA_vals.dat', PCA_vals)\n",
    "    np.savetxt(f'{run_name}_wavelets_PCA_vec.dat', PCA_vec)\n",
    "    np.savetxt(f'{run_name}_wavelets_PCA_mean.dat', PCA_mean)"
   ]
  },
  {
   "cell_type": "markdown",
   "metadata": {},
   "source": [
    "Finally, we take the features and generate the model light curve for plotting purposes."
   ]
  },
  {
   "cell_type": "code",
   "execution_count": null,
   "metadata": {},
   "outputs": [],
   "source": [
    "dataset.set_model(wavelet_features_instance.fit_sn,\n",
    "                  wavelet_features, PCA_vec, PCA_mean, 0, \n",
    "                  dataset.get_max_length(), dataset.filter_set)"
   ]
  },
  {
   "cell_type": "markdown",
   "metadata": {},
   "source": [
    "Now we can see how well the SALT2 model fits our light curves."
   ]
  },
  {
   "cell_type": "code",
   "execution_count": null,
   "metadata": {},
   "outputs": [],
   "source": [
    "dataset.plot_all()"
   ]
  },
  {
   "cell_type": "markdown",
   "metadata": {},
   "source": [
    "We also make a t-SNE plot."
   ]
  },
  {
   "cell_type": "code",
   "execution_count": null,
   "metadata": {},
   "outputs": [],
   "source": [
    "plt.figure()\n",
    "tsne_plot.plot(wavelet_features, join(wavelet_features, types)['Type'])"
   ]
  },
  {
   "cell_type": "markdown",
   "metadata": {},
   "source": [
    "## Classify"
   ]
  },
  {
   "cell_type": "markdown",
   "metadata": {},
   "source": [
    "Finally, we're ready to run the machine learning algorithm. There's a utility function in the `snclassifier` library to make it easy to run all the algorithms available, including converting features to `numpy` arrays and rescaling them and automatically generating ROC curves and metrics. Hyperparameters are automatically selected using a grid search combined with cross-validation. All functionality can also be individually run from `snclassifier`."
   ]
  },
  {
   "cell_type": "markdown",
   "metadata": {},
   "source": [
    "Classifiers can be run in parallel, change `number_processes` to the number of processors on your machine (we're only running 4 algorithms so it won't help to set this any higher than 4)."
   ]
  },
  {
   "cell_type": "code",
   "execution_count": null,
   "metadata": {},
   "outputs": [],
   "source": [
    "number_processes = 4"
   ]
  },
  {
   "cell_type": "code",
   "execution_count": null,
   "metadata": {},
   "outputs": [],
   "source": [
    "print('The available classifiers are:', snclassifier.choice_of_classifiers)"
   ]
  },
  {
   "cell_type": "code",
   "execution_count": null,
   "metadata": {},
   "outputs": [],
   "source": [
    "which_column = 0  # SN Ia is the first column"
   ]
  },
  {
   "cell_type": "markdown",
   "metadata": {},
   "source": [
    "### 1. SALT2 Template features"
   ]
  },
  {
   "cell_type": "code",
   "execution_count": null,
   "metadata": {
    "scrolled": false
   },
   "outputs": [],
   "source": [
    "plt.figure()\n",
    "classifier_instances, cms = snclassifier.run_several_classifiers(\n",
    "    classifier_list=['nb','knn','svm','boost_dt'], \n",
    "    features=salt2_features, labels=types,  scoring='accuracy', \n",
    "    train_set=.3, scale_features=True, which_column=which_column, \n",
    "    random_seed=42, output_root=path_saved_classifier,\n",
    "    **{'plot_roc_curve': True, 'number_processes': number_processes})"
   ]
  },
  {
   "cell_type": "markdown",
   "metadata": {
    "collapsed": true
   },
   "source": [
    "### 2.1 Parametric fits - model 1 (Newling et al.)"
   ]
  },
  {
   "cell_type": "code",
   "execution_count": null,
   "metadata": {
    "scrolled": false
   },
   "outputs": [],
   "source": [
    "plt.figure()\n",
    "classifier_instances, cms = snclassifier.run_several_classifiers(\n",
    "    classifier_list=['nb','knn','svm','boost_dt'], \n",
    "    features=model1_features, labels=types,  scoring='accuracy', \n",
    "    train_set=.3, scale_features=True, which_column=which_column, \n",
    "    random_seed=42, output_root=path_saved_classifier,\n",
    "    **{'plot_roc_curve': True, 'number_processes': number_processes})"
   ]
  },
  {
   "cell_type": "markdown",
   "metadata": {},
   "source": [
    "### 2.2 Parametric fits - model 2 (Karpenka et al.)"
   ]
  },
  {
   "cell_type": "code",
   "execution_count": null,
   "metadata": {
    "scrolled": false
   },
   "outputs": [],
   "source": [
    "plt.figure()\n",
    "classifier_instances, cms = snclassifier.run_several_classifiers(\n",
    "    classifier_list=['nb','knn','svm','boost_dt'], \n",
    "    features=model2_features, labels=types,  scoring='accuracy', \n",
    "    train_set=.3, scale_features=True, which_column=which_column, \n",
    "    random_seed=42, output_root=path_saved_classifier,\n",
    "    **{'plot_roc_curve': True, 'number_processes': number_processes})"
   ]
  },
  {
   "cell_type": "markdown",
   "metadata": {},
   "source": [
    "### 3. Wavelet features"
   ]
  },
  {
   "cell_type": "code",
   "execution_count": null,
   "metadata": {
    "scrolled": false
   },
   "outputs": [],
   "source": [
    "plt.figure()\n",
    "classifier_instances, cms = snclassifier.run_several_classifiers(\n",
    "    classifier_list=['nb','knn','svm','boost_dt'], \n",
    "    features=wavelet_features, labels=types,  scoring='accuracy', \n",
    "    train_set=.3, scale_features=True, which_column=which_column, \n",
    "    random_seed=42, output_root=path_saved_classifier,\n",
    "    **{'plot_roc_curve': True, 'number_processes': number_processes})"
   ]
  },
  {
   "cell_type": "markdown",
   "metadata": {},
   "source": [
    "[Go back to top.](#index)"
   ]
  }
 ],
 "metadata": {
  "kernelspec": {
   "display_name": "Python 3",
   "language": "python",
   "name": "python3"
  },
  "language_info": {
   "codemirror_mode": {
    "name": "ipython",
    "version": 3
   },
   "file_extension": ".py",
   "mimetype": "text/x-python",
   "name": "python",
   "nbconvert_exporter": "python",
   "pygments_lexer": "ipython3",
   "version": "3.7.9"
  }
 },
 "nbformat": 4,
 "nbformat_minor": 1
}
