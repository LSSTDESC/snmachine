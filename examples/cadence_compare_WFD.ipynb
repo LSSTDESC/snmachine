{
 "cells": [
  {
   "cell_type": "markdown",
   "metadata": {},
   "source": [
    "# Notebook for comparing observing stratergies and their effect on Supernova classification"
   ]
  },
  {
   "cell_type": "markdown",
   "metadata": {},
   "source": [
    "This notebook illustrates the use of the `snmachine` supernova classification package for comparing cadence runs for the LSST.\n",
    "\n",
    "See Lochner et al. (2016) http://arxiv.org/abs/1603.00882"
   ]
  },
  {
   "cell_type": "markdown",
   "metadata": {},
   "source": [
    "<img src=\"pipeline.png\" width=600>"
   ]
  },
  {
   "cell_type": "markdown",
   "metadata": {},
   "source": [
    "This image illustrates the how the pipeline works. As the user, you can choose what feature extraction method you want to use. \n",
    "\n",
    "For this analysis we have chosen to use wavelets for feature extraction and then to use random forests algorithm to complete the classification."
   ]
  },
  {
   "cell_type": "code",
   "execution_count": 23,
   "metadata": {
    "scrolled": true
   },
   "outputs": [
    {
     "name": "stdout",
     "output_type": "stream",
     "text": [
      "The autoreload extension is already loaded. To reload it, use:\n",
      "  %reload_ext autoreload\n"
     ]
    }
   ],
   "source": [
    "%%capture --no-stdout \n",
    "#I use this to supress unnecessary warnings for clarity\n",
    "%load_ext autoreload\n",
    "%autoreload #Use this to reload modules if they are changed on disk while the notebook is running\n",
    "from __future__ import division\n",
    "from snmachine import sndata, snfeatures, snclassifier, tsne_plot, example_data\n",
    "import numpy as np\n",
    "import matplotlib.pyplot as plt\n",
    "import time, os, pywt,subprocess\n",
    "from sklearn.decomposition import PCA\n",
    "from astropy.table import Table,join,vstack\n",
    "from astropy.io import fits,ascii\n",
    "import sklearn.metrics \n",
    "import sncosmo\n",
    "%matplotlib nbagg"
   ]
  },
  {
   "cell_type": "markdown",
   "metadata": {},
   "source": [
    "## Set up output structure"
   ]
  },
  {
   "cell_type": "markdown",
   "metadata": {},
   "source": [
    "We make lots of output files so it makes sense to put them in one place. This is the recommended output file structure."
   ]
  },
  {
   "cell_type": "code",
   "execution_count": 24,
   "metadata": {},
   "outputs": [],
   "source": [
    "dataset='lsst_wfd'"
   ]
  },
  {
   "cell_type": "code",
   "execution_count": 25,
   "metadata": {},
   "outputs": [
    {
     "data": {
      "text/plain": [
       "1"
      ]
     },
     "execution_count": 25,
     "metadata": {},
     "output_type": "execute_result"
    }
   ],
   "source": [
    "# WARNING...\n",
    "#Multinest uses a hardcoded character limit for the output file names. I believe it's a limit of 100 characters\n",
    "#so avoid making this file path to lengthy if using nested sampling or multinest output file names will be truncated\n",
    "\n",
    "#Change outdir to somewhere on your computer if you like\n",
    "outdir=os.path.join('output_%s_no_z' %dataset,'')\n",
    "out_features=os.path.join(outdir,'features') #Where we save the extracted features to\n",
    "out_class=os.path.join(outdir,'classifications') #Where we save the classification probabilities and ROC curves\n",
    "out_int=os.path.join(outdir,'int') #Any intermediate files (such as multinest chains or GP fits)\n",
    "\n",
    "subprocess.call(['mkdir',outdir])\n",
    "subprocess.call(['mkdir',out_features])\n",
    "subprocess.call(['mkdir',out_class])\n",
    "subprocess.call(['mkdir',out_int])"
   ]
  },
  {
   "cell_type": "code",
   "execution_count": 26,
   "metadata": {},
   "outputs": [
    {
     "name": "stdout",
     "output_type": "stream",
     "text": [
      "output_lsst_wfd_no_z/\n"
     ]
    }
   ],
   "source": [
    "print(outdir)"
   ]
  },
  {
   "cell_type": "markdown",
   "metadata": {},
   "source": [
    "## Initialise dataset object"
   ]
  },
  {
   "cell_type": "markdown",
   "metadata": {},
   "source": [
    "Load cadence simulation data"
   ]
  },
  {
   "cell_type": "code",
   "execution_count": 27,
   "metadata": {},
   "outputs": [
    {
     "name": "stdout",
     "output_type": "stream",
     "text": [
      "/Users/tallamjr/PhD/project/snmachine/examples\r\n"
     ]
    }
   ],
   "source": [
    "!pwd"
   ]
  },
  {
   "cell_type": "code",
   "execution_count": 28,
   "metadata": {},
   "outputs": [
    {
     "name": "stdout",
     "output_type": "stream",
     "text": [
      "/Users/tallamjr/PhD/project/data/CadenceCompare/RBTEST_WFD_1aCC_Y10_G10/\n"
     ]
    }
   ],
   "source": [
    "#Data root\n",
    "#rt=os.path.join(example_data, 'SPCC_SUBSET','')\n",
    "rt=\"/Users/tallamjr/PhD/project/data/CadenceCompare/RBTEST_WFD_1aCC_Y10_G10/\"\n",
    "print(rt)"
   ]
  },
  {
   "cell_type": "code",
   "execution_count": 29,
   "metadata": {},
   "outputs": [],
   "source": [
    "#We can automatically untar the data from here\n",
    "# if not os.path.exists(rt):\n",
    "#    subprocess.call(['tar', '-zxvf', 'SPCC_SUBSET.tar.gz'])"
   ]
  },
  {
   "cell_type": "code",
   "execution_count": 30,
   "metadata": {},
   "outputs": [],
   "source": [
    "# fits file prefix\n",
    "prefix_Ia = 'RBTEST_WFD_1aCC_Y10_G10_Ia-'\n",
    "prefix_NONIa = 'RBTEST_WFD_1aCC_Y10_G10_NONIa-'\n",
    "dat=sndata.LSSTCadenceSimulations(rt, prefix_Ia, prefix_NONIa, indices=range(1,2))"
   ]
  },
  {
   "cell_type": "code",
   "execution_count": 31,
   "metadata": {},
   "outputs": [
    {
     "name": "stdout",
     "output_type": "stream",
     "text": [
      "Reading data...\n",
      "chunk 01\n",
      "0k\n",
      "10k\n",
      "20k\n",
      "30k\n",
      "40k\n",
      "44584 objects read into memory.\n"
     ]
    }
   ],
   "source": [
    "dat=sndata.LSSTCadenceSimulations(rt, prefix_Ia, prefix_NONIa, indices=range(1,2))"
   ]
  },
  {
   "cell_type": "code",
   "execution_count": 9,
   "metadata": {},
   "outputs": [],
   "source": [
    "#For now we restrict ourselves to three supernova types: Ia (1), II (2) and Ibc (3)\n",
    "types=dat.get_types()"
   ]
  },
  {
   "cell_type": "code",
   "execution_count": 10,
   "metadata": {},
   "outputs": [
    {
     "data": {
      "text/plain": [
       "astropy.table.table.Table"
      ]
     },
     "execution_count": 10,
     "metadata": {},
     "output_type": "execute_result"
    }
   ],
   "source": [
    "type(types)"
   ]
  },
  {
   "cell_type": "markdown",
   "metadata": {},
   "source": [
    "If we write this table to file and inpsect the format of supernova types we find there are 6 variants:"
   ]
  },
  {
   "cell_type": "code",
   "execution_count": 11,
   "metadata": {},
   "outputs": [
    {
     "name": "stdout",
     "output_type": "stream",
     "text": [
      "      1 Type\r\n",
      "   2475 101\r\n",
      "   1367 120\r\n",
      "    481 121\r\n",
      "    259 122\r\n",
      "    327 132\r\n",
      "    175 133\r\n"
     ]
    },
    {
     "name": "stderr",
     "output_type": "stream",
     "text": [
      "WARNING: AstropyDeprecationWarning: types_wfd.csv already exists. Automatically overwriting ASCII files is deprecated. Use the argument 'overwrite=True' in the future. [astropy.io.ascii.ui]\n"
     ]
    }
   ],
   "source": [
    "ascii.write(types, 'types_wfd.csv', format='csv', fast_writer=True)\n",
    "!awk -F ',' '{print $2}' ../examples/types.csv | uniq -c"
   ]
  },
  {
   "cell_type": "markdown",
   "metadata": {},
   "source": [
    "Like for SPCC example notebook where we restrict ourselves to three supernova types: Ia (1), II (2) and Ibc (3) by carrying out the following pre-proccessing steps"
   ]
  },
  {
   "cell_type": "code",
   "execution_count": 12,
   "metadata": {},
   "outputs": [],
   "source": [
    "types['Type'] = types['Type']-100"
   ]
  },
  {
   "cell_type": "code",
   "execution_count": 13,
   "metadata": {},
   "outputs": [
    {
     "data": {
      "text/html": [
       "<i>Table length=44584</i>\n",
       "<table id=\"table4528313792\" class=\"table-striped table-bordered table-condensed\">\n",
       "<thead><tr><th>Object</th><th>Type</th></tr></thead>\n",
       "<thead><tr><th>str8</th><th>int32</th></tr></thead>\n",
       "<tr><td>24272867</td><td>1</td></tr>\n",
       "<tr><td>22631280</td><td>1</td></tr>\n",
       "<tr><td>1598927</td><td>1</td></tr>\n",
       "<tr><td>15308310</td><td>1</td></tr>\n",
       "<tr><td>6661340</td><td>1</td></tr>\n",
       "<tr><td>1072128</td><td>1</td></tr>\n",
       "<tr><td>4814416</td><td>1</td></tr>\n",
       "<tr><td>12238537</td><td>1</td></tr>\n",
       "<tr><td>27277567</td><td>1</td></tr>\n",
       "<tr><td>26940144</td><td>1</td></tr>\n",
       "<tr><td>...</td><td>...</td></tr>\n",
       "<tr><td>22811017</td><td>33</td></tr>\n",
       "<tr><td>11599196</td><td>33</td></tr>\n",
       "<tr><td>22669866</td><td>33</td></tr>\n",
       "<tr><td>20868422</td><td>33</td></tr>\n",
       "<tr><td>21625147</td><td>33</td></tr>\n",
       "<tr><td>14521623</td><td>33</td></tr>\n",
       "<tr><td>17496355</td><td>33</td></tr>\n",
       "<tr><td>8133584</td><td>33</td></tr>\n",
       "<tr><td>10952154</td><td>33</td></tr>\n",
       "<tr><td>9623061</td><td>33</td></tr>\n",
       "</table>"
      ],
      "text/plain": [
       "<Table length=44584>\n",
       " Object   Type\n",
       "  str8   int32\n",
       "-------- -----\n",
       "24272867     1\n",
       "22631280     1\n",
       " 1598927     1\n",
       "15308310     1\n",
       " 6661340     1\n",
       " 1072128     1\n",
       " 4814416     1\n",
       "12238537     1\n",
       "27277567     1\n",
       "26940144     1\n",
       "     ...   ...\n",
       "22811017    33\n",
       "11599196    33\n",
       "22669866    33\n",
       "20868422    33\n",
       "21625147    33\n",
       "14521623    33\n",
       "17496355    33\n",
       " 8133584    33\n",
       "10952154    33\n",
       " 9623061    33"
      ]
     },
     "execution_count": 13,
     "metadata": {},
     "output_type": "execute_result"
    }
   ],
   "source": [
    "types"
   ]
  },
  {
   "cell_type": "markdown",
   "metadata": {},
   "source": [
    "Final pre-processing step."
   ]
  },
  {
   "cell_type": "code",
   "execution_count": 14,
   "metadata": {},
   "outputs": [],
   "source": [
    "types['Type'][np.floor(types['Type']/10)==2]=2\n",
    "types['Type'][np.floor(types['Type']/10)==3]=3"
   ]
  },
  {
   "cell_type": "code",
   "execution_count": 15,
   "metadata": {},
   "outputs": [
    {
     "data": {
      "text/html": [
       "<i>Table length=44584</i>\n",
       "<table id=\"table4528313792\" class=\"table-striped table-bordered table-condensed\">\n",
       "<thead><tr><th>Object</th><th>Type</th></tr></thead>\n",
       "<thead><tr><th>str8</th><th>int32</th></tr></thead>\n",
       "<tr><td>24272867</td><td>1</td></tr>\n",
       "<tr><td>22631280</td><td>1</td></tr>\n",
       "<tr><td>1598927</td><td>1</td></tr>\n",
       "<tr><td>15308310</td><td>1</td></tr>\n",
       "<tr><td>6661340</td><td>1</td></tr>\n",
       "<tr><td>1072128</td><td>1</td></tr>\n",
       "<tr><td>4814416</td><td>1</td></tr>\n",
       "<tr><td>12238537</td><td>1</td></tr>\n",
       "<tr><td>27277567</td><td>1</td></tr>\n",
       "<tr><td>26940144</td><td>1</td></tr>\n",
       "<tr><td>...</td><td>...</td></tr>\n",
       "<tr><td>22811017</td><td>3</td></tr>\n",
       "<tr><td>11599196</td><td>3</td></tr>\n",
       "<tr><td>22669866</td><td>3</td></tr>\n",
       "<tr><td>20868422</td><td>3</td></tr>\n",
       "<tr><td>21625147</td><td>3</td></tr>\n",
       "<tr><td>14521623</td><td>3</td></tr>\n",
       "<tr><td>17496355</td><td>3</td></tr>\n",
       "<tr><td>8133584</td><td>3</td></tr>\n",
       "<tr><td>10952154</td><td>3</td></tr>\n",
       "<tr><td>9623061</td><td>3</td></tr>\n",
       "</table>"
      ],
      "text/plain": [
       "<Table length=44584>\n",
       " Object   Type\n",
       "  str8   int32\n",
       "-------- -----\n",
       "24272867     1\n",
       "22631280     1\n",
       " 1598927     1\n",
       "15308310     1\n",
       " 6661340     1\n",
       " 1072128     1\n",
       " 4814416     1\n",
       "12238537     1\n",
       "27277567     1\n",
       "26940144     1\n",
       "     ...   ...\n",
       "22811017     3\n",
       "11599196     3\n",
       "22669866     3\n",
       "20868422     3\n",
       "21625147     3\n",
       "14521623     3\n",
       "17496355     3\n",
       " 8133584     3\n",
       "10952154     3\n",
       " 9623061     3"
      ]
     },
     "execution_count": 15,
     "metadata": {},
     "output_type": "execute_result"
    }
   ],
   "source": [
    "types"
   ]
  },
  {
   "cell_type": "markdown",
   "metadata": {
    "collapsed": true
   },
   "source": [
    "Now we can plot all the data and cycle through it (left and right arrows on your keyboard)"
   ]
  },
  {
   "cell_type": "code",
   "execution_count": 17,
   "metadata": {
    "scrolled": false
   },
   "outputs": [
    {
     "data": {
      "image/png": "[encoded data removed]",
      "text/plain": [
       "<Figure size 432x288 with 1 Axes>"
      ]
     },
     "metadata": {},
     "output_type": "display_data"
    }
   ],
   "source": [
    "dat.plot_all()"
   ]
  },
  {
   "cell_type": "markdown",
   "metadata": {},
   "source": [
    "Each light curve is represented in the Dataset object as an astropy table, compatible with `sncosmo`:"
   ]
  },
  {
   "cell_type": "code",
   "execution_count": 18,
   "metadata": {
    "scrolled": true
   },
   "outputs": [
    {
     "data": {
      "text/html": [
       "<i>Table length=31</i>\n",
       "<table id=\"table4670754152\" class=\"table-striped table-bordered table-condensed\">\n",
       "<thead><tr><th>mjd</th><th>flux</th><th>flux_error</th><th>filter</th><th>zp</th><th>zpsys</th></tr></thead>\n",
       "<thead><tr><th>float32</th><th>float32</th><th>float32</th><th>str5</th><th>float64</th><th>str2</th></tr></thead>\n",
       "<tr><td>0.0</td><td>-48.6896</td><td>29.235</td><td>lssty</td><td>27.5</td><td>ab</td></tr>\n",
       "<tr><td>2.0056</td><td>-3.94192</td><td>3.08151</td><td>lsstr</td><td>27.5</td><td>ab</td></tr>\n",
       "<tr><td>3.0035</td><td>-0.284547</td><td>5.14292</td><td>lssti</td><td>27.5</td><td>ab</td></tr>\n",
       "<tr><td>3.9708</td><td>4.57969</td><td>3.3554</td><td>lsstr</td><td>27.5</td><td>ab</td></tr>\n",
       "<tr><td>4.9862</td><td>-3.84353</td><td>6.59962</td><td>lssti</td><td>27.5</td><td>ab</td></tr>\n",
       "<tr><td>7.9804</td><td>-2.07115</td><td>4.94633</td><td>lssti</td><td>27.5</td><td>ab</td></tr>\n",
       "<tr><td>8.9694</td><td>9.54924</td><td>3.80211</td><td>lsstr</td><td>27.5</td><td>ab</td></tr>\n",
       "<tr><td>9.9646</td><td>0.6082</td><td>4.37336</td><td>lsstr</td><td>27.5</td><td>ab</td></tr>\n",
       "<tr><td>11.989</td><td>7.84257</td><td>4.38428</td><td>lssti</td><td>27.5</td><td>ab</td></tr>\n",
       "<tr><td>13.9893</td><td>3.71649</td><td>4.01448</td><td>lsstr</td><td>27.5</td><td>ab</td></tr>\n",
       "<tr><td>...</td><td>...</td><td>...</td><td>...</td><td>...</td><td>...</td></tr>\n",
       "<tr><td>41.8811</td><td>15.1434</td><td>4.60565</td><td>lssti</td><td>27.5</td><td>ab</td></tr>\n",
       "<tr><td>42.8655</td><td>5.3316</td><td>2.79209</td><td>lsstr</td><td>27.5</td><td>ab</td></tr>\n",
       "<tr><td>43.8932</td><td>6.05732</td><td>2.67806</td><td>lsstr</td><td>27.5</td><td>ab</td></tr>\n",
       "<tr><td>47.861</td><td>11.5057</td><td>6.93534</td><td>lsstz</td><td>27.5</td><td>ab</td></tr>\n",
       "<tr><td>48.8578</td><td>16.7075</td><td>9.31031</td><td>lsstz</td><td>27.5</td><td>ab</td></tr>\n",
       "<tr><td>52.8618</td><td>20.7674</td><td>12.8004</td><td>lsstz</td><td>27.5</td><td>ab</td></tr>\n",
       "<tr><td>53.8559</td><td>-19.244</td><td>36.2441</td><td>lssty</td><td>27.5</td><td>ab</td></tr>\n",
       "<tr><td>54.8521</td><td>-3.21586</td><td>28.051</td><td>lsstz</td><td>27.5</td><td>ab</td></tr>\n",
       "<tr><td>55.8562</td><td>53.9853</td><td>36.0865</td><td>lssty</td><td>27.5</td><td>ab</td></tr>\n",
       "<tr><td>56.87</td><td>6.90354</td><td>6.39859</td><td>lssti</td><td>27.5</td><td>ab</td></tr>\n",
       "</table>"
      ],
      "text/plain": [
       "<Table length=31>\n",
       "  mjd      flux   flux_error filter    zp   zpsys\n",
       "float32  float32   float32    str5  float64  str2\n",
       "------- --------- ---------- ------ ------- -----\n",
       "    0.0  -48.6896     29.235  lssty    27.5    ab\n",
       " 2.0056  -3.94192    3.08151  lsstr    27.5    ab\n",
       " 3.0035 -0.284547    5.14292  lssti    27.5    ab\n",
       " 3.9708   4.57969     3.3554  lsstr    27.5    ab\n",
       " 4.9862  -3.84353    6.59962  lssti    27.5    ab\n",
       " 7.9804  -2.07115    4.94633  lssti    27.5    ab\n",
       " 8.9694   9.54924    3.80211  lsstr    27.5    ab\n",
       " 9.9646    0.6082    4.37336  lsstr    27.5    ab\n",
       " 11.989   7.84257    4.38428  lssti    27.5    ab\n",
       "13.9893   3.71649    4.01448  lsstr    27.5    ab\n",
       "    ...       ...        ...    ...     ...   ...\n",
       "41.8811   15.1434    4.60565  lssti    27.5    ab\n",
       "42.8655    5.3316    2.79209  lsstr    27.5    ab\n",
       "43.8932   6.05732    2.67806  lsstr    27.5    ab\n",
       " 47.861   11.5057    6.93534  lsstz    27.5    ab\n",
       "48.8578   16.7075    9.31031  lsstz    27.5    ab\n",
       "52.8618   20.7674    12.8004  lsstz    27.5    ab\n",
       "53.8559   -19.244    36.2441  lssty    27.5    ab\n",
       "54.8521  -3.21586     28.051  lsstz    27.5    ab\n",
       "55.8562   53.9853    36.0865  lssty    27.5    ab\n",
       "  56.87   6.90354    6.39859  lssti    27.5    ab"
      ]
     },
     "execution_count": 18,
     "metadata": {},
     "output_type": "execute_result"
    }
   ],
   "source": [
    "dat.data[dat.object_names[0]]"
   ]
  },
  {
   "cell_type": "markdown",
   "metadata": {},
   "source": [
    "## Extract features for the data"
   ]
  },
  {
   "cell_type": "markdown",
   "metadata": {},
   "source": [
    "The next step is to extract useful features from the data. This can often take a long time, depending on the feature extraction method, so it's a good idea to save these to file (`snmachine` by default saves to astropy tables)"
   ]
  },
  {
   "cell_type": "code",
   "execution_count": 19,
   "metadata": {},
   "outputs": [
    {
     "name": "stdout",
     "output_type": "stream",
     "text": [
      "/Users/tallamjr/PhD/project/snmachine/snmachine/example_data/output_lsst_wfd_no_z/features/lsst_wfd_all\n"
     ]
    }
   ],
   "source": [
    "read_from_file=False #We can use this flag to quickly rerun from saved features\n",
    "\n",
    "out_features_dat=os.path.join(example_data, out_features,'features') #Where we save the extracted features to\n",
    "subprocess.call(['mkdir', '-p',out_features_dat])\n",
    "\n",
    "run_name=os.path.join(example_data, out_features,'%s_all' %dataset)\n",
    "print(run_name)"
   ]
  },
  {
   "cell_type": "markdown",
   "metadata": {},
   "source": [
    "t-SNE plots: \n",
    "These are useful visualisation plots which embed high dimensional features into a lower dimensional space to indicate how well the features separate between classes (see https://lvdmaaten.github.io/tsne/)"
   ]
  },
  {
   "cell_type": "markdown",
   "metadata": {},
   "source": [
    "### Wavelet features"
   ]
  },
  {
   "cell_type": "markdown",
   "metadata": {},
   "source": [
    "The wavelet feature extraction process is quite complicated, although it is fairly fast. Remember to save the PCA eigenvalues, vectors and mean for later reconstruction!"
   ]
  },
  {
   "cell_type": "code",
   "execution_count": 20,
   "metadata": {},
   "outputs": [],
   "source": [
    "waveFeats=snfeatures.WaveletFeatures()"
   ]
  },
  {
   "cell_type": "code",
   "execution_count": 21,
   "metadata": {
    "scrolled": true
   },
   "outputs": [
    {
     "name": "stdout",
     "output_type": "stream",
     "text": [
      "Performing Gaussian process regression\n",
      "24272867\n",
      "17603592\n",
      "12926636\n",
      "91722\n",
      "6918753\n",
      "26117041\n"
     ]
    },
    {
     "ename": "KeyboardInterrupt",
     "evalue": "",
     "output_type": "error",
     "traceback": [
      "\u001b[0;31m---------------------------------------------------------------------------\u001b[0m",
      "\u001b[0;31mKeyboardInterrupt\u001b[0m                         Traceback (most recent call last)",
      "\u001b[0;32m<ipython-input-21-b944b2431192>\u001b[0m in \u001b[0;36m<module>\u001b[0;34m()\u001b[0m\n\u001b[1;32m      8\u001b[0m     \u001b[0mPCA_mean\u001b[0m\u001b[0;34m=\u001b[0m\u001b[0mnp\u001b[0m\u001b[0;34m.\u001b[0m\u001b[0mloadtxt\u001b[0m\u001b[0;34m(\u001b[0m\u001b[0;34m'%s_wavelets_PCA_mean.dat'\u001b[0m \u001b[0;34m%\u001b[0m\u001b[0mrun_name\u001b[0m\u001b[0;34m)\u001b[0m\u001b[0;34m\u001b[0m\u001b[0m\n\u001b[1;32m      9\u001b[0m \u001b[0;32melse\u001b[0m\u001b[0;34m:\u001b[0m\u001b[0;34m\u001b[0m\u001b[0m\n\u001b[0;32m---> 10\u001b[0;31m     \u001b[0mwave_features\u001b[0m\u001b[0;34m=\u001b[0m\u001b[0mwaveFeats\u001b[0m\u001b[0;34m.\u001b[0m\u001b[0mextract_features\u001b[0m\u001b[0;34m(\u001b[0m\u001b[0mdat\u001b[0m\u001b[0;34m,\u001b[0m\u001b[0mnprocesses\u001b[0m\u001b[0;34m=\u001b[0m\u001b[0;36m6\u001b[0m\u001b[0;34m,\u001b[0m\u001b[0moutput_root\u001b[0m\u001b[0;34m=\u001b[0m\u001b[0mout_int\u001b[0m\u001b[0;34m,\u001b[0m\u001b[0msave_output\u001b[0m\u001b[0;34m=\u001b[0m\u001b[0;34m'all'\u001b[0m\u001b[0;34m)\u001b[0m\u001b[0;34m\u001b[0m\u001b[0m\n\u001b[0m\u001b[1;32m     11\u001b[0m     \u001b[0mwave_features\u001b[0m\u001b[0;34m.\u001b[0m\u001b[0mwrite\u001b[0m\u001b[0;34m(\u001b[0m\u001b[0;34m'%s_wavelets.dat'\u001b[0m \u001b[0;34m%\u001b[0m\u001b[0mrun_name\u001b[0m\u001b[0;34m,\u001b[0m \u001b[0mformat\u001b[0m\u001b[0;34m=\u001b[0m\u001b[0;34m'ascii'\u001b[0m\u001b[0;34m)\u001b[0m\u001b[0;34m\u001b[0m\u001b[0m\n\u001b[1;32m     12\u001b[0m     \u001b[0mnp\u001b[0m\u001b[0;34m.\u001b[0m\u001b[0msavetxt\u001b[0m\u001b[0;34m(\u001b[0m\u001b[0;34m'%s_wavelets_PCA_vals.dat'\u001b[0m \u001b[0;34m%\u001b[0m\u001b[0mrun_name\u001b[0m\u001b[0;34m,\u001b[0m\u001b[0mwaveFeats\u001b[0m\u001b[0;34m.\u001b[0m\u001b[0mPCA_eigenvals\u001b[0m\u001b[0;34m)\u001b[0m\u001b[0;34m\u001b[0m\u001b[0m\n",
      "\u001b[0;32m~/PhD/project/snmachine/snmachine/snfeatures.py\u001b[0m in \u001b[0;36mextract_features\u001b[0;34m(self, d, initheta, save_output, output_root, nprocesses, restart, gpalgo, xmin, xmax)\u001b[0m\n\u001b[1;32m   1377\u001b[0m                 \u001b[0mself\u001b[0m\u001b[0;34m.\u001b[0m\u001b[0mrestart_from_gp\u001b[0m\u001b[0;34m(\u001b[0m\u001b[0md\u001b[0m\u001b[0;34m,\u001b[0m \u001b[0moutput_root\u001b[0m\u001b[0;34m)\u001b[0m\u001b[0;34m\u001b[0m\u001b[0m\n\u001b[1;32m   1378\u001b[0m             \u001b[0;32melse\u001b[0m\u001b[0;34m:\u001b[0m\u001b[0;34m\u001b[0m\u001b[0m\n\u001b[0;32m-> 1379\u001b[0;31m                 \u001b[0mself\u001b[0m\u001b[0;34m.\u001b[0m\u001b[0mextract_GP\u001b[0m\u001b[0;34m(\u001b[0m\u001b[0md\u001b[0m\u001b[0;34m,\u001b[0m \u001b[0mself\u001b[0m\u001b[0;34m.\u001b[0m\u001b[0mngp\u001b[0m\u001b[0;34m,\u001b[0m \u001b[0mxmin\u001b[0m\u001b[0;34m,\u001b[0m \u001b[0mxmax\u001b[0m\u001b[0;34m,\u001b[0m \u001b[0minitheta\u001b[0m\u001b[0;34m,\u001b[0m \u001b[0msave_output\u001b[0m\u001b[0;34m,\u001b[0m \u001b[0moutput_root\u001b[0m\u001b[0;34m,\u001b[0m \u001b[0mnprocesses\u001b[0m\u001b[0;34m,\u001b[0m \u001b[0mgpalgo\u001b[0m\u001b[0;34m=\u001b[0m\u001b[0mgpalgo\u001b[0m\u001b[0;34m)\u001b[0m\u001b[0;34m\u001b[0m\u001b[0m\n\u001b[0m\u001b[1;32m   1380\u001b[0m \u001b[0;34m\u001b[0m\u001b[0m\n\u001b[1;32m   1381\u001b[0m             \u001b[0mwavout\u001b[0m\u001b[0;34m,\u001b[0m \u001b[0mwaveout_err\u001b[0m\u001b[0;34m=\u001b[0m\u001b[0mself\u001b[0m\u001b[0;34m.\u001b[0m\u001b[0mextract_wavelets\u001b[0m\u001b[0;34m(\u001b[0m\u001b[0md\u001b[0m\u001b[0;34m,\u001b[0m \u001b[0mself\u001b[0m\u001b[0;34m.\u001b[0m\u001b[0mwav\u001b[0m\u001b[0;34m,\u001b[0m \u001b[0mself\u001b[0m\u001b[0;34m.\u001b[0m\u001b[0mmlev\u001b[0m\u001b[0;34m,\u001b[0m  \u001b[0mnprocesses\u001b[0m\u001b[0;34m,\u001b[0m \u001b[0msave_output\u001b[0m\u001b[0;34m,\u001b[0m \u001b[0moutput_root\u001b[0m\u001b[0;34m)\u001b[0m\u001b[0;34m\u001b[0m\u001b[0m\n",
      "\u001b[0;32m~/PhD/project/snmachine/snmachine/snfeatures.py\u001b[0m in \u001b[0;36mextract_GP\u001b[0;34m(self, d, ngp, xmin, xmax, initheta, save_output, output_root, nprocesses, gpalgo)\u001b[0m\n\u001b[1;32m   1555\u001b[0m             \u001b[0mpartial_GP\u001b[0m\u001b[0;34m=\u001b[0m\u001b[0mpartial\u001b[0m\u001b[0;34m(\u001b[0m\u001b[0m_GP\u001b[0m\u001b[0;34m,\u001b[0m \u001b[0md\u001b[0m\u001b[0;34m=\u001b[0m\u001b[0md\u001b[0m\u001b[0;34m,\u001b[0m \u001b[0mngp\u001b[0m\u001b[0;34m=\u001b[0m\u001b[0mngp\u001b[0m\u001b[0;34m,\u001b[0m \u001b[0mxmin\u001b[0m\u001b[0;34m=\u001b[0m\u001b[0mxmin\u001b[0m\u001b[0;34m,\u001b[0m \u001b[0mxmax\u001b[0m\u001b[0;34m=\u001b[0m\u001b[0mxmax\u001b[0m\u001b[0;34m,\u001b[0m \u001b[0minitheta\u001b[0m\u001b[0;34m=\u001b[0m\u001b[0minitheta\u001b[0m\u001b[0;34m,\u001b[0m \u001b[0msave_output\u001b[0m\u001b[0;34m=\u001b[0m\u001b[0msave_output\u001b[0m\u001b[0;34m,\u001b[0m \u001b[0moutput_root\u001b[0m\u001b[0;34m=\u001b[0m\u001b[0moutput_root\u001b[0m\u001b[0;34m,\u001b[0m \u001b[0mgpalgo\u001b[0m\u001b[0;34m=\u001b[0m\u001b[0mgpalgo\u001b[0m\u001b[0;34m)\u001b[0m\u001b[0;34m\u001b[0m\u001b[0m\n\u001b[1;32m   1556\u001b[0m \u001b[0;34m\u001b[0m\u001b[0m\n\u001b[0;32m-> 1557\u001b[0;31m             \u001b[0mout\u001b[0m\u001b[0;34m=\u001b[0m\u001b[0mp\u001b[0m\u001b[0;34m.\u001b[0m\u001b[0mmap\u001b[0m\u001b[0;34m(\u001b[0m\u001b[0mpartial_GP\u001b[0m\u001b[0;34m,\u001b[0m \u001b[0md\u001b[0m\u001b[0;34m.\u001b[0m\u001b[0mobject_names\u001b[0m\u001b[0;34m)\u001b[0m\u001b[0;34m\u001b[0m\u001b[0m\n\u001b[0m\u001b[1;32m   1558\u001b[0m             \u001b[0;32mfor\u001b[0m \u001b[0mi\u001b[0m \u001b[0;32min\u001b[0m \u001b[0mrange\u001b[0m\u001b[0;34m(\u001b[0m\u001b[0mlen\u001b[0m\u001b[0;34m(\u001b[0m\u001b[0mout\u001b[0m\u001b[0;34m)\u001b[0m\u001b[0;34m)\u001b[0m\u001b[0;34m:\u001b[0m\u001b[0;34m\u001b[0m\u001b[0m\n\u001b[1;32m   1559\u001b[0m                 \u001b[0mobj\u001b[0m\u001b[0;34m=\u001b[0m\u001b[0md\u001b[0m\u001b[0;34m.\u001b[0m\u001b[0mobject_names\u001b[0m\u001b[0;34m[\u001b[0m\u001b[0mi\u001b[0m\u001b[0;34m]\u001b[0m\u001b[0;34m\u001b[0m\u001b[0m\n",
      "\u001b[0;32m/usr/local/anaconda3/envs/snmachine/lib/python3.6/multiprocessing/pool.py\u001b[0m in \u001b[0;36mmap\u001b[0;34m(self, func, iterable, chunksize)\u001b[0m\n\u001b[1;32m    264\u001b[0m         \u001b[0;32min\u001b[0m \u001b[0ma\u001b[0m \u001b[0mlist\u001b[0m \u001b[0mthat\u001b[0m \u001b[0;32mis\u001b[0m \u001b[0mreturned\u001b[0m\u001b[0;34m.\u001b[0m\u001b[0;34m\u001b[0m\u001b[0m\n\u001b[1;32m    265\u001b[0m         '''\n\u001b[0;32m--> 266\u001b[0;31m         \u001b[0;32mreturn\u001b[0m \u001b[0mself\u001b[0m\u001b[0;34m.\u001b[0m\u001b[0m_map_async\u001b[0m\u001b[0;34m(\u001b[0m\u001b[0mfunc\u001b[0m\u001b[0;34m,\u001b[0m \u001b[0miterable\u001b[0m\u001b[0;34m,\u001b[0m \u001b[0mmapstar\u001b[0m\u001b[0;34m,\u001b[0m \u001b[0mchunksize\u001b[0m\u001b[0;34m)\u001b[0m\u001b[0;34m.\u001b[0m\u001b[0mget\u001b[0m\u001b[0;34m(\u001b[0m\u001b[0;34m)\u001b[0m\u001b[0;34m\u001b[0m\u001b[0m\n\u001b[0m\u001b[1;32m    267\u001b[0m \u001b[0;34m\u001b[0m\u001b[0m\n\u001b[1;32m    268\u001b[0m     \u001b[0;32mdef\u001b[0m \u001b[0mstarmap\u001b[0m\u001b[0;34m(\u001b[0m\u001b[0mself\u001b[0m\u001b[0;34m,\u001b[0m \u001b[0mfunc\u001b[0m\u001b[0;34m,\u001b[0m \u001b[0miterable\u001b[0m\u001b[0;34m,\u001b[0m \u001b[0mchunksize\u001b[0m\u001b[0;34m=\u001b[0m\u001b[0;32mNone\u001b[0m\u001b[0;34m)\u001b[0m\u001b[0;34m:\u001b[0m\u001b[0;34m\u001b[0m\u001b[0m\n",
      "\u001b[0;32m/usr/local/anaconda3/envs/snmachine/lib/python3.6/multiprocessing/pool.py\u001b[0m in \u001b[0;36mget\u001b[0;34m(self, timeout)\u001b[0m\n\u001b[1;32m    636\u001b[0m \u001b[0;34m\u001b[0m\u001b[0m\n\u001b[1;32m    637\u001b[0m     \u001b[0;32mdef\u001b[0m \u001b[0mget\u001b[0m\u001b[0;34m(\u001b[0m\u001b[0mself\u001b[0m\u001b[0;34m,\u001b[0m \u001b[0mtimeout\u001b[0m\u001b[0;34m=\u001b[0m\u001b[0;32mNone\u001b[0m\u001b[0;34m)\u001b[0m\u001b[0;34m:\u001b[0m\u001b[0;34m\u001b[0m\u001b[0m\n\u001b[0;32m--> 638\u001b[0;31m         \u001b[0mself\u001b[0m\u001b[0;34m.\u001b[0m\u001b[0mwait\u001b[0m\u001b[0;34m(\u001b[0m\u001b[0mtimeout\u001b[0m\u001b[0;34m)\u001b[0m\u001b[0;34m\u001b[0m\u001b[0m\n\u001b[0m\u001b[1;32m    639\u001b[0m         \u001b[0;32mif\u001b[0m \u001b[0;32mnot\u001b[0m \u001b[0mself\u001b[0m\u001b[0;34m.\u001b[0m\u001b[0mready\u001b[0m\u001b[0;34m(\u001b[0m\u001b[0;34m)\u001b[0m\u001b[0;34m:\u001b[0m\u001b[0;34m\u001b[0m\u001b[0m\n\u001b[1;32m    640\u001b[0m             \u001b[0;32mraise\u001b[0m \u001b[0mTimeoutError\u001b[0m\u001b[0;34m\u001b[0m\u001b[0m\n",
      "\u001b[0;32m/usr/local/anaconda3/envs/snmachine/lib/python3.6/multiprocessing/pool.py\u001b[0m in \u001b[0;36mwait\u001b[0;34m(self, timeout)\u001b[0m\n\u001b[1;32m    633\u001b[0m \u001b[0;34m\u001b[0m\u001b[0m\n\u001b[1;32m    634\u001b[0m     \u001b[0;32mdef\u001b[0m \u001b[0mwait\u001b[0m\u001b[0;34m(\u001b[0m\u001b[0mself\u001b[0m\u001b[0;34m,\u001b[0m \u001b[0mtimeout\u001b[0m\u001b[0;34m=\u001b[0m\u001b[0;32mNone\u001b[0m\u001b[0;34m)\u001b[0m\u001b[0;34m:\u001b[0m\u001b[0;34m\u001b[0m\u001b[0m\n\u001b[0;32m--> 635\u001b[0;31m         \u001b[0mself\u001b[0m\u001b[0;34m.\u001b[0m\u001b[0m_event\u001b[0m\u001b[0;34m.\u001b[0m\u001b[0mwait\u001b[0m\u001b[0;34m(\u001b[0m\u001b[0mtimeout\u001b[0m\u001b[0;34m)\u001b[0m\u001b[0;34m\u001b[0m\u001b[0m\n\u001b[0m\u001b[1;32m    636\u001b[0m \u001b[0;34m\u001b[0m\u001b[0m\n\u001b[1;32m    637\u001b[0m     \u001b[0;32mdef\u001b[0m \u001b[0mget\u001b[0m\u001b[0;34m(\u001b[0m\u001b[0mself\u001b[0m\u001b[0;34m,\u001b[0m \u001b[0mtimeout\u001b[0m\u001b[0;34m=\u001b[0m\u001b[0;32mNone\u001b[0m\u001b[0;34m)\u001b[0m\u001b[0;34m:\u001b[0m\u001b[0;34m\u001b[0m\u001b[0m\n",
      "\u001b[0;32m/usr/local/anaconda3/envs/snmachine/lib/python3.6/threading.py\u001b[0m in \u001b[0;36mwait\u001b[0;34m(self, timeout)\u001b[0m\n\u001b[1;32m    549\u001b[0m             \u001b[0msignaled\u001b[0m \u001b[0;34m=\u001b[0m \u001b[0mself\u001b[0m\u001b[0;34m.\u001b[0m\u001b[0m_flag\u001b[0m\u001b[0;34m\u001b[0m\u001b[0m\n\u001b[1;32m    550\u001b[0m             \u001b[0;32mif\u001b[0m \u001b[0;32mnot\u001b[0m \u001b[0msignaled\u001b[0m\u001b[0;34m:\u001b[0m\u001b[0;34m\u001b[0m\u001b[0m\n\u001b[0;32m--> 551\u001b[0;31m                 \u001b[0msignaled\u001b[0m \u001b[0;34m=\u001b[0m \u001b[0mself\u001b[0m\u001b[0;34m.\u001b[0m\u001b[0m_cond\u001b[0m\u001b[0;34m.\u001b[0m\u001b[0mwait\u001b[0m\u001b[0;34m(\u001b[0m\u001b[0mtimeout\u001b[0m\u001b[0;34m)\u001b[0m\u001b[0;34m\u001b[0m\u001b[0m\n\u001b[0m\u001b[1;32m    552\u001b[0m             \u001b[0;32mreturn\u001b[0m \u001b[0msignaled\u001b[0m\u001b[0;34m\u001b[0m\u001b[0m\n\u001b[1;32m    553\u001b[0m \u001b[0;34m\u001b[0m\u001b[0m\n",
      "\u001b[0;32m/usr/local/anaconda3/envs/snmachine/lib/python3.6/threading.py\u001b[0m in \u001b[0;36mwait\u001b[0;34m(self, timeout)\u001b[0m\n\u001b[1;32m    293\u001b[0m         \u001b[0;32mtry\u001b[0m\u001b[0;34m:\u001b[0m    \u001b[0;31m# restore state no matter what (e.g., KeyboardInterrupt)\u001b[0m\u001b[0;34m\u001b[0m\u001b[0m\n\u001b[1;32m    294\u001b[0m             \u001b[0;32mif\u001b[0m \u001b[0mtimeout\u001b[0m \u001b[0;32mis\u001b[0m \u001b[0;32mNone\u001b[0m\u001b[0;34m:\u001b[0m\u001b[0;34m\u001b[0m\u001b[0m\n\u001b[0;32m--> 295\u001b[0;31m                 \u001b[0mwaiter\u001b[0m\u001b[0;34m.\u001b[0m\u001b[0macquire\u001b[0m\u001b[0;34m(\u001b[0m\u001b[0;34m)\u001b[0m\u001b[0;34m\u001b[0m\u001b[0m\n\u001b[0m\u001b[1;32m    296\u001b[0m                 \u001b[0mgotit\u001b[0m \u001b[0;34m=\u001b[0m \u001b[0;32mTrue\u001b[0m\u001b[0;34m\u001b[0m\u001b[0m\n\u001b[1;32m    297\u001b[0m             \u001b[0;32melse\u001b[0m\u001b[0;34m:\u001b[0m\u001b[0;34m\u001b[0m\u001b[0m\n",
      "\u001b[0;31mKeyboardInterrupt\u001b[0m: "
     ]
    }
   ],
   "source": [
    "%%capture --no-stdout\n",
    "if read_from_file:\n",
    "    wave_features=Table.read('%s_wavelets.dat' %run_name, format='ascii')\n",
    "    #Crucial for this format of id's\n",
    "    blah=wave_features['Object'].astype(str)\n",
    "    wave_features.replace_column('Object', blah)\n",
    "    PCA_vals=np.loadtxt('%s_wavelets_PCA_vals.dat' %run_name)\n",
    "    PCA_vec=np.loadtxt('%s_wavelets_PCA_vec.dat' %run_name)\n",
    "    PCA_mean=np.loadtxt('%s_wavelets_PCA_mean.dat' %run_name)\n",
    "else:\n",
    "    wave_features=waveFeats.extract_features(dat,nprocesses=6,output_root=out_int,save_output='all')\n",
    "    wave_features.write('%s_wavelets.dat' %run_name, format='ascii')\n",
    "    np.savetxt('%s_wavelets_PCA_vals.dat' %run_name,waveFeats.PCA_eigenvals)\n",
    "    np.savetxt('%s_wavelets_PCA_vec.dat' %run_name,waveFeats.PCA_eigenvectors)\n",
    "    np.savetxt('%s_wavelets_PCA_mean.dat' %run_name,waveFeats.PCA_mean)\n",
    "    \n",
    "    PCA_vals=waveFeats.PCA_eigenvals\n",
    "    PCA_vec=waveFeats.PCA_eigenvectors\n",
    "    PCA_mean=waveFeats.PCA_mean"
   ]
  },
  {
   "cell_type": "code",
   "execution_count": 22,
   "metadata": {},
   "outputs": [
    {
     "ename": "NameError",
     "evalue": "name 'wave_features' is not defined",
     "output_type": "error",
     "traceback": [
      "\u001b[0;31m---------------------------------------------------------------------------\u001b[0m",
      "\u001b[0;31mNameError\u001b[0m                                 Traceback (most recent call last)",
      "\u001b[0;32m<ipython-input-22-8e74b297cb55>\u001b[0m in \u001b[0;36m<module>\u001b[0;34m()\u001b[0m\n\u001b[0;32m----> 1\u001b[0;31m \u001b[0mdat\u001b[0m\u001b[0;34m.\u001b[0m\u001b[0mset_model\u001b[0m\u001b[0;34m(\u001b[0m\u001b[0mwaveFeats\u001b[0m\u001b[0;34m.\u001b[0m\u001b[0mfit_sn\u001b[0m\u001b[0;34m,\u001b[0m\u001b[0mwave_features\u001b[0m\u001b[0;34m,\u001b[0m\u001b[0mPCA_vec\u001b[0m\u001b[0;34m,\u001b[0m\u001b[0mPCA_mean\u001b[0m\u001b[0;34m,\u001b[0m\u001b[0;36m0\u001b[0m\u001b[0;34m,\u001b[0m\u001b[0mdat\u001b[0m\u001b[0;34m.\u001b[0m\u001b[0mget_max_length\u001b[0m\u001b[0;34m(\u001b[0m\u001b[0;34m)\u001b[0m\u001b[0;34m,\u001b[0m\u001b[0mdat\u001b[0m\u001b[0;34m.\u001b[0m\u001b[0mfilter_set\u001b[0m\u001b[0;34m)\u001b[0m\u001b[0;34m\u001b[0m\u001b[0m\n\u001b[0m",
      "\u001b[0;31mNameError\u001b[0m: name 'wave_features' is not defined"
     ]
    },
    {
     "name": "stderr",
     "output_type": "stream",
     "text": [
      "Process ForkPoolWorker-9:\n",
      "Traceback (most recent call last):\n",
      "  File \"/usr/local/anaconda3/envs/snmachine/lib/python3.6/multiprocessing/process.py\", line 258, in _bootstrap\n",
      "    self.run()\n",
      "  File \"/usr/local/anaconda3/envs/snmachine/lib/python3.6/multiprocessing/process.py\", line 93, in run\n",
      "    self._target(*self._args, **self._kwargs)\n",
      "  File \"/usr/local/anaconda3/envs/snmachine/lib/python3.6/multiprocessing/pool.py\", line 108, in worker\n",
      "    task = get()\n",
      "  File \"/usr/local/anaconda3/envs/snmachine/lib/python3.6/multiprocessing/queues.py\", line 337, in get\n",
      "    return _ForkingPickler.loads(res)\n",
      "_pickle.UnpicklingError: invalid load key, ';'.\n"
     ]
    }
   ],
   "source": [
    "dat.set_model(waveFeats.fit_sn,wave_features,PCA_vec,PCA_mean,0,dat.get_max_length(),dat.filter_set)"
   ]
  },
  {
   "cell_type": "code",
   "execution_count": null,
   "metadata": {},
   "outputs": [],
   "source": [
    "dat.plot_all()"
   ]
  },
  {
   "cell_type": "code",
   "execution_count": null,
   "metadata": {},
   "outputs": [],
   "source": [
    "plt.figure()\n",
    "tsne_plot.plot(wave_features,join(wave_features,types)['Type'])"
   ]
  },
  {
   "cell_type": "markdown",
   "metadata": {},
   "source": [
    "## Classify"
   ]
  },
  {
   "cell_type": "markdown",
   "metadata": {},
   "source": [
    "Finally, we're ready to run the machine learning algorithm. There's a utility function in the `snclassifier` library to make it easy to run all the algorithms available, including converting features to `numpy` arrays and rescaling them and automatically generating ROC curves and metrics. Hyperparameters are automatically selected using a grid search combined with cross-validation. All functionality can also be individually run from `snclassifier`."
   ]
  },
  {
   "cell_type": "markdown",
   "metadata": {},
   "source": [
    "Classifiers can be run in parallel, change this parameter to the number of processors on your machine (we're only running 4 algorithms so it won't help to set this any higher than 4)."
   ]
  },
  {
   "cell_type": "code",
   "execution_count": null,
   "metadata": {},
   "outputs": [],
   "source": [
    "nproc=4"
   ]
  },
  {
   "cell_type": "code",
   "execution_count": null,
   "metadata": {},
   "outputs": [],
   "source": [
    "#Available classifiers \n",
    "print(snclassifier.choice_of_classifiers)"
   ]
  },
  {
   "cell_type": "markdown",
   "metadata": {},
   "source": [
    "### Wavelet features"
   ]
  },
  {
   "cell_type": "code",
   "execution_count": null,
   "metadata": {},
   "outputs": [],
   "source": [
    "plt.figure()\n",
    "clss=snclassifier.run_pipeline(wave_features,types,output_name=os.path.join(out_class,'wavelets'),\n",
    "                          classifiers=['random_forest'], nprocesses=nproc)"
   ]
  }
 ],
 "metadata": {
  "kernelspec": {
   "display_name": "Python 3",
   "language": "python",
   "name": "python3"
  },
  "language_info": {
   "codemirror_mode": {
    "name": "ipython",
    "version": 3
   },
   "file_extension": ".py",
   "mimetype": "text/x-python",
   "name": "python",
   "nbconvert_exporter": "python",
   "pygments_lexer": "ipython3",
   "version": "3.6.6"
  }
 },
 "nbformat": 4,
 "nbformat_minor": 1
}
