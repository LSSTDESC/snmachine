{
 "cells": [
  {
   "cell_type": "markdown",
   "id": "trained-exception",
   "metadata": {},
   "source": [
    "# Gaussian Process Modeling of Light Curves\n",
    "\n",
    "In this notebook we exemplify the modeling of the light curves using a Gaussian process (GP).\n",
    "\n",
    "#### Index<a name=\"index\"></a>\n",
    "1. [Import Packages](#imports)\n",
    "2. [Load the Original Dataset](#loadData)\n",
    "3. [Fit Gaussian Processes](#gps)\n",
    "    1. [Set Path to Save GP Files](#saveGps)\n",
    "    2. [Compute GP Fits](#makeGps)\n",
    "4. [Light Curve Visualization](#see)\n",
    "\n",
    "## 1. Import Packages<a name=\"imports\"></a>"
   ]
  },
  {
   "cell_type": "code",
   "execution_count": 1,
   "id": "wrong-instrument",
   "metadata": {},
   "outputs": [],
   "source": [
    "import collections\n",
    "import os\n",
    "import pickle\n",
    "import sys\n",
    "import time"
   ]
  },
  {
   "cell_type": "code",
   "execution_count": 2,
   "id": "bright-chester",
   "metadata": {},
   "outputs": [],
   "source": [
    "import matplotlib.pyplot as plt\n",
    "import numpy as np\n",
    "import pandas as pd\n",
    "import seaborn as sns"
   ]
  },
  {
   "cell_type": "code",
   "execution_count": 3,
   "id": "exciting-liquid",
   "metadata": {},
   "outputs": [
    {
     "name": "stdout",
     "output_type": "stream",
     "text": [
      "No module named 'pymultinest'\n",
      "\n",
      "                PyMultinest not found. If you would like to use, please install\n",
      "                Mulitnest with 'sh install/multinest_install.sh; source\n",
      "                install/setup.sh'\n",
      "                \n"
     ]
    }
   ],
   "source": [
    "from snmachine import gps, sndata\n",
    "from utils.plasticc_pipeline import create_folder_structure, get_directories, load_dataset"
   ]
  },
  {
   "cell_type": "code",
   "execution_count": 4,
   "id": "roman-indonesian",
   "metadata": {},
   "outputs": [],
   "source": [
    "%config Completer.use_jedi = False  # enable autocomplete"
   ]
  },
  {
   "cell_type": "markdown",
   "id": "burning-exhaust",
   "metadata": {},
   "source": [
    "#### Aestetic settings"
   ]
  },
  {
   "cell_type": "code",
   "execution_count": 5,
   "id": "deadly-franklin",
   "metadata": {},
   "outputs": [],
   "source": [
    "%matplotlib inline\n",
    "\n",
    "sns.set(font_scale=1.3, style=\"ticks\")"
   ]
  },
  {
   "cell_type": "markdown",
   "id": "stuck-assembly",
   "metadata": {},
   "source": [
    "## 2. Load Dataset<a name=\"loadData\"></a>\n",
    "\n",
    "First, **write** the path to the folder that contains the dataset we want to use, `folder_path`."
   ]
  },
  {
   "cell_type": "code",
   "execution_count": 6,
   "id": "compact-feature",
   "metadata": {},
   "outputs": [],
   "source": [
    "folder_path = '../snmachine/example_data'"
   ]
  },
  {
   "cell_type": "markdown",
   "id": "olive-rabbit",
   "metadata": {},
   "source": [
    "Then, **write** in `data_file_name` the name of the file where your dataset is saved.\n",
    "\n",
    "In this notebook we use the dataset saved in [2_preprocess_data](2_preprocess_data.ipynb)."
   ]
  },
  {
   "cell_type": "code",
   "execution_count": 7,
   "id": "focused-support",
   "metadata": {},
   "outputs": [],
   "source": [
    "data_file_name = 'example_dataset_gapless50.pckl'"
   ]
  },
  {
   "cell_type": "markdown",
   "id": "indoor-active",
   "metadata": {},
   "source": [
    "Load the dataset."
   ]
  },
  {
   "cell_type": "code",
   "execution_count": 8,
   "id": "distributed-vertex",
   "metadata": {},
   "outputs": [
    {
     "name": "stdout",
     "output_type": "stream",
     "text": [
      "Opening from binary pickle\n",
      "Dataset loaded from pickle file as: <snmachine.sndata.PlasticcData object at 0x7fca47352150>\n"
     ]
    }
   ],
   "source": [
    "data_path = os.path.join(folder_path, data_file_name)\n",
    "dataset = load_dataset(data_path)"
   ]
  },
  {
   "cell_type": "markdown",
   "id": "offensive-tuesday",
   "metadata": {},
   "source": [
    "## 3. Fit Gaussian Processes<a name=\"gps\"></a>\n",
    "\n",
    "### 3.1. Set Path to Save GP Files<a name=\"saveGps\"></a>\n",
    "\n",
    "We can now generate a folder structure to neatly save the files. Otherwise, you can directly write the path to the folder to save the GP files in `saved_gps_path`.\n",
    "\n",
    "**<font color=Orange>A)</font>** Generate the folder structure.\n",
    "\n",
    "**Write** the name of the folder you want in `analysis_name`. "
   ]
  },
  {
   "cell_type": "code",
   "execution_count": 9,
   "id": "urban-pressure",
   "metadata": {},
   "outputs": [
    {
     "data": {
      "text/plain": [
       "'example_dataset_gapless50'"
      ]
     },
     "execution_count": 9,
     "metadata": {},
     "output_type": "execute_result"
    }
   ],
   "source": [
    "analysis_name = data_file_name[:-5]\n",
    "analysis_name"
   ]
  },
  {
   "cell_type": "markdown",
   "id": "generous-monkey",
   "metadata": {},
   "source": [
    "Create the folder structure."
   ]
  },
  {
   "cell_type": "code",
   "execution_count": 10,
   "id": "executed-trial",
   "metadata": {},
   "outputs": [
    {
     "name": "stdout",
     "output_type": "stream",
     "text": [
      "\n",
      "                Folders already exist with this analysis name.\n",
      "\n",
      "                Are you sure you would like to proceed, this will overwrite the\n",
      "                example_dataset_gapless50 folder [Y/n]\n",
      "                \n",
      "Y\n",
      "Overwriting existing folder..\n"
     ]
    }
   ],
   "source": [
    "create_folder_structure(folder_path, analysis_name)"
   ]
  },
  {
   "cell_type": "markdown",
   "id": "accepted-camcorder",
   "metadata": {},
   "source": [
    "See the folder structure."
   ]
  },
  {
   "cell_type": "code",
   "execution_count": 11,
   "id": "ancient-truth",
   "metadata": {},
   "outputs": [
    {
     "data": {
      "text/plain": [
       "{'analysis_directory': '../snmachine/example_data/example_dataset_gapless50',\n",
       " 'features_directory': '../snmachine/example_data/example_dataset_gapless50/wavelet_features',\n",
       " 'classifications_directory': '../snmachine/example_data/example_dataset_gapless50/classifications',\n",
       " 'intermediate_files_directory': '../snmachine/example_data/example_dataset_gapless50/intermediate_files',\n",
       " 'plots_directory': '../snmachine/example_data/example_dataset_gapless50/plots'}"
      ]
     },
     "execution_count": 11,
     "metadata": {},
     "output_type": "execute_result"
    }
   ],
   "source": [
    "directories = get_directories(folder_path, analysis_name) \n",
    "directories"
   ]
  },
  {
   "cell_type": "markdown",
   "id": "smart-stationery",
   "metadata": {},
   "source": [
    "Set the path to the folder to save the GP files."
   ]
  },
  {
   "cell_type": "code",
   "execution_count": 12,
   "id": "composed-tampa",
   "metadata": {},
   "outputs": [],
   "source": [
    "path_saved_gps = directories['intermediate_files_directory']"
   ]
  },
  {
   "cell_type": "markdown",
   "id": "institutional-december",
   "metadata": {},
   "source": [
    "**<font color=Orange>B)</font>** Directly choose where to save the GP files.\n",
    "\n",
    "**Write** the path to the folder to save the GP files in `saved_gps_path`."
   ]
  },
  {
   "cell_type": "markdown",
   "id": "norman-qualification",
   "metadata": {},
   "source": [
    "```python\n",
    "saved_gps_path = os.path.join(folder_path, data_file_name[:-5])\n",
    "```"
   ]
  },
  {
   "cell_type": "markdown",
   "id": "allied-anaheim",
   "metadata": {},
   "source": [
    "### 3.2. Compute GP Fits<a name=\"makeGps\"></a>\n",
    "\n",
    "**Choose**:\n",
    "- `t_min`: minimim time to evaluate the Gaussian Process Regression at.\n",
    "- `t_max`: maximum time to evaluate the Gaussian Process Regression at.\n",
    "- `gp_dim`: dimension of the Gaussian Process Regression. If  `gp_dim` is 1, the filters are fitted independently. If `gp_dim` is 2, the Matern kernel is used to fit light curves both in time and wavelength.\n",
    "- `number_gp`: number of points to evaluate the Gaussian Process Regression at.\n",
    "- `number_processes`: number of processors to use for parallelisation (**<font color=green>optional</font>**)."
   ]
  },
  {
   "cell_type": "code",
   "execution_count": 13,
   "id": "twelve-startup",
   "metadata": {},
   "outputs": [],
   "source": [
    "t_min = 0\n",
    "t_max = 278\n",
    "\n",
    "gp_dim = 2\n",
    "number_gp = 276\n",
    "number_processes = 1"
   ]
  },
  {
   "cell_type": "code",
   "execution_count": 14,
   "id": "pregnant-depth",
   "metadata": {},
   "outputs": [
    {
     "name": "stdout",
     "output_type": "stream",
     "text": [
      "Performing Gaussian process regression.\n",
      "Models fitted with the Gaussian Processes values.\n",
      "Time taken for Gaussian process regression: 10.09s.\n"
     ]
    }
   ],
   "source": [
    "gps.compute_gps(dataset, number_gp=number_gp, t_min=t_min, t_max=t_max, \n",
    "                gp_dim=gp_dim, output_root=path_saved_gps, \n",
    "                number_processes=number_processes)"
   ]
  },
  {
   "cell_type": "markdown",
   "id": "conscious-marble",
   "metadata": {},
   "source": [
    "[Go back to top.](#index)\n",
    "\n",
    "## 4. Light Curve Visualization<a name=\"see\"></a>\n",
    "\n",
    "Here we show the light curve of an event and the Gaussian process used to fit it."
   ]
  },
  {
   "cell_type": "code",
   "execution_count": 15,
   "id": "spare-engineering",
   "metadata": {},
   "outputs": [
    {
     "data": {
      "image/png": "[encoded data removed]",
      "text/plain": [
       "<Figure size 432x288 with 1 Axes>"
      ]
     },
     "metadata": {},
     "output_type": "display_data"
    }
   ],
   "source": [
    "obj_show = '7033'\n",
    "sndata.PlasticcData.plot_obj_and_model(dataset.data[obj_show], \n",
    "                                       dataset.models[obj_show])"
   ]
  },
  {
   "cell_type": "markdown",
   "id": "defined-berry",
   "metadata": {},
   "source": [
    "[Go back to top.](#index)\n",
    "\n",
    "*Previous notebook:* [2_preprocess_data](2_preprocess_data.ipynb)\n",
    "\n",
    "**Next notebook:** [4_augment_data](4_augment_data.ipynb)"
   ]
  }
 ],
 "metadata": {
  "kernelspec": {
   "display_name": "Python 3",
   "language": "python",
   "name": "python3"
  },
  "language_info": {
   "codemirror_mode": {
    "name": "ipython",
    "version": 3
   },
   "file_extension": ".py",
   "mimetype": "text/x-python",
   "name": "python",
   "nbconvert_exporter": "python",
   "pygments_lexer": "ipython3",
   "version": "3.7.9"
  }
 },
 "nbformat": 4,
 "nbformat_minor": 5
}
