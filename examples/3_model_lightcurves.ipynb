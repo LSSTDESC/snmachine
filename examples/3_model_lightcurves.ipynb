{
 "cells": [
  {
   "cell_type": "markdown",
   "id": "temporal-appendix",
   "metadata": {},
   "source": [
    "# Gaussian Process Modeling of Light Curves\n",
    "\n",
    "In this notebook we exemplify the modeling of the light curves using a Gaussian process (GP).\n",
    "\n",
    "#### Index<a name=\"index\"></a>\n",
    "1. [Import Packages](#imports)\n",
    "2. [Load the Original Dataset](#loadData)\n",
    "3. [Fit Gaussian Processes](#gps)\n",
    "4. [Light Curve Visualization](#see)\n",
    "\n",
    "## 1. Import Packages<a name=\"imports\"></a>"
   ]
  },
  {
   "cell_type": "code",
   "execution_count": null,
   "id": "wanted-declaration",
   "metadata": {},
   "outputs": [],
   "source": [
    "!pip install ../snmachine/"
   ]
  },
  {
   "cell_type": "code",
   "execution_count": null,
   "id": "sixth-integrity",
   "metadata": {},
   "outputs": [],
   "source": [
    "import collections\n",
    "import os\n",
    "import pickle\n",
    "import sys\n",
    "import time"
   ]
  },
  {
   "cell_type": "code",
   "execution_count": null,
   "id": "united-nelson",
   "metadata": {},
   "outputs": [],
   "source": [
    "import matplotlib.pyplot as plt\n",
    "import numpy as np\n",
    "import pandas as pd\n",
    "import seaborn as sns"
   ]
  },
  {
   "cell_type": "code",
   "execution_count": null,
   "id": "norwegian-chile",
   "metadata": {},
   "outputs": [],
   "source": [
    "from snmachine import gps, sndata\n",
    "from utils.plasticc_pipeline import get_directories, load_dataset"
   ]
  },
  {
   "cell_type": "code",
   "execution_count": null,
   "id": "occupied-switch",
   "metadata": {},
   "outputs": [],
   "source": [
    "%config Completer.use_jedi = False  # enable autocomplete"
   ]
  },
  {
   "cell_type": "markdown",
   "id": "patent-rider",
   "metadata": {},
   "source": [
    "#### Aestetic settings"
   ]
  },
  {
   "cell_type": "code",
   "execution_count": null,
   "id": "shared-paint",
   "metadata": {},
   "outputs": [],
   "source": [
    "%matplotlib inline\n",
    "\n",
    "sns.set(font_scale=1.3, style=\"ticks\")"
   ]
  },
  {
   "cell_type": "markdown",
   "id": "temporal-ready",
   "metadata": {},
   "source": [
    "## 2. Load Dataset<a name=\"loadData\"></a>\n",
    "\n",
    "First, **write** the path to the folder that contains the dataset we want to use, `folder_path`."
   ]
  },
  {
   "cell_type": "code",
   "execution_count": null,
   "id": "casual-piano",
   "metadata": {},
   "outputs": [],
   "source": [
    "root_dir = '/share/hypatia/snmachine_resources/plasticc'\n",
    "folder_path = os.path.join(root_dir, 'data', 'raw_data')"
   ]
  },
  {
   "cell_type": "markdown",
   "id": "popular-church",
   "metadata": {},
   "source": [
    "Then, **write** in `data_file_name` the name of the file where your dataset is saved.\n",
    "\n",
    "In this notebook we use the dataset saved in [2_preprocess_data]()."
   ]
  },
  {
   "cell_type": "code",
   "execution_count": null,
   "id": "integrated-broadcast",
   "metadata": {},
   "outputs": [],
   "source": [
    "data_file_name = 'example_dataset_gapless50.pckl'"
   ]
  },
  {
   "cell_type": "markdown",
   "id": "knowing-poultry",
   "metadata": {},
   "source": [
    "Load the dataset."
   ]
  },
  {
   "cell_type": "code",
   "execution_count": null,
   "id": "crucial-valley",
   "metadata": {},
   "outputs": [],
   "source": [
    "data_path = os.path.join(folder_path, data_file_name)\n",
    "dataset = load_dataset(data_path)"
   ]
  },
  {
   "cell_type": "markdown",
   "id": "empirical-falls",
   "metadata": {},
   "source": [
    "## 3. Fit Gaussian Processes<a name=\"gps\"></a>\n",
    "\n",
    "**Write** the path to the folder to save the GP files in `saved_gps_path`."
   ]
  },
  {
   "cell_type": "code",
   "execution_count": null,
   "id": "innocent-command",
   "metadata": {},
   "outputs": [],
   "source": [
    "saved_gps_path = os.path.join(folder_path, data_file_name[:-5])"
   ]
  },
  {
   "cell_type": "markdown",
   "id": "altered-glory",
   "metadata": {},
   "source": [
    "**Choose**:\n",
    "- `t_min`: minimim time to evaluate the Gaussian Process Regression at.\n",
    "- `t_max`: maximum time to evaluate the Gaussian Process Regression at.\n",
    "- `gp_dim`: dimension of the Gaussian Process Regression. If  `gp_dim` is 1, the filters are fitted independently. If `gp_dim` is 2, the Matern kernel is used to fit light curves both in time and wavelength.\n",
    "- `number_gp`: number of points to evaluate the Gaussian Process Regression at.\n",
    "- `number_processes`: number of processors to use for parallelisation (**<font color=green>optional</font>**)."
   ]
  },
  {
   "cell_type": "code",
   "execution_count": null,
   "id": "available-pearl",
   "metadata": {},
   "outputs": [],
   "source": [
    "t_min = 0\n",
    "t_max = 277\n",
    "\n",
    "gp_dim = 2\n",
    "number_gp = 276\n",
    "number_processes = 1"
   ]
  },
  {
   "cell_type": "code",
   "execution_count": null,
   "id": "professional-surrey",
   "metadata": {},
   "outputs": [],
   "source": [
    "gps.compute_gps(dataset, number_gp=number_gp, t_min=t_min, t_max=t_max, \n",
    "                gp_dim=gp_dim, output_root=saved_gps_path, \n",
    "                number_processes=number_processes)"
   ]
  },
  {
   "cell_type": "markdown",
   "id": "champion-digit",
   "metadata": {},
   "source": [
    "[Go back to top.](#index)\n",
    "\n",
    "## 4. Light Curve Visualization<a name=\"see\"></a>\n",
    "\n",
    "Here we show the light curve of an event and the Gaussian process used to fit it."
   ]
  },
  {
   "cell_type": "code",
   "execution_count": null,
   "id": "polished-contamination",
   "metadata": {},
   "outputs": [],
   "source": [
    "obj_show = '7033'\n",
    "sndata.PlasticcData.plot_obj_and_model(dataset.data[obj_show], \n",
    "                                       dataset.models[obj_show])"
   ]
  },
  {
   "cell_type": "markdown",
   "id": "endangered-breakdown",
   "metadata": {},
   "source": [
    "[Go back to top.](#index)"
   ]
  }
 ],
 "metadata": {
  "kernelspec": {
   "display_name": "Python 3",
   "language": "python",
   "name": "python3"
  },
  "language_info": {
   "codemirror_mode": {
    "name": "ipython",
    "version": 3
   },
   "file_extension": ".py",
   "mimetype": "text/x-python",
   "name": "python",
   "nbconvert_exporter": "python",
   "pygments_lexer": "ipython3",
   "version": "3.7.9"
  }
 },
 "nbformat": 4,
 "nbformat_minor": 5
}
