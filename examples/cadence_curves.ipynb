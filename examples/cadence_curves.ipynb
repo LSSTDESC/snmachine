{
 "cells": [
  {
   "cell_type": "code",
   "execution_count": null,
   "metadata": {},
   "outputs": [],
   "source": [
    "!uname -a"
   ]
  },
  {
   "cell_type": "code",
   "execution_count": null,
   "metadata": {},
   "outputs": [],
   "source": [
    "!pwd"
   ]
  },
  {
   "cell_type": "code",
   "execution_count": null,
   "metadata": {},
   "outputs": [],
   "source": [
    "!pip install ../."
   ]
  },
  {
   "cell_type": "markdown",
   "metadata": {},
   "source": [
    "# Inspect light curves for different cadences"
   ]
  },
  {
   "cell_type": "markdown",
   "metadata": {},
   "source": [
    "`snmachine` imports"
   ]
  },
  {
   "cell_type": "code",
   "execution_count": null,
   "metadata": {
    "scrolled": true
   },
   "outputs": [],
   "source": [
    "%%capture --no-stdout \n",
    "#I use this to supress unnecessary warnings for clarity\n",
    "%load_ext autoreload\n",
    "%autoreload #Use this to reload modules if they are changed on disk while the notebook is running\n",
    "from snmachine import sndata, snfeatures, snclassifier, tsne_plot\n",
    "import numpy as np\n",
    "import matplotlib.pyplot as plt\n",
    "import time, os, pywt,subprocess\n",
    "from sklearn.decomposition import PCA\n",
    "from astropy.table import Table,join,vstack,unique\n",
    "from astropy.io import fits\n",
    "import sklearn.metrics \n",
    "import sncosmo\n",
    "import pickle\n",
    "%matplotlib nbagg"
   ]
  },
  {
   "cell_type": "code",
   "execution_count": null,
   "metadata": {},
   "outputs": [],
   "source": [
    "# Set the number of processes you want to use throughout the notebook\n",
    "import multiprocessing\n",
    "num_cpu = multiprocessing.cpu_count()\n",
    "nproc=num_cpu\n",
    "print(\"Running with {} cores\".format(num_cpu))"
   ]
  },
  {
   "cell_type": "markdown",
   "metadata": {},
   "source": [
    "## Initialise dataset object"
   ]
  },
  {
   "cell_type": "markdown",
   "metadata": {},
   "source": [
    "Function to write light curves to csv"
   ]
  },
  {
   "cell_type": "code",
   "execution_count": null,
   "metadata": {},
   "outputs": [],
   "source": [
    "def light_curves_to_csv(cadence_data, cadence_name, objectname):\n",
    "    \n",
    "    lc_pandas = cadence_data.data[str(objectname)].to_pandas()\n",
    "    lc_pandas_dropped_cols = lc_pandas.drop(columns=['zp', 'zpsys'])\n",
    "    lc_pandas_dropped_cols.to_csv(\"{}_{}.csv\".format(cadence_name, objectname))"
   ]
  },
  {
   "cell_type": "markdown",
   "metadata": {},
   "source": [
    "### `kraken_2026` DDF"
   ]
  },
  {
   "cell_type": "code",
   "execution_count": null,
   "metadata": {},
   "outputs": [],
   "source": [
    "# Please specify Data root, \n",
    "# the path to where you have pulled all the data from\n",
    "rt='/share/hypatia/snmachine_resources/data/cwp/DDFY10/RH_kraken_2026_ddf_DDF_1aONLY_Y10_G10/'\n",
    "prefixIa='RH_DDF_1aONLY_Y10_G10_Ia-'\n",
    "prefixNONIa='RH_DDF_1aONLY_Y10_G10_NONIa-'\n",
    "# Name for the dataset\n",
    "dataset='kraken_2026_ddf_Y10'\n",
    "kraken_2026_ddf=sndata.LSSTCadenceSimulations(folder=rt,prefix_Ia=prefixIa, prefix_NONIa=prefixNONIa, indices=range(1,2))\n",
    "#dat=sndata.plasticc_data(folder=rt,pickle_file='dataset_full.pickle',from_pickle=True)"
   ]
  },
  {
   "cell_type": "markdown",
   "metadata": {
    "collapsed": true
   },
   "source": [
    "Now we can plot all the data and cycle through it (left and right arrows on your keyboard) to choose the light curve we want to write to csv"
   ]
  },
  {
   "cell_type": "code",
   "execution_count": null,
   "metadata": {},
   "outputs": [],
   "source": [
    "# kraken_2026_ddf.plot_all(mix=True, sep_detect=False)"
   ]
  },
  {
   "cell_type": "markdown",
   "metadata": {},
   "source": [
    "Write chosen light curve to csv"
   ]
  },
  {
   "cell_type": "code",
   "execution_count": null,
   "metadata": {},
   "outputs": [],
   "source": [
    "# light_curves_to_csv(kraken_2026_ddf, \"kraken_2026_ddf\", 1897455)"
   ]
  },
  {
   "cell_type": "markdown",
   "metadata": {},
   "source": [
    "### `kraken_2026` WFD"
   ]
  },
  {
   "cell_type": "code",
   "execution_count": null,
   "metadata": {},
   "outputs": [],
   "source": [
    "# Please specify Data root, \n",
    "# the path to where you have pulled all the data from\n",
    "rt='/share/hypatia/snmachine_resources/data/cwp/WFDY10/RH_kraken_2026_wfd_WFD_1aONLY_Y10_G10/'\n",
    "prefixIa='RH_WFD_1aONLY_Y10_G10_Ia-'\n",
    "prefixNONIa='RH_WFD_1aONLY_Y10_G10_NONIa-'\n",
    "# Name for the dataset\n",
    "dataset='kraken_2026_wfd_Y10'\n",
    "kraken_2026_wfd=sndata.LSSTCadenceSimulations(folder=rt,prefix_Ia=prefixIa, prefix_NONIa=prefixNONIa, indices=range(1,2))\n",
    "#dat=sndata.plasticc_data(folder=rt,pickle_file='dataset_full.pickle',from_pickle=True)"
   ]
  },
  {
   "cell_type": "code",
   "execution_count": null,
   "metadata": {},
   "outputs": [],
   "source": [
    "# kraken_2026_wfd.plot_all(mix=True, sep_detect=False)"
   ]
  },
  {
   "cell_type": "code",
   "execution_count": null,
   "metadata": {},
   "outputs": [],
   "source": [
    "# light_curves_to_csv(kraken_2026_wfd, \"kraken_2026_wfd\", 1897455)"
   ]
  },
  {
   "cell_type": "markdown",
   "metadata": {},
   "source": [
    "### `pontus_2002` WFD"
   ]
  },
  {
   "cell_type": "code",
   "execution_count": null,
   "metadata": {},
   "outputs": [],
   "source": [
    "# Please specify Data root, \n",
    "# the path to where you have pulled all the data from\n",
    "rt='/share/hypatia/snmachine_resources/data/cwp/WFDY10/RH_pontus_2002_wfd_WFD_1aONLY_Y10_G10/'\n",
    "prefixIa='RH_WFD_1aONLY_Y10_G10_Ia-'\n",
    "prefixNONIa='RH_WFD_1aONLY_Y10_G10_NONIa-'\n",
    "# Name for the dataset\n",
    "dataset='pontus_2002_wfd_Y10'\n",
    "pontus_2002=sndata.LSSTCadenceSimulations(folder=rt,prefix_Ia=prefixIa, prefix_NONIa=prefixNONIa, indices=range(1,2))\n",
    "#dat=sndata.plasticc_data(folder=rt,pickle_file='dataset_full.pickle',from_pickle=True)"
   ]
  },
  {
   "cell_type": "code",
   "execution_count": null,
   "metadata": {},
   "outputs": [],
   "source": [
    "# pontus_2002.plot_all(mix=True, sep_detect=False)"
   ]
  },
  {
   "cell_type": "code",
   "execution_count": null,
   "metadata": {},
   "outputs": [],
   "source": [
    "# light_curves_to_csv(pontus_2002, \"pontus_2002\", 1897455)"
   ]
  },
  {
   "cell_type": "markdown",
   "metadata": {},
   "source": [
    "### `pontus_2489` WFD"
   ]
  },
  {
   "cell_type": "code",
   "execution_count": null,
   "metadata": {},
   "outputs": [],
   "source": [
    "# Please specify Data root, \n",
    "# the path to where you have pulled all the data from\n",
    "rt='/share/hypatia/snmachine_resources/data/cwp/WFDY10/RH_pontus_2489_wfd_WFD_1aONLY_Y10_G10/'\n",
    "prefixIa='RH_WFD_1aONLY_Y10_G10_Ia-'\n",
    "prefixNONIa='RH_WFD_1aONLY_Y10_G10_NONIa-'\n",
    "# Name for the dataset\n",
    "dataset='pontus_2489_wfd_Y10'\n",
    "pontus_2489=sndata.LSSTCadenceSimulations(folder=rt,prefix_Ia=prefixIa, prefix_NONIa=prefixNONIa, indices=range(1,2))\n",
    "#dat=sndata.plasticc_data(folder=rt,pickle_file='dataset_full.pickle',from_pickle=True)"
   ]
  },
  {
   "cell_type": "code",
   "execution_count": null,
   "metadata": {},
   "outputs": [],
   "source": [
    "# pontus_2489.plot_all(mix=True, sep_detect=False)"
   ]
  },
  {
   "cell_type": "code",
   "execution_count": null,
   "metadata": {},
   "outputs": [],
   "source": [
    "# light_curves_to_csv(pontus_2489, \"pontus_2489\", 1897455)"
   ]
  },
  {
   "cell_type": "markdown",
   "metadata": {},
   "source": [
    "### `alt_sched` WFD"
   ]
  },
  {
   "cell_type": "code",
   "execution_count": null,
   "metadata": {},
   "outputs": [],
   "source": []
  },
  {
   "cell_type": "code",
   "execution_count": null,
   "metadata": {},
   "outputs": [],
   "source": [
    "# alt_sched.plot_all(mix=True, sep_detect=False)"
   ]
  },
  {
   "cell_type": "code",
   "execution_count": null,
   "metadata": {},
   "outputs": [],
   "source": [
    "# light_curves_to_csv(alt_sched, \"alt_sched\", 1897455)"
   ]
  }
 ],
 "metadata": {
  "kernelspec": {
   "display_name": "Python 3",
   "language": "python",
   "name": "python3"
  },
  "language_info": {
   "codemirror_mode": {
    "name": "ipython",
    "version": 3
   },
   "file_extension": ".py",
   "mimetype": "text/x-python",
   "name": "python",
   "nbconvert_exporter": "python",
   "pygments_lexer": "ipython3",
   "version": "3.6.6"
  }
 },
 "nbformat": 4,
 "nbformat_minor": 1
}
